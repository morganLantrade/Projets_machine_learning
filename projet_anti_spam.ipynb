{
  "cells": [
    {
      "cell_type": "markdown",
      "metadata": {
        "id": "view-in-github",
        "colab_type": "text"
      },
      "source": [
        "<a href=\"https://colab.research.google.com/github/morganLantrade/Projets_machine_learning/blob/main/projet_anti_spam.ipynb\" target=\"_parent\"><img src=\"https://colab.research.google.com/assets/colab-badge.svg\" alt=\"Open In Colab\"/></a>"
      ]
    },
    {
      "cell_type": "markdown",
      "metadata": {
        "id": "6Re37glAe3rh"
      },
      "source": [
        "# Projet : Classificateur Naïf Bayésien : Anti-spam\n"
      ]
    },
    {
      "cell_type": "markdown",
      "metadata": {
        "id": "PDAj9tv2e3rl"
      },
      "source": [
        "#### Par Lantrade Morgan et Courderc-Lafont Enguerran"
      ]
    },
    {
      "cell_type": "markdown",
      "metadata": {
        "id": "bueyHy_Pe3rl"
      },
      "source": [
        "#### Importations"
      ]
    },
    {
      "cell_type": "code",
      "execution_count": null,
      "metadata": {
        "id": "qhsNV-m2e3rm"
      },
      "outputs": [],
      "source": [
        "import sklearn\n",
        "import math\n",
        "import re\n",
        "import string\n",
        "import warnings\n",
        "import requests, zipfile, io\n",
        "\n",
        "\n",
        "import numpy as np\n",
        "import pandas as pd\n",
        "import matplotlib\n",
        "import matplotlib.pyplot as plt\n",
        "import seaborn as sns\n",
        "\n",
        "from tqdm import tqdm\n",
        "from sklearn import datasets\n",
        "\n",
        "from sklearn.model_selection import train_test_split\n",
        "from sklearn.naive_bayes import GaussianNB\n",
        "from sklearn.model_selection import cross_val_score\n",
        "from sklearn.naive_bayes import BernoulliNB\n",
        "from sklearn.metrics import classification_report\n",
        "from sklearn.metrics import confusion_matrix\n",
        "\n",
        "warnings.filterwarnings('ignore')"
      ]
    },
    {
      "cell_type": "markdown",
      "metadata": {
        "id": "2IpJ-pyQe3rn"
      },
      "source": [
        "# 1.Première analyse des données"
      ]
    },
    {
      "cell_type": "code",
      "execution_count": null,
      "metadata": {
        "scrolled": false,
        "colab": {
          "base_uri": "https://localhost:8080/"
        },
        "id": "FbQCrF3Le3ro",
        "outputId": "68624e85-63f7-4674-e649-12ff3a772deb"
      },
      "outputs": [
        {
          "output_type": "stream",
          "name": "stdout",
          "text": [
            "--2022-03-30 16:43:27--  https://raw.githubusercontent.com/morganLantrade/Projets_machine_learning/main/Projet_anti-spam/spam.csv\n",
            "Resolving raw.githubusercontent.com (raw.githubusercontent.com)... 185.199.108.133, 185.199.109.133, 185.199.110.133, ...\n",
            "Connecting to raw.githubusercontent.com (raw.githubusercontent.com)|185.199.108.133|:443... connected.\n",
            "HTTP request sent, awaiting response... 200 OK\n",
            "Length: 5502589 (5.2M) [text/plain]\n",
            "Saving to: ‘spam.csv.2’\n",
            "\n",
            "\rspam.csv.2            0%[                    ]       0  --.-KB/s               \rspam.csv.2          100%[===================>]   5.25M  --.-KB/s    in 0.04s   \n",
            "\n",
            "2022-03-30 16:43:27 (143 MB/s) - ‘spam.csv.2’ saved [5502589/5502589]\n",
            "\n"
          ]
        }
      ],
      "source": [
        "! wget 'https://raw.githubusercontent.com/morganLantrade/Projets_machine_learning/main/Projet_anti-spam/spam.csv'\n",
        "data=pd.read_csv('spam.csv')"
      ]
    },
    {
      "cell_type": "code",
      "source": [
        "print(data.columns)\n",
        "data.head()"
      ],
      "metadata": {
        "colab": {
          "base_uri": "https://localhost:8080/",
          "height": 224
        },
        "id": "SAzV9Y2MthFQ",
        "outputId": "279276d4-2391-43fc-b0f8-230acca0a97d"
      },
      "execution_count": null,
      "outputs": [
        {
          "output_type": "stream",
          "name": "stdout",
          "text": [
            "Index(['Unnamed: 0', 'label', 'text', 'label_num'], dtype='object')\n"
          ]
        },
        {
          "output_type": "execute_result",
          "data": {
            "text/plain": [
              "   Unnamed: 0 label                                               text  \\\n",
              "0         605   ham  Subject: enron methanol ; meter # : 988291\\r\\n...   \n",
              "1        2349   ham  Subject: hpl nom for january 9 , 2001\\r\\n( see...   \n",
              "2        3624   ham  Subject: neon retreat\\r\\nho ho ho , we ' re ar...   \n",
              "3        4685  spam  Subject: photoshop , windows , office . cheap ...   \n",
              "4        2030   ham  Subject: re : indian springs\\r\\nthis deal is t...   \n",
              "\n",
              "   label_num  \n",
              "0          0  \n",
              "1          0  \n",
              "2          0  \n",
              "3          1  \n",
              "4          0  "
            ],
            "text/html": [
              "\n",
              "  <div id=\"df-4a4216ae-b1df-4696-8c52-ab1dfbcce958\">\n",
              "    <div class=\"colab-df-container\">\n",
              "      <div>\n",
              "<style scoped>\n",
              "    .dataframe tbody tr th:only-of-type {\n",
              "        vertical-align: middle;\n",
              "    }\n",
              "\n",
              "    .dataframe tbody tr th {\n",
              "        vertical-align: top;\n",
              "    }\n",
              "\n",
              "    .dataframe thead th {\n",
              "        text-align: right;\n",
              "    }\n",
              "</style>\n",
              "<table border=\"1\" class=\"dataframe\">\n",
              "  <thead>\n",
              "    <tr style=\"text-align: right;\">\n",
              "      <th></th>\n",
              "      <th>Unnamed: 0</th>\n",
              "      <th>label</th>\n",
              "      <th>text</th>\n",
              "      <th>label_num</th>\n",
              "    </tr>\n",
              "  </thead>\n",
              "  <tbody>\n",
              "    <tr>\n",
              "      <th>0</th>\n",
              "      <td>605</td>\n",
              "      <td>ham</td>\n",
              "      <td>Subject: enron methanol ; meter # : 988291\\r\\n...</td>\n",
              "      <td>0</td>\n",
              "    </tr>\n",
              "    <tr>\n",
              "      <th>1</th>\n",
              "      <td>2349</td>\n",
              "      <td>ham</td>\n",
              "      <td>Subject: hpl nom for january 9 , 2001\\r\\n( see...</td>\n",
              "      <td>0</td>\n",
              "    </tr>\n",
              "    <tr>\n",
              "      <th>2</th>\n",
              "      <td>3624</td>\n",
              "      <td>ham</td>\n",
              "      <td>Subject: neon retreat\\r\\nho ho ho , we ' re ar...</td>\n",
              "      <td>0</td>\n",
              "    </tr>\n",
              "    <tr>\n",
              "      <th>3</th>\n",
              "      <td>4685</td>\n",
              "      <td>spam</td>\n",
              "      <td>Subject: photoshop , windows , office . cheap ...</td>\n",
              "      <td>1</td>\n",
              "    </tr>\n",
              "    <tr>\n",
              "      <th>4</th>\n",
              "      <td>2030</td>\n",
              "      <td>ham</td>\n",
              "      <td>Subject: re : indian springs\\r\\nthis deal is t...</td>\n",
              "      <td>0</td>\n",
              "    </tr>\n",
              "  </tbody>\n",
              "</table>\n",
              "</div>\n",
              "      <button class=\"colab-df-convert\" onclick=\"convertToInteractive('df-4a4216ae-b1df-4696-8c52-ab1dfbcce958')\"\n",
              "              title=\"Convert this dataframe to an interactive table.\"\n",
              "              style=\"display:none;\">\n",
              "        \n",
              "  <svg xmlns=\"http://www.w3.org/2000/svg\" height=\"24px\"viewBox=\"0 0 24 24\"\n",
              "       width=\"24px\">\n",
              "    <path d=\"M0 0h24v24H0V0z\" fill=\"none\"/>\n",
              "    <path d=\"M18.56 5.44l.94 2.06.94-2.06 2.06-.94-2.06-.94-.94-2.06-.94 2.06-2.06.94zm-11 1L8.5 8.5l.94-2.06 2.06-.94-2.06-.94L8.5 2.5l-.94 2.06-2.06.94zm10 10l.94 2.06.94-2.06 2.06-.94-2.06-.94-.94-2.06-.94 2.06-2.06.94z\"/><path d=\"M17.41 7.96l-1.37-1.37c-.4-.4-.92-.59-1.43-.59-.52 0-1.04.2-1.43.59L10.3 9.45l-7.72 7.72c-.78.78-.78 2.05 0 2.83L4 21.41c.39.39.9.59 1.41.59.51 0 1.02-.2 1.41-.59l7.78-7.78 2.81-2.81c.8-.78.8-2.07 0-2.86zM5.41 20L4 18.59l7.72-7.72 1.47 1.35L5.41 20z\"/>\n",
              "  </svg>\n",
              "      </button>\n",
              "      \n",
              "  <style>\n",
              "    .colab-df-container {\n",
              "      display:flex;\n",
              "      flex-wrap:wrap;\n",
              "      gap: 12px;\n",
              "    }\n",
              "\n",
              "    .colab-df-convert {\n",
              "      background-color: #E8F0FE;\n",
              "      border: none;\n",
              "      border-radius: 50%;\n",
              "      cursor: pointer;\n",
              "      display: none;\n",
              "      fill: #1967D2;\n",
              "      height: 32px;\n",
              "      padding: 0 0 0 0;\n",
              "      width: 32px;\n",
              "    }\n",
              "\n",
              "    .colab-df-convert:hover {\n",
              "      background-color: #E2EBFA;\n",
              "      box-shadow: 0px 1px 2px rgba(60, 64, 67, 0.3), 0px 1px 3px 1px rgba(60, 64, 67, 0.15);\n",
              "      fill: #174EA6;\n",
              "    }\n",
              "\n",
              "    [theme=dark] .colab-df-convert {\n",
              "      background-color: #3B4455;\n",
              "      fill: #D2E3FC;\n",
              "    }\n",
              "\n",
              "    [theme=dark] .colab-df-convert:hover {\n",
              "      background-color: #434B5C;\n",
              "      box-shadow: 0px 1px 3px 1px rgba(0, 0, 0, 0.15);\n",
              "      filter: drop-shadow(0px 1px 2px rgba(0, 0, 0, 0.3));\n",
              "      fill: #FFFFFF;\n",
              "    }\n",
              "  </style>\n",
              "\n",
              "      <script>\n",
              "        const buttonEl =\n",
              "          document.querySelector('#df-4a4216ae-b1df-4696-8c52-ab1dfbcce958 button.colab-df-convert');\n",
              "        buttonEl.style.display =\n",
              "          google.colab.kernel.accessAllowed ? 'block' : 'none';\n",
              "\n",
              "        async function convertToInteractive(key) {\n",
              "          const element = document.querySelector('#df-4a4216ae-b1df-4696-8c52-ab1dfbcce958');\n",
              "          const dataTable =\n",
              "            await google.colab.kernel.invokeFunction('convertToInteractive',\n",
              "                                                     [key], {});\n",
              "          if (!dataTable) return;\n",
              "\n",
              "          const docLinkHtml = 'Like what you see? Visit the ' +\n",
              "            '<a target=\"_blank\" href=https://colab.research.google.com/notebooks/data_table.ipynb>data table notebook</a>'\n",
              "            + ' to learn more about interactive tables.';\n",
              "          element.innerHTML = '';\n",
              "          dataTable['output_type'] = 'display_data';\n",
              "          await google.colab.output.renderOutput(dataTable, element);\n",
              "          const docLink = document.createElement('div');\n",
              "          docLink.innerHTML = docLinkHtml;\n",
              "          element.appendChild(docLink);\n",
              "        }\n",
              "      </script>\n",
              "    </div>\n",
              "  </div>\n",
              "  "
            ]
          },
          "metadata": {},
          "execution_count": 26
        }
      ]
    },
    {
      "cell_type": "markdown",
      "metadata": {
        "id": "JcGYkA9ae3ro"
      },
      "source": [
        "##### Regardons la répartition des spams et hams pour avoir un aperçu "
      ]
    },
    {
      "cell_type": "code",
      "execution_count": null,
      "metadata": {
        "colab": {
          "base_uri": "https://localhost:8080/",
          "height": 364
        },
        "id": "ZmxQdeYHe3rp",
        "outputId": "5e7bc81e-c682-4efd-dbc2-83b774204bdd"
      },
      "outputs": [
        {
          "output_type": "stream",
          "name": "stdout",
          "text": [
            "Nombre de spams : 1499  \n",
            "Nombre de hams 3672\n",
            "Total : 5171\n",
            "Proportion de Spam/Ham = 0.29 | 0.71\n"
          ]
        },
        {
          "output_type": "display_data",
          "data": {
            "text/plain": [
              "<Figure size 432x288 with 1 Axes>"
            ],
            "image/png": "[encoded data removed]"
          },
          "metadata": {
            "needs_background": "light"
          }
        }
      ],
      "source": [
        "def afficherRepartition(data):\n",
        "    '''Affiche la répartition des spams et hams de nos donnés'''\n",
        "    total_spam=data[data.label_num==1]\n",
        "    total_ham=data[data.label_num==0]\n",
        "    n_spam= total_spam.shape[0]\n",
        "    n_ham= total_ham.shape[0]\n",
        "    n_total= n_ham+n_spam\n",
        "    p_s=round(n_spam/n_total,2)\n",
        "    p_h=round(n_ham/n_total,2)\n",
        "    #Affichage\n",
        "    plt.figure()\n",
        "    sns.countplot(x=data['label'])\n",
        "    plt.title('Répartition Ham et Spam')\n",
        "    print(f'Nombre de spams : {n_spam}  \\nNombre de hams {n_ham}\\nTotal : {n_total}\\nProportion de Spam/Ham = {p_s} | {p_h}')\n",
        "    \n",
        "\n",
        "afficherRepartition(data)\n"
      ]
    },
    {
      "cell_type": "markdown",
      "metadata": {
        "id": "CRcRcEHie3rq"
      },
      "source": [
        "##### Affichons quelques spams pour avoir une idée de nos données."
      ]
    },
    {
      "cell_type": "code",
      "execution_count": null,
      "metadata": {
        "scrolled": true,
        "colab": {
          "base_uri": "https://localhost:8080/"
        },
        "id": "RZyzZPore3rr",
        "outputId": "ba4c38e7-8250-4604-ab2f-82e95a4968c2"
      },
      "outputs": [
        {
          "output_type": "stream",
          "name": "stdout",
          "text": [
            "---------------------------------------------------\n",
            "Subject: photoshop , windows , office . cheap . main trending\r\n",
            "abasements darer prudently fortuitous undergone\r\n",
            "lighthearted charm orinoco taster\r\n",
            "railroad affluent pornographic cuvier\r\n",
            "irvin parkhouse blameworthy chlorophyll\r\n",
            "robed diagrammatic fogarty clears bayda\r\n",
            "inconveniencing managing represented smartness hashish\r\n",
            "academies shareholders unload badness\r\n",
            "danielson pure caffein\r\n",
            "spaniard chargeable levin\r\n",
            "\n",
            "---------------------------------------------------\n",
            "---------------------------------------------------\n",
            "Subject: looking for medication ? we ` re the best source .\r\n",
            "it is difficult to make our material condition better by the best law , but it is easy enough to ruin it by bad laws .\r\n",
            "excuse me . . . : ) you just found the\r\n",
            "best and simpliest site for\r\n",
            "medication on the net . no perscription , easy\r\n",
            "delivery .\r\n",
            "private , secure , and easy .\r\n",
            "better see rightly on a pound a week than squint on a million .\r\n",
            "we ` ve got\r\n",
            "anything that you will ever want .\r\n",
            "erection treatment pills , anti - depressant pills , weight loss , and\r\n",
            "more ! http : / / splicings . bombahakcx . com / 3 /\r\n",
            "knowledge and human power are synonymous .\r\n",
            "only high - quality stuff for low rates !\r\n",
            "100 % moneyback guarantee !\r\n",
            "there is no god , nature sufficeth unto herself in no wise hath she need of an author .\n",
            "---------------------------------------------------\n",
            "---------------------------------------------------\n",
            "Subject: vocable % rnd - word asceticism\r\n",
            "vcsc - brand new stock for your attention\r\n",
            "vocalscape inc - the stock symbol is : vcsc\r\n",
            "vcsc will be our top stock pick for the month of april - stock expected to\r\n",
            "bounce to 12 cents level\r\n",
            "the stock hit its all time low and will bounce back\r\n",
            "stock is going to explode in next 5 days - watch it soar\r\n",
            "watch the stock go crazy this and next week .\r\n",
            "breaking news - vocalscape inc . announces agreement to resell mix network\r\n",
            "services\r\n",
            "current price : $ 0 . 025\r\n",
            "we expect projected speculative price in next 5 days : $ 0 . 12\r\n",
            "we expect projected speculative price in next 15 days : $ 0 . 15\r\n",
            "vocalscape networks inc . is building a company that ' s revolutionizing the\r\n",
            "telecommunications industry with the most affordable phone systems , hardware ,\r\n",
            "online software , and rates in canada and the us . vocalscape , a company with\r\n",
            "global reach , is receiving international attention for the development of voice\r\n",
            "over ip ( voip ) application solutions , including the award - winning eyefontm , a\r\n",
            "softphone for real - time pc - to - phone . we are an advanced implementer of pbx\r\n",
            "systems for companies , call centers , itsps and service providers .\r\n",
            "vocalscape has created software and interactive solutions revolving around\r\n",
            "global communications and data voice convergence . companies use vocalscape for\r\n",
            "voice over internet protocol applications like ip pbxs , softswitches , pc 2 phone\r\n",
            "and web 2 phone , providing real - time human interaction and information delivery\r\n",
            "over the internet . through vocalscape ' s solutions , businesses can offer a\r\n",
            "quality voice service to anywhere in the world at rates that are significantly\r\n",
            "lower than current long distance charges . we develop software to run voip\r\n",
            "networks , and sell , install and service our own branded voip gateways and\r\n",
            "gatekeeper control software . we also license our software to customers who want\r\n",
            "to brand their own voip solutions .\r\n",
            "vocalscape is committed to making great technology ; challenging the status quo ,\r\n",
            "and building a 21 st century company that changes the way businesses communicate\r\n",
            "and interact through the internet .\r\n",
            "current price : $ 0 . 025\r\n",
            "we expect projected speculative price in next 5 days : $ 0 . 12\r\n",
            "we expect projected speculative price in next 15 days : $ 0 . 15\r\n",
            "breaking news - vocalscape inc . announces agreement to resell mix network\r\n",
            "services\r\n",
            "- - - - - - - - - -\r\n",
            "katonah , n . y . , / prnewswire - firstcall via comtex / - - vocalscape , inc . pink : vcsc ) ,\r\n",
            "an emerging leader in the development of voice over internet protocol ( voip )\r\n",
            "telephony solutions , announced today it has entered into a sales agent agreement\r\n",
            "with mix networks , inc . a voip enhanced telephony service provider .\r\n",
            "this agreement provides vocalscape ' s turnkey calling card customers with access\r\n",
            "to mix networks services including north american dids ( phone numbers ) and\r\n",
            "domestic long distance termination . vocalscape will also be able to supply their\r\n",
            "clients with enhanced voip products including pre - paid calling through mix\r\n",
            "networks north american network .\r\n",
            "we are excited to help companies launch voip business models using our solution\r\n",
            "with the whole picture from the software to the network needed to route the\r\n",
            "calls . mix networks gives us the ability to offer wholesale monthly flat rate\r\n",
            "plans and dids to our clients that allow for us to build business models like\r\n",
            "popular voip companies such as vonage and packet 8 , says ryan gibson , vp\r\n",
            "vocalscape networks\r\n",
            "some legal words before you continue :\r\n",
            "information within this email contains forward looking statements within the\r\n",
            "meaning of section 27 a of the securities act of 1933 and section 21 b of the\r\n",
            "securities exchange act of 1934 . any statements that express or involve\r\n",
            "discussions with respect to predictions , goals , expectations , beliefs , plans ,\r\n",
            "projections , objectives , assumptions or future events or performance are not\r\n",
            "statements of historical fact and may be forward looking statements . forward\r\n",
            "looking statements are based on expectations , estimates and projections at the\r\n",
            "time the statements are made that involve a number of risks and uncertainties\r\n",
            "which could cause actual results or events to differ materially from those\r\n",
            "presently anticipated . forward looking statements in this action may be\r\n",
            "identified through the use of words such as : projects , foresee , expects ,\r\n",
            "estimates , believes , understands will , part of : anticipates , or that\r\n",
            "by statements indicating certain actions may , could , or might occur . all\r\n",
            "information provided within this email pertaining to investing , stocks ,\r\n",
            "securities must be understood as information provided and not investment advice .\r\n",
            "emerging equity alert advises all readers and subscribers to seek advice from a\r\n",
            "registered professional securities representative before deciding to trade in\r\n",
            "stocks featured within this email . none of the material within this report shall\r\n",
            "be construed as any kind of investment advice . please have in mind that the\r\n",
            "interpretation of the witer of this newsletter about the news published by the\r\n",
            "company does not represent the company official statement and in fact may differ\r\n",
            "from the real meaning of what the news release meant to say . look the news\r\n",
            "release by yourself and judge by yourself about the details in it .\r\n",
            "in compliance with section 17 ( b ) , we disclose the holding of vcsc shares prior\r\n",
            "to the publication of this report . be aware of an inherent conflict of interest\r\n",
            "resulting from such holdings due to our intent to profit from the liquidation of\r\n",
            "these shares . shares may be sold at any time , even after positive statements\r\n",
            "have been made regarding the above company . since we own shares , there is an\r\n",
            "inherent conflict of interest in our statements and opinions . readers of this\r\n",
            "publication are cautioned not to place undue reliance on forward - looking\r\n",
            "statements , which are based on certain assumptions and expectations involving\r\n",
            "various risks and uncertainties , that could cause results to differ materially\r\n",
            "from those set forth in the forward - looking statements .\r\n",
            "please be advised that nothing within this email shall constitute a solicitation\r\n",
            "or an invitation to get position in or sell any security mentioned herein . this\r\n",
            "newsletter is neither a registered investment advisor nor affiliated with any\r\n",
            "broker or dealer . this newsletter was paid $ 49000 from third party to send this\r\n",
            "report . all statements made are our express opinion only and should be treated\r\n",
            "as such . we may own , take position and sell any securities mentioned at any\r\n",
            "time . this report includes forward - looking statements within the meaning of the\r\n",
            "private securities litigation reform act of 1995 . these statements may include\r\n",
            "terms as projected speculative price expect , believe , may , will ,\r\n",
            "soar move , undervalued and intend or similar terms .\r\n",
            "\n",
            "---------------------------------------------------\n",
            "---------------------------------------------------\n",
            "Subject: report 01405 !\r\n",
            "wffur attion brom est inst siupied 1 pgst our riwe asently rest .\r\n",
            "tont to presyou tew cons of benco 4 . yee : fater 45 y . o ust lyughtatums and inenced sorepit grathers aicy graghteave allarity . oarity wow to yur coons , as were then 60 ve mers of oite .\r\n",
            "ithat yoit ? ! berst thar ! enth excives 2004 . . .\r\n",
            "\n",
            "---------------------------------------------------\n",
            "---------------------------------------------------\n",
            "Subject: vic . odin n ^ ow\r\n",
            "berne hotbox carnal bride cutworm dyadic\r\n",
            "guardia continuous born gremlin akin counterflow hereafter vocabularian pessimum yaounde cannel bitch penetrate demagogue arbitrary egregious adenosine rubin gil luminosity delicti yarmulke sauterne selfadjoint agleam exeter picofarad consulate dichotomous boyhood balfour spheric frey pillory hoosier fibonacci cat handful\r\n",
            "\n",
            "---------------------------------------------------\n",
            "---------------------------------------------------\n",
            "Subject: underpriced issue with high return on equity\r\n",
            "stock report .\r\n",
            "dont sieep on this stock ! this is a hot one !\r\n",
            "company : gaming transactions inc .\r\n",
            "stock symbol : ggts\r\n",
            "currentiy trading at : o . 30\r\n",
            "rating : strong purchase\r\n",
            "near - term target : 0 . 45\r\n",
            "long - term target : 1 . oo\r\n",
            "breaking news for ggts :\r\n",
            "gaming transactions inc . ( ggts ) , a | eading provider of online gaming\r\n",
            "porta | management is pleased to announce that it has launched its\r\n",
            "proprietary gaming portal ( k e n o . com ) furthermore , the company has begun an\r\n",
            "intensive marketing campaign to support the | aunch and establish itself\r\n",
            "as the | eader in the online gaming industry .\r\n",
            "( k e n o . c o m ) is an oniine games destination where people piay\r\n",
            "popular casino style games to win real money . the foundation of the site is\r\n",
            "an online version of keno . the game of keno uses 80 balls numbered 1\r\n",
            "thru 8 o . every game , the house draws 20 bails at random and displays\r\n",
            "their numbers on screens ( called keno boards ) located on the website . the\r\n",
            "object of the game is for the player to guess some of the numbers the\r\n",
            "house will draw . the site shall also have other popuiar games in the near\r\n",
            "future inciuding bingo , poker , blackjack , slots and video game versions\r\n",
            "of tabie games .\r\n",
            "patrick smyth , ceo of gaming transactions inc . , remarked that , the\r\n",
            "games have been deveioped with the foresight to create a user - friendly\r\n",
            "experience without loading times and a secure transaction system has been\r\n",
            "deveioped with multipie layers of security and redundancy . we spent the\r\n",
            "necessary time and resources to test our software to ensure its\r\n",
            "functionality and security . consumer focus groups were used in the deveiopment\r\n",
            "process to make sure that our players had an opulent experience online ,\r\n",
            "and future marketing efforts wi | | be aimed customer service and\r\n",
            "attention .\r\n",
            "about the company :\r\n",
            "gaming transactions inc . is a deveioper and provider of online games\r\n",
            "and services for the online entertainment and gaming industries . the\r\n",
            "company ! s centra | licensed games portal , ( k e n o . c o m ) , is a\r\n",
            "destination oniine gambling property where players may participate in a number\r\n",
            "of gambling and oniine gaming fixtures .\r\n",
            "the foundation of the site is of course an online version of keno . the\r\n",
            "game of keno uses 8 o bails numbered 1 thru 80 . every game , the house\r\n",
            "draws 2 o balls at random and displays their numbers on screens ( called\r\n",
            "keno boards ) | ocated on the website . the object of the game is for the\r\n",
            "piayer to guess some of the numbers the house will draw . the site also\r\n",
            "has other popuiar games including poker , blackjack , slots and video game\r\n",
            "versions of tabie games .\r\n",
            "gaming transactions inc . is part of the oniine gambiing industry ,\r\n",
            "which is said to be one of the fastest growing industries on the internet .\r\n",
            "! ' the electronic gambling report forecasts that revenues will reach\r\n",
            "14 . 5 biliion by 2006 ! ( market statistics : - informa media grp . giobal\r\n",
            "revenues from oniine gambiing wi | | reach 14 . 52 bi | | ion in 20 o 6 , up from\r\n",
            "3 . 81 biilion this year . this is according to a report from the informa\r\n",
            "media grp . , which says that the us wi | | generate 24 percent of all online\r\n",
            "gambling revenues in 2 oo 6 , whereas europe wil | generate 53 percent .\r\n",
            "north american oniine gambling revenues are expected to reach 1 . 99 biliion\r\n",
            "this year and 3 . 85 bi | | ion in 2 oo 6 . in europe , revenues wil | grow from\r\n",
            "1 . 29 billion this year to 7 . 64 biilion in 2 oo 6 . oniine gambling\r\n",
            "revenues wi | | be smailer in asia - pacific 379 miliion this year and 2 . 13\r\n",
            "billion in 2 oo 6 ) and in the rest of the worid 143 million this year to 886\r\n",
            "mi | | ion in 2 oo 6 ) . and keno , the game , is one of the highest grossing\r\n",
            "products for many north american government bodies and pubiic gaming\r\n",
            "corporations . easy to piay , quick , and profitabie , keno has become a favorite\r\n",
            "to gambiers who want the excitement of a lottery draw without having to\r\n",
            "wait for a weekiy offering combining sophisticated hardware , software\r\n",
            "and cutting edge encryption / decryption techniques keno . com has deveioped\r\n",
            "and | icensed a system , which is an optima | method for online gaming .\r\n",
            "information within this publication contains future looking statements\r\n",
            "within the meaning of section 27 a of the securities act of 1933 and\r\n",
            "section 21 b of the securities exchange act of 1934 . any statements that\r\n",
            "express or involve discussions with respect to predictions ,\r\n",
            "expectations , beliefs , pians , projections , objectives , goals , assumptions or future\r\n",
            "events or performance are not statements of historica | fact and may be\r\n",
            "future looking statements . future | ooking statements are based on\r\n",
            "expectations , estimates and projections at the time the statements are made\r\n",
            "that involve a number of risks and uncertainties which couid cause\r\n",
            "actual results or events to differ materia | | y from those presently\r\n",
            "anticipated . future | ooking statements in this action may be identified through\r\n",
            "the use of words such as projects , foresee , expects , will , anticipates ,\r\n",
            "estimates , believes , understands or that by statements indicating\r\n",
            "certain actions may , could , or might occur . these future - | ooking statements\r\n",
            "are based on information currentiy avaiiabie and are subject to a\r\n",
            "number of risks , uncertainties and other factors that couid cause ggts ' s\r\n",
            "actua | resuits , performance , prospects or opportunities to differ\r\n",
            "materialiy from those expressed in , or impiied by , these future - | ooking\r\n",
            "statements . as with many microcap stocks , today ' s company has additiona | risk\r\n",
            "factors that raise doubt about its ability to continue as a going\r\n",
            "concern . ggts is not a reporting company registered under the securities act\r\n",
            "of 1934 and hence there is | imited public information avaiiable about\r\n",
            "the company . these risks , uncertainties and other factors include ,\r\n",
            "without | imitation , the company ' s growth expectations and ongoing funding\r\n",
            "requirements , and specificaily , the company ' s growth prospects with\r\n",
            "scalable customers . other risks include the company ' s limited operating\r\n",
            "history , the company ' s history of operating losses , consumers ' acceptance ,\r\n",
            "the company ' s use of licensed technoiogies , risk of increased\r\n",
            "competition , the potentia | need for additional financing , the conditions and\r\n",
            "terms of any financing that is consummated , the limited trading market for\r\n",
            "the company ' s securities , the possibie volatility of the company ' s\r\n",
            "stock price , the concentration of ownership , and the potentia | fluctuation\r\n",
            "in the company ' s operating results . the publisher of this report does\r\n",
            "not represent that the information contained in this message states ail\r\n",
            "material facts or does not omit a material fact necessary to make the\r\n",
            "statements therein not misieading . a | | information provided within this\r\n",
            "report pertaining to investing , stocks , securities must be understood\r\n",
            "as information provided and not investment advice . the publisher of this\r\n",
            "newsletter advises all readers and subscribers to seek advice from a\r\n",
            "registered professional securities representative before deciding to\r\n",
            "trade in stocks featured within this report . none of the materia | within\r\n",
            "this report shall be construed as any kind of investment advice or\r\n",
            "solicitation . many of these companies are on the verge of bankruptcy . you can\r\n",
            "lose al | your money by investing in this stock . the pubiisher of this\r\n",
            "report is not a registered investment expert . subscribers should not\r\n",
            "view information herein as | egal , tax , accounting or investment advice .\r\n",
            "any reference to past performance ( s ) of companies are specially seiected\r\n",
            "to be referenced based on the favorabie performance of these companies .\r\n",
            "you wouid need perfect timing to achieve the resuits in the exampies\r\n",
            "given . there can be no assurance of that happening . remember , as always ,\r\n",
            "past performance is not indicative of future results and a thorough due\r\n",
            "diligence effort , inciuding a review of a company ' s fiiings at sec gov\r\n",
            "or edgar - online com when avaiiabie , shouid be compieted prior to\r\n",
            "investing . al | factua | information in this report was gathered from pubiic\r\n",
            "sources , including but not | imited to company websites and company press\r\n",
            "releases . the pubiisher discloses the receipt of fifteen thousand\r\n",
            "doilars from a third party , not an officer , director , or affiiiate\r\n",
            "shareholder of the company for the preparation of this oniine report . be aware\r\n",
            "of an inherent confiict of interest resulting from such compensation\r\n",
            "due to the fact that this is a paid pubiication . the pubiisher of this\r\n",
            "report beiieves this information to be reiiable but can make no assurance\r\n",
            "as to its accuracy or compieteness . use of the materia | within this\r\n",
            "report constitutes your acceptance of these terms .\r\n",
            "if you wish to stop future maiiings , or if you feel you have been\r\n",
            "wrongfuliy placed in our membership , piease go here or send a biank\r\n",
            "e mai | with no thanks in the subject to ( - stoxo 042 @ yahoo . com - )\r\n",
            "\n",
            "---------------------------------------------------\n",
            "---------------------------------------------------\n",
            "Subject: jump in to gain substantial ground immediately\r\n",
            "we are very excited about this new upcoming stock about to explode\r\n",
            "montana oil and gas , inc . ( mogi ) to explore further opportunities in alberta\r\n",
            "canada , is an energy deveioper in canada ' s most highiy coveted\r\n",
            "reservoirs .\r\n",
            "aggressive investors and traders may want to watch montana oi | and gas\r\n",
            "again this morning ! montana oil and gas inc . ( mogi - news ) announces\r\n",
            "that the syivan lake oil and gas project is sti | | awaiting a rig at this\r\n",
            "time . the surface lease has been constructed and we have\r\n",
            "been waiting for a rig to become avaiiabie for over two weeks , and\r\n",
            "anticipate this to happen next week at the latest .\r\n",
            "the company has a 25 % working interest in the syivan lake project .\r\n",
            "symbo | - mogi\r\n",
            "current price - . 26\r\n",
            "reasons to consider mogi :\r\n",
            "1 . price charts confirm oi | prices are experiencing the strongest bul |\r\n",
            "market in a generation .\r\n",
            "2 . natura | gas prices have tripled in the | ast two years .\r\n",
            "3 . with multiple projects in high - gear and the expanding production on\r\n",
            "reserves potentialiy worth muiti - millions , mogi is seliing for less\r\n",
            "than 1 / 4 the vaiue of its assets .\r\n",
            "4 . montana oi | and gas specializes in using new technology to turn\r\n",
            "unproductive oi | and gas deposits into profitabie enterprises . aiready\r\n",
            "shares in the oi | and gas sectorare rising faster than the overa | | market .\r\n",
            "in fact , four of dow jones ' ten top performing industry sectors for the\r\n",
            "past year are energy related . but it ' s in the mid - sized explorers and\r\n",
            "deveiopers like montana oi | ( mogi ) that the biggest gains are being\r\n",
            "made . in the last 12 months , many of these stocks made tripie and even\r\n",
            "quadruple returns .\r\n",
            "breaking news ! !\r\n",
            "april 29 , - montana oil and gas reports the following update on its\r\n",
            "sylvan lake project . after several delays due to unseasonable weather and\r\n",
            "road closures in the province of alberta , the contracted drilling rig\r\n",
            "was moved onto location and ensign drilling has spudded the 5 - 3 - 38 - 3 w 5 m\r\n",
            "well . the company anticipates the road bans to be lifted shortly in\r\n",
            "compliance with government regulations and to resume drilling of the well\r\n",
            "immediately there after .\r\n",
            "the company ' s west lock project is also scheduled to resume completion\r\n",
            "of tie in upon lifting of the road ban .\r\n",
            "with the continued interest in our sylvan lake project montana oil and\r\n",
            "gas has prepared a detailed project description .\r\n",
            "project history\r\n",
            "the sylvan lake oil and gas field was discovered in the late 1950 ' s and\r\n",
            "has produced over 40 million barrels ( mbbls ) of high quality crude oil\r\n",
            "and 50 billion cubic feet ( bcf ) of associated natural gas ,\r\n",
            "predominantly from the mississippian pekisko and shunda formations . the field\r\n",
            "remains in production today and continues to be down spaced drilled and\r\n",
            "expanded with the use of modern three and four dimension geophysics .\r\n",
            "the original freehold lease on section 3 - 38 - 3 w 5 m was leased to a major\r\n",
            "oil company , as was most of the sylvan lake field itself . an\r\n",
            "exploratory well was drilled by this major company in 7 - 3 - 38 - 3 w 5 m in 1958 and was\r\n",
            "abandoned after finding the shunda and pekisko formations completely\r\n",
            "eroded by post depositional cutting . as a consequence , the major company\r\n",
            "did no further exploration on this section and eventually bowed to the\r\n",
            "complaints of the freehold mineral rights owner and relinquished the\r\n",
            "deeper mineral rights ( below the base of the jurassic formations ) on the\r\n",
            "west one half of section 3 back to the freehold mineral rights owner in\r\n",
            "the early 1960 ' s . this relinquishment was extraordinary at the time as\r\n",
            "mineral right severance had very seldom ever been done and more\r\n",
            "specifically , not often by the major companies . accordingly , these mineral\r\n",
            "rights sat available and dormant until the early 2000 ' s as almost all oil\r\n",
            "and gas companies thought they were held by the original lessee .\r\n",
            "through diligent land work ( including field visits ) our partners discovered\r\n",
            "this relinquishment and quickly leased the west half of section 3 . since\r\n",
            "that time our partners have managed to lease an additional 160 acres\r\n",
            "( one quarter section ) of section 3 . energy 51 has the right to earn 50 %\r\n",
            "of this prospect ( possibly 75 % ) with the drilling of a test well in\r\n",
            "5 - 3 - 38 - 3 w 5 m .\r\n",
            "land discussion\r\n",
            "our partners have secured a 100 % working interest in the west half and\r\n",
            "northeast quarter of section 3 - 38 - 3 w 5 m . the land comprises some 480\r\n",
            "acres ( one section or one square mile equals 640 acres ) . primary drilling\r\n",
            "spacing in alberta is as follows ; one quarter section spacing ( 160\r\n",
            "acres ) for oil and one section spacing ( 640 acres ) for natural gas . the\r\n",
            "province allows for decreased drilling and production spacing units\r\n",
            "( called holdings ) should you be able to prove to the province ' s\r\n",
            "satisfaction that more efficient drainage of reserves would result from increased\r\n",
            "well density . almost the entire sylvan lake field , pekisko pool , has\r\n",
            "been down spaced dramatically and should we be successful in discovering\r\n",
            "pekisko oil we will down space as well .\r\n",
            "geological discussion\r\n",
            "pekisko formation - - the principle target of this prospect is oil and\r\n",
            "associated gas production from the deeper ( older ) pekisko formation . the\r\n",
            "sylvan lake pekisko oil field lies on the up dip erosional edge of the\r\n",
            "pekisko formation . this edge is extremely rugged as its shape was\r\n",
            "influenced by both terrestrial drainage and seashore conditions . overlying\r\n",
            "this ancient shoreline are cap rocks ( impermeable layers ) of the\r\n",
            "mississippian lower shunda formation and cretaceous / jurassic impermeable\r\n",
            "shales . these erosional edge trap features are common throughout alberta and\r\n",
            "account for billions of barrels of reserves .\r\n",
            "production facilities discussion\r\n",
            "this immediate area has been developed for both oil and natural gas\r\n",
            "over the past forty - five years . accordingly a multitude of gas gathering\r\n",
            "and processing facilities and oil transportation facilities have been\r\n",
            "constructed .\r\n",
            "a major gas processing facility is located within two miles of our\r\n",
            "project with gathering system lines with one half a mile from our proposed\r\n",
            "drilling location . the capacity of the processing facility is\r\n",
            "approximately 70 mmcf / d with current throughput of only 46 mmcf / d . accordingly ,\r\n",
            "excess capacity of 24 mmcf / d exists in the facility which would be in\r\n",
            "the best interest of the operator to fill as soon as possible .\r\n",
            "this gas processing facility also has oil pipeline access for the\r\n",
            "transportation of raw oil product to the main delivery terminals north of\r\n",
            "red deer , alberta . accordingly , trucking costs would be minimal to get\r\n",
            "oil product to the transportation system .\r\n",
            "for more detailed project description please see news release dated\r\n",
            "( fri , apr 29 ) .\r\n",
            "good luck and successfu | trading .\r\n",
            "conclusion :\r\n",
            "the examples above show the awesome , earning potential of little known\r\n",
            "companies that explode onto investor ' s radar screens ; many of you are\r\n",
            "already familiar with this . is mogi poised and positioned to do that for\r\n",
            "you ? then you may feel the time has come to act . . . and please watch\r\n",
            "this one trade tuesday ! go mogi .\r\n",
            "penny stocks are considered highly speculative and may be unsuitable\r\n",
            "for all but very aggressive investors . this profile is not in any way\r\n",
            "affiliated with the featured company . we were compensated 3000 dollars\r\n",
            "to distribute this report . this report is for entertainment and\r\n",
            "advertising purposes only and should not be used as investment advice .\r\n",
            "\n",
            "---------------------------------------------------\n",
            "---------------------------------------------------\n",
            "Subject: end of year clearance\r\n",
            "item no #\r\n",
            "description\r\n",
            "price $\r\n",
            "1 .\r\n",
            "2 . 2 gb compact flash + type ii\r\n",
            "micro\r\n",
            "$\r\n",
            "99\r\n",
            ". 00\r\n",
            "2 .\r\n",
            "256 mb ddr ram sodimm for\r\n",
            "notebook\r\n",
            "$\r\n",
            "29\r\n",
            ". 90\r\n",
            "3 .\r\n",
            "compaq ps / 2\r\n",
            "keyboard\r\n",
            "$\r\n",
            "9\r\n",
            ". 50\r\n",
            "4 .\r\n",
            "diamond supraexpress 56 k ext . serial\r\n",
            "data / fax / voice modem\r\n",
            "$\r\n",
            "23\r\n",
            ". 90\r\n",
            "5 .\r\n",
            "diamond supramax 56 k usb external\r\n",
            "modem\r\n",
            "$\r\n",
            "25\r\n",
            ". 50\r\n",
            "6 .\r\n",
            "hp deskjet 1100 d printer\r\n",
            "$\r\n",
            "158\r\n",
            ". 00\r\n",
            "7 .\r\n",
            "hp laserjet 1160 printer\r\n",
            "$\r\n",
            "278\r\n",
            ". 00\r\n",
            "8 .\r\n",
            "intel play me 2 web camera\r\n",
            "$\r\n",
            "8\r\n",
            ". 80\r\n",
            "9 .\r\n",
            "logitech classic wireless keyboard +\r\n",
            "optical mouse + web camera w / built - in - microphone\r\n",
            "( 3 - in - 1 )\r\n",
            "$\r\n",
            "52\r\n",
            ". 00\r\n",
            "10 .\r\n",
            "logitech wireless optical scroll\r\n",
            "mouse\r\n",
            "$\r\n",
            "16\r\n",
            ". 90\r\n",
            "11 .\r\n",
            "logitech io personal digital pen\r\n",
            "$\r\n",
            "107\r\n",
            ". 50\r\n",
            "12 .\r\n",
            "notebookplus usb mini webcam\r\n",
            "$\r\n",
            "15\r\n",
            ". 90\r\n",
            "13 .\r\n",
            "notebookplus mobile mini usb keypad +\r\n",
            "calculator ( 2 - in - 1 )\r\n",
            "$\r\n",
            "49\r\n",
            ". 00\r\n",
            "14 .\r\n",
            "oem 4 port usb 2 . 0 mini hub no power\r\n",
            "required\r\n",
            "$\r\n",
            "5\r\n",
            ". 50\r\n",
            "15 .\r\n",
            "optorite 8 x + / - dvd - rewriter\r\n",
            "$\r\n",
            "49\r\n",
            ". 00\r\n",
            "16 .\r\n",
            "olympus trip - md 3 focus free\r\n",
            "camera\r\n",
            "$\r\n",
            "19\r\n",
            ". 50\r\n",
            "17 .\r\n",
            "oem pcmcia 5 in 1 memory card\r\n",
            "reader\r\n",
            "$\r\n",
            "36\r\n",
            ". 00\r\n",
            "18 .\r\n",
            "pocket digital camcoder / camera\r\n",
            "( 2 - in - 1 )\r\n",
            "$\r\n",
            "58\r\n",
            ". 00\r\n",
            "19 .\r\n",
            "security lock kit for cpu / monitor / keyboard\r\n",
            "lock ( aluminium )\r\n",
            "$\r\n",
            "9\r\n",
            ". 50\r\n",
            "20 .\r\n",
            "sim card backup 168 16 kb memory\r\n",
            "$\r\n",
            "36\r\n",
            ". 00\r\n",
            "21 .\r\n",
            "super gsm usb sim card reader\r\n",
            "$\r\n",
            "17\r\n",
            ". 50\r\n",
            "22 .\r\n",
            "samsung 52 x 24 x 52 xl 6 dvd - cdrw\r\n",
            "combo\r\n",
            "$\r\n",
            "34\r\n",
            ". 90\r\n",
            "23 .\r\n",
            "toshiba advanced port replicator\r\n",
            "$\r\n",
            "99\r\n",
            ". 00\r\n",
            "24 .\r\n",
            "usb to ethernet adapter\r\n",
            "$\r\n",
            "12\r\n",
            ". 90\r\n",
            "25 .\r\n",
            "zdrive 1 . 5 gb usb 2 . 0 drive\r\n",
            "$\r\n",
            "127\r\n",
            ". 00\r\n",
            "256 mb ddr ram sodimm\r\n",
            "gsm usb sim card reader\r\n",
            "logitech io personal digital\r\n",
            "pen\r\n",
            "diamond supramax 56 k usb ext .\r\n",
            "modem\r\n",
            "notebookplus mobile mini usb\r\n",
            "keypad\r\n",
            "your one stop distributorjebel ali duty free zonedubai , uae . www . computron - me . com\r\n",
            "for latest clearance sale listing contact our\r\n",
            "sales\r\n",
            "department .\r\n",
            "for further details please send\r\n",
            "your enquiries to : dealers @ emirates . net . aeor contact via www . computron - me . com\r\n",
            "compaq\r\n",
            "hewlett packard\r\n",
            "3 com\r\n",
            "dell\r\n",
            "intel\r\n",
            "iomega\r\n",
            "epson\r\n",
            "aopen\r\n",
            "creative\r\n",
            "toshiba\r\n",
            "apc\r\n",
            "cisco\r\n",
            "us\r\n",
            "robotics\r\n",
            "microsoft\r\n",
            "canon\r\n",
            "intellinet\r\n",
            "targus\r\n",
            "viewsonic\r\n",
            "ibm\r\n",
            "sony\r\n",
            "- - - - - - - and lots more\r\n",
            "! ! !\r\n",
            "if you have any\r\n",
            "complaints / suggestions contact : customerservice @ computron - me . com\r\n",
            "tel + 971 4\r\n",
            "8834464\r\n",
            "all prices in u . s . dollars , ex - works ,\r\n",
            "fax + 971 4\r\n",
            "8834454\r\n",
            "jebel ali duty free zone\r\n",
            "www . computron - me . com\r\n",
            "prices and availability subject to change\r\n",
            "usa -\r\n",
            "canada u . a . e .\r\n",
            "without\r\n",
            "notice .\r\n",
            "to receive our special offers\r\n",
            "in plain\r\n",
            "text format reply to this\r\n",
            "mail with the request * for\r\n",
            "export only *\r\n",
            "this\r\n",
            "email can not be considered spam as long as we include : contact\r\n",
            "information remove instructions . this message is intended for dealer\r\n",
            "and resellers only . if you have somehow gotten on this list in error , or\r\n",
            "for any other reason would like to be removed , please reply with \" remove\r\n",
            "\" in the subject line of your message . this message is being sent to you\r\n",
            "in compliance with the federal legislation for commercial e - mail\r\n",
            "( h . r . 4176 - section 101 paragraph ( e ) ( 1 ) ( a ) and bill s . 1618 title iii\r\n",
            "passed by the 105 th u . s . congress .\r\n",
            "all logos and\r\n",
            "trademarks are the property of their respective ownerstoshiba for\r\n",
            "export only . hp only\r\n",
            "for sale in the middle east\r\n",
            "products may not be exactly as shown\r\n",
            "above\r\n",
            "- -\r\n",
            "to unsubscribe from : computron 4 , just follow this link :\r\n",
            "click the link , or copy and paste the address into your browser .\r\n",
            "please give it atleast 48 hours for unsubscription to be effective .\n",
            "---------------------------------------------------\n",
            "---------------------------------------------------\n",
            "Subject: vlc , 0 dln for sale , no prior pres . crip . tion needed\r\n",
            "enjoy up to 80 % off\r\n",
            "buy vlc , 0 dln online\r\n",
            "get vla , gra / cla , lls\r\n",
            "buy val , lum for cheap\r\n",
            "get x . a . x . a . x online from our online pha , rmacy .\r\n",
            "many others also available !\r\n",
            "no p . r . e , s . c . r , i . p . t . i . o . n required\r\n",
            "discreet / fast shipping . plus * no shipping charge *\r\n",
            "and always 100 % money back guarantee\r\n",
            "click here for more info\r\n",
            "\n",
            "---------------------------------------------------\n",
            "---------------------------------------------------\n",
            "Subject: jennifer\r\n",
            "sends them to their final destination .\r\n",
            "designated as a private key\r\n",
            "4 . validate public keys .\r\n",
            "someone wants to meet you !\r\n",
            "who your match could be , find here\r\n",
            "to the purported owner . you\r\n",
            "\n",
            "---------------------------------------------------\n"
          ]
        }
      ],
      "source": [
        "def afficherNSpam(data,n) :\n",
        "    '''Affiche les n premiers spams de nos données'''\n",
        "    s=data[data.label_num==1]\n",
        "    for i in range(n):\n",
        "        print(\"---------------------------------------------------\")\n",
        "        print(s.text[s.index[i]])\n",
        "        print(\"---------------------------------------------------\")\n",
        "cpt=10\n",
        "afficherNSpam(data,cpt)\n",
        "\n",
        "\n",
        "    "
      ]
    },
    {
      "cell_type": "markdown",
      "metadata": {
        "id": "vnwbxy5Ae3rr"
      },
      "source": [
        "# 2.Prétraitement des données"
      ]
    },
    {
      "cell_type": "markdown",
      "metadata": {
        "id": "26ezB3Xle3rr"
      },
      "source": [
        "### A) Construisons notre vocabulaire"
      ]
    },
    {
      "cell_type": "code",
      "execution_count": null,
      "metadata": {
        "colab": {
          "base_uri": "https://localhost:8080/",
          "height": 224
        },
        "id": "n3Ef7_FGe3rs",
        "outputId": "be0a2150-5b38-4b39-c3fb-58536d736d52"
      },
      "outputs": [
        {
          "output_type": "stream",
          "name": "stdout",
          "text": [
            "On a donc un dataframe de la distribution du vocabulaire qui est composé 46081 mots.\n"
          ]
        },
        {
          "output_type": "execute_result",
          "data": {
            "text/plain": [
              "         spam  ham\n",
              "reflect     1   76\n",
              "follow     68   89\n",
              "daily      21  329\n",
              "asap        3   66\n",
              "control    48  110"
            ],
            "text/html": [
              "\n",
              "  <div id=\"df-2b85c094-c460-41d1-9940-b1d58cb7a607\">\n",
              "    <div class=\"colab-df-container\">\n",
              "      <div>\n",
              "<style scoped>\n",
              "    .dataframe tbody tr th:only-of-type {\n",
              "        vertical-align: middle;\n",
              "    }\n",
              "\n",
              "    .dataframe tbody tr th {\n",
              "        vertical-align: top;\n",
              "    }\n",
              "\n",
              "    .dataframe thead th {\n",
              "        text-align: right;\n",
              "    }\n",
              "</style>\n",
              "<table border=\"1\" class=\"dataframe\">\n",
              "  <thead>\n",
              "    <tr style=\"text-align: right;\">\n",
              "      <th></th>\n",
              "      <th>spam</th>\n",
              "      <th>ham</th>\n",
              "    </tr>\n",
              "  </thead>\n",
              "  <tbody>\n",
              "    <tr>\n",
              "      <th>reflect</th>\n",
              "      <td>1</td>\n",
              "      <td>76</td>\n",
              "    </tr>\n",
              "    <tr>\n",
              "      <th>follow</th>\n",
              "      <td>68</td>\n",
              "      <td>89</td>\n",
              "    </tr>\n",
              "    <tr>\n",
              "      <th>daily</th>\n",
              "      <td>21</td>\n",
              "      <td>329</td>\n",
              "    </tr>\n",
              "    <tr>\n",
              "      <th>asap</th>\n",
              "      <td>3</td>\n",
              "      <td>66</td>\n",
              "    </tr>\n",
              "    <tr>\n",
              "      <th>control</th>\n",
              "      <td>48</td>\n",
              "      <td>110</td>\n",
              "    </tr>\n",
              "  </tbody>\n",
              "</table>\n",
              "</div>\n",
              "      <button class=\"colab-df-convert\" onclick=\"convertToInteractive('df-2b85c094-c460-41d1-9940-b1d58cb7a607')\"\n",
              "              title=\"Convert this dataframe to an interactive table.\"\n",
              "              style=\"display:none;\">\n",
              "        \n",
              "  <svg xmlns=\"http://www.w3.org/2000/svg\" height=\"24px\"viewBox=\"0 0 24 24\"\n",
              "       width=\"24px\">\n",
              "    <path d=\"M0 0h24v24H0V0z\" fill=\"none\"/>\n",
              "    <path d=\"M18.56 5.44l.94 2.06.94-2.06 2.06-.94-2.06-.94-.94-2.06-.94 2.06-2.06.94zm-11 1L8.5 8.5l.94-2.06 2.06-.94-2.06-.94L8.5 2.5l-.94 2.06-2.06.94zm10 10l.94 2.06.94-2.06 2.06-.94-2.06-.94-.94-2.06-.94 2.06-2.06.94z\"/><path d=\"M17.41 7.96l-1.37-1.37c-.4-.4-.92-.59-1.43-.59-.52 0-1.04.2-1.43.59L10.3 9.45l-7.72 7.72c-.78.78-.78 2.05 0 2.83L4 21.41c.39.39.9.59 1.41.59.51 0 1.02-.2 1.41-.59l7.78-7.78 2.81-2.81c.8-.78.8-2.07 0-2.86zM5.41 20L4 18.59l7.72-7.72 1.47 1.35L5.41 20z\"/>\n",
              "  </svg>\n",
              "      </button>\n",
              "      \n",
              "  <style>\n",
              "    .colab-df-container {\n",
              "      display:flex;\n",
              "      flex-wrap:wrap;\n",
              "      gap: 12px;\n",
              "    }\n",
              "\n",
              "    .colab-df-convert {\n",
              "      background-color: #E8F0FE;\n",
              "      border: none;\n",
              "      border-radius: 50%;\n",
              "      cursor: pointer;\n",
              "      display: none;\n",
              "      fill: #1967D2;\n",
              "      height: 32px;\n",
              "      padding: 0 0 0 0;\n",
              "      width: 32px;\n",
              "    }\n",
              "\n",
              "    .colab-df-convert:hover {\n",
              "      background-color: #E2EBFA;\n",
              "      box-shadow: 0px 1px 2px rgba(60, 64, 67, 0.3), 0px 1px 3px 1px rgba(60, 64, 67, 0.15);\n",
              "      fill: #174EA6;\n",
              "    }\n",
              "\n",
              "    [theme=dark] .colab-df-convert {\n",
              "      background-color: #3B4455;\n",
              "      fill: #D2E3FC;\n",
              "    }\n",
              "\n",
              "    [theme=dark] .colab-df-convert:hover {\n",
              "      background-color: #434B5C;\n",
              "      box-shadow: 0px 1px 3px 1px rgba(0, 0, 0, 0.15);\n",
              "      filter: drop-shadow(0px 1px 2px rgba(0, 0, 0, 0.3));\n",
              "      fill: #FFFFFF;\n",
              "    }\n",
              "  </style>\n",
              "\n",
              "      <script>\n",
              "        const buttonEl =\n",
              "          document.querySelector('#df-2b85c094-c460-41d1-9940-b1d58cb7a607 button.colab-df-convert');\n",
              "        buttonEl.style.display =\n",
              "          google.colab.kernel.accessAllowed ? 'block' : 'none';\n",
              "\n",
              "        async function convertToInteractive(key) {\n",
              "          const element = document.querySelector('#df-2b85c094-c460-41d1-9940-b1d58cb7a607');\n",
              "          const dataTable =\n",
              "            await google.colab.kernel.invokeFunction('convertToInteractive',\n",
              "                                                     [key], {});\n",
              "          if (!dataTable) return;\n",
              "\n",
              "          const docLinkHtml = 'Like what you see? Visit the ' +\n",
              "            '<a target=\"_blank\" href=https://colab.research.google.com/notebooks/data_table.ipynb>data table notebook</a>'\n",
              "            + ' to learn more about interactive tables.';\n",
              "          element.innerHTML = '';\n",
              "          dataTable['output_type'] = 'display_data';\n",
              "          await google.colab.output.renderOutput(dataTable, element);\n",
              "          const docLink = document.createElement('div');\n",
              "          docLink.innerHTML = docLinkHtml;\n",
              "          element.appendChild(docLink);\n",
              "        }\n",
              "      </script>\n",
              "    </div>\n",
              "  </div>\n",
              "  "
            ]
          },
          "metadata": {},
          "execution_count": 24
        }
      ],
      "source": [
        "def vocabulaire_mail(mail,n=3) :\n",
        "    '''Retourne l'ensemble du vocabulaire en minisucule \n",
        "    du mail composé seulement de mots de longueur strictement supérieure à n'''\n",
        "    #ne gardons que les caractères alphanumériques\n",
        "    mots = re.split(r'\\W+', mail)\n",
        "    #ensemble en minuscule   \n",
        "    return set([mot.lower() for mot in mots if len(mot)>n]) \n",
        "\n",
        "\n",
        "def vocabulaire_distribution(df) :\n",
        "    '''Retourne un dictionnaire de la distribution des mots selon les classes \n",
        "    de nos données (spam ou ham )''' \n",
        "    distribution= {}\n",
        "    for mail,spam in zip(df.text,df.label_num):\n",
        "        vocabulaire=vocabulaire_mail(mail)\n",
        "        for mot in vocabulaire:\n",
        "            if mot not in distribution:\n",
        "                distribution[mot]= (spam,1-spam)\n",
        "            else:\n",
        "                s,h=distribution[mot]\n",
        "                distribution[mot]=(s+spam,h+1-spam)\n",
        "    return distribution       \n",
        "\n",
        "def df_distribution(df) :\n",
        "    '''Retourne un dataframe à partir du vocabulaire de distribution''' \n",
        "    distribution=vocabulaire_distribution(df)\n",
        "    vocabulaire,NSpam,NHam=[],[],[]\n",
        "    for mot in distribution:\n",
        "        s,h=distribution[mot]\n",
        "        vocabulaire.append(mot)\n",
        "        NSpam.append(s)\n",
        "        NHam.append(h)\n",
        "    return pd.DataFrame({'spam' : NSpam,'ham' : NHam },index=vocabulaire)\n",
        "\n",
        "\n",
        "D=df_distribution(data)\n",
        "nb_mots,_=D.shape\n",
        "print(f'On a donc un dataframe de la distribution du vocabulaire qui est composé {nb_mots} mots.')\n",
        "D.head(5)\n"
      ]
    },
    {
      "cell_type": "markdown",
      "metadata": {
        "id": "vv6E-ENWe3rs"
      },
      "source": [
        "Nous allons ensuite devoir vectoriser nos données selon ce vocabulaire pour qu'elles soient utilisables par les différents modèles d'apprentissage que nous allons mettre en place.\n",
        "Malheureusement, utiliser un vecteur de 46 081 variables pour chaque mail de notre échantillon nous demanderais trop de calculs et ne serait peut être pas pertinent. Nous allons donc devoir faire un choix sur comment déterminer le vocabulaire que nous allons utiliser pour nos modèles d'apprentissage."
      ]
    },
    {
      "cell_type": "markdown",
      "metadata": {
        "id": "K7W9Ac85e3rt"
      },
      "source": [
        "### B) Réduction de notre vocabulaire par les statistiques et probabilités"
      ]
    },
    {
      "cell_type": "markdown",
      "metadata": {
        "id": "hjofirowe3rt"
      },
      "source": [
        "Dans les différents classifieurs probabilistes, il est souvent nécessaire d'utiliser un lissage, qui est une technique qui vise à ajuster l'estimation du maximimum de vraisemblance dans le but de corriger des imprécisions dûes à la rareté de certaines données. En effet, comme nous allons supposer que nos variables aléatoires sont indépendantes, nous allons multiplier un grand nombre de probabilités entre elles et donc ne souhaitons pas avoir de probabilités nulles.\n",
        "Il existe différents types de lissage, pour notre modèle on utilisera le lissage de Laplace qui est aussi utilisé par Sklearn."
      ]
    },
    {
      "cell_type": "code",
      "execution_count": null,
      "metadata": {
        "id": "dnA6jnSwe3rt"
      },
      "outputs": [],
      "source": [
        "def lissage_Laplace(nb_Xi_Y,total_Y,nb_Y,alpha=1) :\n",
        "    '''Retourne l'estimation du taux de xi dans Y avec un lissage de Laplace ( hyper paramètre alpha par défaut vaut 1)'''\n",
        "    return (nb_Xi_Y+alpha)/(total_Y+alpha*nb_Y)\n",
        "#On pourrait voir se lissage comme le fait d'ajouter \n",
        "#un ham et un spam contenant tous les mots du vocabulaire dans nos données."
      ]
    },
    {
      "cell_type": "code",
      "execution_count": null,
      "metadata": {
        "id": "VcWtki_ke3rt"
      },
      "outputs": [],
      "source": [
        "def df_proba(Xa):\n",
        "    '''Retourne un dataframe de la distribution et \n",
        "    des taux de nos données avec lissage de Laplace''' \n",
        "    D=df_distribution(Xa)\n",
        "    total_ham,total_spam=Xa.label_num.value_counts()\n",
        "    total_mail=total_ham+total_spam\n",
        "    lg_V=len(D.index)\n",
        "    diff,taux_M,taux_M_S,taux_M_H,taux_S_M,taux_H_M=[],[],[],[],[],[]\n",
        "    for mot in D.index:\n",
        "        #distribution\n",
        "        n_spam,n_ham =D.spam[mot],D.ham[mot]\n",
        "        #Taux de Y\n",
        "        t_spam=total_spam/total_mail\n",
        "        t_ham=total_ham/total_mail\n",
        "        #Taux de xi sachant Y avec Lissage de Laplace\n",
        "        t_mot_spam = lissage_Laplace(n_spam,total_spam,2)\n",
        "        t_mot_ham = lissage_Laplace(n_ham,total_ham,2)\n",
        "        #Taux de xi\n",
        "        t_mot= (n_spam+n_ham)/total_mail\n",
        "        #Taux de Y sachant Xi Bayes Theorem \n",
        "        t_spam_mot= (t_mot_spam*t_spam)/(t_mot_spam*t_spam+t_mot_ham*t_ham)\n",
        "        t_ham_mot= (t_mot_ham*t_ham)/(t_mot_spam*t_spam+t_mot_ham*t_ham)\n",
        "        #maj resultat\n",
        "        taux_M.append(t_mot)\n",
        "        taux_M_S.append(t_mot_spam)\n",
        "        taux_M_H.append(t_mot_ham)\n",
        "        taux_S_M.append(t_spam_mot)\n",
        "        taux_H_M.append(t_ham_mot)\n",
        "        diff.append(abs(t_spam_mot-t_ham_mot))\n",
        "    return pd.DataFrame({'spam' : D.spam,'ham' : D.ham,'t(mot)': taux_M ,'t(mot|spam)' : taux_M_S,'t(mot|ham)' : taux_M_H ,'t(spam|mot)' : taux_S_M,'t(ham|mot)' : taux_H_M,'diff': diff},index=D.index)\n",
        "\n",
        "\n",
        "def afficherDiff(Xa,taux):\n",
        "    '''Affiche la différence en valeur absolue de P(ham|mot)-P(spam|mot) \n",
        "    selon le taux de différence souhaité'''\n",
        "    V_proba=df_proba(Xa)\n",
        "    V_proba=V_proba.sort_values(by=['diff'],ascending=False)\n",
        "    fig, axs = plt.subplots(1,2)\n",
        "    fig.set_figheight(5)\n",
        "    fig.set_figwidth(14)\n",
        "    V0=list(range(V_proba.index.size))\n",
        "    V1=list(range(V_proba[(V_proba['diff']>taux)].index.size))\n",
        "    D0=np.array(V_proba['diff'])\n",
        "    D1=np.array(V_proba[(V_proba['diff']>taux)]['diff'])\n",
        "    axs[0].plot(V0,D0,label='|P(spam|mot)-P(ham|mot)|')\n",
        "    axs[0].set_title('Différence absolue entre P(spam|mot) et P(ham|mot)')\n",
        "    axs[0].legend()\n",
        "    axs[1].plot(V1,D1,label='|P(spam|mot)-P(ham|mot)|')\n",
        "    axs[1].set_title(f'Différence absolue entre P(spam|mot) et P(ham|mot) > {taux}')\n",
        "    axs[1].legend()\n",
        "\n",
        "\n"
      ]
    },
    {
      "cell_type": "code",
      "execution_count": null,
      "metadata": {
        "id": "bV9NUbPQe3ru",
        "outputId": "9deee586-4930-4061-e246-f30ddd2ad2a9"
      },
      "outputs": [
        {
          "data": {
            "text/html": [
              "<div>\n",
              "<style scoped>\n",
              "    .dataframe tbody tr th:only-of-type {\n",
              "        vertical-align: middle;\n",
              "    }\n",
              "\n",
              "    .dataframe tbody tr th {\n",
              "        vertical-align: top;\n",
              "    }\n",
              "\n",
              "    .dataframe thead th {\n",
              "        text-align: right;\n",
              "    }\n",
              "</style>\n",
              "<table border=\"1\" class=\"dataframe\">\n",
              "  <thead>\n",
              "    <tr style=\"text-align: right;\">\n",
              "      <th></th>\n",
              "      <th>spam</th>\n",
              "      <th>ham</th>\n",
              "      <th>t(mot)</th>\n",
              "      <th>t(mot|spam)</th>\n",
              "      <th>t(mot|ham)</th>\n",
              "      <th>t(spam|mot)</th>\n",
              "      <th>t(ham|mot)</th>\n",
              "      <th>diff</th>\n",
              "    </tr>\n",
              "  </thead>\n",
              "  <tbody>\n",
              "    <tr>\n",
              "      <th>provided</th>\n",
              "      <td>56</td>\n",
              "      <td>60</td>\n",
              "      <td>0.022433</td>\n",
              "      <td>0.037975</td>\n",
              "      <td>0.016603</td>\n",
              "      <td>0.482854</td>\n",
              "      <td>0.517146</td>\n",
              "      <td>0.034292</td>\n",
              "    </tr>\n",
              "    <tr>\n",
              "      <th>note</th>\n",
              "      <td>43</td>\n",
              "      <td>187</td>\n",
              "      <td>0.044479</td>\n",
              "      <td>0.029314</td>\n",
              "      <td>0.051170</td>\n",
              "      <td>0.189534</td>\n",
              "      <td>0.810466</td>\n",
              "      <td>0.620932</td>\n",
              "    </tr>\n",
              "    <tr>\n",
              "      <th>988291</th>\n",
              "      <td>0</td>\n",
              "      <td>2</td>\n",
              "      <td>0.000387</td>\n",
              "      <td>0.000666</td>\n",
              "      <td>0.000817</td>\n",
              "      <td>0.249852</td>\n",
              "      <td>0.750148</td>\n",
              "      <td>0.500296</td>\n",
              "    </tr>\n",
              "    <tr>\n",
              "      <th>volume</th>\n",
              "      <td>16</td>\n",
              "      <td>507</td>\n",
              "      <td>0.101141</td>\n",
              "      <td>0.011326</td>\n",
              "      <td>0.138269</td>\n",
              "      <td>0.032356</td>\n",
              "      <td>0.967644</td>\n",
              "      <td>0.935288</td>\n",
              "    </tr>\n",
              "    <tr>\n",
              "      <th>this</th>\n",
              "      <td>560</td>\n",
              "      <td>1693</td>\n",
              "      <td>0.435699</td>\n",
              "      <td>0.373751</td>\n",
              "      <td>0.461078</td>\n",
              "      <td>0.248633</td>\n",
              "      <td>0.751367</td>\n",
              "      <td>0.502734</td>\n",
              "    </tr>\n",
              "  </tbody>\n",
              "</table>\n",
              "</div>"
            ],
            "text/plain": [
              "          spam   ham    t(mot)  t(mot|spam)  t(mot|ham)  t(spam|mot)  \\\n",
              "provided    56    60  0.022433     0.037975    0.016603     0.482854   \n",
              "note        43   187  0.044479     0.029314    0.051170     0.189534   \n",
              "988291       0     2  0.000387     0.000666    0.000817     0.249852   \n",
              "volume      16   507  0.101141     0.011326    0.138269     0.032356   \n",
              "this       560  1693  0.435699     0.373751    0.461078     0.248633   \n",
              "\n",
              "          t(ham|mot)      diff  \n",
              "provided    0.517146  0.034292  \n",
              "note        0.810466  0.620932  \n",
              "988291      0.750148  0.500296  \n",
              "volume      0.967644  0.935288  \n",
              "this        0.751367  0.502734  "
            ]
          },
          "execution_count": 8,
          "metadata": {},
          "output_type": "execute_result"
        }
      ],
      "source": [
        "V_proba=df_proba(data)\n",
        "V_proba.head(5)"
      ]
    },
    {
      "cell_type": "code",
      "execution_count": null,
      "metadata": {
        "id": "2KP68Vd3e3ru",
        "outputId": "775d2ce0-9572-42be-cf77-8be8b89eff73"
      },
      "outputs": [
        {
          "data": {
            "image/png": "[encoded data removed]",
            "text/plain": [
              "<Figure size 1008x360 with 2 Axes>"
            ]
          },
          "metadata": {
            "needs_background": "light"
          },
          "output_type": "display_data"
        }
      ],
      "source": [
        "afficherDiff(data,0.75)"
      ]
    },
    {
      "cell_type": "markdown",
      "metadata": {
        "id": "IS4DDO5pe3ru"
      },
      "source": [
        "On suppose que les mots ayant une grande différence, auront plus de poids sur notre prédiction. \n",
        "On voit qu'en ne prennant que les mots ayant un taux de différence de 0.75, on réduit la taille de notre vocabulaire à près de 2000 mots. \n",
        "On va donc décider de vectoriser nos données d'apprentissage selon l'hyper-paramètre teta qui sera notre taux de différence, qui permettra de générer un vocabulaire de quelques milliers de mots plutot que 46 000."
      ]
    },
    {
      "cell_type": "markdown",
      "metadata": {
        "id": "-bMnbWo5e3rv"
      },
      "source": [
        "### C) Vectorisons nos données selon notre vocabulaire"
      ]
    },
    {
      "cell_type": "code",
      "execution_count": null,
      "metadata": {
        "id": "hlo0PNvye3rv",
        "outputId": "a1d57880-0d4a-469a-d996-091756d4b5ab"
      },
      "outputs": [
        {
          "name": "stdout",
          "output_type": "stream",
          "text": [
            "Longueur du vecteur : 2061\n"
          ]
        }
      ],
      "source": [
        "def vocabulaireDiff(Xa,taux):\n",
        "    '''Retourne le vocabulaire selon le taux de différence '''\n",
        "    V=df_proba(Xa)\n",
        "    V=V[(V['diff']>taux)]\n",
        "    return V.index\n",
        "\n",
        "def vectoriser(X,vocabulaire) :\n",
        "    '''Retourne X : les données vectorisées selon les mots du vocabulaire '''\n",
        "    vecteurs=[]\n",
        "    for mail in X.text:\n",
        "        v_mail=vocabulaire_mail(mail)\n",
        "        vecteur=[ int(mot in v_mail) for mot in vocabulaire]\n",
        "        vecteurs.append(vecteur)\n",
        "    return np.array(vecteurs)\n",
        "\n",
        "def afficherMotdansV(X,Y) :\n",
        "    '''Affiche le nombre de mots dans X selon notre vocabulaire \n",
        "    et retourne le nombre de mails pour lesquels aucun mot fait parti du vocabulaire'''\n",
        "    plt.figure(figsize=(25,4))\n",
        "    plt.title('Nombre de mails ayant n mots du vocabulaire')\n",
        "    x=list(range(X.shape[0]))\n",
        "    sns.countplot(x=np.sum(X,axis=1))\n",
        "    nb=len([ mail for mail in X if np.sum(mail)==0]) #mails pour lequels 0 mots sont dans V\n",
        "    return nb,len(x)\n",
        "\n",
        "def split_et_vectorise(data,taux):\n",
        "    '''Retourne Xa,Xt,Ya,Yt split aléatoirement et vectorisé selon le vocabulaire\n",
        "    determiner par le taux de différence dans Xa'''\n",
        "    Xa,Xt,Ya,Yt=train_test_split(data,data.label_num, test_size=0.2,shuffle=True)\n",
        "    V=vocabulaireDiff(Xa,taux)\n",
        "    #Vectorisons\n",
        "    Xa=vectoriser(Xa,V)\n",
        "    Xt=vectoriser(Xt,V)\n",
        "    Ya=np.array(Ya)\n",
        "    Yt=np.array(Yt)\n",
        "    return Xa,Xt,Ya,Yt\n",
        "\n",
        "\n",
        "\n",
        "v=vocabulaireDiff(data,0.75)\n",
        "print(f'Longueur du vecteur : {len(v)}')\n",
        "\n"
      ]
    },
    {
      "cell_type": "markdown",
      "metadata": {
        "id": "5Vk0-I8he3rv"
      },
      "source": [
        "# 3.Apprentissage "
      ]
    },
    {
      "cell_type": "markdown",
      "metadata": {
        "id": "6S1hg2zXe3rv"
      },
      "source": [
        "#### Différencions les données d'apprentissage et de test.\n"
      ]
    },
    {
      "cell_type": "code",
      "execution_count": null,
      "metadata": {
        "scrolled": true,
        "id": "UUsx9mKse3rw",
        "outputId": "43f28c86-354d-4de1-bca0-964b1f12f55f"
      },
      "outputs": [
        {
          "name": "stdout",
          "output_type": "stream",
          "text": [
            "19 mails sur 1035 qui n'ont aucun mot du vocabulaire, ce qui est acceptable : 1.84%\n",
            "Taille de notre vecteur : 5893\n"
          ]
        },
        {
          "data": {
            "image/png": "[encoded data removed]",
            "text/plain": [
              "<Figure size 1800x288 with 1 Axes>"
            ]
          },
          "metadata": {
            "needs_background": "light"
          },
          "output_type": "display_data"
        }
      ],
      "source": [
        "taux=0.585 #hyper paramètre, influence la longueur du vocabulaire\n",
        "Xa,Xt,Ya,Yt=split_et_vectorise(data,taux)\n",
        "nb,total=afficherMotdansV(Xt,Yt)\n",
        "print(f'{nb} mails sur {total} qui n\\'ont aucun mot du vocabulaire, ce qui est acceptable : {round(100*nb/total,2)}%')\n",
        "print(f'Taille de notre vecteur : {Xa.shape[1]}')"
      ]
    },
    {
      "cell_type": "markdown",
      "metadata": {
        "id": "2s3BJs0ie3rw"
      },
      "source": [
        "### A) Gaussian model"
      ]
    },
    {
      "cell_type": "code",
      "execution_count": null,
      "metadata": {
        "id": "dNz1bQM_e3rw",
        "outputId": "d9dc75ff-e338-4a6d-cc90-87a7e447d5cb"
      },
      "outputs": [
        {
          "name": "stdout",
          "output_type": "stream",
          "text": [
            "Score : 0.9410628019323671\n",
            "              precision    recall  f1-score   support\n",
            "\n",
            "         Ham       0.93      0.99      0.96       740\n",
            "        Spam       0.98      0.81      0.89       295\n",
            "\n",
            "    accuracy                           0.94      1035\n",
            "   macro avg       0.95      0.90      0.92      1035\n",
            "weighted avg       0.94      0.94      0.94      1035\n",
            "\n",
            "Matrice de confusion:\n",
            " [[734   6]\n",
            " [ 55 240]]\n"
          ]
        }
      ],
      "source": [
        "def predict_Gaussian_model(Xa,Xt,Ya,Yt):\n",
        "    '''Retourne la prediction de Xt et le score selon le model Bayes Naif Gaussien '''\n",
        "    model=GaussianNB()\n",
        "    model.fit(Xa,Ya)\n",
        "    score = model.score(Xt,Yt)\n",
        "    predict = model.predict(Xt)\n",
        "    proba=model.predict_proba(Xt)\n",
        "    return predict,score,proba\n",
        "\n",
        "predict_G,score_G,proba_G=predict_Gaussian_model(Xa,Xt,Ya,Yt)\n",
        "M_G=confusion_matrix(Yt,predict_G)\n",
        "print(f'Score : {score_G}')\n",
        "print(classification_report(Yt,predict_G,target_names=[\"Ham\",\"Spam\"]))\n",
        "print(f'Matrice de confusion:\\n {M_G}')\n",
        "\n",
        "\n",
        " "
      ]
    },
    {
      "cell_type": "markdown",
      "metadata": {
        "id": "FPAU1gNIe3rw"
      },
      "source": [
        "### B) Bernoulli model"
      ]
    },
    {
      "cell_type": "code",
      "execution_count": null,
      "metadata": {
        "scrolled": true,
        "id": "-Mml3qiCe3rw",
        "outputId": "f2e2e4a0-0a89-4807-a394-af827b57362e"
      },
      "outputs": [
        {
          "name": "stdout",
          "output_type": "stream",
          "text": [
            "Score : 0.9835748792270531\n",
            "              precision    recall  f1-score   support\n",
            "\n",
            "         Ham       0.99      0.99      0.99       740\n",
            "        Spam       0.97      0.97      0.97       295\n",
            "\n",
            "    accuracy                           0.98      1035\n",
            "   macro avg       0.98      0.98      0.98      1035\n",
            "weighted avg       0.98      0.98      0.98      1035\n",
            "\n",
            "Matrice de confusion:\n",
            " [[732   8]\n",
            " [  9 286]]\n"
          ]
        }
      ],
      "source": [
        "def predict_Bernoulli_model(Xa,Xt,Ya,Yt):\n",
        "    '''Retourne la prediction de Xt et le score selon le model Bayes Naif Bernoulli '''\n",
        "    model=BernoulliNB()\n",
        "    model.fit(Xa,Ya)\n",
        "    score = model.score(Xt,Yt)\n",
        "    predict = model.predict(Xt)\n",
        "    proba=model.predict_proba(Xt)\n",
        "    return predict,score,proba\n",
        "predict_B,score_B,proba_B=predict_Bernoulli_model(Xa,Xt,Ya,Yt)\n",
        "M_B=confusion_matrix(Yt,predict_B)\n",
        "print(f'Score : {score_B}')\n",
        "print(classification_report(Yt,predict_B,target_names=[\"Ham\",\"Spam\"]))\n",
        "print(f'Matrice de confusion:\\n {M_B}')\n",
        "\n"
      ]
    },
    {
      "cell_type": "markdown",
      "metadata": {
        "id": "-wpHbN6Be3rx"
      },
      "source": [
        "### C) Notre modèle"
      ]
    },
    {
      "cell_type": "markdown",
      "metadata": {
        "id": "AZqPjUkJe3rx"
      },
      "source": [
        "##### Démonstration de la formule utilisée."
      ]
    },
    {
      "cell_type": "markdown",
      "metadata": {
        "id": "ieqk-gC9e3rx"
      },
      "source": [
        "$$P\\{Y=c|X=x\\}= \\frac{P\\{Y=c\\}*P\\{X=x|Y=c\\}}{P\\{X=x\\}}$$\n",
        "\n",
        "Par exemple pour un vecteur de longueur n :$$p_{spam|(x_0,x_1,...,x_n)} = \\frac{p_{spam}.\\prod\\limits_{i=1}^n p_{xi|spam}}{p_{spam}.\\prod\\limits_{i=1}^n p_{xi|spam}+p_{ham}.\\prod\\limits_{i=1}^n p_{xi|ham}}$$\n",
        "\n",
        "Passage à l'inverse :$$\\frac{1}{p_{spam|(x_0,x_1,...,x_n)}} = \\frac{p_{spam}.\\prod\\limits_{i=1}^n p_{xi|spam}+p_{ham}.\\prod\\limits_{i=1}^n p_{xi|ham}}{p_{spam}.\\prod\\limits_{i=1}^n p_{xi|spam}} $$\n",
        "\n",
        "On soustrait 1: $$\\frac{1}{p_{spam|(x_0,x_1,...,x_n)}} - 1 = \\frac{p_{ham}.\\prod\\limits_{i=1}^n p_{xi|ham}}{p_{spam}.\\prod\\limits_{i=1}^n p_{xi|spam}} $$\n",
        "\n",
        "Passage au log: $$z:= ln({\\frac{1}{p_{spam|(x_0,x_1,...,x_n)}} - 1}) = ln(p_{ham})+\\sum_{i=1}^n ln({p_{xi|ham}})-ln(p_{spam})-\\sum_{i=1}^n ln({p_{xi|spam}})$$\n",
        "\n",
        "Donc $$p_{spam|(x_0,x_1,...,x_n)}= \\frac{1}{1+e^z}$$\n"
      ]
    },
    {
      "cell_type": "code",
      "execution_count": null,
      "metadata": {
        "id": "lhrCX0PFe3rx",
        "outputId": "ce53a89f-7387-440a-aa83-2928e27842b4"
      },
      "outputs": [
        {
          "name": "stdout",
          "output_type": "stream",
          "text": [
            "Score : 0.9835748792270531\n",
            "              precision    recall  f1-score   support\n",
            "\n",
            "         Ham       0.99      0.99      0.99       740\n",
            "        Spam       0.97      0.97      0.97       295\n",
            "\n",
            "    accuracy                           0.98      1035\n",
            "   macro avg       0.98      0.98      0.98      1035\n",
            "weighted avg       0.98      0.98      0.98      1035\n",
            "\n",
            "Matrice de confusion:\n",
            " [[732   8]\n",
            " [  9 286]]\n"
          ]
        }
      ],
      "source": [
        "def bernoulli(X,p):\n",
        "    '''Retourne P(X=x), X qui suit une loi de Bernoulli de paramètre p'''\n",
        "    return p**X*(1-p)**(1-X)\n",
        "\n",
        "def P_X_Y_Bernoulli(X,mu):\n",
        "    '''Retourne la somme des log de p(X|Y) selon le taux de xi'''\n",
        "    P=[]\n",
        "    for i in range(mu.size):\n",
        "        #on applique bernoulli a toute la colonne du mot i de parametre mu[i]\n",
        "        P.append(bernoulli(X[:,i],mu[i]))\n",
        "    P=np.array(P).transpose()\n",
        "    P_log=np.log(P)\n",
        "    P_somme_log=np.sum(P_log,axis=1)\n",
        "    return P_somme_log\n",
        "\n",
        "\n",
        "def predict_Notre_model(Xa,Xt,Ya,Yt):\n",
        "    '''Retourne la prediction de Xt et le score selon notre modèle\n",
        "    calculs réalisés matriciellement avec numpy'''   \n",
        "    \n",
        "    spams=Xa[np.where(Ya==1)]\n",
        "    hams=Xa[np.where(Ya==0)]\n",
        "    \n",
        "    #P(Y) a priori / priors\n",
        "    P_S=math.log(spams.shape[0]/Xa.shape[0])  \n",
        "    P_H=math.log(hams.shape[0]/Xa.shape[0])   \n",
        "        \n",
        "    #Calculons les paramètres qui maximise la vraisemblance p(xi|Y) \n",
        "    #taux de xi|yi avec lissage / MLE : Maximum-Likelihood-Estimates \n",
        "    mu_S=lissage_Laplace(np.sum(spams,axis=0),spams.shape[0],2)\n",
        "    mu_H=lissage_Laplace(np.sum(hams,axis=0),hams.shape[0],2)\n",
        "    \n",
        "    #Calculons la vraisemblance xi dans classe Y selon une distribution de Bernoulli / likelihood\n",
        "    P_X_S=P_X_Y_Bernoulli(Xt,mu_S).reshape(Xt.shape[0],1)\n",
        "    P_X_H=P_X_Y_Bernoulli(Xt,mu_H).reshape(Xt.shape[0],1)\n",
        "    \n",
        "    #Calculons p(Y|xi) avec la formule démontrée : a posteriori / posterior \n",
        "    P_S_X=1/(1+np.exp(P_H+P_X_H-P_S-P_X_S))\n",
        "    P_H_X=1/(1+np.exp(P_S+P_X_S-P_H-P_X_H))\n",
        "    prediction_proba=np.concatenate((P_H_X,P_S_X),axis=1)\n",
        "       \n",
        "    #Calcul prédiction et score\n",
        "    prediction= [ int(p_s>p_h) for p_h,p_s in prediction_proba]\n",
        "    score= sum([ int(prediction[i]==Yt[i]) for i in range(len(Yt))])/len(Yt)  \n",
        "    \n",
        "    return prediction,score,prediction_proba#,prediction1,score1,prediction_proba1\n",
        "    \n",
        "       \n",
        "predict_NB,score_NB,proba_NB=predict_Notre_model(Xa,Xt,Ya,Yt)\n",
        "\n",
        "M_NB=confusion_matrix(Yt,predict_NB)\n",
        "#M_NG=confusion_matrix(Yt,predict_NG)\n",
        "print(f'Score : {score_NB}')\n",
        "print(classification_report(Yt,predict_NB,target_names=[\"Ham\",\"Spam\"]))\n",
        "print(f'Matrice de confusion:\\n {M_NB}')\n",
        "\n",
        "\n",
        "\n",
        "        \n",
        "\n",
        "    "
      ]
    },
    {
      "cell_type": "markdown",
      "metadata": {
        "id": "oz3AodFoe3rx"
      },
      "source": [
        "### D) Comparaison "
      ]
    },
    {
      "cell_type": "markdown",
      "metadata": {
        "id": "l8dETpT9e3ry"
      },
      "source": [
        "#### Scores "
      ]
    },
    {
      "cell_type": "code",
      "execution_count": null,
      "metadata": {
        "scrolled": true,
        "id": "leH1xQoBe3ry",
        "outputId": "a684c881-745e-4205-98f1-5d21214caf39"
      },
      "outputs": [
        {
          "name": "stdout",
          "output_type": "stream",
          "text": [
            "    Matrices de confusion         Scores                    Modèle\n",
            "--------------------------------------------------------------------------------\n",
            "[[734   6]\n",
            " [ 55 240]]                    0.9410628019323671          Gaussian \n",
            "--------------------------------------------------------------------------------\n",
            "[[732   8]\n",
            " [  9 286]]                    0.9835748792270531          Bernoulli \n",
            "--------------------------------------------------------------------------------\n",
            "[[732   8]\n",
            " [  9 286]]                    0.9835748792270531        Notre modèle Bernoulli\n",
            "--------------------------------------------------------------------------------\n"
          ]
        }
      ],
      "source": [
        "print(\"    Matrices de confusion         Scores                    Modèle\")\n",
        "print(\"--------------------------------------------------------------------------------\")\n",
        "print(f'{M_G}                    {score_G}          Gaussian ')\n",
        "print(\"--------------------------------------------------------------------------------\")\n",
        "print(f'{M_B}                    {score_B}          Bernoulli ')\n",
        "print(\"--------------------------------------------------------------------------------\")\n",
        "print(f'{M_NB}                    {score_NB}        Notre modèle Bernoulli') \n",
        "print(\"--------------------------------------------------------------------------------\")\n"
      ]
    },
    {
      "cell_type": "markdown",
      "metadata": {
        "id": "SdEGkR6Te3ry"
      },
      "source": [
        "Notre score est identique à celui de scikit-learn, verifions sur les probabilités données par predict_proba."
      ]
    },
    {
      "cell_type": "markdown",
      "metadata": {
        "id": "GCR3ECpYe3ry"
      },
      "source": [
        "#### Probabilités"
      ]
    },
    {
      "cell_type": "code",
      "execution_count": null,
      "metadata": {
        "id": "Af09JepUe3ry",
        "outputId": "013ed388-d62c-4fbb-e385-e9b7f2f5bd50"
      },
      "outputs": [
        {
          "data": {
            "image/png": "[encoded data removed]",
            "text/plain": [
              "<Figure size 432x288 with 1 Axes>"
            ]
          },
          "metadata": {
            "needs_background": "light"
          },
          "output_type": "display_data"
        }
      ],
      "source": [
        "def afficherProba(proba_B,proba_NB):\n",
        "    '''Affiche en valeur absolue la différence entre predict_proba de deux modèles'''\n",
        "    plt.figure()\n",
        "    I=list(range(proba_B.shape[0]))\n",
        "    plt.plot(I, abs(proba_B[:,0]-proba_NB[:,0]),label=\"erreur P(ham)\")\n",
        "    plt.plot(I, abs(proba_B[:,1]-proba_NB[:,1]),label=\"erreur P(spam)\")\n",
        "    plt.legend()\n",
        "afficherProba(proba_B,proba_NB)"
      ]
    },
    {
      "cell_type": "markdown",
      "metadata": {
        "id": "QSSdicw0e3rz"
      },
      "source": [
        "Les erreurs de probabilités sont inférieures à $10^{-12}$, notre modèle est donc très proche de celui de Sklearn, et devrait retourner le même score. Vérifions sur plusieurs exemples et en modifiant la longueur de notre vecteur."
      ]
    },
    {
      "cell_type": "markdown",
      "metadata": {
        "id": "TO7tmTyfe3rz"
      },
      "source": [
        "### E) Plus de tests et influence de notre hyper-paramètre "
      ]
    },
    {
      "cell_type": "code",
      "execution_count": null,
      "metadata": {
        "id": "v2zqC_Fye3rz"
      },
      "outputs": [],
      "source": [
        "def vocabulaireDiff_trie(Xa,taux):\n",
        "    '''Retourne le vocabulaire selon le taux de différence et le dataframe trié\n",
        "    utilisé seulement pour des tests'''\n",
        "    V=df_proba(Xa)\n",
        "    V=V[(V['diff']>taux)].sort_index(by=['diff'],ascending=False) \n",
        "    return V.index,V\n",
        "\n",
        "def split_et_vectorise_trie(data,taux):\n",
        "    '''Retourne Xa,Xt,Ya,Yt split aléatoirement et vectorisé selon le vocabulaire trié\n",
        "    determiner par le taux de différence dans Xa'''\n",
        "    Xa,Xt,Ya,Yt=train_test_split(data,data.label_num, test_size=0.2,shuffle=True)\n",
        "    V,df=vocabulaireDiff_trie(Xa,taux)\n",
        "    #Vectorisons\n",
        "    Xa=vectoriser(Xa,V)\n",
        "    Xt=vectoriser(Xt,V)\n",
        "    Ya=np.array(Ya)\n",
        "    Yt=np.array(Yt)\n",
        "    return Xa,Xt,Ya,Yt,df\n",
        "\n",
        "def reduitVecteur(Xa,Xt,df,new_taux):\n",
        "    '''Reduit le vecteur selon le taux de diff et le dataframe de taux déja trié'''\n",
        "    new_df=df[(df['diff']>=new_taux)]\n",
        "    n=len(new_df.index)\n",
        "    return Xa[:,:n],Xt[:,:n],new_df\n",
        "\n",
        "\n",
        "def comparaison_taux(I,nb):\n",
        "    '''Retourne une liste de score sur l intervalle I de taux de diff\n",
        "    et avec nb<=lg(I) scores sur le même split'''\n",
        "    G,B,N,taux,lg= [],[],[],[],[]\n",
        "    taux_depart,taux_fin=I\n",
        "    pas=int((taux_fin-taux_depart)//nb)\n",
        "    Xa,Xt,Ya,Yt,df=split_et_vectorise_trie(data,taux_depart/100)\n",
        "    for t in range(taux_depart,taux_fin+1,pas):\n",
        "        Xa,Xt,df=reduitVecteur(Xa,Xt,df,t/100)\n",
        "        #predictions\n",
        "        _,score_G,_=predict_Gaussian_model(Xa,Xt,Ya,Yt)\n",
        "        _,score_B,_=predict_Bernoulli_model(Xa,Xt,Ya,Yt)\n",
        "        _,score_N,_=predict_Notre_model(Xa,Xt,Ya,Yt)\n",
        "        #maj resultats\n",
        "        lg.append(Xa.shape[1])\n",
        "        G.append(score_G)\n",
        "        B.append(score_B)\n",
        "        N.append(score_N)\n",
        "        taux.append(t/100) #taux et longueur du vecteur\n",
        "    return G,B,N,taux,lg\n",
        "\n",
        "\n",
        "def afficherCV(test):\n",
        "    '''Affiche sur la même grille n lignes et 2 colonnes\n",
        "    une liste de comparaison_taux de longueur n>1'''\n",
        "    fig, axs = plt.subplots(len(test),2)\n",
        "    fig.set_figheight(len(test)*3)\n",
        "    fig.set_figwidth(10)\n",
        "    for i in range(len(test)):\n",
        "        G,B,N,taux,lg=test[i]\n",
        "        axs[i,0].plot(taux,G ,'r:', label=\"Gaussien\")\n",
        "        axs[i,0].plot(taux,B,label=\"Bernoulli\")\n",
        "        axs[i,0].plot(taux, N,label=\"Notre modele\")\n",
        "        axs[i,0].set_title(f'epoch {i+1}')\n",
        "        axs[i,0].set_ylabel('score')\n",
        "        axs[i,0].set_xlabel('taux')\n",
        "        axs[i,0].legend(bbox_to_anchor=(-0.1, 1.05))\n",
        "        axs[i,1].plot(taux, lg,label=\"Longueur du vecteur\")\n",
        "        axs[i,1].set_xlabel('taux')\n",
        "        axs[i,1].set_title(f'epoch {i+1}')\n",
        "        axs[i,1].legend()\n",
        "    fig.tight_layout()\n"
      ]
    },
    {
      "cell_type": "code",
      "execution_count": null,
      "metadata": {
        "scrolled": true,
        "id": "lwU1Lm9Pe3rz",
        "outputId": "33e3beff-0dba-45f6-be6b-0f70b935da60"
      },
      "outputs": [
        {
          "data": {
            "image/png": "[encoded data removed]",
            "text/plain": [
              "<Figure size 720x1080 with 10 Axes>"
            ]
          },
          "metadata": {
            "needs_background": "light"
          },
          "output_type": "display_data"
        }
      ],
      "source": [
        "#tendances sur [0.20,0.95] 25 mn\n",
        "test0=[([0.9632850241545894, 0.9632850241545894, 0.9632850241545894, 0.9632850241545894, 0.9632850241545894, 0.9632850241545894, 0.9632850241545894, 0.9632850241545894, 0.9632850241545894, 0.9632850241545894, 0.9632850241545894, 0.9632850241545894, 0.9632850241545894, 0.9632850241545894, 0.9565217391304348, 0.9565217391304348, 0.9565217391304348, 0.9565217391304348, 0.9565217391304348, 0.9565217391304348, 0.9565217391304348, 0.9565217391304348, 0.9565217391304348, 0.9565217391304348, 0.9565217391304348, 0.9565217391304348, 0.9565217391304348, 0.9565217391304348, 0.9565217391304348, 0.9565217391304348, 0.9652173913043478, 0.9487922705314009, 0.9487922705314009, 0.9487922705314009, 0.9487922705314009, 0.9487922705314009, 0.9487922705314009, 0.9487922705314009, 0.9487922705314009, 0.9487922705314009, 0.9603864734299516, 0.9623188405797102, 0.9623188405797102, 0.9623188405797102, 0.9623188405797102, 0.9623188405797102, 0.9623188405797102, 0.9565217391304348, 0.9565217391304348, 0.9565217391304348, 0.9565217391304348, 0.9565217391304348, 0.9536231884057971, 0.9536231884057971, 0.9536231884057971, 0.9545893719806763, 0.9565217391304348, 0.9565217391304348, 0.9545893719806763, 0.9545893719806763, 0.9526570048309179, 0.9516908212560387, 0.9478260869565217, 0.9478260869565217, 0.9449275362318841, 0.9439613526570049, 0.9429951690821256, 0.9420289855072463, 0.9420289855072463, 0.9400966183574879, 0.9391304347826087, 0.9342995169082126, 0.9342995169082126, 0.9256038647342996, 0.9198067632850242, 0.9072463768115943], [0.8599033816425121, 0.8579710144927536, 0.8589371980676328, 0.8579710144927536, 0.8589371980676328, 0.8608695652173913, 0.8608695652173913, 0.8628019323671497, 0.8628019323671497, 0.8628019323671497, 0.8628019323671497, 0.8628019323671497, 0.863768115942029, 0.8628019323671497, 0.9111111111111111, 0.9120772946859903, 0.9130434782608695, 0.9120772946859903, 0.9130434782608695, 0.914975845410628, 0.9159420289855073, 0.9178743961352657, 0.9198067632850242, 0.923671497584541, 0.923671497584541, 0.923671497584541, 0.923671497584541, 0.9246376811594202, 0.927536231884058, 0.9285024154589372, 0.9729468599033816, 0.9719806763285024, 0.9739130434782609, 0.9719806763285024, 0.9729468599033816, 0.9719806763285024, 0.9835748792270531, 0.9864734299516909, 0.9855072463768116, 0.9864734299516909, 0.9719806763285024, 0.9739130434782609, 0.9729468599033816, 0.9719806763285024, 0.9719806763285024, 0.9729468599033816, 0.9710144927536232, 0.961352657004831, 0.9652173913043478, 0.961352657004831, 0.961352657004831, 0.961352657004831, 0.9555555555555556, 0.9555555555555556, 0.9545893719806763, 0.9526570048309179, 0.9526570048309179, 0.9516908212560387, 0.9458937198067633, 0.9449275362318841, 0.9400966183574879, 0.9381642512077295, 0.9371980676328503, 0.9371980676328503, 0.936231884057971, 0.9342995169082126, 0.9342995169082126, 0.9333333333333333, 0.9371980676328503, 0.9304347826086956, 0.9246376811594202, 0.9265700483091788, 0.9256038647342996, 0.9294685990338164, 0.9217391304347826, 0.8995169082125604], [0.8599033816425121, 0.8579710144927536, 0.8589371980676328, 0.8579710144927536, 0.8589371980676328, 0.8608695652173913, 0.8608695652173913, 0.8628019323671497, 0.8628019323671497, 0.8628019323671497, 0.8628019323671497, 0.8628019323671497, 0.863768115942029, 0.8628019323671497, 0.9111111111111111, 0.9120772946859903, 0.9130434782608695, 0.9120772946859903, 0.9130434782608695, 0.914975845410628, 0.9159420289855073, 0.9178743961352657, 0.9198067632850242, 0.923671497584541, 0.923671497584541, 0.923671497584541, 0.923671497584541, 0.9246376811594202, 0.927536231884058, 0.9285024154589372, 0.9729468599033816, 0.9719806763285024, 0.9739130434782609, 0.9719806763285024, 0.9729468599033816, 0.9719806763285024, 0.9835748792270531, 0.9864734299516909, 0.9855072463768116, 0.9864734299516909, 0.9719806763285024, 0.9739130434782609, 0.9729468599033816, 0.9719806763285024, 0.9719806763285024, 0.9729468599033816, 0.9710144927536232, 0.961352657004831, 0.9652173913043478, 0.961352657004831, 0.961352657004831, 0.961352657004831, 0.9555555555555556, 0.9555555555555556, 0.9545893719806763, 0.9526570048309179, 0.9526570048309179, 0.9516908212560387, 0.9458937198067633, 0.9449275362318841, 0.9400966183574879, 0.9381642512077295, 0.9371980676328503, 0.9371980676328503, 0.936231884057971, 0.9342995169082126, 0.9342995169082126, 0.9333333333333333, 0.9371980676328503, 0.9304347826086956, 0.9246376811594202, 0.9265700483091788, 0.9256038647342996, 0.9294685990338164, 0.9217391304347826, 0.8995169082125604], [0.2, 0.21, 0.22, 0.23, 0.24, 0.25, 0.26, 0.27, 0.28, 0.29, 0.3, 0.31, 0.32, 0.33, 0.34, 0.35, 0.36, 0.37, 0.38, 0.39, 0.4, 0.41, 0.42, 0.43, 0.44, 0.45, 0.46, 0.47, 0.48, 0.49, 0.5, 0.51, 0.52, 0.53, 0.54, 0.55, 0.56, 0.57, 0.58, 0.59, 0.6, 0.61, 0.62, 0.63, 0.64, 0.65, 0.66, 0.67, 0.68, 0.69, 0.7, 0.71, 0.72, 0.73, 0.74, 0.75, 0.76, 0.77, 0.78, 0.79, 0.8, 0.81, 0.82, 0.83, 0.84, 0.85, 0.86, 0.87, 0.88, 0.89, 0.9, 0.91, 0.92, 0.93, 0.94, 0.95], [37789, 37451, 37424, 37396, 37347, 37243, 37151, 37127, 37062, 37022, 36991, 36963, 36951, 36939, 12736, 12719, 12703, 12676, 12640, 12590, 12530, 12474, 12443, 12181, 12165, 12131, 12057, 12031, 12005, 11985, 7810, 6214, 6196, 6159, 6111, 6097, 5995, 5967, 5917, 5897, 4385, 3705, 3687, 3654, 3590, 3559, 3540, 2581, 2565, 2541, 2492, 2477, 1930, 1911, 1857, 1708, 1522, 1481, 1259, 1240, 1161, 1063, 926, 912, 819, 752, 697, 632, 571, 494, 445, 362, 325, 256, 209, 148]), ([0.9526570048309179, 0.9526570048309179, 0.9526570048309179, 0.9526570048309179, 0.9526570048309179, 0.9526570048309179, 0.9526570048309179, 0.9526570048309179, 0.9526570048309179, 0.9526570048309179, 0.9526570048309179, 0.9526570048309179, 0.9526570048309179, 0.9526570048309179, 0.9497584541062802, 0.9497584541062802, 0.9497584541062802, 0.9497584541062802, 0.9497584541062802, 0.9497584541062802, 0.9497584541062802, 0.9497584541062802, 0.9497584541062802, 0.9497584541062802, 0.9497584541062802, 0.9497584541062802, 0.9497584541062802, 0.9497584541062802, 0.9497584541062802, 0.9497584541062802, 0.9603864734299516, 0.9342995169082126, 0.9342995169082126, 0.9342995169082126, 0.9342995169082126, 0.9342995169082126, 0.9342995169082126, 0.9342995169082126, 0.9342995169082126, 0.9342995169082126, 0.9516908212560387, 0.966183574879227, 0.966183574879227, 0.9690821256038648, 0.9681159420289855, 0.9681159420289855, 0.9690821256038648, 0.9516908212560387, 0.9516908212560387, 0.9516908212560387, 0.9516908212560387, 0.9516908212560387, 0.9478260869565217, 0.9478260869565217, 0.9478260869565217, 0.9449275362318841, 0.9468599033816425, 0.9468599033816425, 0.9429951690821256, 0.9429951690821256, 0.9429951690821256, 0.9400966183574879, 0.9391304347826087, 0.9400966183574879, 0.9400966183574879, 0.9400966183574879, 0.9410628019323671, 0.9400966183574879, 0.936231884057971, 0.9371980676328503, 0.9381642512077295, 0.9352657004830918, 0.9314009661835749, 0.9256038647342996, 0.9111111111111111, 0.9014492753623189], [0.8367149758454107, 0.8367149758454107, 0.8357487922705314, 0.8367149758454107, 0.8376811594202899, 0.8367149758454107, 0.8367149758454107, 0.8386473429951691, 0.8386473429951691, 0.8376811594202899, 0.8376811594202899, 0.8396135265700483, 0.8396135265700483, 0.8396135265700483, 0.9111111111111111, 0.9111111111111111, 0.9120772946859903, 0.9120772946859903, 0.9130434782608695, 0.9120772946859903, 0.9130434782608695, 0.914975845410628, 0.9169082125603865, 0.9188405797101449, 0.9178743961352657, 0.914975845410628, 0.9169082125603865, 0.9169082125603865, 0.9178743961352657, 0.9207729468599034, 0.9768115942028985, 0.9671497584541063, 0.9768115942028985, 0.9632850241545894, 0.9768115942028985, 0.9768115942028985, 0.9797101449275363, 0.9797101449275363, 0.9806763285024155, 0.9806763285024155, 0.9710144927536232, 0.9719806763285024, 0.9729468599033816, 0.9729468599033816, 0.9719806763285024, 0.9719806763285024, 0.9729468599033816, 0.9623188405797102, 0.9584541062801932, 0.957487922705314, 0.957487922705314, 0.957487922705314, 0.9545893719806763, 0.9555555555555556, 0.9545893719806763, 0.9420289855072463, 0.9429951690821256, 0.9391304347826087, 0.9381642512077295, 0.9371980676328503, 0.9314009661835749, 0.9352657004830918, 0.9342995169082126, 0.9342995169082126, 0.9342995169082126, 0.9323671497584541, 0.9314009661835749, 0.9294685990338164, 0.9304347826086956, 0.9285024154589372, 0.9265700483091788, 0.9285024154589372, 0.9246376811594202, 0.9314009661835749, 0.9198067632850242, 0.9043478260869565], [0.8367149758454107, 0.8367149758454107, 0.8357487922705314, 0.8367149758454107, 0.8376811594202899, 0.8367149758454107, 0.8367149758454107, 0.8386473429951691, 0.8386473429951691, 0.8376811594202899, 0.8376811594202899, 0.8396135265700483, 0.8396135265700483, 0.8396135265700483, 0.9111111111111111, 0.9111111111111111, 0.9120772946859903, 0.9120772946859903, 0.9130434782608695, 0.9120772946859903, 0.9130434782608695, 0.914975845410628, 0.9169082125603865, 0.9188405797101449, 0.9178743961352657, 0.914975845410628, 0.9169082125603865, 0.9169082125603865, 0.9178743961352657, 0.9207729468599034, 0.9768115942028985, 0.9671497584541063, 0.9768115942028985, 0.9632850241545894, 0.9768115942028985, 0.9768115942028985, 0.9797101449275363, 0.9797101449275363, 0.9806763285024155, 0.9806763285024155, 0.9710144927536232, 0.9719806763285024, 0.9729468599033816, 0.9729468599033816, 0.9719806763285024, 0.9719806763285024, 0.9729468599033816, 0.9623188405797102, 0.9584541062801932, 0.957487922705314, 0.957487922705314, 0.957487922705314, 0.9545893719806763, 0.9555555555555556, 0.9545893719806763, 0.9420289855072463, 0.9429951690821256, 0.9391304347826087, 0.9381642512077295, 0.9371980676328503, 0.9314009661835749, 0.9352657004830918, 0.9342995169082126, 0.9342995169082126, 0.9342995169082126, 0.9323671497584541, 0.9314009661835749, 0.9294685990338164, 0.9304347826086956, 0.9285024154589372, 0.9265700483091788, 0.9285024154589372, 0.9246376811594202, 0.9314009661835749, 0.9198067632850242, 0.9043478260869565], [0.2, 0.21, 0.22, 0.23, 0.24, 0.25, 0.26, 0.27, 0.28, 0.29, 0.3, 0.31, 0.32, 0.33, 0.34, 0.35, 0.36, 0.37, 0.38, 0.39, 0.4, 0.41, 0.42, 0.43, 0.44, 0.45, 0.46, 0.47, 0.48, 0.49, 0.5, 0.51, 0.52, 0.53, 0.54, 0.55, 0.56, 0.57, 0.58, 0.59, 0.6, 0.61, 0.62, 0.63, 0.64, 0.65, 0.66, 0.67, 0.68, 0.69, 0.7, 0.71, 0.72, 0.73, 0.74, 0.75, 0.76, 0.77, 0.78, 0.79, 0.8, 0.81, 0.82, 0.83, 0.84, 0.85, 0.86, 0.87, 0.88, 0.89, 0.9, 0.91, 0.92, 0.93, 0.94, 0.95], [38188, 37843, 37819, 37794, 37737, 37649, 37565, 37536, 37479, 37429, 37404, 37381, 37372, 37363, 13102, 13087, 13070, 13043, 13009, 12964, 12919, 12859, 12829, 12581, 12570, 12547, 12476, 12434, 12403, 12382, 8088, 6395, 6377, 6348, 6280, 6264, 6167, 6142, 6086, 6068, 4496, 3798, 3766, 3738, 3667, 3644, 3616, 2587, 2573, 2552, 2506, 2482, 1938, 1917, 1879, 1703, 1536, 1496, 1276, 1258, 1198, 1092, 962, 938, 859, 777, 702, 641, 576, 499, 448, 375, 333, 261, 198, 149]), ([0.9710144927536232, 0.9710144927536232, 0.9710144927536232, 0.9710144927536232, 0.9710144927536232, 0.9710144927536232, 0.9710144927536232, 0.9710144927536232, 0.9710144927536232, 0.9710144927536232, 0.9710144927536232, 0.9710144927536232, 0.9710144927536232, 0.9710144927536232, 0.9584541062801932, 0.9584541062801932, 0.9584541062801932, 0.9584541062801932, 0.9584541062801932, 0.9584541062801932, 0.9584541062801932, 0.9584541062801932, 0.9584541062801932, 0.9584541062801932, 0.9584541062801932, 0.9584541062801932, 0.9584541062801932, 0.9584541062801932, 0.9584541062801932, 0.9584541062801932, 0.961352657004831, 0.9458937198067633, 0.9458937198067633, 0.9458937198067633, 0.9458937198067633, 0.9458937198067633, 0.9458937198067633, 0.9458937198067633, 0.9458937198067633, 0.9458937198067633, 0.9652173913043478, 0.9652173913043478, 0.9652173913043478, 0.9652173913043478, 0.9652173913043478, 0.9652173913043478, 0.9652173913043478, 0.966183574879227, 0.966183574879227, 0.966183574879227, 0.966183574879227, 0.966183574879227, 0.9603864734299516, 0.9603864734299516, 0.9603864734299516, 0.9565217391304348, 0.9584541062801932, 0.9584541062801932, 0.9594202898550724, 0.9594202898550724, 0.9565217391304348, 0.9565217391304348, 0.9565217391304348, 0.9565217391304348, 0.9545893719806763, 0.9526570048309179, 0.9497584541062802, 0.9487922705314009, 0.9478260869565217, 0.9439613526570049, 0.9429951690821256, 0.9381642512077295, 0.9333333333333333, 0.9314009661835749, 0.9198067632850242, 0.9101449275362319], [0.8483091787439614, 0.8473429951690822, 0.8454106280193237, 0.8473429951690822, 0.8483091787439614, 0.8483091787439614, 0.8492753623188406, 0.8492753623188406, 0.8463768115942029, 0.8502415458937198, 0.851207729468599, 0.8483091787439614, 0.8463768115942029, 0.8463768115942029, 0.9256038647342996, 0.927536231884058, 0.9265700483091788, 0.9265700483091788, 0.927536231884058, 0.9314009661835749, 0.9323671497584541, 0.9333333333333333, 0.9323671497584541, 0.9304347826086956, 0.9333333333333333, 0.9342995169082126, 0.936231884057971, 0.9381642512077295, 0.9371980676328503, 0.936231884057971, 0.9826086956521739, 0.9826086956521739, 0.9845410628019323, 0.9845410628019323, 0.9855072463768116, 0.9855072463768116, 0.9826086956521739, 0.9835748792270531, 0.9816425120772947, 0.9797101449275363, 0.9623188405797102, 0.9632850241545894, 0.9632850241545894, 0.9632850241545894, 0.9632850241545894, 0.9642512077294686, 0.9642512077294686, 0.9584541062801932, 0.9594202898550724, 0.961352657004831, 0.9623188405797102, 0.961352657004831, 0.9545893719806763, 0.9545893719806763, 0.9536231884057971, 0.9468599033816425, 0.9487922705314009, 0.9487922705314009, 0.9458937198067633, 0.9439613526570049, 0.9410628019323671, 0.9410628019323671, 0.9352657004830918, 0.9342995169082126, 0.9323671497584541, 0.9323671497584541, 0.9314009661835749, 0.9333333333333333, 0.9304347826086956, 0.9256038647342996, 0.9198067632850242, 0.9227053140096618, 0.9207729468599034, 0.914975845410628, 0.9159420289855073, 0.9082125603864735], [0.8483091787439614, 0.8473429951690822, 0.8454106280193237, 0.8473429951690822, 0.8483091787439614, 0.8483091787439614, 0.8492753623188406, 0.8492753623188406, 0.8463768115942029, 0.8502415458937198, 0.851207729468599, 0.8483091787439614, 0.8463768115942029, 0.8463768115942029, 0.9256038647342996, 0.927536231884058, 0.9265700483091788, 0.9265700483091788, 0.927536231884058, 0.9314009661835749, 0.9323671497584541, 0.9333333333333333, 0.9323671497584541, 0.9304347826086956, 0.9333333333333333, 0.9342995169082126, 0.936231884057971, 0.9381642512077295, 0.9371980676328503, 0.936231884057971, 0.9826086956521739, 0.9826086956521739, 0.9845410628019323, 0.9845410628019323, 0.9855072463768116, 0.9855072463768116, 0.9826086956521739, 0.9835748792270531, 0.9816425120772947, 0.9797101449275363, 0.9623188405797102, 0.9632850241545894, 0.9632850241545894, 0.9632850241545894, 0.9632850241545894, 0.9642512077294686, 0.9642512077294686, 0.9584541062801932, 0.9594202898550724, 0.961352657004831, 0.9623188405797102, 0.961352657004831, 0.9545893719806763, 0.9545893719806763, 0.9536231884057971, 0.9468599033816425, 0.9487922705314009, 0.9487922705314009, 0.9458937198067633, 0.9439613526570049, 0.9410628019323671, 0.9410628019323671, 0.9352657004830918, 0.9342995169082126, 0.9323671497584541, 0.9323671497584541, 0.9314009661835749, 0.9333333333333333, 0.9304347826086956, 0.9256038647342996, 0.9198067632850242, 0.9227053140096618, 0.9207729468599034, 0.914975845410628, 0.9159420289855073, 0.9082125603864735], [0.2, 0.21, 0.22, 0.23, 0.24, 0.25, 0.26, 0.27, 0.28, 0.29, 0.3, 0.31, 0.32, 0.33, 0.34, 0.35, 0.36, 0.37, 0.38, 0.39, 0.4, 0.41, 0.42, 0.43, 0.44, 0.45, 0.46, 0.47, 0.48, 0.49, 0.5, 0.51, 0.52, 0.53, 0.54, 0.55, 0.56, 0.57, 0.58, 0.59, 0.6, 0.61, 0.62, 0.63, 0.64, 0.65, 0.66, 0.67, 0.68, 0.69, 0.7, 0.71, 0.72, 0.73, 0.74, 0.75, 0.76, 0.77, 0.78, 0.79, 0.8, 0.81, 0.82, 0.83, 0.84, 0.85, 0.86, 0.87, 0.88, 0.89, 0.9, 0.91, 0.92, 0.93, 0.94, 0.95], [37623, 37279, 37267, 37231, 37170, 37087, 36979, 36964, 36893, 36853, 36823, 36792, 36781, 36771, 12493, 12478, 12467, 12442, 12402, 12356, 12315, 12243, 12219, 11945, 11931, 11896, 11826, 11788, 11756, 11737, 7676, 6043, 6026, 5989, 5928, 5912, 5809, 5790, 5743, 5724, 4307, 3623, 3596, 3572, 3501, 3475, 3450, 2511, 2501, 2480, 2431, 2404, 1904, 1871, 1831, 1673, 1527, 1490, 1267, 1243, 1178, 1053, 932, 905, 832, 771, 694, 622, 574, 498, 447, 375, 331, 264, 193, 149]), ([0.9545893719806763, 0.9545893719806763, 0.9545893719806763, 0.9545893719806763, 0.9545893719806763, 0.9545893719806763, 0.9545893719806763, 0.9545893719806763, 0.9545893719806763, 0.9545893719806763, 0.9545893719806763, 0.9545893719806763, 0.9545893719806763, 0.9545893719806763, 0.957487922705314, 0.957487922705314, 0.957487922705314, 0.957487922705314, 0.957487922705314, 0.957487922705314, 0.957487922705314, 0.957487922705314, 0.957487922705314, 0.957487922705314, 0.957487922705314, 0.957487922705314, 0.957487922705314, 0.957487922705314, 0.957487922705314, 0.957487922705314, 0.9603864734299516, 0.9439613526570049, 0.9439613526570049, 0.9439613526570049, 0.9439613526570049, 0.9439613526570049, 0.9439613526570049, 0.9439613526570049, 0.9439613526570049, 0.9439613526570049, 0.9545893719806763, 0.9545893719806763, 0.9545893719806763, 0.9545893719806763, 0.9545893719806763, 0.9545893719806763, 0.9739130434782609, 0.9487922705314009, 0.9487922705314009, 0.9487922705314009, 0.9487922705314009, 0.9487922705314009, 0.9507246376811594, 0.9507246376811594, 0.9507246376811594, 0.9507246376811594, 0.9497584541062802, 0.9497584541062802, 0.9449275362318841, 0.9449275362318841, 0.9449275362318841, 0.9420289855072463, 0.9400966183574879, 0.9400966183574879, 0.9333333333333333, 0.9333333333333333, 0.9323671497584541, 0.9323671497584541, 0.9323671497584541, 0.9314009661835749, 0.9323671497584541, 0.9294685990338164, 0.9227053140096618, 0.9256038647342996, 0.9178743961352657, 0.9004830917874396], [0.8241545893719807, 0.8222222222222222, 0.8222222222222222, 0.8222222222222222, 0.8231884057971014, 0.8222222222222222, 0.8231884057971014, 0.8231884057971014, 0.8222222222222222, 0.8222222222222222, 0.8222222222222222, 0.821256038647343, 0.8222222222222222, 0.8222222222222222, 0.9082125603864735, 0.9082125603864735, 0.9091787439613527, 0.9091787439613527, 0.9101449275362319, 0.9091787439613527, 0.9082125603864735, 0.9101449275362319, 0.9111111111111111, 0.9043478260869565, 0.9062801932367149, 0.9062801932367149, 0.9091787439613527, 0.9120772946859903, 0.9101449275362319, 0.9111111111111111, 0.9681159420289855, 0.970048309178744, 0.9690821256038648, 0.9681159420289855, 0.9681159420289855, 0.9681159420289855, 0.9671497584541063, 0.9671497584541063, 0.9652173913043478, 0.966183574879227, 0.9710144927536232, 0.970048309178744, 0.9719806763285024, 0.9719806763285024, 0.970048309178744, 0.9690821256038648, 0.9710144927536232, 0.9632850241545894, 0.9623188405797102, 0.9623188405797102, 0.9584541062801932, 0.9603864734299516, 0.9458937198067633, 0.9458937198067633, 0.9468599033816425, 0.9420289855072463, 0.9429951690821256, 0.9400966183574879, 0.9352657004830918, 0.9381642512077295, 0.9294685990338164, 0.9323671497584541, 0.9314009661835749, 0.9294685990338164, 0.923671497584541, 0.9227053140096618, 0.923671497584541, 0.9217391304347826, 0.9227053140096618, 0.9198067632850242, 0.9159420289855073, 0.9207729468599034, 0.9207729468599034, 0.927536231884058, 0.9256038647342996, 0.9024154589371981], [0.8241545893719807, 0.8222222222222222, 0.8222222222222222, 0.8222222222222222, 0.8231884057971014, 0.8222222222222222, 0.8231884057971014, 0.8231884057971014, 0.8222222222222222, 0.8222222222222222, 0.8222222222222222, 0.821256038647343, 0.8222222222222222, 0.8222222222222222, 0.9082125603864735, 0.9082125603864735, 0.9091787439613527, 0.9091787439613527, 0.9101449275362319, 0.9091787439613527, 0.9082125603864735, 0.9101449275362319, 0.9111111111111111, 0.9043478260869565, 0.9062801932367149, 0.9062801932367149, 0.9091787439613527, 0.9120772946859903, 0.9101449275362319, 0.9111111111111111, 0.9681159420289855, 0.970048309178744, 0.9690821256038648, 0.9681159420289855, 0.9681159420289855, 0.9681159420289855, 0.9671497584541063, 0.9671497584541063, 0.9652173913043478, 0.966183574879227, 0.9710144927536232, 0.970048309178744, 0.9719806763285024, 0.9719806763285024, 0.970048309178744, 0.9690821256038648, 0.9710144927536232, 0.9632850241545894, 0.9623188405797102, 0.9623188405797102, 0.9584541062801932, 0.9603864734299516, 0.9458937198067633, 0.9458937198067633, 0.9468599033816425, 0.9420289855072463, 0.9429951690821256, 0.9400966183574879, 0.9352657004830918, 0.9381642512077295, 0.9294685990338164, 0.9323671497584541, 0.9314009661835749, 0.9294685990338164, 0.923671497584541, 0.9227053140096618, 0.923671497584541, 0.9217391304347826, 0.9227053140096618, 0.9198067632850242, 0.9159420289855073, 0.9207729468599034, 0.9207729468599034, 0.927536231884058, 0.9256038647342996, 0.9024154589371981], [0.2, 0.21, 0.22, 0.23, 0.24, 0.25, 0.26, 0.27, 0.28, 0.29, 0.3, 0.31, 0.32, 0.33, 0.34, 0.35, 0.36, 0.37, 0.38, 0.39, 0.4, 0.41, 0.42, 0.43, 0.44, 0.45, 0.46, 0.47, 0.48, 0.49, 0.5, 0.51, 0.52, 0.53, 0.54, 0.55, 0.56, 0.57, 0.58, 0.59, 0.6, 0.61, 0.62, 0.63, 0.64, 0.65, 0.66, 0.67, 0.68, 0.69, 0.7, 0.71, 0.72, 0.73, 0.74, 0.75, 0.76, 0.77, 0.78, 0.79, 0.8, 0.81, 0.82, 0.83, 0.84, 0.85, 0.86, 0.87, 0.88, 0.89, 0.9, 0.91, 0.92, 0.93, 0.94, 0.95], [38145, 37762, 37738, 37717, 37669, 37592, 37511, 37496, 37426, 37381, 37350, 37323, 37305, 37292, 13007, 13000, 12977, 12944, 12911, 12874, 12837, 12776, 12742, 12495, 12481, 12450, 12383, 12344, 12319, 12298, 8015, 6388, 6368, 6325, 6290, 6269, 6151, 6130, 6081, 6052, 4521, 3860, 3830, 3799, 3738, 3713, 3690, 2599, 2584, 2555, 2507, 2489, 1942, 1919, 1884, 1710, 1541, 1509, 1295, 1264, 1185, 1089, 972, 954, 863, 784, 707, 648, 593, 510, 461, 380, 333, 281, 221, 153]), ([0.9536231884057971, 0.9536231884057971, 0.9536231884057971, 0.9536231884057971, 0.9536231884057971, 0.9536231884057971, 0.9536231884057971, 0.9536231884057971, 0.9536231884057971, 0.9536231884057971, 0.9536231884057971, 0.9536231884057971, 0.9536231884057971, 0.9536231884057971, 0.9478260869565217, 0.9478260869565217, 0.9478260869565217, 0.9478260869565217, 0.9478260869565217, 0.9478260869565217, 0.9478260869565217, 0.9478260869565217, 0.9478260869565217, 0.9478260869565217, 0.9478260869565217, 0.9478260869565217, 0.9478260869565217, 0.9478260869565217, 0.9478260869565217, 0.9478260869565217, 0.970048309178744, 0.9439613526570049, 0.9439613526570049, 0.9439613526570049, 0.9439613526570049, 0.9439613526570049, 0.9439613526570049, 0.9439613526570049, 0.9439613526570049, 0.9439613526570049, 0.9671497584541063, 0.970048309178744, 0.970048309178744, 0.970048309178744, 0.970048309178744, 0.970048309178744, 0.970048309178744, 0.957487922705314, 0.957487922705314, 0.957487922705314, 0.957487922705314, 0.957487922705314, 0.9545893719806763, 0.9545893719806763, 0.9545893719806763, 0.9526570048309179, 0.9536231884057971, 0.9536231884057971, 0.9507246376811594, 0.9507246376811594, 0.9487922705314009, 0.9449275362318841, 0.9439613526570049, 0.9439613526570049, 0.9439613526570049, 0.9439613526570049, 0.9391304347826087, 0.9371980676328503, 0.936231884057971, 0.936231884057971, 0.9304347826086956, 0.9265700483091788, 0.927536231884058, 0.9217391304347826, 0.9227053140096618, 0.9111111111111111], [0.821256038647343, 0.8202898550724638, 0.8202898550724638, 0.8202898550724638, 0.8202898550724638, 0.8222222222222222, 0.8260869565217391, 0.8260869565217391, 0.8231884057971014, 0.8241545893719807, 0.8251207729468599, 0.8251207729468599, 0.8260869565217391, 0.8260869565217391, 0.9091787439613527, 0.9091787439613527, 0.9091787439613527, 0.9082125603864735, 0.9091787439613527, 0.9140096618357488, 0.914975845410628, 0.914975845410628, 0.914975845410628, 0.9159420289855073, 0.9159420289855073, 0.9169082125603865, 0.9188405797101449, 0.9198067632850242, 0.9207729468599034, 0.9207729468599034, 0.9806763285024155, 0.9816425120772947, 0.9826086956521739, 0.9816425120772947, 0.9806763285024155, 0.978743961352657, 0.9816425120772947, 0.9797101449275363, 0.978743961352657, 0.9797101449275363, 0.970048309178744, 0.9729468599033816, 0.9729468599033816, 0.9729468599033816, 0.9729468599033816, 0.9719806763285024, 0.9729468599033816, 0.9642512077294686, 0.966183574879227, 0.9632850241545894, 0.9594202898550724, 0.9623188405797102, 0.9565217391304348, 0.9565217391304348, 0.9565217391304348, 0.9555555555555556, 0.9526570048309179, 0.9497584541062802, 0.9458937198067633, 0.9468599033816425, 0.9400966183574879, 0.9400966183574879, 0.9381642512077295, 0.9381642512077295, 0.9371980676328503, 0.9381642512077295, 0.9342995169082126, 0.9391304347826087, 0.9391304347826087, 0.9342995169082126, 0.936231884057971, 0.9352657004830918, 0.9352657004830918, 0.9342995169082126, 0.9342995169082126, 0.9217391304347826], [0.821256038647343, 0.8202898550724638, 0.8202898550724638, 0.8202898550724638, 0.8202898550724638, 0.8222222222222222, 0.8260869565217391, 0.8260869565217391, 0.8231884057971014, 0.8241545893719807, 0.8251207729468599, 0.8251207729468599, 0.8260869565217391, 0.8260869565217391, 0.9091787439613527, 0.9091787439613527, 0.9091787439613527, 0.9082125603864735, 0.9091787439613527, 0.9140096618357488, 0.914975845410628, 0.914975845410628, 0.914975845410628, 0.9159420289855073, 0.9159420289855073, 0.9169082125603865, 0.9188405797101449, 0.9198067632850242, 0.9207729468599034, 0.9207729468599034, 0.9806763285024155, 0.9816425120772947, 0.9826086956521739, 0.9816425120772947, 0.9806763285024155, 0.978743961352657, 0.9816425120772947, 0.9797101449275363, 0.978743961352657, 0.9797101449275363, 0.970048309178744, 0.9729468599033816, 0.9729468599033816, 0.9729468599033816, 0.9729468599033816, 0.9719806763285024, 0.9729468599033816, 0.9642512077294686, 0.966183574879227, 0.9632850241545894, 0.9594202898550724, 0.9623188405797102, 0.9565217391304348, 0.9565217391304348, 0.9565217391304348, 0.9555555555555556, 0.9526570048309179, 0.9497584541062802, 0.9458937198067633, 0.9468599033816425, 0.9400966183574879, 0.9400966183574879, 0.9381642512077295, 0.9381642512077295, 0.9371980676328503, 0.9381642512077295, 0.9342995169082126, 0.9391304347826087, 0.9391304347826087, 0.9342995169082126, 0.936231884057971, 0.9352657004830918, 0.9352657004830918, 0.9342995169082126, 0.9342995169082126, 0.9217391304347826], [0.2, 0.21, 0.22, 0.23, 0.24, 0.25, 0.26, 0.27, 0.28, 0.29, 0.3, 0.31, 0.32, 0.33, 0.34, 0.35, 0.36, 0.37, 0.38, 0.39, 0.4, 0.41, 0.42, 0.43, 0.44, 0.45, 0.46, 0.47, 0.48, 0.49, 0.5, 0.51, 0.52, 0.53, 0.54, 0.55, 0.56, 0.57, 0.58, 0.59, 0.6, 0.61, 0.62, 0.63, 0.64, 0.65, 0.66, 0.67, 0.68, 0.69, 0.7, 0.71, 0.72, 0.73, 0.74, 0.75, 0.76, 0.77, 0.78, 0.79, 0.8, 0.81, 0.82, 0.83, 0.84, 0.85, 0.86, 0.87, 0.88, 0.89, 0.9, 0.91, 0.92, 0.93, 0.94, 0.95], [37725, 37340, 37317, 37298, 37238, 37163, 37062, 37039, 36972, 36919, 36893, 36879, 36858, 36850, 11891, 11880, 11865, 11833, 11804, 11760, 11713, 11656, 11628, 11375, 11352, 11326, 11255, 11217, 11185, 11160, 7561, 5895, 5883, 5852, 5807, 5786, 5669, 5646, 5602, 5577, 4337, 3614, 3588, 3556, 3492, 3459, 3442, 2538, 2524, 2501, 2452, 2425, 1945, 1918, 1884, 1730, 1560, 1518, 1317, 1285, 1220, 1101, 958, 940, 849, 779, 707, 646, 596, 512, 460, 390, 353, 283, 232, 162])]\n",
        "#tendances sur [0.45,0.65] 5mn\n",
        "test1=[([0.9497584541062802, 0.9497584541062802, 0.9497584541062802, 0.9497584541062802, 0.9497584541062802, 0.9623188405797102, 0.9400966183574879, 0.9400966183574879, 0.9400966183574879, 0.9400966183574879, 0.9400966183574879, 0.9400966183574879, 0.9400966183574879, 0.9400966183574879, 0.9400966183574879, 0.9516908212560387, 0.9632850241545894, 0.9632850241545894, 0.9623188405797102, 0.9729468599033816, 0.9739130434782609], [0.9246376811594202, 0.9246376811594202, 0.9227053140096618, 0.923671497584541, 0.9256038647342996, 0.9690821256038648, 0.970048309178744, 0.9690821256038648, 0.970048309178744, 0.9690821256038648, 0.9690821256038648, 0.9681159420289855, 0.966183574879227, 0.9652173913043478, 0.9642512077294686, 0.9681159420289855, 0.9719806763285024, 0.9690821256038648, 0.9681159420289855, 0.9681159420289855, 0.9671497584541063], [0.9246376811594202, 0.9246376811594202, 0.9227053140096618, 0.923671497584541, 0.9256038647342996, 0.9690821256038648, 0.970048309178744, 0.9690821256038648, 0.970048309178744, 0.9690821256038648, 0.9690821256038648, 0.9681159420289855, 0.966183574879227, 0.9652173913043478, 0.9642512077294686, 0.9681159420289855, 0.9719806763285024, 0.9690821256038648, 0.9681159420289855, 0.9681159420289855, 0.9671497584541063], [0.45, 0.46, 0.47, 0.48, 0.49, 0.5, 0.51, 0.52, 0.53, 0.54, 0.55, 0.56, 0.57, 0.58, 0.59, 0.6, 0.61, 0.62, 0.63, 0.64, 0.65], [12220, 12148, 12114, 12093, 12076, 7990, 6339, 6322, 6279, 6241, 6215, 6092, 6076, 6018, 5995, 4370, 3710, 3686, 3657, 3593, 3568]), ([0.9516908212560387, 0.9516908212560387, 0.9516908212560387, 0.9516908212560387, 0.9516908212560387, 0.957487922705314, 0.9314009661835749, 0.9314009661835749, 0.9314009661835749, 0.9314009661835749, 0.9314009661835749, 0.9314009661835749, 0.9314009661835749, 0.9314009661835749, 0.9314009661835749, 0.957487922705314, 0.957487922705314, 0.957487922705314, 0.957487922705314, 0.957487922705314, 0.957487922705314], [0.9188405797101449, 0.9207729468599034, 0.9207729468599034, 0.9188405797101449, 0.9207729468599034, 0.9797101449275363, 0.9777777777777777, 0.9777777777777777, 0.978743961352657, 0.9797101449275363, 0.9816425120772947, 0.9816425120772947, 0.9835748792270531, 0.9845410628019323, 0.9835748792270531, 0.9768115942028985, 0.9768115942028985, 0.9748792270531401, 0.9758454106280193, 0.9739130434782609, 0.9739130434782609], [0.9188405797101449, 0.9207729468599034, 0.9207729468599034, 0.9188405797101449, 0.9207729468599034, 0.9797101449275363, 0.9777777777777777, 0.9777777777777777, 0.978743961352657, 0.9797101449275363, 0.9816425120772947, 0.9816425120772947, 0.9835748792270531, 0.9845410628019323, 0.9835748792270531, 0.9768115942028985, 0.9768115942028985, 0.9748792270531401, 0.9758454106280193, 0.9739130434782609, 0.9739130434782609], [0.45, 0.46, 0.47, 0.48, 0.49, 0.5, 0.51, 0.52, 0.53, 0.54, 0.55, 0.56, 0.57, 0.58, 0.59, 0.6, 0.61, 0.62, 0.63, 0.64, 0.65], [11741, 11679, 11644, 11620, 11594, 7702, 6140, 6133, 6098, 6060, 6027, 5923, 5897, 5843, 5825, 4443, 3754, 3720, 3690, 3618, 3587]), ([0.9555555555555556, 0.9555555555555556, 0.9555555555555556, 0.9555555555555556, 0.9555555555555556, 0.9642512077294686, 0.9439613526570049, 0.9439613526570049, 0.9439613526570049, 0.9439613526570049, 0.9439613526570049, 0.9439613526570049, 0.9439613526570049, 0.9439613526570049, 0.9439613526570049, 0.961352657004831, 0.9623188405797102, 0.9623188405797102, 0.9623188405797102, 0.9623188405797102, 0.9623188405797102], [0.923671497584541, 0.923671497584541, 0.9256038647342996, 0.9246376811594202, 0.9256038647342996, 0.9739130434782609, 0.9719806763285024, 0.9719806763285024, 0.9690821256038648, 0.9671497584541063, 0.9671497584541063, 0.9710144927536232, 0.9710144927536232, 0.9719806763285024, 0.9719806763285024, 0.9777777777777777, 0.9797101449275363, 0.9797101449275363, 0.9806763285024155, 0.9806763285024155, 0.9806763285024155], [0.923671497584541, 0.923671497584541, 0.9256038647342996, 0.9246376811594202, 0.9256038647342996, 0.9739130434782609, 0.9719806763285024, 0.9719806763285024, 0.9690821256038648, 0.9671497584541063, 0.9671497584541063, 0.9710144927536232, 0.9710144927536232, 0.9719806763285024, 0.9719806763285024, 0.9777777777777777, 0.9797101449275363, 0.9797101449275363, 0.9806763285024155, 0.9806763285024155, 0.9806763285024155], [0.45, 0.46, 0.47, 0.48, 0.49, 0.5, 0.51, 0.52, 0.53, 0.54, 0.55, 0.56, 0.57, 0.58, 0.59, 0.6, 0.61, 0.62, 0.63, 0.64, 0.65], [11764, 11691, 11654, 11629, 11617, 7713, 6060, 6027, 5991, 5945, 5926, 5808, 5793, 5742, 5721, 4339, 3665, 3641, 3617, 3544, 3512]), ([0.9487922705314009, 0.9487922705314009, 0.9487922705314009, 0.9487922705314009, 0.9487922705314009, 0.9584541062801932, 0.9429951690821256, 0.9429951690821256, 0.9429951690821256, 0.9429951690821256, 0.9429951690821256, 0.9429951690821256, 0.9429951690821256, 0.9429951690821256, 0.9429951690821256, 0.9536231884057971, 0.9526570048309179, 0.9526570048309179, 0.9526570048309179, 0.9507246376811594, 0.9516908212560387], [0.9246376811594202, 0.9256038647342996, 0.9256038647342996, 0.9256038647342996, 0.923671497584541, 0.9671497584541063, 0.9652173913043478, 0.9642512077294686, 0.9652173913043478, 0.9681159420289855, 0.9652173913043478, 0.9642512077294686, 0.9642512077294686, 0.9623188405797102, 0.9642512077294686, 0.9652173913043478, 0.9681159420289855, 0.9642512077294686, 0.9632850241545894, 0.9632850241545894, 0.9632850241545894], [0.9246376811594202, 0.9256038647342996, 0.9256038647342996, 0.9256038647342996, 0.923671497584541, 0.9671497584541063, 0.9652173913043478, 0.9642512077294686, 0.9652173913043478, 0.9681159420289855, 0.9652173913043478, 0.9642512077294686, 0.9642512077294686, 0.9623188405797102, 0.9642512077294686, 0.9652173913043478, 0.9681159420289855, 0.9642512077294686, 0.9632850241545894, 0.9632850241545894, 0.9632850241545894], [0.45, 0.46, 0.47, 0.48, 0.49, 0.5, 0.51, 0.52, 0.53, 0.54, 0.55, 0.56, 0.57, 0.58, 0.59, 0.6, 0.61, 0.62, 0.63, 0.64, 0.65], [12115, 12035, 12005, 11972, 11953, 7849, 6243, 6232, 6193, 6146, 6125, 6008, 5985, 5941, 5918, 4467, 3753, 3727, 3698, 3639, 3619]), ([0.9555555555555556, 0.9555555555555556, 0.9555555555555556, 0.9555555555555556, 0.9555555555555556, 0.9632850241545894, 0.9439613526570049, 0.9439613526570049, 0.9439613526570049, 0.9439613526570049, 0.9439613526570049, 0.9439613526570049, 0.9439613526570049, 0.9439613526570049, 0.9439613526570049, 0.961352657004831, 0.9758454106280193, 0.9758454106280193, 0.9758454106280193, 0.9758454106280193, 0.9758454106280193], [0.9178743961352657, 0.9169082125603865, 0.9188405797101449, 0.9198067632850242, 0.923671497584541, 0.9729468599033816, 0.9719806763285024, 0.9710144927536232, 0.970048309178744, 0.9690821256038648, 0.9690821256038648, 0.9690821256038648, 0.9864734299516909, 0.9855072463768116, 0.9855072463768116, 0.9710144927536232, 0.9739130434782609, 0.9729468599033816, 0.9719806763285024, 0.970048309178744, 0.970048309178744], [0.9178743961352657, 0.9169082125603865, 0.9188405797101449, 0.9198067632850242, 0.923671497584541, 0.9729468599033816, 0.9719806763285024, 0.9710144927536232, 0.970048309178744, 0.9690821256038648, 0.9690821256038648, 0.9690821256038648, 0.9864734299516909, 0.9855072463768116, 0.9855072463768116, 0.9710144927536232, 0.9739130434782609, 0.9729468599033816, 0.9719806763285024, 0.970048309178744, 0.970048309178744], [0.45, 0.46, 0.47, 0.48, 0.49, 0.5, 0.51, 0.52, 0.53, 0.54, 0.55, 0.56, 0.57, 0.58, 0.59, 0.6, 0.61, 0.62, 0.63, 0.64, 0.65], [12309, 12218, 12185, 12155, 12130, 7904, 6268, 6252, 6212, 6161, 6145, 6031, 5998, 5955, 5934, 4433, 3774, 3753, 3726, 3650, 3624])]\n",
        "#tendances sur [0.49,0.70] 5mn\n",
        "test2=[([0.9516908212560387, 0.9594202898550724, 0.9381642512077295, 0.9381642512077295, 0.9381642512077295, 0.9381642512077295, 0.9381642512077295, 0.9381642512077295, 0.9381642512077295, 0.9381642512077295, 0.9381642512077295, 0.9536231884057971, 0.9584541062801932, 0.9584541062801932, 0.9584541062801932, 0.957487922705314, 0.957487922705314, 0.957487922705314, 0.9536231884057971, 0.9536231884057971, 0.9536231884057971, 0.9536231884057971], [0.9198067632850242, 0.970048309178744, 0.970048309178744, 0.970048309178744, 0.966183574879227, 0.9652173913043478, 0.9671497584541063, 0.9652173913043478, 0.966183574879227, 0.9652173913043478, 0.9652173913043478, 0.9719806763285024, 0.9710144927536232, 0.9710144927536232, 0.970048309178744, 0.9690821256038648, 0.9690821256038648, 0.9681159420289855, 0.966183574879227, 0.9681159420289855, 0.9671497584541063, 0.9671497584541063], [0.9198067632850242, 0.970048309178744, 0.970048309178744, 0.970048309178744, 0.966183574879227, 0.9652173913043478, 0.9671497584541063, 0.9652173913043478, 0.966183574879227, 0.9652173913043478, 0.9652173913043478, 0.9719806763285024, 0.9710144927536232, 0.9710144927536232, 0.970048309178744, 0.9690821256038648, 0.9690821256038648, 0.9681159420289855, 0.966183574879227, 0.9681159420289855, 0.9671497584541063, 0.9671497584541063], [0.49, 0.5, 0.51, 0.52, 0.53, 0.54, 0.55, 0.56, 0.57, 0.58, 0.59, 0.6, 0.61, 0.62, 0.63, 0.64, 0.65, 0.66, 0.67, 0.68, 0.69, 0.7], [11817, 7775, 6158, 6141, 6098, 6044, 6016, 5899, 5883, 5827, 5807, 4389, 3731, 3704, 3659, 3595, 3566, 3542, 2575, 2565, 2539, 2503]), ([0.9507246376811594, 0.9584541062801932, 0.9400966183574879, 0.9400966183574879, 0.9400966183574879, 0.9400966183574879, 0.9400966183574879, 0.9400966183574879, 0.9400966183574879, 0.9400966183574879, 0.9400966183574879, 0.957487922705314, 0.9671497584541063, 0.9671497584541063, 0.9671497584541063, 0.9671497584541063, 0.9671497584541063, 0.9671497584541063, 0.9487922705314009, 0.9487922705314009, 0.9487922705314009, 0.9487922705314009], [0.9188405797101449, 0.9681159420289855, 0.961352657004831, 0.9632850241545894, 0.9652173913043478, 0.9652173913043478, 0.9642512077294686, 0.9652173913043478, 0.9623188405797102, 0.9623188405797102, 0.961352657004831, 0.9777777777777777, 0.9777777777777777, 0.9777777777777777, 0.9768115942028985, 0.9768115942028985, 0.9777777777777777, 0.978743961352657, 0.9729468599033816, 0.9739130434782609, 0.9729468599033816, 0.9729468599033816], [0.9188405797101449, 0.9681159420289855, 0.961352657004831, 0.9632850241545894, 0.9652173913043478, 0.9652173913043478, 0.9642512077294686, 0.9652173913043478, 0.9623188405797102, 0.9623188405797102, 0.961352657004831, 0.9777777777777777, 0.9777777777777777, 0.9777777777777777, 0.9768115942028985, 0.9768115942028985, 0.9777777777777777, 0.978743961352657, 0.9729468599033816, 0.9739130434782609, 0.9729468599033816, 0.9729468599033816], [0.49, 0.5, 0.51, 0.52, 0.53, 0.54, 0.55, 0.56, 0.57, 0.58, 0.59, 0.6, 0.61, 0.62, 0.63, 0.64, 0.65, 0.66, 0.67, 0.68, 0.69, 0.7], [11755, 7682, 6100, 6082, 6033, 5982, 5966, 5850, 5827, 5781, 5764, 4329, 3694, 3673, 3647, 3580, 3555, 3532, 2569, 2553, 2517, 2465]), ([0.9536231884057971, 0.9652173913043478, 0.9458937198067633, 0.9458937198067633, 0.9458937198067633, 0.9458937198067633, 0.9458937198067633, 0.9458937198067633, 0.9458937198067633, 0.9458937198067633, 0.9458937198067633, 0.9594202898550724, 0.966183574879227, 0.9671497584541063, 0.9671497584541063, 0.966183574879227, 0.9642512077294686, 0.9642512077294686, 0.9478260869565217, 0.9478260869565217, 0.9478260869565217, 0.9478260869565217], [0.9159420289855073, 0.970048309178744, 0.9690821256038648, 0.970048309178744, 0.9710144927536232, 0.9710144927536232, 0.9710144927536232, 0.9710144927536232, 0.9719806763285024, 0.9729468599033816, 0.9729468599033816, 0.970048309178744, 0.970048309178744, 0.9710144927536232, 0.970048309178744, 0.970048309178744, 0.9719806763285024, 0.9729468599033816, 0.9681159420289855, 0.9681159420289855, 0.9671497584541063, 0.9681159420289855], [0.9159420289855073, 0.970048309178744, 0.9690821256038648, 0.970048309178744, 0.9710144927536232, 0.9710144927536232, 0.9710144927536232, 0.9710144927536232, 0.9719806763285024, 0.9729468599033816, 0.9729468599033816, 0.970048309178744, 0.970048309178744, 0.9710144927536232, 0.970048309178744, 0.970048309178744, 0.9719806763285024, 0.9729468599033816, 0.9681159420289855, 0.9681159420289855, 0.9671497584541063, 0.9681159420289855], [0.49, 0.5, 0.51, 0.52, 0.53, 0.54, 0.55, 0.56, 0.57, 0.58, 0.59, 0.6, 0.61, 0.62, 0.63, 0.64, 0.65, 0.66, 0.67, 0.68, 0.69, 0.7], [12028, 7852, 6206, 6184, 6135, 6090, 6066, 5942, 5923, 5868, 5854, 4416, 3725, 3698, 3662, 3590, 3564, 3542, 2531, 2515, 2500, 2439]), ([0.961352657004831, 0.9690821256038648, 0.9545893719806763, 0.9545893719806763, 0.9545893719806763, 0.9545893719806763, 0.9545893719806763, 0.9536231884057971, 0.9536231884057971, 0.9545893719806763, 0.9545893719806763, 0.9690821256038648, 0.9671497584541063, 0.9671497584541063, 0.9671497584541063, 0.9671497584541063, 0.966183574879227, 0.966183574879227, 0.961352657004831, 0.961352657004831, 0.961352657004831, 0.961352657004831], [0.9391304347826087, 0.9806763285024155, 0.9777777777777777, 0.9768115942028985, 0.9777777777777777, 0.9777777777777777, 0.978743961352657, 0.9835748792270531, 0.9835748792270531, 0.9816425120772947, 0.9845410628019323, 0.9681159420289855, 0.9690821256038648, 0.9690821256038648, 0.9671497584541063, 0.9690821256038648, 0.9681159420289855, 0.9681159420289855, 0.961352657004831, 0.9603864734299516, 0.9603864734299516, 0.9584541062801932], [0.9391304347826087, 0.9806763285024155, 0.9777777777777777, 0.9768115942028985, 0.9777777777777777, 0.9777777777777777, 0.978743961352657, 0.9835748792270531, 0.9835748792270531, 0.9816425120772947, 0.9845410628019323, 0.9681159420289855, 0.9690821256038648, 0.9690821256038648, 0.9671497584541063, 0.9690821256038648, 0.9681159420289855, 0.9681159420289855, 0.961352657004831, 0.9603864734299516, 0.9603864734299516, 0.9584541062801932], [0.49, 0.5, 0.51, 0.52, 0.53, 0.54, 0.55, 0.56, 0.57, 0.58, 0.59, 0.6, 0.61, 0.62, 0.63, 0.64, 0.65, 0.66, 0.67, 0.68, 0.69, 0.7], [11486, 7739, 5976, 5970, 5927, 5886, 5859, 5742, 5729, 5677, 5661, 4287, 3625, 3595, 3561, 3495, 3462, 3446, 2480, 2465, 2435, 2391]), ([0.9526570048309179, 0.9584541062801932, 0.9449275362318841, 0.9449275362318841, 0.9449275362318841, 0.9449275362318841, 0.9449275362318841, 0.9449275362318841, 0.9449275362318841, 0.9449275362318841, 0.9449275362318841, 0.9594202898550724, 0.9719806763285024, 0.9719806763285024, 0.9719806763285024, 0.9710144927536232, 0.9710144927536232, 0.9710144927536232, 0.9545893719806763, 0.9545893719806763, 0.9545893719806763, 0.9545893719806763], [0.9342995169082126, 0.9845410628019323, 0.9806763285024155, 0.9797101449275363, 0.9797101449275363, 0.978743961352657, 0.9797101449275363, 0.9855072463768116, 0.9874396135265701, 0.9874396135265701, 0.9893719806763285, 0.9719806763285024, 0.9729468599033816, 0.9729468599033816, 0.9729468599033816, 0.9739130434782609, 0.9719806763285024, 0.9719806763285024, 0.9603864734299516, 0.9623188405797102, 0.9632850241545894, 0.961352657004831], [0.9342995169082126, 0.9845410628019323, 0.9806763285024155, 0.9797101449275363, 0.9797101449275363, 0.978743961352657, 0.9797101449275363, 0.9855072463768116, 0.9874396135265701, 0.9874396135265701, 0.9893719806763285, 0.9719806763285024, 0.9729468599033816, 0.9729468599033816, 0.9729468599033816, 0.9739130434782609, 0.9719806763285024, 0.9719806763285024, 0.9603864734299516, 0.9623188405797102, 0.9632850241545894, 0.961352657004831], [0.49, 0.5, 0.51, 0.52, 0.53, 0.54, 0.55, 0.56, 0.57, 0.58, 0.59, 0.6, 0.61, 0.62, 0.63, 0.64, 0.65, 0.66, 0.67, 0.68, 0.69, 0.7], [12206, 7976, 6240, 6223, 6190, 6143, 6121, 6016, 5997, 5938, 5915, 4480, 3810, 3786, 3758, 3680, 3646, 3630, 2645, 2623, 2599, 2548])]\n",
        "\n",
        "#test= [(comparaison_taux([55,65],10)) for _ in tqdm(range(2))]\n",
        "\n",
        "#afficherCV(test0+test1+test2)\n",
        "afficherCV(test2)"
      ]
    },
    {
      "cell_type": "markdown",
      "metadata": {
        "id": "b0_kWq2be3r0"
      },
      "source": [
        "Notre score est identique à celui de scikit-learn.\n",
        "  \n",
        "On remarque que le choix de notre hyper-paramètre qui determine notre vocabulaire influence le score, mais il influence aussi le calcul. Le modèle Gaussien de scikit-learn semble être moins influencé."
      ]
    },
    {
      "cell_type": "markdown",
      "metadata": {
        "id": "nOVBmx4be3r0"
      },
      "source": [
        "# Pour aller plus loin"
      ]
    },
    {
      "cell_type": "markdown",
      "metadata": {
        "id": "DmGIv_3Le3r0"
      },
      "source": [
        "Regardons si la longueur du mail a une influence sur le fait qu'il soit un spam ou un ham."
      ]
    },
    {
      "cell_type": "code",
      "execution_count": null,
      "metadata": {
        "id": "XdEPnNN_e3r0",
        "outputId": "1c8b2bea-f53b-4c22-ee4c-57e693e4265f"
      },
      "outputs": [
        {
          "data": {
            "image/png": "[encoded data removed]",
            "text/plain": [
              "<Figure size 864x288 with 2 Axes>"
            ]
          },
          "metadata": {
            "needs_background": "light"
          },
          "output_type": "display_data"
        }
      ],
      "source": [
        "longueurs = [len(mail) for mail in data.text]\n",
        "data['longueur']=longueurs\n",
        "x=np.array(data[data.label_num==0].longueur)\n",
        "y=np.array(data[data.label_num==1].longueur)\n",
        "fig=plt.figure(figsize=(12,4))\n",
        "# première colonne\n",
        "plt.subplot(1,2,1)\n",
        "ax1=plt.hist(x,bins=200, range = (0, 1000),color = 'blue',alpha=0.6,\n",
        "            label = 'Ham')\n",
        "ax1+=plt.hist(y,bins=200, range = (0, 1000),color = 'red',alpha=1,\n",
        "            label = 'Spam')\n",
        "plt.ylabel('nombre de mails')\n",
        "plt.xlabel('longueur du mail')\n",
        "plt.legend()\n",
        "# deuxieme colonne\n",
        "plt.subplot(1,2,2)\n",
        "ax2=plt.hist(x,bins=200, range = (80, 120),color = 'blue',alpha=0.6,\n",
        "            label = 'Ham')\n",
        "ax2+=plt.hist(y,bins=200, range = (80, 120),color = 'red',alpha=1,\n",
        "            label = 'Spam')\n",
        "plt.ylabel('nombre de mails')\n",
        "plt.xlabel('longueur du mail')\n",
        "plt.legend()\n",
        "fig.suptitle('Répartition des longueurs des mails')\n",
        "plt.show()"
      ]
    },
    {
      "cell_type": "markdown",
      "metadata": {
        "id": "Ee-VC34Se3r0"
      },
      "source": [
        "Il semblerait que pour des mails de longueur comprise entre 90 et 110 caractères, il y ait une forte probabilité qu'il soit un ham."
      ]
    }
  ],
  "metadata": {
    "kernelspec": {
      "display_name": "Python 3",
      "language": "python",
      "name": "python3"
    },
    "language_info": {
      "codemirror_mode": {
        "name": "ipython",
        "version": 3
      },
      "file_extension": ".py",
      "mimetype": "text/x-python",
      "name": "python",
      "nbconvert_exporter": "python",
      "pygments_lexer": "ipython3",
      "version": "3.7.3"
    },
    "colab": {
      "name": "projet_anti_spam.ipynb",
      "provenance": [],
      "collapsed_sections": [],
      "toc_visible": true,
      "include_colab_link": true
    }
  },
  "nbformat": 4,
  "nbformat_minor": 0
}