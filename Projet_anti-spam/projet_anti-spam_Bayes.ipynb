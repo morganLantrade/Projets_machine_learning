{
  "cells": [
    {
      "cell_type": "markdown",
      "metadata": {
        "id": "view-in-github",
        "colab_type": "text"
      },
      "source": [
        "<a href=\"https://colab.research.google.com/github/morganLantrade/Projets_machine_learning/blob/main/Projet_anti-spam/projet_anti-spam_Bayes.ipynb\" target=\"_parent\"><img src=\"data:image/png;base64,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" alt=\"Open In Colab\"/></a>"
      ]
    },
      {
      "cell_type": "markdown",
      "metadata": {
        "id": "view-for-github",
        "colab_type": "text"
      },
      "source": [
        "<a href=\"https://github.com/morganLantrade/Projets_machine_learning/edit/main/Projet_anti-spam/projet_anti-spam_Bayes.ipynb target=\"_parent\"><img src=\"https://github.githubassets.com/images/modules/logos_page/GitHub-Mark.png" alt=\"Open In Github\"/></a>"
      ]
    },
    {
      "cell_type": "markdown",
      "metadata": {
        "id": "UT1VVLJLxnap"
      },
      "source": [
        "# Projet : Classificateur Naïf Bayésien : Anti-spam\n"
      ]
    },
    {
      "cell_type": "markdown",
      "metadata": {
        "id": "BnSd6kUTxnat"
      },
      "source": [
        "#### Par Lantrade Morgan et Courderc-Lafont Enguerran"
      ]
    },
    {
      "cell_type": "markdown",
      "metadata": {
        "id": "bCMyfYr9xnau"
      },
      "source": [
        "#### Importations"
      ]
    },
    {
      "cell_type": "code",
      "execution_count": 10,
      "metadata": {
        "id": "am4dvEiExnau"
      },
      "outputs": [],
      "source": [
        "import sklearn\n",
        "import math\n",
        "import re\n",
        "import string\n",
        "import warnings\n",
        "\n",
        "import numpy as np\n",
        "import pandas as pd\n",
        "import matplotlib\n",
        "import matplotlib.pyplot as plt\n",
        "import seaborn as sns\n",
        "\n",
        "from tqdm import tqdm\n",
        "from sklearn import datasets\n",
        "\n",
        "from sklearn.model_selection import train_test_split\n",
        "from sklearn.naive_bayes import GaussianNB\n",
        "from sklearn.model_selection import cross_val_score\n",
        "from sklearn.naive_bayes import BernoulliNB\n",
        "from sklearn.metrics import classification_report\n",
        "from sklearn.metrics import confusion_matrix\n",
        "\n",
        "warnings.filterwarnings('ignore')"
      ]
    },
    {
      "cell_type": "markdown",
      "metadata": {
        "id": "IgEAZcG6xnav"
      },
      "source": [
        "# 1.Première analyse des données"
      ]
    },
    {
      "cell_type": "code",
      "execution_count": 11,
      "metadata": {
        "scrolled": false,
        "id": "9RtIJ9v0xnaw",
        "outputId": "dcee6487-1f81-4b9d-8a51-a6132ff1374d",
        "colab": {
          "base_uri": "https://localhost:8080/"
        }
      },
      "outputs": [
        {
          "output_type": "stream",
          "name": "stdout",
          "text": [
            "--2022-03-30 17:05:39--  https://raw.githubusercontent.com/morganLantrade/Projets_machine_learning/main/Projet_anti-spam/spam.csv\n",
            "Resolving raw.githubusercontent.com (raw.githubusercontent.com)... 185.199.108.133, 185.199.109.133, 185.199.110.133, ...\n",
            "Connecting to raw.githubusercontent.com (raw.githubusercontent.com)|185.199.108.133|:443... connected.\n",
            "HTTP request sent, awaiting response... 200 OK\n",
            "Length: 5502589 (5.2M) [text/plain]\n",
            "Saving to: ‘spam.csv.1’\n",
            "\n",
            "\rspam.csv.1            0%[                    ]       0  --.-KB/s               \rspam.csv.1          100%[===================>]   5.25M  --.-KB/s    in 0.05s   \n",
            "\n",
            "2022-03-30 17:05:39 (108 MB/s) - ‘spam.csv.1’ saved [5502589/5502589]\n",
            "\n"
          ]
        }
      ],
      "source": [
        "! wget 'https://raw.githubusercontent.com/morganLantrade/Projets_machine_learning/main/Projet_anti-spam/spam.csv'"
      ]
    },
    {
      "cell_type": "code",
      "source": [
        "data=pd.read_csv('spam.csv')\n",
        "print(data.columns)\n",
        "data.head()"
      ],
      "metadata": {
        "id": "8hac1slOyhHq",
        "outputId": "df8b3bea-6001-4b46-ceb0-9da5dae54d97",
        "colab": {
          "base_uri": "https://localhost:8080/",
          "height": 224
        }
      },
      "execution_count": 12,
      "outputs": [
        {
          "output_type": "stream",
          "name": "stdout",
          "text": [
            "Index(['Unnamed: 0', 'label', 'text', 'label_num'], dtype='object')\n"
          ]
        },
        {
          "output_type": "execute_result",
          "data": {
            "text/plain": [
              "   Unnamed: 0 label                                               text  \\\n",
              "0         605   ham  Subject: enron methanol ; meter # : 988291\\r\\n...   \n",
              "1        2349   ham  Subject: hpl nom for january 9 , 2001\\r\\n( see...   \n",
              "2        3624   ham  Subject: neon retreat\\r\\nho ho ho , we ' re ar...   \n",
              "3        4685  spam  Subject: photoshop , windows , office . cheap ...   \n",
              "4        2030   ham  Subject: re : indian springs\\r\\nthis deal is t...   \n",
              "\n",
              "   label_num  \n",
              "0          0  \n",
              "1          0  \n",
              "2          0  \n",
              "3          1  \n",
              "4          0  "
            ],
            "text/html": [
              "\n",
              "  <div id=\"df-ab81e189-7898-41d3-b412-d705d5bc4aec\">\n",
              "    <div class=\"colab-df-container\">\n",
              "      <div>\n",
              "<style scoped>\n",
              "    .dataframe tbody tr th:only-of-type {\n",
              "        vertical-align: middle;\n",
              "    }\n",
              "\n",
              "    .dataframe tbody tr th {\n",
              "        vertical-align: top;\n",
              "    }\n",
              "\n",
              "    .dataframe thead th {\n",
              "        text-align: right;\n",
              "    }\n",
              "</style>\n",
              "<table border=\"1\" class=\"dataframe\">\n",
              "  <thead>\n",
              "    <tr style=\"text-align: right;\">\n",
              "      <th></th>\n",
              "      <th>Unnamed: 0</th>\n",
              "      <th>label</th>\n",
              "      <th>text</th>\n",
              "      <th>label_num</th>\n",
              "    </tr>\n",
              "  </thead>\n",
              "  <tbody>\n",
              "    <tr>\n",
              "      <th>0</th>\n",
              "      <td>605</td>\n",
              "      <td>ham</td>\n",
              "      <td>Subject: enron methanol ; meter # : 988291\\r\\n...</td>\n",
              "      <td>0</td>\n",
              "    </tr>\n",
              "    <tr>\n",
              "      <th>1</th>\n",
              "      <td>2349</td>\n",
              "      <td>ham</td>\n",
              "      <td>Subject: hpl nom for january 9 , 2001\\r\\n( see...</td>\n",
              "      <td>0</td>\n",
              "    </tr>\n",
              "    <tr>\n",
              "      <th>2</th>\n",
              "      <td>3624</td>\n",
              "      <td>ham</td>\n",
              "      <td>Subject: neon retreat\\r\\nho ho ho , we ' re ar...</td>\n",
              "      <td>0</td>\n",
              "    </tr>\n",
              "    <tr>\n",
              "      <th>3</th>\n",
              "      <td>4685</td>\n",
              "      <td>spam</td>\n",
              "      <td>Subject: photoshop , windows , office . cheap ...</td>\n",
              "      <td>1</td>\n",
              "    </tr>\n",
              "    <tr>\n",
              "      <th>4</th>\n",
              "      <td>2030</td>\n",
              "      <td>ham</td>\n",
              "      <td>Subject: re : indian springs\\r\\nthis deal is t...</td>\n",
              "      <td>0</td>\n",
              "    </tr>\n",
              "  </tbody>\n",
              "</table>\n",
              "</div>\n",
              "      <button class=\"colab-df-convert\" onclick=\"convertToInteractive('df-ab81e189-7898-41d3-b412-d705d5bc4aec')\"\n",
              "              title=\"Convert this dataframe to an interactive table.\"\n",
              "              style=\"display:none;\">\n",
              "        \n",
              "  <svg xmlns=\"http://www.w3.org/2000/svg\" height=\"24px\"viewBox=\"0 0 24 24\"\n",
              "       width=\"24px\">\n",
              "    <path d=\"M0 0h24v24H0V0z\" fill=\"none\"/>\n",
              "    <path d=\"M18.56 5.44l.94 2.06.94-2.06 2.06-.94-2.06-.94-.94-2.06-.94 2.06-2.06.94zm-11 1L8.5 8.5l.94-2.06 2.06-.94-2.06-.94L8.5 2.5l-.94 2.06-2.06.94zm10 10l.94 2.06.94-2.06 2.06-.94-2.06-.94-.94-2.06-.94 2.06-2.06.94z\"/><path d=\"M17.41 7.96l-1.37-1.37c-.4-.4-.92-.59-1.43-.59-.52 0-1.04.2-1.43.59L10.3 9.45l-7.72 7.72c-.78.78-.78 2.05 0 2.83L4 21.41c.39.39.9.59 1.41.59.51 0 1.02-.2 1.41-.59l7.78-7.78 2.81-2.81c.8-.78.8-2.07 0-2.86zM5.41 20L4 18.59l7.72-7.72 1.47 1.35L5.41 20z\"/>\n",
              "  </svg>\n",
              "      </button>\n",
              "      \n",
              "  <style>\n",
              "    .colab-df-container {\n",
              "      display:flex;\n",
              "      flex-wrap:wrap;\n",
              "      gap: 12px;\n",
              "    }\n",
              "\n",
              "    .colab-df-convert {\n",
              "      background-color: #E8F0FE;\n",
              "      border: none;\n",
              "      border-radius: 50%;\n",
              "      cursor: pointer;\n",
              "      display: none;\n",
              "      fill: #1967D2;\n",
              "      height: 32px;\n",
              "      padding: 0 0 0 0;\n",
              "      width: 32px;\n",
              "    }\n",
              "\n",
              "    .colab-df-convert:hover {\n",
              "      background-color: #E2EBFA;\n",
              "      box-shadow: 0px 1px 2px rgba(60, 64, 67, 0.3), 0px 1px 3px 1px rgba(60, 64, 67, 0.15);\n",
              "      fill: #174EA6;\n",
              "    }\n",
              "\n",
              "    [theme=dark] .colab-df-convert {\n",
              "      background-color: #3B4455;\n",
              "      fill: #D2E3FC;\n",
              "    }\n",
              "\n",
              "    [theme=dark] .colab-df-convert:hover {\n",
              "      background-color: #434B5C;\n",
              "      box-shadow: 0px 1px 3px 1px rgba(0, 0, 0, 0.15);\n",
              "      filter: drop-shadow(0px 1px 2px rgba(0, 0, 0, 0.3));\n",
              "      fill: #FFFFFF;\n",
              "    }\n",
              "  </style>\n",
              "\n",
              "      <script>\n",
              "        const buttonEl =\n",
              "          document.querySelector('#df-ab81e189-7898-41d3-b412-d705d5bc4aec button.colab-df-convert');\n",
              "        buttonEl.style.display =\n",
              "          google.colab.kernel.accessAllowed ? 'block' : 'none';\n",
              "\n",
              "        async function convertToInteractive(key) {\n",
              "          const element = document.querySelector('#df-ab81e189-7898-41d3-b412-d705d5bc4aec');\n",
              "          const dataTable =\n",
              "            await google.colab.kernel.invokeFunction('convertToInteractive',\n",
              "                                                     [key], {});\n",
              "          if (!dataTable) return;\n",
              "\n",
              "          const docLinkHtml = 'Like what you see? Visit the ' +\n",
              "            '<a target=\"_blank\" href=https://colab.research.google.com/notebooks/data_table.ipynb>data table notebook</a>'\n",
              "            + ' to learn more about interactive tables.';\n",
              "          element.innerHTML = '';\n",
              "          dataTable['output_type'] = 'display_data';\n",
              "          await google.colab.output.renderOutput(dataTable, element);\n",
              "          const docLink = document.createElement('div');\n",
              "          docLink.innerHTML = docLinkHtml;\n",
              "          element.appendChild(docLink);\n",
              "        }\n",
              "      </script>\n",
              "    </div>\n",
              "  </div>\n",
              "  "
            ]
          },
          "metadata": {},
          "execution_count": 12
        }
      ]
    },
    {
      "cell_type": "markdown",
      "metadata": {
        "id": "ztHngdP9xnax"
      },
      "source": [
        "##### Regardons la répartition des spams et hams pour avoir un aperçu "
      ]
    },
    {
      "cell_type": "code",
      "execution_count": 13,
      "metadata": {
        "id": "F8kqn7Srxnax",
        "outputId": "290fdf4b-6d50-47a9-eda3-af5f54465615",
        "colab": {
          "base_uri": "https://localhost:8080/",
          "height": 364
        }
      },
      "outputs": [
        {
          "output_type": "stream",
          "name": "stdout",
          "text": [
            "Nombre de spams : 1499  \n",
            "Nombre de hams 3672\n",
            "Total : 5171\n",
            "Proportion de Spam/Ham = 0.29 | 0.71\n"
          ]
        },
        {
          "output_type": "display_data",
          "data": {
            "text/plain": [
              "<Figure size 432x288 with 1 Axes>"
            ],
            "image/png": "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\n"
          },
          "metadata": {
            "needs_background": "light"
          }
        }
      ],
      "source": [
        "def afficherRepartition(data):\n",
        "    '''Affiche la répartition des spams et hams de nos donnés'''\n",
        "    total_spam=data[data.label_num==1]\n",
        "    total_ham=data[data.label_num==0]\n",
        "    n_spam= total_spam.shape[0]\n",
        "    n_ham= total_ham.shape[0]\n",
        "    n_total= n_ham+n_spam\n",
        "    p_s=round(n_spam/n_total,2)\n",
        "    p_h=round(n_ham/n_total,2)\n",
        "    #Affichage\n",
        "    plt.figure()\n",
        "    sns.countplot(x=data['label'])\n",
        "    plt.title('Répartition Ham et Spam')\n",
        "    print(f'Nombre de spams : {n_spam}  \\nNombre de hams {n_ham}\\nTotal : {n_total}\\nProportion de Spam/Ham = {p_s} | {p_h}')\n",
        "    \n",
        "\n",
        "afficherRepartition(data)\n"
      ]
    },
    {
      "cell_type": "markdown",
      "metadata": {
        "id": "K8yI9GuBxnay"
      },
      "source": [
        "##### Affichons quelques spams pour avoir une idée de nos données."
      ]
    },
    {
      "cell_type": "code",
      "execution_count": 14,
      "metadata": {
        "scrolled": true,
        "id": "gqD5pbIgxnaz",
        "outputId": "ee79ef79-2eb7-48e5-8c83-396cb2476009",
        "colab": {
          "base_uri": "https://localhost:8080/"
        }
      },
      "outputs": [
        {
          "output_type": "stream",
          "name": "stdout",
          "text": [
            "---------------------------------------------------\n",
            "Subject: photoshop , windows , office . cheap . main trending\r\n",
            "abasements darer prudently fortuitous undergone\r\n",
            "lighthearted charm orinoco taster\r\n",
            "railroad affluent pornographic cuvier\r\n",
            "irvin parkhouse blameworthy chlorophyll\r\n",
            "robed diagrammatic fogarty clears bayda\r\n",
            "inconveniencing managing represented smartness hashish\r\n",
            "academies shareholders unload badness\r\n",
            "danielson pure caffein\r\n",
            "spaniard chargeable levin\r\n",
            "\n",
            "---------------------------------------------------\n",
            "---------------------------------------------------\n",
            "Subject: looking for medication ? we ` re the best source .\r\n",
            "it is difficult to make our material condition better by the best law , but it is easy enough to ruin it by bad laws .\r\n",
            "excuse me . . . : ) you just found the\r\n",
            "best and simpliest site for\r\n",
            "medication on the net . no perscription , easy\r\n",
            "delivery .\r\n",
            "private , secure , and easy .\r\n",
            "better see rightly on a pound a week than squint on a million .\r\n",
            "we ` ve got\r\n",
            "anything that you will ever want .\r\n",
            "erection treatment pills , anti - depressant pills , weight loss , and\r\n",
            "more ! http : / / splicings . bombahakcx . com / 3 /\r\n",
            "knowledge and human power are synonymous .\r\n",
            "only high - quality stuff for low rates !\r\n",
            "100 % moneyback guarantee !\r\n",
            "there is no god , nature sufficeth unto herself in no wise hath she need of an author .\n",
            "---------------------------------------------------\n",
            "---------------------------------------------------\n",
            "Subject: vocable % rnd - word asceticism\r\n",
            "vcsc - brand new stock for your attention\r\n",
            "vocalscape inc - the stock symbol is : vcsc\r\n",
            "vcsc will be our top stock pick for the month of april - stock expected to\r\n",
            "bounce to 12 cents level\r\n",
            "the stock hit its all time low and will bounce back\r\n",
            "stock is going to explode in next 5 days - watch it soar\r\n",
            "watch the stock go crazy this and next week .\r\n",
            "breaking news - vocalscape inc . announces agreement to resell mix network\r\n",
            "services\r\n",
            "current price : $ 0 . 025\r\n",
            "we expect projected speculative price in next 5 days : $ 0 . 12\r\n",
            "we expect projected speculative price in next 15 days : $ 0 . 15\r\n",
            "vocalscape networks inc . is building a company that ' s revolutionizing the\r\n",
            "telecommunications industry with the most affordable phone systems , hardware ,\r\n",
            "online software , and rates in canada and the us . vocalscape , a company with\r\n",
            "global reach , is receiving international attention for the development of voice\r\n",
            "over ip ( voip ) application solutions , including the award - winning eyefontm , a\r\n",
            "softphone for real - time pc - to - phone . we are an advanced implementer of pbx\r\n",
            "systems for companies , call centers , itsps and service providers .\r\n",
            "vocalscape has created software and interactive solutions revolving around\r\n",
            "global communications and data voice convergence . companies use vocalscape for\r\n",
            "voice over internet protocol applications like ip pbxs , softswitches , pc 2 phone\r\n",
            "and web 2 phone , providing real - time human interaction and information delivery\r\n",
            "over the internet . through vocalscape ' s solutions , businesses can offer a\r\n",
            "quality voice service to anywhere in the world at rates that are significantly\r\n",
            "lower than current long distance charges . we develop software to run voip\r\n",
            "networks , and sell , install and service our own branded voip gateways and\r\n",
            "gatekeeper control software . we also license our software to customers who want\r\n",
            "to brand their own voip solutions .\r\n",
            "vocalscape is committed to making great technology ; challenging the status quo ,\r\n",
            "and building a 21 st century company that changes the way businesses communicate\r\n",
            "and interact through the internet .\r\n",
            "current price : $ 0 . 025\r\n",
            "we expect projected speculative price in next 5 days : $ 0 . 12\r\n",
            "we expect projected speculative price in next 15 days : $ 0 . 15\r\n",
            "breaking news - vocalscape inc . announces agreement to resell mix network\r\n",
            "services\r\n",
            "- - - - - - - - - -\r\n",
            "katonah , n . y . , / prnewswire - firstcall via comtex / - - vocalscape , inc . pink : vcsc ) ,\r\n",
            "an emerging leader in the development of voice over internet protocol ( voip )\r\n",
            "telephony solutions , announced today it has entered into a sales agent agreement\r\n",
            "with mix networks , inc . a voip enhanced telephony service provider .\r\n",
            "this agreement provides vocalscape ' s turnkey calling card customers with access\r\n",
            "to mix networks services including north american dids ( phone numbers ) and\r\n",
            "domestic long distance termination . vocalscape will also be able to supply their\r\n",
            "clients with enhanced voip products including pre - paid calling through mix\r\n",
            "networks north american network .\r\n",
            "we are excited to help companies launch voip business models using our solution\r\n",
            "with the whole picture from the software to the network needed to route the\r\n",
            "calls . mix networks gives us the ability to offer wholesale monthly flat rate\r\n",
            "plans and dids to our clients that allow for us to build business models like\r\n",
            "popular voip companies such as vonage and packet 8 , says ryan gibson , vp\r\n",
            "vocalscape networks\r\n",
            "some legal words before you continue :\r\n",
            "information within this email contains forward looking statements within the\r\n",
            "meaning of section 27 a of the securities act of 1933 and section 21 b of the\r\n",
            "securities exchange act of 1934 . any statements that express or involve\r\n",
            "discussions with respect to predictions , goals , expectations , beliefs , plans ,\r\n",
            "projections , objectives , assumptions or future events or performance are not\r\n",
            "statements of historical fact and may be forward looking statements . forward\r\n",
            "looking statements are based on expectations , estimates and projections at the\r\n",
            "time the statements are made that involve a number of risks and uncertainties\r\n",
            "which could cause actual results or events to differ materially from those\r\n",
            "presently anticipated . forward looking statements in this action may be\r\n",
            "identified through the use of words such as : projects , foresee , expects ,\r\n",
            "estimates , believes , understands will , part of : anticipates , or that\r\n",
            "by statements indicating certain actions may , could , or might occur . all\r\n",
            "information provided within this email pertaining to investing , stocks ,\r\n",
            "securities must be understood as information provided and not investment advice .\r\n",
            "emerging equity alert advises all readers and subscribers to seek advice from a\r\n",
            "registered professional securities representative before deciding to trade in\r\n",
            "stocks featured within this email . none of the material within this report shall\r\n",
            "be construed as any kind of investment advice . please have in mind that the\r\n",
            "interpretation of the witer of this newsletter about the news published by the\r\n",
            "company does not represent the company official statement and in fact may differ\r\n",
            "from the real meaning of what the news release meant to say . look the news\r\n",
            "release by yourself and judge by yourself about the details in it .\r\n",
            "in compliance with section 17 ( b ) , we disclose the holding of vcsc shares prior\r\n",
            "to the publication of this report . be aware of an inherent conflict of interest\r\n",
            "resulting from such holdings due to our intent to profit from the liquidation of\r\n",
            "these shares . shares may be sold at any time , even after positive statements\r\n",
            "have been made regarding the above company . since we own shares , there is an\r\n",
            "inherent conflict of interest in our statements and opinions . readers of this\r\n",
            "publication are cautioned not to place undue reliance on forward - looking\r\n",
            "statements , which are based on certain assumptions and expectations involving\r\n",
            "various risks and uncertainties , that could cause results to differ materially\r\n",
            "from those set forth in the forward - looking statements .\r\n",
            "please be advised that nothing within this email shall constitute a solicitation\r\n",
            "or an invitation to get position in or sell any security mentioned herein . this\r\n",
            "newsletter is neither a registered investment advisor nor affiliated with any\r\n",
            "broker or dealer . this newsletter was paid $ 49000 from third party to send this\r\n",
            "report . all statements made are our express opinion only and should be treated\r\n",
            "as such . we may own , take position and sell any securities mentioned at any\r\n",
            "time . this report includes forward - looking statements within the meaning of the\r\n",
            "private securities litigation reform act of 1995 . these statements may include\r\n",
            "terms as projected speculative price expect , believe , may , will ,\r\n",
            "soar move , undervalued and intend or similar terms .\r\n",
            "\n",
            "---------------------------------------------------\n",
            "---------------------------------------------------\n",
            "Subject: report 01405 !\r\n",
            "wffur attion brom est inst siupied 1 pgst our riwe asently rest .\r\n",
            "tont to presyou tew cons of benco 4 . yee : fater 45 y . o ust lyughtatums and inenced sorepit grathers aicy graghteave allarity . oarity wow to yur coons , as were then 60 ve mers of oite .\r\n",
            "ithat yoit ? ! berst thar ! enth excives 2004 . . .\r\n",
            "\n",
            "---------------------------------------------------\n",
            "---------------------------------------------------\n",
            "Subject: vic . odin n ^ ow\r\n",
            "berne hotbox carnal bride cutworm dyadic\r\n",
            "guardia continuous born gremlin akin counterflow hereafter vocabularian pessimum yaounde cannel bitch penetrate demagogue arbitrary egregious adenosine rubin gil luminosity delicti yarmulke sauterne selfadjoint agleam exeter picofarad consulate dichotomous boyhood balfour spheric frey pillory hoosier fibonacci cat handful\r\n",
            "\n",
            "---------------------------------------------------\n",
            "---------------------------------------------------\n",
            "Subject: underpriced issue with high return on equity\r\n",
            "stock report .\r\n",
            "dont sieep on this stock ! this is a hot one !\r\n",
            "company : gaming transactions inc .\r\n",
            "stock symbol : ggts\r\n",
            "currentiy trading at : o . 30\r\n",
            "rating : strong purchase\r\n",
            "near - term target : 0 . 45\r\n",
            "long - term target : 1 . oo\r\n",
            "breaking news for ggts :\r\n",
            "gaming transactions inc . ( ggts ) , a | eading provider of online gaming\r\n",
            "porta | management is pleased to announce that it has launched its\r\n",
            "proprietary gaming portal ( k e n o . com ) furthermore , the company has begun an\r\n",
            "intensive marketing campaign to support the | aunch and establish itself\r\n",
            "as the | eader in the online gaming industry .\r\n",
            "( k e n o . c o m ) is an oniine games destination where people piay\r\n",
            "popular casino style games to win real money . the foundation of the site is\r\n",
            "an online version of keno . the game of keno uses 80 balls numbered 1\r\n",
            "thru 8 o . every game , the house draws 20 bails at random and displays\r\n",
            "their numbers on screens ( called keno boards ) located on the website . the\r\n",
            "object of the game is for the player to guess some of the numbers the\r\n",
            "house will draw . the site shall also have other popuiar games in the near\r\n",
            "future inciuding bingo , poker , blackjack , slots and video game versions\r\n",
            "of tabie games .\r\n",
            "patrick smyth , ceo of gaming transactions inc . , remarked that , the\r\n",
            "games have been deveioped with the foresight to create a user - friendly\r\n",
            "experience without loading times and a secure transaction system has been\r\n",
            "deveioped with multipie layers of security and redundancy . we spent the\r\n",
            "necessary time and resources to test our software to ensure its\r\n",
            "functionality and security . consumer focus groups were used in the deveiopment\r\n",
            "process to make sure that our players had an opulent experience online ,\r\n",
            "and future marketing efforts wi | | be aimed customer service and\r\n",
            "attention .\r\n",
            "about the company :\r\n",
            "gaming transactions inc . is a deveioper and provider of online games\r\n",
            "and services for the online entertainment and gaming industries . the\r\n",
            "company ! s centra | licensed games portal , ( k e n o . c o m ) , is a\r\n",
            "destination oniine gambling property where players may participate in a number\r\n",
            "of gambling and oniine gaming fixtures .\r\n",
            "the foundation of the site is of course an online version of keno . the\r\n",
            "game of keno uses 8 o bails numbered 1 thru 80 . every game , the house\r\n",
            "draws 2 o balls at random and displays their numbers on screens ( called\r\n",
            "keno boards ) | ocated on the website . the object of the game is for the\r\n",
            "piayer to guess some of the numbers the house will draw . the site also\r\n",
            "has other popuiar games including poker , blackjack , slots and video game\r\n",
            "versions of tabie games .\r\n",
            "gaming transactions inc . is part of the oniine gambiing industry ,\r\n",
            "which is said to be one of the fastest growing industries on the internet .\r\n",
            "! ' the electronic gambling report forecasts that revenues will reach\r\n",
            "14 . 5 biliion by 2006 ! ( market statistics : - informa media grp . giobal\r\n",
            "revenues from oniine gambiing wi | | reach 14 . 52 bi | | ion in 20 o 6 , up from\r\n",
            "3 . 81 biilion this year . this is according to a report from the informa\r\n",
            "media grp . , which says that the us wi | | generate 24 percent of all online\r\n",
            "gambling revenues in 2 oo 6 , whereas europe wil | generate 53 percent .\r\n",
            "north american oniine gambling revenues are expected to reach 1 . 99 biliion\r\n",
            "this year and 3 . 85 bi | | ion in 2 oo 6 . in europe , revenues wil | grow from\r\n",
            "1 . 29 billion this year to 7 . 64 biilion in 2 oo 6 . oniine gambling\r\n",
            "revenues wi | | be smailer in asia - pacific 379 miliion this year and 2 . 13\r\n",
            "billion in 2 oo 6 ) and in the rest of the worid 143 million this year to 886\r\n",
            "mi | | ion in 2 oo 6 ) . and keno , the game , is one of the highest grossing\r\n",
            "products for many north american government bodies and pubiic gaming\r\n",
            "corporations . easy to piay , quick , and profitabie , keno has become a favorite\r\n",
            "to gambiers who want the excitement of a lottery draw without having to\r\n",
            "wait for a weekiy offering combining sophisticated hardware , software\r\n",
            "and cutting edge encryption / decryption techniques keno . com has deveioped\r\n",
            "and | icensed a system , which is an optima | method for online gaming .\r\n",
            "information within this publication contains future looking statements\r\n",
            "within the meaning of section 27 a of the securities act of 1933 and\r\n",
            "section 21 b of the securities exchange act of 1934 . any statements that\r\n",
            "express or involve discussions with respect to predictions ,\r\n",
            "expectations , beliefs , pians , projections , objectives , goals , assumptions or future\r\n",
            "events or performance are not statements of historica | fact and may be\r\n",
            "future looking statements . future | ooking statements are based on\r\n",
            "expectations , estimates and projections at the time the statements are made\r\n",
            "that involve a number of risks and uncertainties which couid cause\r\n",
            "actual results or events to differ materia | | y from those presently\r\n",
            "anticipated . future | ooking statements in this action may be identified through\r\n",
            "the use of words such as projects , foresee , expects , will , anticipates ,\r\n",
            "estimates , believes , understands or that by statements indicating\r\n",
            "certain actions may , could , or might occur . these future - | ooking statements\r\n",
            "are based on information currentiy avaiiabie and are subject to a\r\n",
            "number of risks , uncertainties and other factors that couid cause ggts ' s\r\n",
            "actua | resuits , performance , prospects or opportunities to differ\r\n",
            "materialiy from those expressed in , or impiied by , these future - | ooking\r\n",
            "statements . as with many microcap stocks , today ' s company has additiona | risk\r\n",
            "factors that raise doubt about its ability to continue as a going\r\n",
            "concern . ggts is not a reporting company registered under the securities act\r\n",
            "of 1934 and hence there is | imited public information avaiiable about\r\n",
            "the company . these risks , uncertainties and other factors include ,\r\n",
            "without | imitation , the company ' s growth expectations and ongoing funding\r\n",
            "requirements , and specificaily , the company ' s growth prospects with\r\n",
            "scalable customers . other risks include the company ' s limited operating\r\n",
            "history , the company ' s history of operating losses , consumers ' acceptance ,\r\n",
            "the company ' s use of licensed technoiogies , risk of increased\r\n",
            "competition , the potentia | need for additional financing , the conditions and\r\n",
            "terms of any financing that is consummated , the limited trading market for\r\n",
            "the company ' s securities , the possibie volatility of the company ' s\r\n",
            "stock price , the concentration of ownership , and the potentia | fluctuation\r\n",
            "in the company ' s operating results . the publisher of this report does\r\n",
            "not represent that the information contained in this message states ail\r\n",
            "material facts or does not omit a material fact necessary to make the\r\n",
            "statements therein not misieading . a | | information provided within this\r\n",
            "report pertaining to investing , stocks , securities must be understood\r\n",
            "as information provided and not investment advice . the publisher of this\r\n",
            "newsletter advises all readers and subscribers to seek advice from a\r\n",
            "registered professional securities representative before deciding to\r\n",
            "trade in stocks featured within this report . none of the materia | within\r\n",
            "this report shall be construed as any kind of investment advice or\r\n",
            "solicitation . many of these companies are on the verge of bankruptcy . you can\r\n",
            "lose al | your money by investing in this stock . the pubiisher of this\r\n",
            "report is not a registered investment expert . subscribers should not\r\n",
            "view information herein as | egal , tax , accounting or investment advice .\r\n",
            "any reference to past performance ( s ) of companies are specially seiected\r\n",
            "to be referenced based on the favorabie performance of these companies .\r\n",
            "you wouid need perfect timing to achieve the resuits in the exampies\r\n",
            "given . there can be no assurance of that happening . remember , as always ,\r\n",
            "past performance is not indicative of future results and a thorough due\r\n",
            "diligence effort , inciuding a review of a company ' s fiiings at sec gov\r\n",
            "or edgar - online com when avaiiabie , shouid be compieted prior to\r\n",
            "investing . al | factua | information in this report was gathered from pubiic\r\n",
            "sources , including but not | imited to company websites and company press\r\n",
            "releases . the pubiisher discloses the receipt of fifteen thousand\r\n",
            "doilars from a third party , not an officer , director , or affiiiate\r\n",
            "shareholder of the company for the preparation of this oniine report . be aware\r\n",
            "of an inherent confiict of interest resulting from such compensation\r\n",
            "due to the fact that this is a paid pubiication . the pubiisher of this\r\n",
            "report beiieves this information to be reiiable but can make no assurance\r\n",
            "as to its accuracy or compieteness . use of the materia | within this\r\n",
            "report constitutes your acceptance of these terms .\r\n",
            "if you wish to stop future maiiings , or if you feel you have been\r\n",
            "wrongfuliy placed in our membership , piease go here or send a biank\r\n",
            "e mai | with no thanks in the subject to ( - stoxo 042 @ yahoo . com - )\r\n",
            "\n",
            "---------------------------------------------------\n",
            "---------------------------------------------------\n",
            "Subject: jump in to gain substantial ground immediately\r\n",
            "we are very excited about this new upcoming stock about to explode\r\n",
            "montana oil and gas , inc . ( mogi ) to explore further opportunities in alberta\r\n",
            "canada , is an energy deveioper in canada ' s most highiy coveted\r\n",
            "reservoirs .\r\n",
            "aggressive investors and traders may want to watch montana oi | and gas\r\n",
            "again this morning ! montana oil and gas inc . ( mogi - news ) announces\r\n",
            "that the syivan lake oil and gas project is sti | | awaiting a rig at this\r\n",
            "time . the surface lease has been constructed and we have\r\n",
            "been waiting for a rig to become avaiiabie for over two weeks , and\r\n",
            "anticipate this to happen next week at the latest .\r\n",
            "the company has a 25 % working interest in the syivan lake project .\r\n",
            "symbo | - mogi\r\n",
            "current price - . 26\r\n",
            "reasons to consider mogi :\r\n",
            "1 . price charts confirm oi | prices are experiencing the strongest bul |\r\n",
            "market in a generation .\r\n",
            "2 . natura | gas prices have tripled in the | ast two years .\r\n",
            "3 . with multiple projects in high - gear and the expanding production on\r\n",
            "reserves potentialiy worth muiti - millions , mogi is seliing for less\r\n",
            "than 1 / 4 the vaiue of its assets .\r\n",
            "4 . montana oi | and gas specializes in using new technology to turn\r\n",
            "unproductive oi | and gas deposits into profitabie enterprises . aiready\r\n",
            "shares in the oi | and gas sectorare rising faster than the overa | | market .\r\n",
            "in fact , four of dow jones ' ten top performing industry sectors for the\r\n",
            "past year are energy related . but it ' s in the mid - sized explorers and\r\n",
            "deveiopers like montana oi | ( mogi ) that the biggest gains are being\r\n",
            "made . in the last 12 months , many of these stocks made tripie and even\r\n",
            "quadruple returns .\r\n",
            "breaking news ! !\r\n",
            "april 29 , - montana oil and gas reports the following update on its\r\n",
            "sylvan lake project . after several delays due to unseasonable weather and\r\n",
            "road closures in the province of alberta , the contracted drilling rig\r\n",
            "was moved onto location and ensign drilling has spudded the 5 - 3 - 38 - 3 w 5 m\r\n",
            "well . the company anticipates the road bans to be lifted shortly in\r\n",
            "compliance with government regulations and to resume drilling of the well\r\n",
            "immediately there after .\r\n",
            "the company ' s west lock project is also scheduled to resume completion\r\n",
            "of tie in upon lifting of the road ban .\r\n",
            "with the continued interest in our sylvan lake project montana oil and\r\n",
            "gas has prepared a detailed project description .\r\n",
            "project history\r\n",
            "the sylvan lake oil and gas field was discovered in the late 1950 ' s and\r\n",
            "has produced over 40 million barrels ( mbbls ) of high quality crude oil\r\n",
            "and 50 billion cubic feet ( bcf ) of associated natural gas ,\r\n",
            "predominantly from the mississippian pekisko and shunda formations . the field\r\n",
            "remains in production today and continues to be down spaced drilled and\r\n",
            "expanded with the use of modern three and four dimension geophysics .\r\n",
            "the original freehold lease on section 3 - 38 - 3 w 5 m was leased to a major\r\n",
            "oil company , as was most of the sylvan lake field itself . an\r\n",
            "exploratory well was drilled by this major company in 7 - 3 - 38 - 3 w 5 m in 1958 and was\r\n",
            "abandoned after finding the shunda and pekisko formations completely\r\n",
            "eroded by post depositional cutting . as a consequence , the major company\r\n",
            "did no further exploration on this section and eventually bowed to the\r\n",
            "complaints of the freehold mineral rights owner and relinquished the\r\n",
            "deeper mineral rights ( below the base of the jurassic formations ) on the\r\n",
            "west one half of section 3 back to the freehold mineral rights owner in\r\n",
            "the early 1960 ' s . this relinquishment was extraordinary at the time as\r\n",
            "mineral right severance had very seldom ever been done and more\r\n",
            "specifically , not often by the major companies . accordingly , these mineral\r\n",
            "rights sat available and dormant until the early 2000 ' s as almost all oil\r\n",
            "and gas companies thought they were held by the original lessee .\r\n",
            "through diligent land work ( including field visits ) our partners discovered\r\n",
            "this relinquishment and quickly leased the west half of section 3 . since\r\n",
            "that time our partners have managed to lease an additional 160 acres\r\n",
            "( one quarter section ) of section 3 . energy 51 has the right to earn 50 %\r\n",
            "of this prospect ( possibly 75 % ) with the drilling of a test well in\r\n",
            "5 - 3 - 38 - 3 w 5 m .\r\n",
            "land discussion\r\n",
            "our partners have secured a 100 % working interest in the west half and\r\n",
            "northeast quarter of section 3 - 38 - 3 w 5 m . the land comprises some 480\r\n",
            "acres ( one section or one square mile equals 640 acres ) . primary drilling\r\n",
            "spacing in alberta is as follows ; one quarter section spacing ( 160\r\n",
            "acres ) for oil and one section spacing ( 640 acres ) for natural gas . the\r\n",
            "province allows for decreased drilling and production spacing units\r\n",
            "( called holdings ) should you be able to prove to the province ' s\r\n",
            "satisfaction that more efficient drainage of reserves would result from increased\r\n",
            "well density . almost the entire sylvan lake field , pekisko pool , has\r\n",
            "been down spaced dramatically and should we be successful in discovering\r\n",
            "pekisko oil we will down space as well .\r\n",
            "geological discussion\r\n",
            "pekisko formation - - the principle target of this prospect is oil and\r\n",
            "associated gas production from the deeper ( older ) pekisko formation . the\r\n",
            "sylvan lake pekisko oil field lies on the up dip erosional edge of the\r\n",
            "pekisko formation . this edge is extremely rugged as its shape was\r\n",
            "influenced by both terrestrial drainage and seashore conditions . overlying\r\n",
            "this ancient shoreline are cap rocks ( impermeable layers ) of the\r\n",
            "mississippian lower shunda formation and cretaceous / jurassic impermeable\r\n",
            "shales . these erosional edge trap features are common throughout alberta and\r\n",
            "account for billions of barrels of reserves .\r\n",
            "production facilities discussion\r\n",
            "this immediate area has been developed for both oil and natural gas\r\n",
            "over the past forty - five years . accordingly a multitude of gas gathering\r\n",
            "and processing facilities and oil transportation facilities have been\r\n",
            "constructed .\r\n",
            "a major gas processing facility is located within two miles of our\r\n",
            "project with gathering system lines with one half a mile from our proposed\r\n",
            "drilling location . the capacity of the processing facility is\r\n",
            "approximately 70 mmcf / d with current throughput of only 46 mmcf / d . accordingly ,\r\n",
            "excess capacity of 24 mmcf / d exists in the facility which would be in\r\n",
            "the best interest of the operator to fill as soon as possible .\r\n",
            "this gas processing facility also has oil pipeline access for the\r\n",
            "transportation of raw oil product to the main delivery terminals north of\r\n",
            "red deer , alberta . accordingly , trucking costs would be minimal to get\r\n",
            "oil product to the transportation system .\r\n",
            "for more detailed project description please see news release dated\r\n",
            "( fri , apr 29 ) .\r\n",
            "good luck and successfu | trading .\r\n",
            "conclusion :\r\n",
            "the examples above show the awesome , earning potential of little known\r\n",
            "companies that explode onto investor ' s radar screens ; many of you are\r\n",
            "already familiar with this . is mogi poised and positioned to do that for\r\n",
            "you ? then you may feel the time has come to act . . . and please watch\r\n",
            "this one trade tuesday ! go mogi .\r\n",
            "penny stocks are considered highly speculative and may be unsuitable\r\n",
            "for all but very aggressive investors . this profile is not in any way\r\n",
            "affiliated with the featured company . we were compensated 3000 dollars\r\n",
            "to distribute this report . this report is for entertainment and\r\n",
            "advertising purposes only and should not be used as investment advice .\r\n",
            "\n",
            "---------------------------------------------------\n",
            "---------------------------------------------------\n",
            "Subject: end of year clearance\r\n",
            "item no #\r\n",
            "description\r\n",
            "price $\r\n",
            "1 .\r\n",
            "2 . 2 gb compact flash + type ii\r\n",
            "micro\r\n",
            "$\r\n",
            "99\r\n",
            ". 00\r\n",
            "2 .\r\n",
            "256 mb ddr ram sodimm for\r\n",
            "notebook\r\n",
            "$\r\n",
            "29\r\n",
            ". 90\r\n",
            "3 .\r\n",
            "compaq ps / 2\r\n",
            "keyboard\r\n",
            "$\r\n",
            "9\r\n",
            ". 50\r\n",
            "4 .\r\n",
            "diamond supraexpress 56 k ext . serial\r\n",
            "data / fax / voice modem\r\n",
            "$\r\n",
            "23\r\n",
            ". 90\r\n",
            "5 .\r\n",
            "diamond supramax 56 k usb external\r\n",
            "modem\r\n",
            "$\r\n",
            "25\r\n",
            ". 50\r\n",
            "6 .\r\n",
            "hp deskjet 1100 d printer\r\n",
            "$\r\n",
            "158\r\n",
            ". 00\r\n",
            "7 .\r\n",
            "hp laserjet 1160 printer\r\n",
            "$\r\n",
            "278\r\n",
            ". 00\r\n",
            "8 .\r\n",
            "intel play me 2 web camera\r\n",
            "$\r\n",
            "8\r\n",
            ". 80\r\n",
            "9 .\r\n",
            "logitech classic wireless keyboard +\r\n",
            "optical mouse + web camera w / built - in - microphone\r\n",
            "( 3 - in - 1 )\r\n",
            "$\r\n",
            "52\r\n",
            ". 00\r\n",
            "10 .\r\n",
            "logitech wireless optical scroll\r\n",
            "mouse\r\n",
            "$\r\n",
            "16\r\n",
            ". 90\r\n",
            "11 .\r\n",
            "logitech io personal digital pen\r\n",
            "$\r\n",
            "107\r\n",
            ". 50\r\n",
            "12 .\r\n",
            "notebookplus usb mini webcam\r\n",
            "$\r\n",
            "15\r\n",
            ". 90\r\n",
            "13 .\r\n",
            "notebookplus mobile mini usb keypad +\r\n",
            "calculator ( 2 - in - 1 )\r\n",
            "$\r\n",
            "49\r\n",
            ". 00\r\n",
            "14 .\r\n",
            "oem 4 port usb 2 . 0 mini hub no power\r\n",
            "required\r\n",
            "$\r\n",
            "5\r\n",
            ". 50\r\n",
            "15 .\r\n",
            "optorite 8 x + / - dvd - rewriter\r\n",
            "$\r\n",
            "49\r\n",
            ". 00\r\n",
            "16 .\r\n",
            "olympus trip - md 3 focus free\r\n",
            "camera\r\n",
            "$\r\n",
            "19\r\n",
            ". 50\r\n",
            "17 .\r\n",
            "oem pcmcia 5 in 1 memory card\r\n",
            "reader\r\n",
            "$\r\n",
            "36\r\n",
            ". 00\r\n",
            "18 .\r\n",
            "pocket digital camcoder / camera\r\n",
            "( 2 - in - 1 )\r\n",
            "$\r\n",
            "58\r\n",
            ". 00\r\n",
            "19 .\r\n",
            "security lock kit for cpu / monitor / keyboard\r\n",
            "lock ( aluminium )\r\n",
            "$\r\n",
            "9\r\n",
            ". 50\r\n",
            "20 .\r\n",
            "sim card backup 168 16 kb memory\r\n",
            "$\r\n",
            "36\r\n",
            ". 00\r\n",
            "21 .\r\n",
            "super gsm usb sim card reader\r\n",
            "$\r\n",
            "17\r\n",
            ". 50\r\n",
            "22 .\r\n",
            "samsung 52 x 24 x 52 xl 6 dvd - cdrw\r\n",
            "combo\r\n",
            "$\r\n",
            "34\r\n",
            ". 90\r\n",
            "23 .\r\n",
            "toshiba advanced port replicator\r\n",
            "$\r\n",
            "99\r\n",
            ". 00\r\n",
            "24 .\r\n",
            "usb to ethernet adapter\r\n",
            "$\r\n",
            "12\r\n",
            ". 90\r\n",
            "25 .\r\n",
            "zdrive 1 . 5 gb usb 2 . 0 drive\r\n",
            "$\r\n",
            "127\r\n",
            ". 00\r\n",
            "256 mb ddr ram sodimm\r\n",
            "gsm usb sim card reader\r\n",
            "logitech io personal digital\r\n",
            "pen\r\n",
            "diamond supramax 56 k usb ext .\r\n",
            "modem\r\n",
            "notebookplus mobile mini usb\r\n",
            "keypad\r\n",
            "your one stop distributorjebel ali duty free zonedubai , uae . www . computron - me . com\r\n",
            "for latest clearance sale listing contact our\r\n",
            "sales\r\n",
            "department .\r\n",
            "for further details please send\r\n",
            "your enquiries to : dealers @ emirates . net . aeor contact via www . computron - me . com\r\n",
            "compaq\r\n",
            "hewlett packard\r\n",
            "3 com\r\n",
            "dell\r\n",
            "intel\r\n",
            "iomega\r\n",
            "epson\r\n",
            "aopen\r\n",
            "creative\r\n",
            "toshiba\r\n",
            "apc\r\n",
            "cisco\r\n",
            "us\r\n",
            "robotics\r\n",
            "microsoft\r\n",
            "canon\r\n",
            "intellinet\r\n",
            "targus\r\n",
            "viewsonic\r\n",
            "ibm\r\n",
            "sony\r\n",
            "- - - - - - - and lots more\r\n",
            "! ! !\r\n",
            "if you have any\r\n",
            "complaints / suggestions contact : customerservice @ computron - me . com\r\n",
            "tel + 971 4\r\n",
            "8834464\r\n",
            "all prices in u . s . dollars , ex - works ,\r\n",
            "fax + 971 4\r\n",
            "8834454\r\n",
            "jebel ali duty free zone\r\n",
            "www . computron - me . com\r\n",
            "prices and availability subject to change\r\n",
            "usa -\r\n",
            "canada u . a . e .\r\n",
            "without\r\n",
            "notice .\r\n",
            "to receive our special offers\r\n",
            "in plain\r\n",
            "text format reply to this\r\n",
            "mail with the request * for\r\n",
            "export only *\r\n",
            "this\r\n",
            "email can not be considered spam as long as we include : contact\r\n",
            "information remove instructions . this message is intended for dealer\r\n",
            "and resellers only . if you have somehow gotten on this list in error , or\r\n",
            "for any other reason would like to be removed , please reply with \" remove\r\n",
            "\" in the subject line of your message . this message is being sent to you\r\n",
            "in compliance with the federal legislation for commercial e - mail\r\n",
            "( h . r . 4176 - section 101 paragraph ( e ) ( 1 ) ( a ) and bill s . 1618 title iii\r\n",
            "passed by the 105 th u . s . congress .\r\n",
            "all logos and\r\n",
            "trademarks are the property of their respective ownerstoshiba for\r\n",
            "export only . hp only\r\n",
            "for sale in the middle east\r\n",
            "products may not be exactly as shown\r\n",
            "above\r\n",
            "- -\r\n",
            "to unsubscribe from : computron 4 , just follow this link :\r\n",
            "click the link , or copy and paste the address into your browser .\r\n",
            "please give it atleast 48 hours for unsubscription to be effective .\n",
            "---------------------------------------------------\n",
            "---------------------------------------------------\n",
            "Subject: vlc , 0 dln for sale , no prior pres . crip . tion needed\r\n",
            "enjoy up to 80 % off\r\n",
            "buy vlc , 0 dln online\r\n",
            "get vla , gra / cla , lls\r\n",
            "buy val , lum for cheap\r\n",
            "get x . a . x . a . x online from our online pha , rmacy .\r\n",
            "many others also available !\r\n",
            "no p . r . e , s . c . r , i . p . t . i . o . n required\r\n",
            "discreet / fast shipping . plus * no shipping charge *\r\n",
            "and always 100 % money back guarantee\r\n",
            "click here for more info\r\n",
            "\n",
            "---------------------------------------------------\n",
            "---------------------------------------------------\n",
            "Subject: jennifer\r\n",
            "sends them to their final destination .\r\n",
            "designated as a private key\r\n",
            "4 . validate public keys .\r\n",
            "someone wants to meet you !\r\n",
            "who your match could be , find here\r\n",
            "to the purported owner . you\r\n",
            "\n",
            "---------------------------------------------------\n"
          ]
        }
      ],
      "source": [
        "def afficherNSpam(data,n) :\n",
        "    '''Affiche les n premiers spams de nos données'''\n",
        "    s=data[data.label_num==1]\n",
        "    for i in range(n):\n",
        "        print(\"---------------------------------------------------\")\n",
        "        print(s.text[s.index[i]])\n",
        "        print(\"---------------------------------------------------\")\n",
        "cpt=10\n",
        "afficherNSpam(data,cpt)\n",
        "\n",
        "\n",
        "    "
      ]
    },
    {
      "cell_type": "markdown",
      "metadata": {
        "id": "gUaSazyRxna0"
      },
      "source": [
        "# 2.Prétraitement des données"
      ]
    },
    {
      "cell_type": "markdown",
      "metadata": {
        "id": "ZH_ZoliPxna0"
      },
      "source": [
        "### A) Construisons notre vocabulaire"
      ]
    },
    {
      "cell_type": "code",
      "execution_count": 15,
      "metadata": {
        "id": "zkJIBcHfxna1",
        "outputId": "71b9cb3f-bb97-492f-b1bf-ef5a53b31746",
        "colab": {
          "base_uri": "https://localhost:8080/",
          "height": 224
        }
      },
      "outputs": [
        {
          "output_type": "stream",
          "name": "stdout",
          "text": [
            "On a donc un dataframe de la distribution du vocabulaire qui est composé 46081 mots.\n"
          ]
        },
        {
          "output_type": "execute_result",
          "data": {
            "text/plain": [
              "             spam   ham\n",
              "enron           0  1462\n",
              "preliminary     1    39\n",
              "needed         71   110\n",
              "economics       3    14\n",
              "change         87   370"
            ],
            "text/html": [
              "\n",
              "  <div id=\"df-9f274eba-034c-405f-a585-a7a7ca2fca83\">\n",
              "    <div class=\"colab-df-container\">\n",
              "      <div>\n",
              "<style scoped>\n",
              "    .dataframe tbody tr th:only-of-type {\n",
              "        vertical-align: middle;\n",
              "    }\n",
              "\n",
              "    .dataframe tbody tr th {\n",
              "        vertical-align: top;\n",
              "    }\n",
              "\n",
              "    .dataframe thead th {\n",
              "        text-align: right;\n",
              "    }\n",
              "</style>\n",
              "<table border=\"1\" class=\"dataframe\">\n",
              "  <thead>\n",
              "    <tr style=\"text-align: right;\">\n",
              "      <th></th>\n",
              "      <th>spam</th>\n",
              "      <th>ham</th>\n",
              "    </tr>\n",
              "  </thead>\n",
              "  <tbody>\n",
              "    <tr>\n",
              "      <th>enron</th>\n",
              "      <td>0</td>\n",
              "      <td>1462</td>\n",
              "    </tr>\n",
              "    <tr>\n",
              "      <th>preliminary</th>\n",
              "      <td>1</td>\n",
              "      <td>39</td>\n",
              "    </tr>\n",
              "    <tr>\n",
              "      <th>needed</th>\n",
              "      <td>71</td>\n",
              "      <td>110</td>\n",
              "    </tr>\n",
              "    <tr>\n",
              "      <th>economics</th>\n",
              "      <td>3</td>\n",
              "      <td>14</td>\n",
              "    </tr>\n",
              "    <tr>\n",
              "      <th>change</th>\n",
              "      <td>87</td>\n",
              "      <td>370</td>\n",
              "    </tr>\n",
              "  </tbody>\n",
              "</table>\n",
              "</div>\n",
              "      <button class=\"colab-df-convert\" onclick=\"convertToInteractive('df-9f274eba-034c-405f-a585-a7a7ca2fca83')\"\n",
              "              title=\"Convert this dataframe to an interactive table.\"\n",
              "              style=\"display:none;\">\n",
              "        \n",
              "  <svg xmlns=\"http://www.w3.org/2000/svg\" height=\"24px\"viewBox=\"0 0 24 24\"\n",
              "       width=\"24px\">\n",
              "    <path d=\"M0 0h24v24H0V0z\" fill=\"none\"/>\n",
              "    <path d=\"M18.56 5.44l.94 2.06.94-2.06 2.06-.94-2.06-.94-.94-2.06-.94 2.06-2.06.94zm-11 1L8.5 8.5l.94-2.06 2.06-.94-2.06-.94L8.5 2.5l-.94 2.06-2.06.94zm10 10l.94 2.06.94-2.06 2.06-.94-2.06-.94-.94-2.06-.94 2.06-2.06.94z\"/><path d=\"M17.41 7.96l-1.37-1.37c-.4-.4-.92-.59-1.43-.59-.52 0-1.04.2-1.43.59L10.3 9.45l-7.72 7.72c-.78.78-.78 2.05 0 2.83L4 21.41c.39.39.9.59 1.41.59.51 0 1.02-.2 1.41-.59l7.78-7.78 2.81-2.81c.8-.78.8-2.07 0-2.86zM5.41 20L4 18.59l7.72-7.72 1.47 1.35L5.41 20z\"/>\n",
              "  </svg>\n",
              "      </button>\n",
              "      \n",
              "  <style>\n",
              "    .colab-df-container {\n",
              "      display:flex;\n",
              "      flex-wrap:wrap;\n",
              "      gap: 12px;\n",
              "    }\n",
              "\n",
              "    .colab-df-convert {\n",
              "      background-color: #E8F0FE;\n",
              "      border: none;\n",
              "      border-radius: 50%;\n",
              "      cursor: pointer;\n",
              "      display: none;\n",
              "      fill: #1967D2;\n",
              "      height: 32px;\n",
              "      padding: 0 0 0 0;\n",
              "      width: 32px;\n",
              "    }\n",
              "\n",
              "    .colab-df-convert:hover {\n",
              "      background-color: #E2EBFA;\n",
              "      box-shadow: 0px 1px 2px rgba(60, 64, 67, 0.3), 0px 1px 3px 1px rgba(60, 64, 67, 0.15);\n",
              "      fill: #174EA6;\n",
              "    }\n",
              "\n",
              "    [theme=dark] .colab-df-convert {\n",
              "      background-color: #3B4455;\n",
              "      fill: #D2E3FC;\n",
              "    }\n",
              "\n",
              "    [theme=dark] .colab-df-convert:hover {\n",
              "      background-color: #434B5C;\n",
              "      box-shadow: 0px 1px 3px 1px rgba(0, 0, 0, 0.15);\n",
              "      filter: drop-shadow(0px 1px 2px rgba(0, 0, 0, 0.3));\n",
              "      fill: #FFFFFF;\n",
              "    }\n",
              "  </style>\n",
              "\n",
              "      <script>\n",
              "        const buttonEl =\n",
              "          document.querySelector('#df-9f274eba-034c-405f-a585-a7a7ca2fca83 button.colab-df-convert');\n",
              "        buttonEl.style.display =\n",
              "          google.colab.kernel.accessAllowed ? 'block' : 'none';\n",
              "\n",
              "        async function convertToInteractive(key) {\n",
              "          const element = document.querySelector('#df-9f274eba-034c-405f-a585-a7a7ca2fca83');\n",
              "          const dataTable =\n",
              "            await google.colab.kernel.invokeFunction('convertToInteractive',\n",
              "                                                     [key], {});\n",
              "          if (!dataTable) return;\n",
              "\n",
              "          const docLinkHtml = 'Like what you see? Visit the ' +\n",
              "            '<a target=\"_blank\" href=https://colab.research.google.com/notebooks/data_table.ipynb>data table notebook</a>'\n",
              "            + ' to learn more about interactive tables.';\n",
              "          element.innerHTML = '';\n",
              "          dataTable['output_type'] = 'display_data';\n",
              "          await google.colab.output.renderOutput(dataTable, element);\n",
              "          const docLink = document.createElement('div');\n",
              "          docLink.innerHTML = docLinkHtml;\n",
              "          element.appendChild(docLink);\n",
              "        }\n",
              "      </script>\n",
              "    </div>\n",
              "  </div>\n",
              "  "
            ]
          },
          "metadata": {},
          "execution_count": 15
        }
      ],
      "source": [
        "def vocabulaire_mail(mail,n=3) :\n",
        "    '''Retourne l'ensemble du vocabulaire en minisucule \n",
        "    du mail composé seulement de mots de longueur strictement supérieure à n'''\n",
        "    #ne gardons que les caractères alphanumériques\n",
        "    mots = re.split(r'\\W+', mail)\n",
        "    #ensemble en minuscule   \n",
        "    return set([mot.lower() for mot in mots if len(mot)>n]) \n",
        "\n",
        "\n",
        "def vocabulaire_distribution(df) :\n",
        "    '''Retourne un dictionnaire de la distribution des mots selon les classes \n",
        "    de nos données (spam ou ham )''' \n",
        "    distribution= {}\n",
        "    for mail,spam in zip(df.text,df.label_num):\n",
        "        vocabulaire=vocabulaire_mail(mail)\n",
        "        for mot in vocabulaire:\n",
        "            if mot not in distribution:\n",
        "                distribution[mot]= (spam,1-spam)\n",
        "            else:\n",
        "                s,h=distribution[mot]\n",
        "                distribution[mot]=(s+spam,h+1-spam)\n",
        "    return distribution       \n",
        "\n",
        "def df_distribution(df) :\n",
        "    '''Retourne un dataframe à partir du vocabulaire de distribution''' \n",
        "    distribution=vocabulaire_distribution(df)\n",
        "    vocabulaire,NSpam,NHam=[],[],[]\n",
        "    for mot in distribution:\n",
        "        s,h=distribution[mot]\n",
        "        vocabulaire.append(mot)\n",
        "        NSpam.append(s)\n",
        "        NHam.append(h)\n",
        "    return pd.DataFrame({'spam' : NSpam,'ham' : NHam },index=vocabulaire)\n",
        "\n",
        "\n",
        "D=df_distribution(data)\n",
        "nb_mots,_=D.shape\n",
        "print(f'On a donc un dataframe de la distribution du vocabulaire qui est composé {nb_mots} mots.')\n",
        "D.head(5)\n"
      ]
    },
    {
      "cell_type": "markdown",
      "metadata": {
        "id": "YM3tdoE2xna1"
      },
      "source": [
        "Nous allons ensuite devoir vectoriser nos données selon ce vocabulaire pour qu'elles soient utilisables par les différents modèles d'apprentissage que nous allons mettre en place.\n",
        "Malheureusement, utiliser un vecteur de 46 081 variables pour chaque mail de notre échantillon nous demanderais trop de calculs et ne serait peut être pas pertinent. Nous allons donc devoir faire un choix sur comment déterminer le vocabulaire que nous allons utiliser pour nos modèles d'apprentissage."
      ]
    },
    {
      "cell_type": "markdown",
      "metadata": {
        "id": "5D56Kyl4xna2"
      },
      "source": [
        "### B) Réduction de notre vocabulaire par les statistiques et probabilités"
      ]
    },
    {
      "cell_type": "markdown",
      "metadata": {
        "id": "3P-Ww94Cxna2"
      },
      "source": [
        "Dans les différents classifieurs probabilistes, il est souvent nécessaire d'utiliser un lissage, qui est une technique qui vise à ajuster l'estimation du maximimum de vraisemblance dans le but de corriger des imprécisions dûes à la rareté de certaines données. En effet, comme nous allons supposer que nos variables aléatoires sont indépendantes, nous allons multiplier un grand nombre de probabilités entre elles et donc ne souhaitons pas avoir de probabilités nulles.\n",
        "Il existe différents types de lissage, pour notre modèle on utilisera le lissage de Laplace qui est aussi utilisé par Sklearn."
      ]
    },
    {
      "cell_type": "code",
      "execution_count": 16,
      "metadata": {
        "id": "_bdh4MB_xna3"
      },
      "outputs": [],
      "source": [
        "def lissage_Laplace(nb_Xi_Y,total_Y,nb_Y,alpha=1) :\n",
        "    '''Retourne l'estimation du taux de xi dans Y avec un lissage de Laplace ( hyper paramètre alpha par défaut vaut 1)'''\n",
        "    return (nb_Xi_Y+alpha)/(total_Y+alpha*nb_Y)\n",
        "#On pourrait voir se lissage comme le fait d'ajouter \n",
        "#un ham et un spam contenant tous les mots du vocabulaire dans nos données."
      ]
    },
    {
      "cell_type": "code",
      "execution_count": 17,
      "metadata": {
        "id": "45SHoND5xna3"
      },
      "outputs": [],
      "source": [
        "def df_proba(Xa):\n",
        "    '''Retourne un dataframe de la distribution et \n",
        "    des taux de nos données avec lissage de Laplace''' \n",
        "    D=df_distribution(Xa)\n",
        "    total_ham,total_spam=Xa.label_num.value_counts()\n",
        "    total_mail=total_ham+total_spam\n",
        "    lg_V=len(D.index)\n",
        "    diff,taux_M,taux_M_S,taux_M_H,taux_S_M,taux_H_M=[],[],[],[],[],[]\n",
        "    for mot in D.index:\n",
        "        #distribution\n",
        "        n_spam,n_ham =D.spam[mot],D.ham[mot]\n",
        "        #Taux de Y\n",
        "        t_spam=total_spam/total_mail\n",
        "        t_ham=total_ham/total_mail\n",
        "        #Taux de xi sachant Y avec Lissage de Laplace\n",
        "        t_mot_spam = lissage_Laplace(n_spam,total_spam,2)\n",
        "        t_mot_ham = lissage_Laplace(n_ham,total_ham,2)\n",
        "        #Taux de xi\n",
        "        t_mot= (n_spam+n_ham)/total_mail\n",
        "        #Taux de Y sachant Xi Bayes Theorem \n",
        "        t_spam_mot= (t_mot_spam*t_spam)/(t_mot_spam*t_spam+t_mot_ham*t_ham)\n",
        "        t_ham_mot= (t_mot_ham*t_ham)/(t_mot_spam*t_spam+t_mot_ham*t_ham)\n",
        "        #maj resultat\n",
        "        taux_M.append(t_mot)\n",
        "        taux_M_S.append(t_mot_spam)\n",
        "        taux_M_H.append(t_mot_ham)\n",
        "        taux_S_M.append(t_spam_mot)\n",
        "        taux_H_M.append(t_ham_mot)\n",
        "        diff.append(abs(t_spam_mot-t_ham_mot))\n",
        "    return pd.DataFrame({'spam' : D.spam,'ham' : D.ham,'t(mot)': taux_M ,'t(mot|spam)' : taux_M_S,'t(mot|ham)' : taux_M_H ,'t(spam|mot)' : taux_S_M,'t(ham|mot)' : taux_H_M,'diff': diff},index=D.index)\n",
        "\n",
        "\n",
        "def afficherDiff(Xa,taux):\n",
        "    '''Affiche la différence en valeur absolue de P(ham|mot)-P(spam|mot) \n",
        "    selon le taux de différence souhaité'''\n",
        "    V_proba=df_proba(Xa)\n",
        "    V_proba=V_proba.sort_values(by=['diff'],ascending=False)\n",
        "    fig, axs = plt.subplots(1,2)\n",
        "    fig.set_figheight(5)\n",
        "    fig.set_figwidth(14)\n",
        "    V0=list(range(V_proba.index.size))\n",
        "    V1=list(range(V_proba[(V_proba['diff']>taux)].index.size))\n",
        "    D0=np.array(V_proba['diff'])\n",
        "    D1=np.array(V_proba[(V_proba['diff']>taux)]['diff'])\n",
        "    axs[0].plot(V0,D0,label='|P(spam|mot)-P(ham|mot)|')\n",
        "    axs[0].set_title('Différence absolue entre P(spam|mot) et P(ham|mot)')\n",
        "    axs[0].legend()\n",
        "    axs[1].plot(V1,D1,label='|P(spam|mot)-P(ham|mot)|')\n",
        "    axs[1].set_title(f'Différence absolue entre P(spam|mot) et P(ham|mot) > {taux}')\n",
        "    axs[1].legend()\n",
        "\n",
        "\n"
      ]
    },
    {
      "cell_type": "code",
      "execution_count": 18,
      "metadata": {
        "id": "52eXLd0Axna4",
        "outputId": "a05efd28-166b-4537-ec3b-470def0dfb9d",
        "colab": {
          "base_uri": "https://localhost:8080/",
          "height": 206
        }
      },
      "outputs": [
        {
          "output_type": "execute_result",
          "data": {
            "text/plain": [
              "             spam   ham    t(mot)  t(mot|spam)  t(mot|ham)  t(spam|mot)  \\\n",
              "enron           0  1462  0.282731     0.000666    0.398204     0.000683   \n",
              "preliminary     1    39  0.007735     0.001332    0.010887     0.047583   \n",
              "needed         71   110  0.035003     0.047968    0.030212     0.393254   \n",
              "economics       3    14  0.003288     0.002665    0.004083     0.210395   \n",
              "change         87   370  0.088377     0.058628    0.100980     0.191599   \n",
              "\n",
              "             t(ham|mot)      diff  \n",
              "enron          0.999317  0.998635  \n",
              "preliminary    0.952417  0.904833  \n",
              "needed         0.606746  0.213491  \n",
              "economics      0.789605  0.579210  \n",
              "change         0.808401  0.616802  "
            ],
            "text/html": [
              "\n",
              "  <div id=\"df-2d8c5450-6849-4e42-82f3-96085c5d8463\">\n",
              "    <div class=\"colab-df-container\">\n",
              "      <div>\n",
              "<style scoped>\n",
              "    .dataframe tbody tr th:only-of-type {\n",
              "        vertical-align: middle;\n",
              "    }\n",
              "\n",
              "    .dataframe tbody tr th {\n",
              "        vertical-align: top;\n",
              "    }\n",
              "\n",
              "    .dataframe thead th {\n",
              "        text-align: right;\n",
              "    }\n",
              "</style>\n",
              "<table border=\"1\" class=\"dataframe\">\n",
              "  <thead>\n",
              "    <tr style=\"text-align: right;\">\n",
              "      <th></th>\n",
              "      <th>spam</th>\n",
              "      <th>ham</th>\n",
              "      <th>t(mot)</th>\n",
              "      <th>t(mot|spam)</th>\n",
              "      <th>t(mot|ham)</th>\n",
              "      <th>t(spam|mot)</th>\n",
              "      <th>t(ham|mot)</th>\n",
              "      <th>diff</th>\n",
              "    </tr>\n",
              "  </thead>\n",
              "  <tbody>\n",
              "    <tr>\n",
              "      <th>enron</th>\n",
              "      <td>0</td>\n",
              "      <td>1462</td>\n",
              "      <td>0.282731</td>\n",
              "      <td>0.000666</td>\n",
              "      <td>0.398204</td>\n",
              "      <td>0.000683</td>\n",
              "      <td>0.999317</td>\n",
              "      <td>0.998635</td>\n",
              "    </tr>\n",
              "    <tr>\n",
              "      <th>preliminary</th>\n",
              "      <td>1</td>\n",
              "      <td>39</td>\n",
              "      <td>0.007735</td>\n",
              "      <td>0.001332</td>\n",
              "      <td>0.010887</td>\n",
              "      <td>0.047583</td>\n",
              "      <td>0.952417</td>\n",
              "      <td>0.904833</td>\n",
              "    </tr>\n",
              "    <tr>\n",
              "      <th>needed</th>\n",
              "      <td>71</td>\n",
              "      <td>110</td>\n",
              "      <td>0.035003</td>\n",
              "      <td>0.047968</td>\n",
              "      <td>0.030212</td>\n",
              "      <td>0.393254</td>\n",
              "      <td>0.606746</td>\n",
              "      <td>0.213491</td>\n",
              "    </tr>\n",
              "    <tr>\n",
              "      <th>economics</th>\n",
              "      <td>3</td>\n",
              "      <td>14</td>\n",
              "      <td>0.003288</td>\n",
              "      <td>0.002665</td>\n",
              "      <td>0.004083</td>\n",
              "      <td>0.210395</td>\n",
              "      <td>0.789605</td>\n",
              "      <td>0.579210</td>\n",
              "    </tr>\n",
              "    <tr>\n",
              "      <th>change</th>\n",
              "      <td>87</td>\n",
              "      <td>370</td>\n",
              "      <td>0.088377</td>\n",
              "      <td>0.058628</td>\n",
              "      <td>0.100980</td>\n",
              "      <td>0.191599</td>\n",
              "      <td>0.808401</td>\n",
              "      <td>0.616802</td>\n",
              "    </tr>\n",
              "  </tbody>\n",
              "</table>\n",
              "</div>\n",
              "      <button class=\"colab-df-convert\" onclick=\"convertToInteractive('df-2d8c5450-6849-4e42-82f3-96085c5d8463')\"\n",
              "              title=\"Convert this dataframe to an interactive table.\"\n",
              "              style=\"display:none;\">\n",
              "        \n",
              "  <svg xmlns=\"http://www.w3.org/2000/svg\" height=\"24px\"viewBox=\"0 0 24 24\"\n",
              "       width=\"24px\">\n",
              "    <path d=\"M0 0h24v24H0V0z\" fill=\"none\"/>\n",
              "    <path d=\"M18.56 5.44l.94 2.06.94-2.06 2.06-.94-2.06-.94-.94-2.06-.94 2.06-2.06.94zm-11 1L8.5 8.5l.94-2.06 2.06-.94-2.06-.94L8.5 2.5l-.94 2.06-2.06.94zm10 10l.94 2.06.94-2.06 2.06-.94-2.06-.94-.94-2.06-.94 2.06-2.06.94z\"/><path d=\"M17.41 7.96l-1.37-1.37c-.4-.4-.92-.59-1.43-.59-.52 0-1.04.2-1.43.59L10.3 9.45l-7.72 7.72c-.78.78-.78 2.05 0 2.83L4 21.41c.39.39.9.59 1.41.59.51 0 1.02-.2 1.41-.59l7.78-7.78 2.81-2.81c.8-.78.8-2.07 0-2.86zM5.41 20L4 18.59l7.72-7.72 1.47 1.35L5.41 20z\"/>\n",
              "  </svg>\n",
              "      </button>\n",
              "      \n",
              "  <style>\n",
              "    .colab-df-container {\n",
              "      display:flex;\n",
              "      flex-wrap:wrap;\n",
              "      gap: 12px;\n",
              "    }\n",
              "\n",
              "    .colab-df-convert {\n",
              "      background-color: #E8F0FE;\n",
              "      border: none;\n",
              "      border-radius: 50%;\n",
              "      cursor: pointer;\n",
              "      display: none;\n",
              "      fill: #1967D2;\n",
              "      height: 32px;\n",
              "      padding: 0 0 0 0;\n",
              "      width: 32px;\n",
              "    }\n",
              "\n",
              "    .colab-df-convert:hover {\n",
              "      background-color: #E2EBFA;\n",
              "      box-shadow: 0px 1px 2px rgba(60, 64, 67, 0.3), 0px 1px 3px 1px rgba(60, 64, 67, 0.15);\n",
              "      fill: #174EA6;\n",
              "    }\n",
              "\n",
              "    [theme=dark] .colab-df-convert {\n",
              "      background-color: #3B4455;\n",
              "      fill: #D2E3FC;\n",
              "    }\n",
              "\n",
              "    [theme=dark] .colab-df-convert:hover {\n",
              "      background-color: #434B5C;\n",
              "      box-shadow: 0px 1px 3px 1px rgba(0, 0, 0, 0.15);\n",
              "      filter: drop-shadow(0px 1px 2px rgba(0, 0, 0, 0.3));\n",
              "      fill: #FFFFFF;\n",
              "    }\n",
              "  </style>\n",
              "\n",
              "      <script>\n",
              "        const buttonEl =\n",
              "          document.querySelector('#df-2d8c5450-6849-4e42-82f3-96085c5d8463 button.colab-df-convert');\n",
              "        buttonEl.style.display =\n",
              "          google.colab.kernel.accessAllowed ? 'block' : 'none';\n",
              "\n",
              "        async function convertToInteractive(key) {\n",
              "          const element = document.querySelector('#df-2d8c5450-6849-4e42-82f3-96085c5d8463');\n",
              "          const dataTable =\n",
              "            await google.colab.kernel.invokeFunction('convertToInteractive',\n",
              "                                                     [key], {});\n",
              "          if (!dataTable) return;\n",
              "\n",
              "          const docLinkHtml = 'Like what you see? Visit the ' +\n",
              "            '<a target=\"_blank\" href=https://colab.research.google.com/notebooks/data_table.ipynb>data table notebook</a>'\n",
              "            + ' to learn more about interactive tables.';\n",
              "          element.innerHTML = '';\n",
              "          dataTable['output_type'] = 'display_data';\n",
              "          await google.colab.output.renderOutput(dataTable, element);\n",
              "          const docLink = document.createElement('div');\n",
              "          docLink.innerHTML = docLinkHtml;\n",
              "          element.appendChild(docLink);\n",
              "        }\n",
              "      </script>\n",
              "    </div>\n",
              "  </div>\n",
              "  "
            ]
          },
          "metadata": {},
          "execution_count": 18
        }
      ],
      "source": [
        "V_proba=df_proba(data)\n",
        "V_proba.head(5)"
      ]
    },
    {
      "cell_type": "code",
      "execution_count": 19,
      "metadata": {
        "id": "y2JFN9JMxna4",
        "outputId": "93523525-a196-4d2f-a498-09b6c2e0dc87",
        "colab": {
          "base_uri": "https://localhost:8080/",
          "height": 336
        }
      },
      "outputs": [
        {
          "output_type": "display_data",
          "data": {
            "text/plain": [
              "<Figure size 1008x360 with 2 Axes>"
            ],
            "image/png": "iVBORw0KGgoAAAANSUhEUgAAAzcAAAE/CAYAAAB7HT2eAAAABHNCSVQICAgIfAhkiAAAAAlwSFlzAAALEgAACxIB0t1+/AAAADh0RVh0U29mdHdhcmUAbWF0cGxvdGxpYiB2ZXJzaW9uMy4yLjIsIGh0dHA6Ly9tYXRwbG90bGliLm9yZy+WH4yJAAAgAElEQVR4nOzdeXxcdb3/8ddnsu9tmu5b2pIWSndCi2UpUvYdFQVcWgUR/YkXFRQURVGvvRcBceEiXIEri2wiooKI0Aq0lNJCW6CU7qTpvqVNmmb//v44J2GaJs0kncmZmbyfj8c8Mmedzzln5nzyOcv3mHMOERERERGRRBcKOgAREREREZFoUHEjIiIiIiJJQcWNiIiIiIgkBRU3IiIiIiKSFFTciIiIiIhIUlBxIyIiIiIiSaFHFDdmdo+Z/SCs+6tmts3Mqsysj5mdaGar/e6Lw8YLmdlfzOzqYCKPDjObbWavRXmexWbmzCw1mvNNRGb2x/DvTTwws3lmdmo3fdYFZvZ4d3zWYWL4ipn90n/frd9NM9tgZsXd9FnXmtl/dcdnSduUT5RPYkn5RPlE+eTIJXxx438RDphZpZlVmNkCM7vGzFqWzTl3jXPuJ/74acAdwJnOuVzn3C7gVuA3fvczYbP/KfCyc+7e7lwm6Tr/+3B6FOfXvGOr8l8bzOzGsOETgInAX6L1mfGsrR29c+6vwLH+uujKPH9kZg93ME7z77zK/0fyQTPL9YelAzcDt3Xl8+OVmZ1qZuWtet8HfNbM+gURU7JTPpFwyiexpXzSfbo7n5jZJDNbYmbV/t9Jhxm3qtWr0cx+7Q9r/ZupCj+41J6EL258Fzjn8oDhwBzgu8Dv2xm3P5AJvBfWb3irbgCcc99zzt11uA/WkabEcgTbq5dzLhe4HPihmZ3t9/8K8IjT03D/CMT6iPQF/jaYApTiJSCAi4CVzrlNMf78wDnnaoDngS8EHUsSUz6RiCifxIzySTeIJJ+YWf/OztcvEP8CPAz0Bv4P+Ivfv604cptfwADgAPBkq9F6hY33kw6DcM4l9AvYAJzeqt9UoAkY53c/iHfUbDSwH3BAFfAysNYf94DfLwMowEtmW4BN/rQp/rxmA/OBO4Fd/rAM4BdAGbANuAfI8sc/FSgHvg1s9+f5xbBYs4DbgQ+BvcBrYdOeACwAKoBlwKmHWQ83+stSCawALgkb1hzzb/zPWAnMbDV8nT/teuCzfv8Q3g/+Qz/2PwAF/rBifz2mtrUdgB8BD4d1d2ZZBgF/Anb48Xyj1Xyf8GOpxPsnotQf9lCrbfmdsDiv9LfPK/64XwLeB/YALwDD24nloOX0+70JXO+/XwecFDbsKODf/nreCTweNswB3/Cn2Yl3ZCjkDxuF933c5Q97BO/HHP49vwFYjvcd/j3eP1bP++vhX0DvsPHnNa/jsGX4IrDRX+ZrgOP9+VXgHWlunvZw272Mj34/VcDH/P4nAus7u02Bs4E6oN6f37JIfuf+uvub//5+4OY2ttksP96dwPdb7R9e95d7C97vIr3VdvoasNpftz/xt88CYB/e9y+9VWzFrX7v3+Gj3/vFwLnAKmA38L2waTOAXwKb/dcv/X45eN/jprB1Pcif5rPA3KD3vcn4av09C/u+KJ98NKw5ZuUT5RPlkyTPJ3i//5eAzwHZEe5Hz8Tb11lYvzLg7AimnYX3nbb2fjMRxdCZkePx1fpL2mpFftV//yDw0/ZWVBtf9D8Dv/O/EP2ARcBX/GGzgQbgWiAVL5ncCTwLFAJ5wF+Bn4d9ORvwLlVI87+U1fg7DuC3eDuOwUAKMN3/Mg7G2zGdi7dzOMPv7tvOergU7wcfAj6Dt8Ma2Crmb/oxfAZvZ1noL+M+YIw/7kDgWP/9l4A1wEggF3gaeKit9djGOvwRfjLqzLL4w5cAPwTS/c9eB5wVNt8af14pwM+BhYfZls1x/sFf1iy8IzNrgGP8bXgzsKCd9dqynIDh7XSrgZn+/Fz4cuAdcfq+vxyZHJyoHDDXX+/D8HZOV/nDjvLXSwbQF3gF+GWr5VqIl4AG4+3o3gIm+5/zMnBL2PjzODQZ3eOPe6a/Dp/B+343z29GZ7d72OcV+v3zu7hNH25r/be1XYGheP+E/MTvfhO4tI1tdp+/vScCtcAx/vDj8P45SvXHfR+4rtV2+guQDxzrT/uSH3cB3s5+VqvYwpNRg7+sacCX8RLwo3j7hmPxkswIf/xb/e3az9/uC8KW61SgvI11MQXYHfS+NxlfKJ8onyifKJ8on4QPz8YrbF7EK2TvxS9CDzPNN4HnW/X7G/DtCPbBLwM/amP9b8Ir9B4AijqcT0cjxPuL9pPRQvzqmk4kI7wfey3+0S6/3+X4lS3ejr0sbJjh7fhHhfX7GP5RB/8LdaDV5233fwwhf9jENuL/Lv4OIKzfC+E/gg7Wy1LgorCYN3NwFb0I+DzeDrUC+GT4MvvjvAR8Lax7DN4RkeYfcaTJKOJlAaaFr1+/303AA2Hz/VfYsLHAgfa+D2Fxjgzr9zxwZVh3CC/BDG8jnubpK/B+2O/z0VGiwf6wzLDx/4D34x/SxrwcYUcu8I7mvNTO9rsYeLvVcn02rPtPwP+EdV8LPBPWPY9Dk9HgsOG7gM+0mt91nd3uYeOk+f2HdXGbRpKMqvzt8CFwNx8dkV7dar02xzgkrN8i4LJ25n0d8OdW2+nEsO4lwHfDum/n0H8Uilv93puPzOf585vWan4X++/XAueGDTsL2BA2r7aSUQnQGMl+QK/OvVA+aW+9KJ8cvL2VT5RPelw+wSsEvwd8gHfG9tPtjPcD4LFW/R4hrGhpZ7rhQCN+seb3y8W7bDAVb3/6FPBCR7Em8/W9g/FO2XXWcLwf1hYza+4Xwjv92iz8fV+8ynZJ2PiGdxSo2S7nXENYdzXeBivCO/Kxtp04LjWzC8L6peEdqTmEmX0B+BbeD5Gw+Tfb5Pxviu9DvNOS+83sM8D1wO/NbD5edb0S78jdh62maf6CdUZnlmU4MMjMKsL6pQCvhnVvDXtfDWSaWWqrddxa+DYbDtxlZreH9TO878yHtK2ojfk3x5iHd+QKvNPHPwEWmdke4Hbn3P3txPEh3jpuvq71LuBkf34hvOQXblvY+wNtdOe2E3tnp+/Kds/z/1a0MSySbRqJi51z/2qj/56wzw/X+nvSfMPoaLybwEvxfrupeAkiXEfrasBh4tzlnGsMG7et+R1uXQ86zLzBW9a9HYwj0aV8onwSTvlE+aQn5pMteJceLgPOAYa0M14V3pmqcPl4l+UdzueB15xz65t7OOeqgMV+5zYz+zre/jTPOdfu/JKlQYGDmNnxeDuWrjRXuRHvSFuRc66X/8p3zh0bNk74Tn0n3pfr2LDxC5x3Y1RHduLtxEa1E8dDYfPs5ZzLcc7NaT2imQ3HO2X6daCPc64X8C7eDrbZYAvLlninsTcDOOdecM6dgXcJwUp/XvjDh7eapoGDf1jN9uP9sJuF/1gjXhZ/3PWtxs1zzp3bxrhtcRH034h3WUj4Z2Q55xZE+BneDJ3bj/ePxOiwfludc192zg3Cuzn0bjM7KmyyoWHvW7YB8J9+jOOdc/l4p4HDt1d3Otx2b2/9HoN3hGhfG8M62qbtzTNSywnbBhH4H7zveYm/rr9HfK3r5u/E4db1slgGJR9RPlE+6aC/8snhKZ90n5jkEzObbGZ34l0W9j28S9QGO+fuaGeS94AJrfYRE2ijoZVWvoDX+MDhNC/HYeuXpCpuzCzfzM4HHsM7LflOZ+fhnNsC/BO43Z9fyMxGmdmMdsZvwtt539ncnJ6ZDTazsyL4rCa8m9fuMLNBZpZiZh8zswy8ViYuMLOz/P6ZflN+bVXKzdfq7vA//4vAuFbj9AO+YWZpZnYp3hf6OTPrb2YXmVkOXhKuwrvpDLzrfb9pZiP8ZhL/E++GxraOaC0FLvPnXwp8KmxYZ5ZlEVBpZt81syx//HH+PxiR2IZ3Levh3APcZGbHAphZgb9OuuI5oOW7YWaXhi3XHrzt0hQ2/g1m1tvMhgL/ATS355+Ht+73mtlgvJs9g3K47b4Db3lar+MZeJdntKWjbboNKLaw5nY76aBtEIE8vPsCqszsaOCrXfzcaPgjcLOZ9TWzIrxrq5ubMd0G9DGzglbTHG5dS5QonyifoHwSDcon3Sfq+cTMXsa7768GOMU5N905d187hWezeXiXl33DzDLMO9sC3v007X3OdLyDSE+26j/NzMb4+84+wK+Aec65w55tSpbi5q9mVolX0X8f7xThF49gfl/Au1FtBd4O5Sm8o1Dt+S7eDXMLzWwfXksjYyL8rOuBd/BuYtsN/Bdeiycb8W5U/B7eDmAj3g7qkG3mnFuBd93m63hf4PF4rdmEewPv2sqdwM+ATznvmQwhvMsPNvufP4OPfpz347UY8wpeiyQ1eNfituUHeEcM9wA/xrvhrTm+zixLI3A+MMn/zJ3A/+LdeBeJn+P9uCvM7Pq2RnDO/RlvPT/mb6938U6xdsW9eO3ENx+hOB54w8yq8G4K/g/n3Lqw8f+Cd8p6KfB3Pmpi9sd4N/bt9fs/3cV4oqHd7e6cq8b7/sz31/EJ/jSX4900fYgItmnzzmyXmb3VhXj/ChxtZh2dfm92PXAF3iny+/joH4Ig/BTvlPtyvP3AW34//Et5/gis89f1IDPLxLv5uaOjW9J1yifKJ82UT46c8kn3iUU++T7evU83OedWRRKEc64O7z6vL+BdWvglvMsA6wDM7Htm1rqgmgU87Q691Gwk8A+89fsu3kGTyzuKobmpNRHpIjN7FHjCHfzAvrbGc3inrtd0Q0zz8G7em9cNn3UB8Hnn3Kdj/VmHieFqYKxz7roAPnsD3s22G7rhs64FhjrnvhPrzxKR7qd8onyC8skRS+YGBUS6hXPuiqBjCJLznij914Bj6BFPfXfO/TroGEQkdpRPlE+6SzLnk2S5LE1EDvYgXpOSEnu/pO1WfUREksGDKJ90F+WTKNBlaSIiIiIikhR05kZERERERJKCihsREREREUkKgTUoUFRU5IqLi4P6eBERAZYsWbLTOdc36DjikfKUiEjwOpunAituiouLWbx4cVAfLyIigJl9GHQM8Up5SkQkeJ3NU7osTUREREREkoKKGxERERERSQoqbkREREREJCkEds+NSLKpr6+nvLycmpqaoEMROURmZiZDhgwhLS0t6FBEJCDKUxLPopWnVNyIREl5eTl5eXkUFxdjZkGHI9LCOceuXbsoLy9nxIgRQYcjIgFRnpJ4Fc08pcvSRKKkpqaGPn36KGFI3DEz+vTpk/BHa83sfjPbbmbvtjPczOxXZrbGzJab2ZSwYbPMbLX/mtV9UYvED+UpiVfRzFMdFjdHkkxEeholDIlXSfLdfBA4+zDDzwFK/NfVwP8AmFkhcAswDZgK3GJmvWMaqUicSpJ9gSShaH03Izlz8yBdSCYiIiLR5Jx7Bdh9mFEuAv7gPAuBXmY2EDgLeNE5t9s5twd4kcPnNRERSVAdFjdHkExEpJudeuqpbNiwgdmzZzNixAgmTZrElClTeP3111vGue6663jllVe6PbZ58+Yxe/bsqMzrmWeeYcWKFS3d119/PS+//HKb427YsIGsrCwmTZrE2LFjueaaa2hqagJgy5YtnH/++QA8+OCDfP3rX49KfK1F6yn3GzZs4NFHH23pfueddw5apxs2bODUU0+NymclqMHAxrDucr9fe/1FJADKVYdSroqeaNxz0+1JY+nGCh5/syyWHyGS8G677TaWLl3KnDlz+MpXvgLArl27WLhwIaecckrA0R2Z1gnj2muvZc6cOe2OP2rUKJYuXcry5ctZsWIFzzzzDAB33HEHX/7yl2Meb7S0Thjjx4+nvLycsjLtD6PFzK42s8VmtnjHjh1dns/aHVU8MH89zrkoRieSfJSrPqJcFR3d2qBAtJLGP97dys3PvKukIRKBU045hTVr1gDwpz/9ibPP/uhqnBtvvJGxY8cyYcIErr/+egBmz57NNddcQ2lpKaNHj+Zvf/sb4O2sTj75ZKZMmcKUKVNYsGAB4B3lmjFjBhdddBEjR47kxhtv5JFHHmHq1KmMHz+etWvXHhJTpNNs2LCB0047jQkTJjBz5kzKyspYsGABzz77LDfccAOTJk1i7dq1DB8+nF27drF169bDrovU1FSmT5/e7vrYvHkzZ599NiUlJXznO99p6f/Vr36V0tJSjj32WG655ZaW/sXFxdx0001MmjSJ0tJS3nrrLc466yxGjRrFPffc02YMkUzjnOOGG25g3LhxjB8/nscff7xle7366qtMmjSJO++8E4ALLriAxx577LDL3YNsAoaGdQ/x+7XX/xDOuXudc6XOudK+fft2OZAFa3by47+uoGx3dZfnIdKTKFd9RLnqyESjKehOJQ3gXoDS0tIuVyYFWWnUNzoO1DeSna7WrCX+/Piv77Fi876oznPsoHxuueDYTk/317/+lfHjxwMwf/58PvWpTwHekbE///nPrFy5EjOjoqKiZZoNGzawaNEi1q5dy8c//nHWrFlDv379ePHFF8nMzGT16tVcfvnlLF68GIBly5bx/vvvU1hYyMiRI7nqqqtYtGgRd911F7/+9a/55S9/eUhckUxz7bXXMmvWLGbNmsX999/PN77xDZ555hkuvPBCzj///JZlAZgyZQrz58/nk5/8ZLvrorq6mpdeeolbb72V9evX07t3bzIyMlqGL126lLfffpuMjAzGjBnDtddey9ChQ/nZz35GYWEhjY2NzJw5k+XLlzNhwgQAhg0bxtKlS/nmN7/J7NmzmT9/PjU1NYwbN45rrrmmzTg6mubpp59m6dKlLFu2jJ07d3L88cdzyimnMGfOHH7xi1+0JHGA0tJS5syZc1CC68GeBb5uZo/hNR6w1zm3xcxeAP4zrBGBM4GbYhnIx0YVAfDGut0M75MTy48S6ZJ4ylOgXBVOuerIROPMzbPAF/xW007ATyZRmG+7CrK8h/vsPVAfy48RSWjNR4vuvfdefv/73wPedbvNR6MLCgrIzMzkyiuv5OmnnyY7O7tl2k9/+tOEQiFKSkoYOXIkK1eupL6+ni9/+cuMHz+eSy+99KBT7ccffzwDBw4kIyODUaNGceaZZwLeqegNGza0GV8k07z++utcccUVAHz+85/ntddea3d5+/Xrx+bNm9sctnbtWiZNmsSJJ57IeeedxznnnHPQumg2c+bMlvUyduxYPvzwQwCeeOIJpkyZwuTJk3nvvfcOWvYLL7ywJe5p06aRl5dH3759ycjIOCgJh+tomtdee43LL7+clJQU+vfvz4wZM3jzzTc7vdzJxsz+CLwOjDGzcjO70syuMbPmzPwcsA5YA9wHfA3AObcb+Anwpv+61e8XMyOLcshKS2HFluj+8yiSbJSrPqJcFR0dnvbwk8mpQJGZleM1p5kG4Jy7By+ZnIuXTKqBL8Yq2Gbhxc3AgqxYf5xIp3X1yFU03XbbbQcdLQLIyspqaUM+NTWVRYsW8dJLL/HUU0/xm9/8puVGx9bNMZoZd955J/3792fZsmU0NTWRmZnZMjz8iFIoFGrpDoVCNDQ0tBlfV6Y5nJqaGrKysnjjjTdartu+9dZbmTBhQst1zO2ti7ZiSklJoaGhgfXr1/OLX/yCN998k969ezN79uyDpguPu/UydbTsnZmmo+XuCZxzl3cw3AH/r51h9wP3xyKutoRCxsShBTz3zhZuuWCsmt+VuBMPeQqUq0C5KtoiaS3tcufcQOdcmnNuiHPu9865e/zCBr+VtP/nnBvlnBvvnFsc66BbiptqnbkR6Yxjjjmm5Rreqqoq9u7dy7nnnsudd97JsmXLWsZ78sknaWpqYu3ataxbt44xY8awd+9eBg4cSCgU4qGHHqKxsTHm8U6fPr3lGt1HHnmEk08+GYC8vDwqKysPGnfVqlWMGzeOadOmsXTpUpYuXdpy1Kkto0ePbvdIXbh9+/aRk5NDQUEB27Zt4/nnn+/6AkXo5JNP5vHHH6exsZEdO3bwyiuvMHXq1MMut8Sf047ux/bKWiprO/8PkEhPplz1EeWqzuvWBgWiRZeliXTNeeedx7x58wCorKzk/PPPZ8KECZx00knccccdLeMNGzaMqVOncs4553DPPfeQmZnJ1772Nf7v//6PiRMnsnLlSnJyYn8fwa9//WseeOABJkyYwEMPPcRdd90FwGWXXcZtt93G5MmTWbt2LfX19axZs4bS0tKI552Tk8OoUaNaEmh7Jk6cyOTJkzn66KO54oorOPHEE49omSJxySWXMGHCBCZOnMhpp53Gf//3fzNgwAAmTJhASkoKEydObLlJc+7cuZx33nkxj0k6r1d2OqADcSKdpVz1EeWqLnDOBfI67rjjXFeV7drvhn/3b+6xRR92eR4i0bZixYqgQ3AzZsxw69evP+w4J554otuzZ0+7w2fNmuWefPLJKEfm3Ny5c92sWbOiPl/nnHv66afdzTff3KXpvv/978cgooMNHz48JvOtqalx06ZNc/X19c4559avX+9mzJjR7vhtfUeBxS6gPBDvryPJU845N3/NDuUqiSvxkKecU67qynQ9JVdFI08l5JmbgQWZpKUYG3apiU2Rzrr99tuT7rkoDQ0NfPvb3+70dJdccknUHloWhLKyMubMmUNqqlqNjEcnjOjDgPxMXlm9M+hQRBKOctVHlKs6JyEzYmpKiOI+OazZXhV0KCJxZfbs2fTq1euw40ybNu2wwx988MEoRvSR4uJiLr744pjM+9JLL+3ytFdddVUUI2nbddddF5P5lpSUUFJS0tLdq1evqD1ZW45cKGQMKMhkz/66oEMRiSvKVZ2nXBW5hCxuAEr65/LKKh0NEwkXz//YFhcXJ/SRpyMRq4TRmoqb+FOYk87LK7dTWVNPXmZa0OGIxIV43k8pV8VerHNVQl6WBtAnJ4Oq2gZq6mPfCoZIpLxLQ0Xij76bwbho0iAA3ipr+zkSIt1N+wKJV9H6biZscTNtZCEAb5XtCTgSEU9mZia7du1S4pC445xj165dBz3vQbrHqWP6kZ4a4i9LNwUdiojylMStaOaphL0s7dhBBQCs3bGf6aOKAo5GBIYMGUJ5eTk7duwIOhSRQ2RmZjJkyJCgw+hxCrLSuHjSIP6+fAs1lzSSmZYSdEjSgylPSTyLVp5K2OJmeGE2uRmprNlW2fHIIt0gLS2NESNGBB2GiMSZiycN5onF5Ty7dDOfPn5o0OFID6Y8JT1Bwl6WFgoZR/XLZdU2tZgmIiLxa9rIPpT0y+U7f1rOkg91KbWISCwlbHEDcMzAPFZs2adrR0VEJG6lhIyHr5pGRmqI/1uwIehwRESSWkIXN0cPyGfvgXo2760JOhQREZF29c/P5LSj+7Hkwz00NemAnIhIrCR0cTOybw4Ab+k0v4iIxLmzxw1gU8UBnnt3S9ChiIgkrYQubsb5Laat3q77bkREJL6dP2EQAwsy+cOCD4MORUQkaSV0cdM7J51hhdksWr8r6FBEREQOKyVkTB1RyKINu1mllj5FRGIioYsbgMnDerFw3W41KiAiInHvP2aWkBIyrnloCbUNjUGHIyKSdBK+uBnUKwuAst3VAUciIiJyeCP75nLv549j3c793D13bdDhiIgknYQvbqaNKARgefnegCMRERHp2Mxj+nPe+IHc9+o6aup19kZEJJoSvriZPLQ3AOt27A84EhERkchcNnUo1XWNvLJqR9ChiIgklYQvbgqy0xjcK4t5q7YHHYqIiEhEThjZh4KsNH4zd43uvRERiaKEL27Ae97N5ooDQYchIiISkbSUEF+ZMZLl5Xv5yd9WBB2OiEjSSIri5rjhvdm2r5aq2oagQxEREYnI1049ik9MGczDC8t4/M2yoMMREUkKSVHcNLeY9sY6Pe9GREQSx39eMp5RfXP47p/e0RUIIiJRkBTFzYlHFQHw0krddyMiIokjMy2Fa08rAWD6nJfVepqIyBFKiuJmQH4mAKv1xGcREUkwF00axMkl3kG6c+56lb0H6gOOSEQkcSVFcZMSMs4bP5A3N+zRUS8REUkoZsYfvjSVS48bwvqd+zlpzsus2a6DdSIiXZEUxQ1AcVE2oOfdiIhI4jEzbrt0IjecNYbK2gZOv+MVFuo+UhGRTkua4uaUkr4ALCnbE3AkIiIiXfP/Pn4Uv758MgCX3buQlVv3BRyRiEhiSZri5phB+QBs2qPWZkREJHFdMHEQ//rWKQA8slBNRIuIdEbSFDf5mWn0yUnnjfU6jS8iIontqH55XDhxEI8uKmPDTl1uLSISqaQpbsBrWODtsgq1NCMiIgnvqpNH0NjkOO9Xr+KcCzocEZGEkFTFzbfOGA3ArqragCMRERE5MhOG9OKiSYPYX9fIDU8tDzocEZGEkFTFTZ/cDACeXFIecCQiIiJH7taLxgHw1JJyLr1nAWW7qgOOSEQkviVVcTNtZCEAb6j5TBERSQIFWWm8ftNpzBjdlzc37OGU2+byu3+vDTosEZG4lVTFTX5mGueMG8DqbVVBhyIiIhIVAwuy+L8vTeWpaz4GwM+fX8kd//wg4KhEROJTUhU3zSprG1i9TU93FhGR5FFaXMh7Pz6LjNQQv3p5Df/76rqgQxIRiTtJV9ycM34gALf/c1XAkYiIiERXTkYq//rWDAB++vf3eXX1joAjEhGJL0lX3Fw4cRDHDe/N7uq6oEMRERGJuqGF2fz16ycB8PnfL1IjAyIiYZKuuAHIy0zVZWkiIpK0xg8p4DtnjwHgXD0HR0SkRVIWN5mpKeyprleLMiIikrS+dupRnFxSRFVtA3OeX8kL720NOiQRkcAlZXHzhenDAbhPN1uKiCQVMzvbzD4wszVmdmMbw4eb2UtmttzM5pnZkLBhjWa21H89272Rx8aPLzyWgqw0fvfKOr768BIeWvihHocgIj1aRMVNBMlkmJnNNbO3/YRybvRDjdz0UUV85ZSR7N5fp1P1IiJJwsxSgN8C5wBjgcvNbGyr0X4B/ME5NwG4Ffh52LADzrlJ/uvCbgk6xkb2zWXZLWfywnWnEDLjB8+8yxX/+wZvl+1R/hORHqnD4ibCZHIz8IRzbjJwGepQ2SwAACAASURBVHB3tAPtrH75mTQ52LavNuhQREQkOqYCa5xz65xzdcBjwEWtxhkLvOy/n9vG8KQ0ZkAey245k0evmkZjk+OSuxfw+lqdwRGRnieSMzeRJBMH5PvvC4DN0QuxawbkZwKwrLxCR69ERJLDYGBjWHe53y/cMuAT/vtLgDwz6+N3Z5rZYjNbaGYXxzbU7peTkcr0o4p47hsnkxoy7nhRj0QQkZ4nkuImkmTyI+BzZlYOPAdcG5XojkD//AwAvvLQEt1kKSLSc1wPzDCzt4EZwCag0R823DlXClwB/NLMRrWe2Myu9gugxTt2JOYzZMYOymfayEKWb9rLZ/93IXNXbg86JBGRbhOtBgUuBx50zg0BzgUeMrND5t2dSeO44b157OoTANhUURPTzxIRkW6xCRga1j3E79fCObfZOfcJ/zLp7/v9Kvy/m/y/64B5wOTWH+Ccu9c5V+qcK+3bt29MFqI73HTOMUwf1YelZRVc9/hS6hqagg5JRKRbRFLcdJhMgCuBJwCcc68DmUBR6xl1Z9IwM6YWF2IG2/apuBERSQJvAiVmNsLM0vHu8Tyo1TMzKwo7uHYTcL/fv7eZZTSPA5wIrOi2yLvZuMEFPPjFqZw1bgB7D9Rz//z1QYckItItIiluOkwmQBkwE8DMjsErbgI/nx8KGYMKstiwc3/QoYiIyBFyzjUAXwdeAN7Ha8jmPTO71cyaWz87FfjAzFYB/YGf+f2PARab2TK8hgbmOOeStrhpdvulExlWmM2c51fqHhwR6RFSOxrBOddgZs3JJAW4vzmZAIudc88C3wbuM7Nv4jUuMNvFyV38Q3pnUXGgPugwREQkCpxzz+Hd2xne74dh758CnmpjugXA+JgHGGfMjDs+PZGfPfc+v3ppNcV9svnElCEdTygikqAiuufGOfecc260c26Uc+5nfr8f+oUNzrkVzrkTnXMT/ecH/DOWQXdGQVYa723ay+wHFvHcO1uCDkdERKRblRYX8u0zxgDwrSeWsXt/XcARiYjETrQaFIhbn5gymHGDC1i8YQ9/XFQWdDgiIiLd7qSSIu753BQATvjPl/ifeWsDjkhEJDaSvrg5e9xAHv/Kx5g8rBc7q3S0SkREeqZTRvflm6ePZkBBJs8u28yWvQeCDklEJOqSvrgJt12tpomISA+VnZ7Kf5xewjnjBvD+ln3MvP3fbN2rvCgiyaXHFDcFWWmEQhZ0GCIiIoH61pmjefCLx3OgvpHZDyxieXlF0CGJiERNjyluBvfKorJGraaJiEjPlpGawqlj+jHz6P6s3FrJhb+Zz7KNKnBEJDn0mOImLzOVmvomPaVZREQE+N9Zpfzt2pMA+MpDS/jJ31awuUL34YhIYusxxU1+VhoAM++Yxxl3/JufP/d+wBGJiIgEa9zgAm4+7xhSQsYD89dz7yvrgg5JROSI9Jji5oyx/fnstGEcN6w3tQ1N/GXp5qBDEhERCdxVJ49k/o2ncXJJXx59o4yHF35InDyHW0Sk03pMcTOwIIufXTKeX142mZnH9GOf7r8RERFp8aWTRlCQncbNz7zLHxdtDDocEZEu6THFTbiM1BSq6xppbNKRKREREYAZo/vy2nc/DsDDCz/kodc3sHu/ng8nIomlRxY3eZmpAHqAmYiISJiM1BQ+f8JwVmzZxw/+8h73v7Y+6JBERDqlRxY3k4b2AuCDrZUBRyIiIhJffnLxOFb99ByK+2SzfNNeNuzcT0OjWhoVkcTQI4ubob2zAdhTrftuREREWktPDTFmQB6vrNrBqb+Yx01PvxN0SCIiEemRxU3vHK9Z6D26llhERKRN/3nJeO77QikThxTw7uZ9QYcjIhKRHlnc5GakkpZibK+sobahkSY1LCAiInKQPrkZnDG2P5OH9WbN9kpm3b+I659cRlVtQ9ChiYi0KzXoAIJgZhTlZnDfq+u571XvZsmUkDG4Vxb//OYpZKalBByhiIhIfLhg4iBWb69kw679/HvVDk4Y2YdPHTck6LBERNrUI4sbgDs+PYl3NlVQ3+iob2zi3U37+Nf729hRWcvQwuygwxMREYkLxw3vzSNXnUBTk2Pirf/k1dU7OKWkiH75mUGHJiJyiB5b3HxsVB8+NqpPS/ffl2/hX+9vo7quMcCoRERE4lMoZBw3vDd/WbqZvyzdzCcmD+aOz0wKOiwRkYP0yHtu2pKf5dV5ew+oBTUREZG2/OyS8fzyM5MYWpjF029vYmdVbdAhiYgcpMeeuWltgH96feu+moAjERERiU+De2UxePJgeuekM+v+RTy5uJyRfXMYkJ/JhCEFmFnQIYpID6fixjegwCtu1mzTgz1FREQOZ2RRDgD/9Y+VLf0e+OLxfHxMv6BCEhEBVNy0yMtMoyg3g3c27Q06FBERkbg2tDCbV7/zcfbV1FPb0MQn7l7A719dr+JGRAKn4iZMSb9ctd8vIiISgfCWRQcWZLJh134WrN1JyIxBBVkM6Z1FKKTL1ESke6m4CZOTkcrmigNBhyEiIpJQLpw0iN/9ex1X3PdGS78bzhrD//v4UQFGJSI9kYqbMDkZKeyv05kbERGRzrhu5mhOG9MPB9TUNzL7gTdZsWVf0GGJSA+k4iZMn5wMdlTW4pxTiy8iIiIRykpPYdrIj54dd3JJEeW7qwOMSER6KhU3YQYUZFBd18hL728nOz2FUMhICRkh8/6mmBEKQd/cDD2ZWUREpB2j+uby4IINjL/lBbIzUhhZlMv/ziolJ0P/dohIbGkvE2ZEUS4AV/1h8WHHS08N8fYPztBOWkREpA2zpxeTlmI0NsErq3fw+rpdvF1WwUklRUGHJiJJTv+dh5l5dD/+du1JHKhvpLHJ0dTkaHSOxqaPXgvW7uLBBRvYVVWn4kZERKQNxUU5fP+8sQDs3l/HlJ+8yMqt+1TciEjM6b/zMKGQMW5wwWHHaXLw4IIN7Kup76aoREREElfv7DTSU0O8sX43/fMzKcxJp39+Bkf1yws6NBFJQipuOik/y1tllTVqVU1ERKQjZsaIPjm8uGIbL67Y1tL/hetOYcwAFTgiEl0qbjopPzMNgO2VNQFHIiIikhie/OrH2L6vhiYHb6zfzQ+eeZdnl23ihgFHBx2aiCSZUNABJJrm4mbfAV2WJiIiEon8zDSO6pfH6P55XDBhIAB/fmtTwFGJSDJScdNJ/QsyANhTreJGRESks3plp3PZ8UPZXV3HQ69v4F8rtrFnf13QYYlIklBx00kZqSn0yk7jnyu2Bh2KiIhIQho/pICa+iZ+8Jf3uOoPi7np6XeCDklEkoTuuemCvrkZbN2re25ERES64rPThnPuuIEcqG/ka4+8xT/e28qBukay0lOCDk1EEpzO3HTBGWP7U1Fdj3Mu6FBEREQSUu+cdAb1yuJLJ40A4GuPLAk4IhFJBipuuqAgK42GJkeF7rsRERE5IhdMGMiFEwcx94MdbKo4wOaKA9Q2NAYdlogkKF2W1gXZ/mnznVW19M5JDzgaERGRxGVmTB/Vh2eXbebEOS8DEDK48qQRfP+8sQFHJyKJRsVNFxQX5QBqMU1ERCQaPjFlCLmZqeyvbaChyXH33LXc9+p6vnv20aSm6CITEYlcRHsMMzvbzD4wszVmdmM743zazFaY2Xtm9mh0w4wvvbO9szV7qtV0pYhId+ooH5nZcDN7ycyWm9k8MxsSNmyWma32X7O6N3I5nPTUEOdPGMRnjh/GZ6cN53MnDAfg9hdXBRyZiCSaDosbM0sBfgucA4wFLjezsa3GKQFuAk50zh0LXBeDWONG86VoapdfRKT7RJKPgF8Af3DOTQBuBX7uT1sI3AJMA6YCt5hZ7+6KXTrnCx8bTl5mKv/+YEfQoYhIgonkzM1UYI1zbp1zrg54DLio1ThfBn7rnNsD4JzbHt0w40thy5kbXZYmItKNIslHY4GX/fdzw4afBbzonNvt56oXgbO7IWbpgpyMVM44pj/b9tXwxOKNPLF4Iy+u2Mby8gq1VCoihxXJPTeDgY1h3eV4R77CjQYws/lACvAj59w/ohJhHMpKTyEjNcQD89fzj/c+ephnyKAoN4P01M5dHzxuUAFfPXVUtMMUEUk2keSjZcAngLuAS4A8M+vTzrSDW3+AmV0NXA0wbNiwqAUunVdclMPTb2/iO08tP6j/nZ+ZyCWTh7QzlYj0dNFqUCAVKAFOBYYAr5jZeOdcRfhIyZQ0vjJjFMs2HrR4VByoZ92Oqk7NZ9f+Ol56f5uKGxGR6Lge+I2ZzQZeATYBEbcr7Jy7F7gXoLS0VKcIAnTtaUfxyeOG4JzDOSjfc4Av/2Exf1y0UcWNiLQrkuJmEzA0rHuI3y9cOfCGc64eWG9mq/CKnTfDR0qmpPGtM0ZHZT53vLiKX720mqYmRyhkUZmniEiS6jAfOec24525wcxygU865yrMbBPeAbjwaefFMlg5MmbG4F5ZLd1DC7O5ZPJgnnl7E845zJQzReRQkVw/9SZQYmYjzCwduAx4ttU4z+AnDTMrwrtMbV0U40xamWneJqhtaAo4EhGRuNdhPjKzIjNrzm03Aff7718AzjSz3n5DAmf6/SSBlPTPpbK2gS17a4IORUTiVIfFjXOuAfg6XhJ4H3jCOfeemd1qZhf6o70A7DKzFXg3cN7gnNsVq6CTSW6Gd/KsslaNE4iIHE6E+ehU4AP/CoL+wM/8aXcDP8ErkN4EbvX7SQI5dlABAP9etYN1O6pYt6OKA3URX3UoIj1ARPfcOOeeA55r1e+HYe8d8C3/JZ3QLy8TgI27q1vei4hI2yLIR08BT7Uz7f18dCZHEtCwwmwAbnr6nYP633XZJC6adEj7ECLSA0WrQQHpoqJcr1npbftqA45EREQkvvXNy+DRL09jR6WXM+sbHdc/uYwXV2xTcSMigIqbwA3u7d0suay8gnPHDww4GhERkfg2fVTRQd23vbCS597ZElA0IhJvOvdAFom65kvRVmzeF3AkIiIiiefsYwfQ5OD1tbrVV0RU3AQuJWScfkw/dlbVBR2KiIhIwvnWmWMA+J9/rw04EhGJB7osLQ70zctgaasHgoqIiEjHCrLSmDysF8s2VvC35Ztb+vfJyeDoAXn0zkkPMDoR6W4qbuLAwIIsdlbV8egbZVwxbVjQ4YiIiCSUz5QO5can3+Hrj759UP9BBZnMv/E0PfBTpAdRcRMHzh43gDteXMXDCz9UcSMiItJJnzl+KFNHFNLY5ACoqW/irpdW86/3t/HUknIuLR0acIQi0l10z00cGN0/j4snDaKiWvfdiIiIdJaZMbJvLiX98yjpn8f4IQXM+eR4+uZlcMNTy9WamkgPouImTqSnhti8tyboMERERJJCUW4Gz379RAC+9shbLC/Xva0iPYGKmzhRmJMBwN7q+oAjERERSQ4DC7J46MqpAPzXP1YGHI2IdAcVN3HimIF5ACzVkSUREZGoObmkL6P65rBx94GgQxGRbqAGBeLEuMEFAGzao52viIhINJ0wsg+PvFHGiXNeJiPt4OO6gwqyuPqUkZwyum9A0YlINKm4iRNFud5laZsqqgOOREREJLlce1oJB+oaqWtsOqh/ZU0D/161g4zUkIobkSSh4iZOFGSlkZ4SYn9tY9ChiIiIJJUBBZnc8ZlJbQ675qElrNy6r5sjEpFY0T03cWRw7yy15iIiItKNxg3OZ8Ouaj7YWhl0KCISBSpu4kh9YxNpKdokIiIi3aX5crQH5q8POBIRiQb9Jx1HxvTPo7KmIegwREREeowJQ3rRLy+Dbfv0rDmRZKDiJo7kZ6VRWavn3IiIiHSnycN6sVGtlYokBTUoEEfyMlPZWVlHdV0DITMAQmaY+X8BMzB/mIiIiBy5Ib2zmfvBDn7+/Pst/VJDxtDe2WSlpwBQ0i+PsYPygwpRRCKk4iaOHDMwnwP1jYz94Qsdjhte8GSmpZDt73yDlJYS4rZLJzB9VFHQoYiIiERs2ohCHltUxoPzN7T0q204uNnoAfmZLPzezG6OTEQ6S8VNHLlk8mBq6xupaWiiyTmc8/o3NTkctPRzgPPfNznH3gP1NDWPHJCGRseTS8p5p3yvihsREUkoZx47gPduPfugflW1DWz378N5akk5d89bS0V1Hb2y04MIUUQipOImjmSmpTD7xBFBh9ElDY1NPLmknLpWR7pEREQSUW5GKrl9cwE4vrgQWMua7VWUFhcGG5iIHJYaFJCoSE0JkRKyQ07ji4iIJLqj+nlFzm/nrgk4EhHpiIobiZrUkLFrf13QYYiIiETV4F5ZZKSGmPvBDnZU1gYdjogchoobiZr6xiaq6/ScHhERSS6hkPHUNdMBeG3NjoCjEZHDUXEjUTO0MJuNu6uDDkNERCTqjh2UT2FOOq+s2hl0KCJyGGpQQKImPSVEY1OwrbaJiIjEQihkTBrai6UbK1iw1itw0lNClPTLw0KQmZpCeqqOGYsETcWNRM3Eob14akl50GGIiIjExIiiHF5euZ0r7nvjkGH98jJYcONppKaowBEJkoobiZq0FAO8e2/StHMXEZEk8+0zR3Pm2P40X6NQtruafQfqeXPDbl54bxuVNQ30ztFzcESCpOJGombswHwA9lTX0S8vM+BoREREois7PZVpI/u0dJ/gv8/PSuOF97ZRVaviRiRoOrwuUVOYkwHA029tCjgSERGR7tM318t/L7y3NeBIRETFjUTN1BHeU5vnr1FLMiIi0nOcXFJEemqIn/79fXZV6Tk4IkFScSNR0zcvg5NLithXo2fdiIhIz5GaEuLLJ48A4MUV2wKORqRnU3EjUVWQlcZOPb1ZRER6mG+ePprBvbK466XVNOmxCCKBUXEjUTWwIJOdVbU4px27iIj0HKkpIc4dP4Ate2tYsWVf0OGI9FgqbiSqCnMyqG1o4kB9Y9ChiIiIdKurTxmFmRoWEAmSmoKWqCrMSQPg0TfKOHf8QAb1ygo4IhERke7RNy+DIb2zeOSNMl5ZteOQ4f3yMxmQ7z0qwQwuO34YYwfld3eYIklNxY1E1YiiXAB++vf3ufPFVSz/0VmkhCzgqERERLrHVSeNZO4H2w/pv+9APW+X7aH5dpyK6joO1DVy26UTuzlCkeSm4kaiauqIQt743kxueGo5r6zaQXVdA3mZaUGHJSIi0i1mTS9m1vTiDsf75P8sYOOe6tgHJNLD6J4bibr++ZmcObY/ANV1uvdGRESktRFFOby3aR+1DcqTItGk4kZiImTepWi799cFHImIJBMzO9vMPjCzNWZ2YxvDh5nZXDN728yWm9m5fv9iMztgZkv91z3dH73IR84Y25/K2gaWllUEHYpIUomouOkomYSN90kzc2ZWGr0QJRENK8wGYP3O/QFHIiLJwsxSgN8C5wBjgcvNbGyr0W4GnnDOTQYuA+4OG7bWOTfJf13TLUGLtOOEkX0IGfzq5dX8aUm5HqEgEiUdFjcRJhPMLA/4D+CNaAcpiWd4H6+42XegPuBIRCSJTAXWOOfWOefqgMeAi1qN44Dm5qcKgM3dGJ9IxAqy0jj9mP7MX7OLbz+5jGXle4MOSSQpRHLmJpJkAvAT4L+AmijGJwmqX34GAO9s0s5aRKJmMLAxrLvc7xfuR8DnzKwceA64NmzYCP9ytX+b2ckxjVQkAvd+oZS/f+MkAN4p1+VpItEQSXHTYTIxsynAUOfc36MYmySwjNQUstNTeOSNMuobm4IOR0R6jsuBB51zQ4BzgYfMLARsAYb5l6t9C3jUzA55wIiZXW1mi81s8Y4dhz6nRCTaRvqPUHh4YVnAkYgkhyNuUMBPGncA345gXCWNHuSy44cBUFnTEHAkIpIkNgFDw7qH+P3CXQk8AeCcex3IBIqcc7XOuV1+/yXAWmB06w9wzt3rnCt1zpX27ds3BosgcrCs9BSOHZTPB9sqdTBQJAoiKW46SiZ5wDhgnpltAE4Anm2rUQEljZ6l+anLVSpuRCQ63gRKzGyEmaXjNRjwbKtxyoCZAGZ2DF5xs8PM+vr3kGJmI4ESYF23RS5yGJdM9i6I0cFAkSMXyUM8W5IJXlFzGXBF80Dn3F6gqLnbzOYB1zvnFkc3VEk0vbO9h3eu3VnFML+BARGRrnLONZjZ14EXgBTgfufce2Z2K7DYOfcs3lUE95nZN/EaF5jtnHNmdgpwq5nVA03ANc653QEtishB+uSmA3D+r14lJcUOGZ6Tnsro/nlY2KAzxvbn/AmDuitEkYTRYXETYTIROURJvzwAPthaycfH9As4GhFJBs655/AaCgjv98Ow9yuAE9uY7k/An2IeoEgXnHRUXy6fOpTa+kMvS6tpaGTt9v0sD2twYHtlLWt3VKm4EWlDJGduOkwmrfqfeuRhSTIYWphFash4f8u+oEMRERGJW33zMvj5JyZEPP63n1jG62t3xjAikcR1xA0KiLTHzOifn8kHWyuDDkVERCRp9MlNZ9f+Oj34U6QNKm4kporyMthZVRd0GCIiIkmjMCed2oYmqusagw5FJO6ouJGYGto7i51VtTq6JCIiEiVFud6DsndW1QYciUj8UXEjMXXMQL856Fo1bykiIhIN/fO94uaah9+ifE91wNGIxBcVNxJTfXK85i33HqgPOBIREZHkcHxxIR8f05f3t+zjodc/DDockbii4kZiKis9BYCaNpq3FBERkc7LTEvhgS9OZeLQXvzulXUHNRMt0tOpuJGYykxrLm5006OIiEg0fXF6MQCX3vM6tQ3KsyKg4kZirLm40U5XREQkui6ePJj/9/FR1DY08fflW4IORyQuqLiRmMpI9b5iuixNREQk+r55+mjSUozV26uCDkUkLqQGHYAkN12WJiIiEjupKSGGFWbz/pZ9bNzdcctpvXPSyc3Qv3+SvPTtlpjKTPPO3Pzor+9x579WBRzNkUlLCTGkdzZpKRZ0KJIgLp40mFNG9w06DBFJciX98vjHe1s5+b/nRjT+gPxMrFUqSwkZcz4xgZNKimIQoUj3UXEjMTWyKJdPThlCRXVd0KEckUbn2Li7mrcr9wQdiiSI7ftqqaiuV3EjIjH3gwvGMvOYfh2Od6C+kVXbKqlrOPRS8WeWbmbeB9tV3EjCU3EjMZWeGuL2T08MOgyRbvfpe17nQJ0uxxSR2BvcK4tLS4ce0TyWl+9l3c79UYpIJDhqUEBEJAYy01M4oHvNRCRBFPfJYb2KG0kCKm5ERGIgKy2khjREJGFMGtaL9Tv3s3SjHggqiU3FjYhIDGSlpVBV2xB0GCIiEbl40mAA7p67JuBIRI6MihsRkRgIhYzyPQeCDkNEJCIDCjK5YOIg3iqrwDkXdDgiXabiRkQkBjJSQ6SETP8kiEjCmFrcm51VtXz+94toaNTDtyUxqbgREYmBYYU5NDY5NSogIgnj/AmDGNk3h9fW7GTl1sqgwxHpEhU3IiIxUJCVBsC+A7rvRkQSQ++cdH73ueMAeO6dLQFHI9I1Km5ERGIgP8t7jFjZ7uqAIxERidyIohwAHn9zY8CRiHSNihsRkRjok5MBwJ7quoAjERGJXGpKiG+dMZpd++vYs1/7L0k8Km5ERGKguCgbgJVbdN26iCSWiUN7AbDkwz0BRyLSeSpuRERioH9eJgBb9qo5aBFJLJOHecXNup1VAUci0nmpQQcgIpKMQiGjICuNfTX1QYciItIpeRmpZKenULa7mr3Vnd+HZWekkJai4+cSDBU3IiIxMnZgPs+9s5WmJkcoZEGHIyISETNjUK8sHl5YxsMLyzo9fXpKiKP65bY7PC01xM8uHse4wQVHEqZIm1TciIjESHFRNq+v20XZ7mqK/RaIREQSwW2fmsDbZRWdnm7vgXpWb6+krqHtBxg3NDUx74MdLFq/W8WNxISKGxGRGDn9mP78cdFG9lTXUYyKGxFJHJOH9WbysN5Rn299YxMl33+eyho9A0xiQxdEiojESE6Gd/yofI8aFRARAUhLCZGdnsLWfTVBhyJJSsWNiEiMDCzwWkyra2gKOBIRkfgxfVQf/riojJr6xqBDkSSk4kZEJEZ6ZacDsHaHmlMVEWl2zriBADy7dHPAkUgyUnEjIhIjBVlpDO+Tzd3z1vL719YHHY6ISFz4xJTBHNUvl0cXdb4lNpGOqLgREYmhuz87BYD3t+wLOBIRkfhgZny6dAhLN1boQccSdSpuRERi6NhBBYzqm8OOytqgQxERiRvNz8H53b/X8cSbG9lUoSJHokNNQYuIxJiZ6eikiEiYkn55ZKSGeHDBBgBSQsYb35tJUW5GsIFJwtOZGxGRGBvcK4uNu1XciIg0G1qYzbs/PosVt57FV08dRWOTY9XWyqDDkiSg4kZEJMYKstI4UN+oJqFFRMJ4z7xJZfb0YgD++4UP2FmlS3jlyKi4ERGJsRNG9gFQ0hYRaUO/vAxGFOWwdGMFD8xXy5JyZFTciIjEWH6Wd3vjqm265EJEpDUz4/n/OJncjFS2VNQEHY4kOBU3IiIxduygAgBWb9PDPEVE2pKZlsKofrlsV8uScoQiKm7M7Gwz+8DM1pjZjW0M/5aZrTCz5Wb2kpkNj36oIiKJqX++1/pPo3MBR5L4IshHw8xsrpm97eekc8OG3eRP94GZndW9kYtIR/rnZbC9Umdu5Mh0WNyYWQrwW+AcYCxwuZmNbTXa20Cpc24C8BTw39EOVEQkUWWlpZASMipr6oMOJaFFmI9uBp5wzk0GLgPu9qcd63cfC5wN3O3PT0TiRL/8DJ25kSMWyZmbqcAa59w651wd8BhwUfgIzrm5zrlqv3MhMCS6YYqIJC4zIy8zlcqahqBDSXQd5iPAAfn++wJgs//+IuAx51ytc249sMafn4jEiX55mVRU11Pb0Bh0KJLAInmI52BgY1h3OTDtMONfCTx/JEGJiCSbvMxUnl22mSUf7iEtJcTwPtmkp4RICRlfOmkEo/vnBR1iIogkH/0I+KeZXQvkAKeHTbuw1bSDYxOmiHTFgPxMYKWSPgAAER5JREFUAMbc/I9OTZcSMo4ekNfpB4CePrY/nz9Bd1Ikm0iKm4iZ2eeAUmBGO8OvBq4GGDZsWDQ/WkQkrl154gheW7OTxibHh7uqeXP9bgA2762hT246N5x1dMARJo3LgQedc7eb2ceAh8xsXKQTK0+JBOescQPYUVXb6WeCrdiyj+2VtVQciPzS3017qlm9rVLFTRKKpLjZBAwN6x7i9zuImZ0OfB+Y4Zxr84JJ59y9wL0ApaWlurNWRHqM2SeOYPaJIw7pP+6WFzhQp4d7RiiSfHQl3j01OOdeN7NMoCjCaZWnRAJUkJXG/2/v7oPsqssDjn+f7PtuNrubV0JeyEYCiqiAqS8FsYAiAiN2aqdpOxVbq20Fa2sdiy9V64xTtSNtHWkBK6OiFRRRUwsiNYjjC0iCIRBeQhKDZAmEkDcSwyab/fWPcxZvwybZXe69596938/MmT33d87e+9xn7j3nPPec3+9cctbxVXmtz/9oI5+46QGe2jPIjHGe8VFtG0ufm7uAJRHRHxGtZB0yl5euEBGnAlcBb0opbS1/mJI0ObW3NLHvgNeXj9FR90fAr4BzACLiRUA78GS+3rKIaIuIfmAJ8POqRS6pprx4XtY1b83AroIjUbkdtbhJKQ0BlwK3AA+QjUKzNiI+HhFvylf7Z2Aq8I2IWB0Rh+5sJEmj6GprYu+gAw2MxRj3R38HvCMi7gG+BrwtZdYCXwfuB74HXJJSsqqUGtTL5vcC8MWfbCo2EJXdmPrcpJRuAm46pO0jJfOve84/SZKOatbUNu7ZvLPoMOrGGPZH9wOnH+Z/PwF8oqIBSqoLXW3NLJzeye3rnuSJ3c8wJx/MQPVvTDfxlCRVRntL07g7z0qSnr8Pnp8N5HL9XY8eZU3VE4sbSSrQS+b3sG3PICnZd12Squm8k+cyv6+Dy29dx5W3byg6HJWJxY0kFaino4UDB5N35ZakAnzm918GwOXfX8czDu4yKVjcSFKB+md2AbDiQQealKRqe+XiGXzuj05l/8FhfrTuyaLDURmU9SaekqTxee0JswDYvnd/wZFIUmM668TZAHzxp5tY9asddLU2c8lZx9M0JQqOTBNhcSNJBWpvaaKjpYkdFjeSVIiutmZOW9jLqkd28NMNTwEwr7eD33v5/IIj00RY3EhSwaZ1NLP7mQNFhyFJDevGd2UjyA8PJxZ/8Ca+eucjFjd1yj43klSwrrZm9g7akVWSijZlSnD68TO4+1c7GRxyu1yPLG4kqWBT25r5n3u38E83P8BjO/cVHY4kNbQLXnIsAO+/YU3BkWgiLG4kqWBvePExdLc3c9XtG7n2jkeKDkeSGtqZJ8wE4DurH+PBx3cXHI3Gy+JGkgp2yVnHs+aj59Ld3szuffa9kaQize/r5LvvPgOAz3x/XcHRaLwsbiSpBkQE07ta2TM4VHQoktTwTp7XwykLelnx4FYOHBwuOhyNg8WNJNWIno4W73cjSTXigpfM5eBwYnDI4qaeWNxIUo3o62xll5elSVJNaGvJDpMHDzhqWj2xuJGkGjGto8U+N5JUI9qa8+LGMzd1xeJGkmpET0ezZ24kqUa05sXNfoubutJcdACSpExPRws7fn2Ab/9igDefOq/ocCSpobU3NwFw0RU/oXlKlO15I+CUBX3M6m4t23MCnDinm7ed3l/W56xHFjeSVCPeePJcrrhtA5ffus7iRpIK9uoXzODPz+jnmaHy9bkZTnD7Q0+yZvPOsj0nwN7BIfYdOMifvHoRTWUsxOqRxY0k1YiT5/Xwtt9exDdXbS46FElqeL2drXz4wpOKDmNMrv3ZJv7hO2t5au8gs7vbiw6nUPa5kaQaMrWtmacHhxgs4y+FkqTJbVZ3GwBbdw8WHEnxLG4kqYZM68hOqG/b4/1uJEljs2hmFwD/veaxgiMpnsWNJNWQ/plTAfjKHY8UHIkkqV688JhpnHnCLK66fSMHDjb26G4WN5JUQ35rUR8AP354W8GRSJLqycnHTgNg8459BUdSLIsbSaohvZ2tXPjSuWzf62VpkqSxO/OEWQAMWNxIkmpJe0sTAzsbe+ckSRqfBdM7AfjCjzcy1MCXplncSFKNmd6V3dht/danC45EklQv5k5rp7utmdseepK/uHZV0eEUxuJGkmrMWSfOBmDLrmcKjkSSVC+mTAl+/Pdn09XaxA8e3MrB4VR0SIWwuJGkGtPX1QLAL7ftLTgSSVI96els4e1n9APwwJbdBUdTDIsbSaoxI3eX3rffG3lKksbndSfNARr37L/FjSTVmL7OFlqagu2/dsQ0SdL4jPTbfMeXV/Lp7z1YcDTVZ3EjSTUmIpjd3d7w9yqQJI3fvN4O3nfuCQD8+w83NFzfG4sbSapBvZ0trB3YVXQYkqQ6ExFcevYSPnzBiwDYMzhUcETVZXEjSTVoWnsLEVF0GJKkOtXZ2gzA6kd3FhxJdVncSFINWjyry9HSJEkTdtpxvQCs2rS9oQaosbiRpBrU25kNB723wS4nkCSVx4K+Tlqags+uWM9br7mz6HCqxuJGkmrQjK42AJ7Y3ZhDeUqSnp+utmZufs9rmN3dxprNuxhukIEFLG4kqQYd25vd6+bXDXQpgSSpvI6f3c1fn7OEwaFhbr7v8aLDqQqLG0mqQVPbssvSLG4kSc/H6/Obeq4ZaIyBBSxuJKkGdbQ2AfC4l6VJkp6HOdPaOWZaO9v3NMaNoS1uJKkGtTW7eZYklceMqa1s32txI0kqSE9Hdlna/qHhgiORJNW76V2tbLO4+Y2IOC8iHoqI9RFx2SjL2yLi+nz5nRGxqNyBSlIjGTlzMzhkn5tSY9gf/UtErM6ndRGxs2TZwZJly6sbuSQVZ0ZXK9v3DhYdRlU0H22FiGgCrgBeD2wG7oqI5Sml+0tWezuwI6V0fEQsAz4F/EElApakRtDWkvW5eeaAZ25GjGV/lFL625L13w2cWvIU+1JKp1QrXkmqFdO72hqmz81RixvgFcD6lNJGgIi4DrgIKC1uLgI+ls/fAHwuIiKl1BgDaktSmY2cuVn72C5uvf+Jw67X09HCK/qnVyusoo1lf1TqD4GPVik2SapZM6a2snf/Qb533xaaplS3V0p7yxRes2RW1V5vLMXNPODRksebgVcebp2U0lBE7AJmANvKEaQkNZq25il0tzdz490D3Hj3wGHXO3VhL9961+lVjKxQY9kfARARxwH9wIqS5vaIWAkMAZ9MKX27UoFKUi1ZOL0TgL/8yt1Vf+1je9r56QfOqdrrjaW4KZuIeCfwToCFCxdW86Ulqa5EBD9472vZ+vSRr5EeGTJaz7EMuCGlVNpp6biU0kBELAZWRMS9KaUNpf/kfkrSZHThS+dywpxuDhys/qXOzU1R3dcbwzoDwIKSx/PzttHW2RwRzUAP8NShT5RSuhq4GmDp0qVesiZJRzB7Wjuzp7UXHUYtGcv+aMQy4JLShpTSQP53Y0T8kKw/zoZD1nE/JWnSiQhOPKa76DCqYiwX3d0FLImI/ohoJdthHDrKzHLg4nz+LcAK+9tIkspsLPsjIuKFQB/ws5K2vohoy+dnAqdz+L46kqQ6ddQzN3kfmkuBW4Am4JqU0tqI+DiwMqW0HPgCcG1ErAe2k+1wJEkqmzHujyDbB113yI9sLwKuiohhsh/2PnnIqJ+SpEkgijrBsnTp0rRy5cpCXluSlImIVSmlpUXHUYvcT0lS8ca7n6ruWHCSJEmSVCEWN5IkSZImBYsbSZIkSZOCxY0kSZKkScHiRpIkSdKkYHEjSZIkaVKwuJEkSZI0KRR2n5uIeBJ45Hk8xUxgW5nCmUzMy+jMy+jMy+gaKS/HpZRmFR1ELXI/VShzNzHmbWLM28RVI3fj2k8VVtw8XxGx0hvPPZd5GZ15GZ15GZ15UTn4OZo4czcx5m1izNvE1WLuvCxNkiRJ0qRgcSNJkiRpUqjn4ubqogOoUeZldOZldOZldOZF5eDnaOLM3cSYt4kxbxNXc7mr2z43kiRJklSqns/cSJIkSdKz6rK4iYjzIuKhiFgfEZcVHU8lRMQ1EbE1Iu4raZseEbdGxMP53768PSLis3k+1kTEaSX/c3G+/sMRcXFJ+8sj4t78fz4bEVHddzh+EbEgIm6LiPsjYm1EvCdvb/S8tEfEzyPinjwv/5i390fEnfl7uT4iWvP2tvzx+nz5opLn+kDe/lBEvKGkvW6/cxHRFBG/iIjv5o/NiyrOz8aRRcSmfFu7OiJW5m3j3pY3gkofD0xWh8nbxyJiIP/crY6I80uWuZ2nOsdaFZdSqqsJaAI2AIuBVuAe4KSi46rA+zwTOA24r6Tt08Bl+fxlwKfy+fOBm4EAXgXcmbdPBzbmf/vy+b582c/zdSP/3zcW/Z7HkJO5wGn5fDewDjjJvBDA1Hy+Bbgzfw9fB5bl7VcCf5XPvwu4Mp9fBlyfz5+Uf5/agP78e9ZU79854L3AfwHfzR+bF6dKf+b8bBw9R5uAmYe0jWtb3igTFT4emKzTYfL2MeB9o6zrdv43uaj4sValp3o8c/MKYH1KaWNKaT9wHXBRwTGVXUrpR8D2Q5ovAr6Uz38JeHNJ+5dT5g6gNyLmAm8Abk0pbU8p7QBuBc7Ll01LKd2Rsk/gl0ueq2allLaklO7O558GHgDmYV5SSmlP/rAlnxJwNnBD3n5oXkbydQNwTkRE3n5dSmkwpfRLYD3Z961uv3MRMR+4APjP/HFgXlR5fjYmZrzb8oZQyeOBykdfnMPk7XDczucqfaxVjfdQj8XNPODRkseb87ZGMCeltCWffxyYk88fLidHat88SnvdyC8ZOpXsLEXD5yW/9Go1sJVsA7IB2JlSGspXKX0vz77/fPkuYAbjz1c9+Ffg/cBw/ngG5kWV52fj6BLw/YhYFRHvzNvGuy1vZOXa7zWiS/PLp64ZubQK8zaqCh1rVVw9Fjci+7WebOfQcCJiKvBN4G9SSrtLlzVqXlJKB1NKpwDzyX5pemHBIRUuIi4EtqaUVhUdi6TnOCOldBrwRuCSiDizdGGjbssnwlyNy38ALwBOAbYAnyk2nNpVz8da9VjcDAALSh7Pz9sawRMjp+Lzv1vz9sPl5Ejt80dpr3kR0UL2ZftqSunGvLnh8zIipbQTuA14Ndmp4eZ8Uel7efb958t7gKcYf75q3enAmyJiE9mlBGcD/4Z5UeX52TiKlNJA/ncr8C2yH2XGuy1vZOXa7zWUlNIT+Y+Bw8DnyT53YN7+nwofa1VcPRY3dwFLIhvxqJWs4+/ygmOqluXAyGgTFwPfKWl/az5ixauAXfmpw1uAcyOiLz/1ei5wS75sd0S8Ku9T8NaS56pZeaxfAB5IKV1esqjR8zIrInrz+Q7g9WTXyN4GvCVf7dC8jOTrLcCK/FeY5cCyyEYN6weWkA2wUJffuZTSB1JK81NKi8hiXpFS+mMaPC+qCj8bRxARXRHRPTJPtg2+j/FvyxtZWfZ71Q66aIf01fpdss8duJ1/VqWPtaryJsYy6kCtTWQjM6wj61fwoaLjqdB7/BrZKdMDZNcpvp3s+v8fAA8D/wtMz9cN4Io8H/cCS0ue58/IOsatB/60pH0p2Zd6A/A58hu61vIEnEF2GnQNsDqfzjcvvBT4RZ6X+4CP5O2LyTbO64FvAG15e3v+eH2+fHHJc30of+8PUTJSXL1/54Df4TejpZkXp4pPfjaOmJvFZKNO3QOsHcnPRLbljTBR4eOByTodJm/X5nlZQ3ZQPrdkfbfzqTrHWpWeIn9xSZIkSapr9XhZmiRJkiQ9h8WNJEmSpEnB4kaSJEnSpGBxI0mSJGlSsLiRJEmSNClY3EiSJEmaFCxuJEmSJE0KFjeSJEmSJoX/AzEgrgDiSXJ2AAAAAElFTkSuQmCC\n"
          },
          "metadata": {
            "needs_background": "light"
          }
        }
      ],
      "source": [
        "afficherDiff(data,0.75)"
      ]
    },
    {
      "cell_type": "markdown",
      "metadata": {
        "id": "R28jQxwkxna5"
      },
      "source": [
        "On suppose que les mots ayant une grande différence, auront plus de poids sur notre prédiction. \n",
        "On voit qu'en ne prennant que les mots ayant un taux de différence de 0.75, on réduit la taille de notre vocabulaire à près de 2000 mots. \n",
        "On va donc décider de vectoriser nos données d'apprentissage selon l'hyper-paramètre teta qui sera notre taux de différence, qui permettra de générer un vocabulaire de quelques milliers de mots plutot que 46 000."
      ]
    },
    {
      "cell_type": "markdown",
      "metadata": {
        "id": "NyK1B6OYxna5"
      },
      "source": [
        "### C) Vectorisons nos données selon notre vocabulaire"
      ]
    },
    {
      "cell_type": "code",
      "execution_count": 20,
      "metadata": {
        "id": "KJKtJnMkxna5",
        "outputId": "3d091343-b37f-477a-e532-b74310596123",
        "colab": {
          "base_uri": "https://localhost:8080/"
        }
      },
      "outputs": [
        {
          "output_type": "stream",
          "name": "stdout",
          "text": [
            "Longueur du vecteur : 2061\n"
          ]
        }
      ],
      "source": [
        "def vocabulaireDiff(Xa,taux):\n",
        "    '''Retourne le vocabulaire selon le taux de différence '''\n",
        "    V=df_proba(Xa)\n",
        "    V=V[(V['diff']>taux)]\n",
        "    return V.index\n",
        "\n",
        "def vectoriser(X,vocabulaire) :\n",
        "    '''Retourne X : les données vectorisées selon les mots du vocabulaire '''\n",
        "    vecteurs=[]\n",
        "    for mail in X.text:\n",
        "        v_mail=vocabulaire_mail(mail)\n",
        "        vecteur=[ int(mot in v_mail) for mot in vocabulaire]\n",
        "        vecteurs.append(vecteur)\n",
        "    return np.array(vecteurs)\n",
        "\n",
        "def afficherMotdansV(X,Y) :\n",
        "    '''Affiche le nombre de mots dans X selon notre vocabulaire \n",
        "    et retourne le nombre de mails pour lesquels aucun mot fait parti du vocabulaire'''\n",
        "    plt.figure(figsize=(25,4))\n",
        "    plt.title('Nombre de mails ayant n mots du vocabulaire')\n",
        "    x=list(range(X.shape[0]))\n",
        "    sns.countplot(x=np.sum(X,axis=1))\n",
        "    nb=len([ mail for mail in X if np.sum(mail)==0]) #mails pour lequels 0 mots sont dans V\n",
        "    return nb,len(x)\n",
        "\n",
        "def split_et_vectorise(data,taux):\n",
        "    '''Retourne Xa,Xt,Ya,Yt split aléatoirement et vectorisé selon le vocabulaire\n",
        "    determiner par le taux de différence dans Xa'''\n",
        "    Xa,Xt,Ya,Yt=train_test_split(data,data.label_num, test_size=0.2,shuffle=True)\n",
        "    V=vocabulaireDiff(Xa,taux)\n",
        "    #Vectorisons\n",
        "    Xa=vectoriser(Xa,V)\n",
        "    Xt=vectoriser(Xt,V)\n",
        "    Ya=np.array(Ya)\n",
        "    Yt=np.array(Yt)\n",
        "    return Xa,Xt,Ya,Yt\n",
        "\n",
        "\n",
        "\n",
        "v=vocabulaireDiff(data,0.75)\n",
        "print(f'Longueur du vecteur : {len(v)}')\n",
        "\n"
      ]
    },
    {
      "cell_type": "markdown",
      "metadata": {
        "id": "nVB91NvHxna6"
      },
      "source": [
        "# 3.Apprentissage "
      ]
    },
    {
      "cell_type": "markdown",
      "metadata": {
        "id": "boUXQRBCxna6"
      },
      "source": [
        "#### Différencions les données d'apprentissage et de test.\n"
      ]
    },
    {
      "cell_type": "code",
      "execution_count": 21,
      "metadata": {
        "scrolled": true,
        "id": "Ym4Bt5_4xna6",
        "outputId": "93c409d7-9161-48ef-db83-4ddc909dd901",
        "colab": {
          "base_uri": "https://localhost:8080/",
          "height": 316
        }
      },
      "outputs": [
        {
          "output_type": "stream",
          "name": "stdout",
          "text": [
            "21 mails sur 1035 qui n'ont aucun mot du vocabulaire, ce qui est acceptable : 2.03%\n",
            "Taille de notre vecteur : 6111\n"
          ]
        },
        {
          "output_type": "display_data",
          "data": {
            "text/plain": [
              "<Figure size 1800x288 with 1 Axes>"
            ],
            "image/png": "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\n"
          },
          "metadata": {
            "needs_background": "light"
          }
        }
      ],
      "source": [
        "taux=0.585 #hyper paramètre, influence la longueur du vocabulaire\n",
        "Xa,Xt,Ya,Yt=split_et_vectorise(data,taux)\n",
        "nb,total=afficherMotdansV(Xt,Yt)\n",
        "print(f'{nb} mails sur {total} qui n\\'ont aucun mot du vocabulaire, ce qui est acceptable : {round(100*nb/total,2)}%')\n",
        "print(f'Taille de notre vecteur : {Xa.shape[1]}')"
      ]
    },
    {
      "cell_type": "markdown",
      "metadata": {
        "id": "JcilG5Khxna6"
      },
      "source": [
        "### A) Gaussian model"
      ]
    },
    {
      "cell_type": "code",
      "execution_count": 22,
      "metadata": {
        "id": "Wux32n7wxna6",
        "outputId": "9aeaef1b-6879-418e-b13f-6df3738d5089",
        "colab": {
          "base_uri": "https://localhost:8080/"
        }
      },
      "outputs": [
        {
          "output_type": "stream",
          "name": "stdout",
          "text": [
            "Score : 0.9265700483091788\n",
            "              precision    recall  f1-score   support\n",
            "\n",
            "         Ham       0.91      0.99      0.95       728\n",
            "        Spam       0.98      0.77      0.86       307\n",
            "\n",
            "    accuracy                           0.93      1035\n",
            "   macro avg       0.94      0.88      0.91      1035\n",
            "weighted avg       0.93      0.93      0.92      1035\n",
            "\n",
            "Matrice de confusion:\n",
            " [[723   5]\n",
            " [ 71 236]]\n"
          ]
        }
      ],
      "source": [
        "def predict_Gaussian_model(Xa,Xt,Ya,Yt):\n",
        "    '''Retourne la prediction de Xt et le score selon le model Bayes Naif Gaussien '''\n",
        "    model=GaussianNB()\n",
        "    model.fit(Xa,Ya)\n",
        "    score = model.score(Xt,Yt)\n",
        "    predict = model.predict(Xt)\n",
        "    proba=model.predict_proba(Xt)\n",
        "    return predict,score,proba\n",
        "\n",
        "predict_G,score_G,proba_G=predict_Gaussian_model(Xa,Xt,Ya,Yt)\n",
        "M_G=confusion_matrix(Yt,predict_G)\n",
        "print(f'Score : {score_G}')\n",
        "print(classification_report(Yt,predict_G,target_names=[\"Ham\",\"Spam\"]))\n",
        "print(f'Matrice de confusion:\\n {M_G}')\n",
        "\n",
        "\n",
        " "
      ]
    },
    {
      "cell_type": "markdown",
      "metadata": {
        "id": "D6Id-2Msxna7"
      },
      "source": [
        "### B) Bernoulli model"
      ]
    },
    {
      "cell_type": "code",
      "execution_count": 23,
      "metadata": {
        "scrolled": true,
        "id": "vJqQCFfUxna7",
        "outputId": "9159ba9b-2415-405c-ac8d-0a1e32c30dee",
        "colab": {
          "base_uri": "https://localhost:8080/"
        }
      },
      "outputs": [
        {
          "output_type": "stream",
          "name": "stdout",
          "text": [
            "Score : 0.9739130434782609\n",
            "              precision    recall  f1-score   support\n",
            "\n",
            "         Ham       0.97      0.99      0.98       728\n",
            "        Spam       0.97      0.94      0.96       307\n",
            "\n",
            "    accuracy                           0.97      1035\n",
            "   macro avg       0.97      0.96      0.97      1035\n",
            "weighted avg       0.97      0.97      0.97      1035\n",
            "\n",
            "Matrice de confusion:\n",
            " [[720   8]\n",
            " [ 19 288]]\n"
          ]
        }
      ],
      "source": [
        "def predict_Bernoulli_model(Xa,Xt,Ya,Yt):\n",
        "    '''Retourne la prediction de Xt et le score selon le model Bayes Naif Bernoulli '''\n",
        "    model=BernoulliNB()\n",
        "    model.fit(Xa,Ya)\n",
        "    score = model.score(Xt,Yt)\n",
        "    predict = model.predict(Xt)\n",
        "    proba=model.predict_proba(Xt)\n",
        "    return predict,score,proba\n",
        "predict_B,score_B,proba_B=predict_Bernoulli_model(Xa,Xt,Ya,Yt)\n",
        "M_B=confusion_matrix(Yt,predict_B)\n",
        "print(f'Score : {score_B}')\n",
        "print(classification_report(Yt,predict_B,target_names=[\"Ham\",\"Spam\"]))\n",
        "print(f'Matrice de confusion:\\n {M_B}')\n",
        "\n"
      ]
    },
    {
      "cell_type": "markdown",
      "metadata": {
        "id": "ODd1DbJnxna7"
      },
      "source": [
        "### C) Notre modèle"
      ]
    },
    {
      "cell_type": "markdown",
      "metadata": {
        "id": "RQNE7zJdxna7"
      },
      "source": [
        "##### Démonstration de la formule utilisée."
      ]
    },
    {
      "cell_type": "markdown",
      "metadata": {
        "id": "LPkMCXtWxna8"
      },
      "source": [
        "$$P\\{Y=c|X=x\\}= \\frac{P\\{Y=c\\}*P\\{X=x|Y=c\\}}{P\\{X=x\\}}$$\n",
        "\n",
        "Par exemple pour un vecteur de longueur n :$$p_{spam|(x_0,x_1,...,x_n)} = \\frac{p_{spam}.\\prod\\limits_{i=1}^n p_{xi|spam}}{p_{spam}.\\prod\\limits_{i=1}^n p_{xi|spam}+p_{ham}.\\prod\\limits_{i=1}^n p_{xi|ham}}$$\n",
        "\n",
        "Passage à l'inverse :$$\\frac{1}{p_{spam|(x_0,x_1,...,x_n)}} = \\frac{p_{spam}.\\prod\\limits_{i=1}^n p_{xi|spam}+p_{ham}.\\prod\\limits_{i=1}^n p_{xi|ham}}{p_{spam}.\\prod\\limits_{i=1}^n p_{xi|spam}} $$\n",
        "\n",
        "On soustrait 1: $$\\frac{1}{p_{spam|(x_0,x_1,...,x_n)}} - 1 = \\frac{p_{ham}.\\prod\\limits_{i=1}^n p_{xi|ham}}{p_{spam}.\\prod\\limits_{i=1}^n p_{xi|spam}} $$\n",
        "\n",
        "Passage au log: $$z:= ln({\\frac{1}{p_{spam|(x_0,x_1,...,x_n)}} - 1}) = ln(p_{ham})+\\sum_{i=1}^n ln({p_{xi|ham}})-ln(p_{spam})-\\sum_{i=1}^n ln({p_{xi|spam}})$$\n",
        "\n",
        "Donc $$p_{spam|(x_0,x_1,...,x_n)}= \\frac{1}{1+e^z}$$\n"
      ]
    },
    {
      "cell_type": "code",
      "execution_count": 24,
      "metadata": {
        "id": "oHdeoxKdxna8",
        "outputId": "53dd9b66-e4af-49f2-816a-afc5e23139ac",
        "colab": {
          "base_uri": "https://localhost:8080/"
        }
      },
      "outputs": [
        {
          "output_type": "stream",
          "name": "stdout",
          "text": [
            "Score : 0.9739130434782609\n",
            "              precision    recall  f1-score   support\n",
            "\n",
            "         Ham       0.97      0.99      0.98       728\n",
            "        Spam       0.97      0.94      0.96       307\n",
            "\n",
            "    accuracy                           0.97      1035\n",
            "   macro avg       0.97      0.96      0.97      1035\n",
            "weighted avg       0.97      0.97      0.97      1035\n",
            "\n",
            "Matrice de confusion:\n",
            " [[720   8]\n",
            " [ 19 288]]\n"
          ]
        }
      ],
      "source": [
        "def bernoulli(X,p):\n",
        "    '''Retourne P(X=x), X qui suit une loi de Bernoulli de paramètre p'''\n",
        "    return p**X*(1-p)**(1-X)\n",
        "\n",
        "def P_X_Y_Bernoulli(X,mu):\n",
        "    '''Retourne la somme des log de p(X|Y) selon le taux de xi'''\n",
        "    P=[]\n",
        "    for i in range(mu.size):\n",
        "        #on applique bernoulli a toute la colonne du mot i de parametre mu[i]\n",
        "        P.append(bernoulli(X[:,i],mu[i]))\n",
        "    P=np.array(P).transpose()\n",
        "    P_log=np.log(P)\n",
        "    P_somme_log=np.sum(P_log,axis=1)\n",
        "    return P_somme_log\n",
        "\n",
        "\n",
        "def predict_Notre_model(Xa,Xt,Ya,Yt):\n",
        "    '''Retourne la prediction de Xt et le score selon notre modèle\n",
        "    calculs réalisés matriciellement avec numpy'''   \n",
        "    \n",
        "    spams=Xa[np.where(Ya==1)]\n",
        "    hams=Xa[np.where(Ya==0)]\n",
        "    \n",
        "    #P(Y) a priori / priors\n",
        "    P_S=math.log(spams.shape[0]/Xa.shape[0])  \n",
        "    P_H=math.log(hams.shape[0]/Xa.shape[0])   \n",
        "        \n",
        "    #Calculons les paramètres qui maximise la vraisemblance p(xi|Y) \n",
        "    #taux de xi|yi avec lissage / MLE : Maximum-Likelihood-Estimates \n",
        "    mu_S=lissage_Laplace(np.sum(spams,axis=0),spams.shape[0],2)\n",
        "    mu_H=lissage_Laplace(np.sum(hams,axis=0),hams.shape[0],2)\n",
        "    \n",
        "    #Calculons la vraisemblance xi dans classe Y selon une distribution de Bernoulli / likelihood\n",
        "    P_X_S=P_X_Y_Bernoulli(Xt,mu_S).reshape(Xt.shape[0],1)\n",
        "    P_X_H=P_X_Y_Bernoulli(Xt,mu_H).reshape(Xt.shape[0],1)\n",
        "    \n",
        "    #Calculons p(Y|xi) avec la formule démontrée : a posteriori / posterior \n",
        "    P_S_X=1/(1+np.exp(P_H+P_X_H-P_S-P_X_S))\n",
        "    P_H_X=1/(1+np.exp(P_S+P_X_S-P_H-P_X_H))\n",
        "    prediction_proba=np.concatenate((P_H_X,P_S_X),axis=1)\n",
        "       \n",
        "    #Calcul prédiction et score\n",
        "    prediction= [ int(p_s>p_h) for p_h,p_s in prediction_proba]\n",
        "    score= sum([ int(prediction[i]==Yt[i]) for i in range(len(Yt))])/len(Yt)  \n",
        "    \n",
        "    return prediction,score,prediction_proba#,prediction1,score1,prediction_proba1\n",
        "    \n",
        "       \n",
        "predict_NB,score_NB,proba_NB=predict_Notre_model(Xa,Xt,Ya,Yt)\n",
        "\n",
        "M_NB=confusion_matrix(Yt,predict_NB)\n",
        "#M_NG=confusion_matrix(Yt,predict_NG)\n",
        "print(f'Score : {score_NB}')\n",
        "print(classification_report(Yt,predict_NB,target_names=[\"Ham\",\"Spam\"]))\n",
        "print(f'Matrice de confusion:\\n {M_NB}')\n",
        "\n",
        "\n",
        "\n",
        "        \n",
        "\n",
        "    "
      ]
    },
    {
      "cell_type": "markdown",
      "metadata": {
        "id": "yHvU5uwExna8"
      },
      "source": [
        "### D) Comparaison "
      ]
    },
    {
      "cell_type": "markdown",
      "metadata": {
        "id": "NUKEYdz7xna8"
      },
      "source": [
        "#### Scores "
      ]
    },
    {
      "cell_type": "code",
      "execution_count": 25,
      "metadata": {
        "scrolled": true,
        "id": "CMmc_omwxna8",
        "outputId": "c833fe47-b344-42cf-d418-7c3396c15d3a",
        "colab": {
          "base_uri": "https://localhost:8080/"
        }
      },
      "outputs": [
        {
          "output_type": "stream",
          "name": "stdout",
          "text": [
            "    Matrices de confusion         Scores                    Modèle\n",
            "--------------------------------------------------------------------------------\n",
            "[[723   5]\n",
            " [ 71 236]]                    0.9265700483091788          Gaussian \n",
            "--------------------------------------------------------------------------------\n",
            "[[720   8]\n",
            " [ 19 288]]                    0.9739130434782609          Bernoulli \n",
            "--------------------------------------------------------------------------------\n",
            "[[720   8]\n",
            " [ 19 288]]                    0.9739130434782609        Notre modèle Bernoulli\n",
            "--------------------------------------------------------------------------------\n"
          ]
        }
      ],
      "source": [
        "print(\"    Matrices de confusion         Scores                    Modèle\")\n",
        "print(\"--------------------------------------------------------------------------------\")\n",
        "print(f'{M_G}                    {score_G}          Gaussian ')\n",
        "print(\"--------------------------------------------------------------------------------\")\n",
        "print(f'{M_B}                    {score_B}          Bernoulli ')\n",
        "print(\"--------------------------------------------------------------------------------\")\n",
        "print(f'{M_NB}                    {score_NB}        Notre modèle Bernoulli') \n",
        "print(\"--------------------------------------------------------------------------------\")\n"
      ]
    },
    {
      "cell_type": "markdown",
      "metadata": {
        "id": "cJ1C-E1Fxna9"
      },
      "source": [
        "Notre score est identique à celui de scikit-learn, verifions sur les probabilités données par predict_proba."
      ]
    },
    {
      "cell_type": "markdown",
      "metadata": {
        "id": "orEXalfJxna9"
      },
      "source": [
        "#### Probabilités"
      ]
    },
    {
      "cell_type": "code",
      "execution_count": 26,
      "metadata": {
        "id": "gfhgou8Bxna9",
        "outputId": "fe5bea7b-9b2b-41fe-e002-a356b34f3d10",
        "colab": {
          "base_uri": "https://localhost:8080/",
          "height": 276
        }
      },
      "outputs": [
        {
          "output_type": "display_data",
          "data": {
            "text/plain": [
              "<Figure size 432x288 with 1 Axes>"
            ],
            "image/png": "iVBORw0KGgoAAAANSUhEUgAAAXQAAAEDCAYAAAAlRP8qAAAABHNCSVQICAgIfAhkiAAAAAlwSFlzAAALEgAACxIB0t1+/AAAADh0RVh0U29mdHdhcmUAbWF0cGxvdGxpYiB2ZXJzaW9uMy4yLjIsIGh0dHA6Ly9tYXRwbG90bGliLm9yZy+WH4yJAAAgAElEQVR4nO29eZgcVbn4/3l7ZjKTPYFMICSBAAYIEAkybAYlylWCKIriwter5koughfF7Sr+RDaVRVEiCkJUbryCEIgsAYO5bJE1kAmB7CGTfbLNZLLMJLN21/n90fte3V3dVd3zfp5nnumqOnXOW1Wn3nrPe95zjhhjUBRFUcofn9sCKIqiKM6gCl1RFKVCUIWuKIpSIahCVxRFqRBUoSuKolQIqtAVRVEqBFcVuog8ICItIrLSofz+KSL7ReSZhP0Picg6EVkZKrPGifIURVG8hNsW+hxguoP5/Qr4Sor9DwEnAZOBgcBMB8tUFEXxBK4qdGPMy8De2H0icnzI0l4qIq+IyEk55PcC0JFi/wITAngLGFeo7IqiKF7DbQs9FbOBbxljzgB+ANzrVMYhV8tXgH86laeiKIpXqHZbgFhEZAjwQeAxEQnvrg0d+yxwS4rTthtjLrRZxL3Ay8aYVwqVVVEUxWt4SqETbDHsN8ZMSTxgjHkceDzfjEXkRqAe+Eb+4imKongXT7lcjDHtwCYR+TyABDmt0HxFZCZwIXC5McYqND9FURQvIm7OtigiDwPTgFHAbuBG4EXgD8AYoAZ4xBiTytWSKr9XCEazDAHagCuMMQtFxA9sIdph+rjdPBVFUcoFVxW6oiiK4hyecrkoiqIo+ZO1U1REHgA+CbQYY05Nk2YaMIugi2SPMeb8bPmOGjXKTJgwISdhFUVR+jtLly7dY4ypT3XMTpTLHOD3wP+mOigiIwiGA043xmwVkdF2hJowYQKNjY12kiqKoighRGRLumNZXS6pRnMm8P8IdjJuDaVvyVlCRVEUpWCc8KGfAIwUkUWh4fpfdSBPRVEUJUecGFhUDZwBXEBw4qs3RGSxMea9xIQiciVwJcDRRx/tQNGKoihKGCcUejPQZow5BBwSkZeB04AkhW6MmU1wrhYaGho0XlJRSkBfXx/Nzc10d3e7LYqSA3V1dYwbN46aGvuzfTuh0J8Cfi8i1cAA4GzgLgfyVRTFAZqbmxk6dCgTJkwgZo4kxcMYY2hra6O5uZljjz3W9nl2whYjozlFpJngaM6aUKH3GWPWiMg/geWABfzJGOPIghWKohROd3e3KvMyQ0Q4/PDDaW1tzem8rArdGHO5jTS/Iri4hKIoHkSVefmRzzPTkaIOsH1/Fy+t1WhNRVHcRRW6A3xx1gJ+9ZfH3BZDUZR+jip0B/iL9RMW1P5/bouhKEoGFi1axPDhw5kyZQqTJk3i5ptvjhxbtmwZV1xxBQA33XQTd955p+Plr1ixghkzZjiebyyq0B3geN9Ot0XIi573FsFNwzH7t7otiqIQCAQybueK3+9P2vehD32Id955h8bGRh588EHefvttAG699Va+/e1vF1ReNiZPnkxzczNbtxbvffPaikWK0wT6wFhQXZt06L0Fv2MysHLxc0yefkXpZUugqzeAZQyDa7VaFoubn17F6h3tjuZ58lHDuPFTp2RM8+CDD3L33XfT29vL2Wefzb333ktVVRVDhgzhG9/4Bs8//zz33HMP06dPj9vevHlz2vMOHjwIwLx583jmmWeYM2cOM2bMoK6ujmXLljF16lR+85vfpJRn8ODBnHHGGTQ1NTFx4kSWL1/OaadF19JZvXo106ZNY+vWrXznO9+JKPvPfOYzbNu2je7ubq699lquvPJKAIYMGcLVV1/NggULGDNmDLfeeis//OEP2bp1K7NmzeKSSy4B4FOf+hSPPPIIP/zhDwu+76lQC73CabvjNPh56vnSegPBxZt6/IVZQk6x9tZz2XfriW6LoTjMmjVrmDt3Lq+99hrvvPMOVVVVPPTQQwAcOnSIs88+m3fffZfzzjsvbvvwww9Pe14mmpubef3119Mqc4C2tjYWL17MKaecQmNjI6eeGj+R7Nq1a1m4cCFvvfUWN998M319fQA88MADLF26lMbGRu6++27a2toi1/HRj36UVatWMXToUK6//nqee+45nnjiCW644YZIvg0NDbzySvGWNFZTqMI5vHe72yLY5nTWgUbXFZVslnQxeOGFF1i6dClnnnkmAF1dXYweHTQyqqqq+NznPhdJG7ud6bxMfP7zn6eqqirlsVdeeYXTTz8dn8/HddddxymnnMK7775LfX38bLQXX3wxtbW11NbWMnr0aHbv3s24ceO4++67eeKJJwDYtm0b69ev5/DDD2fAgAFMnz4dCLpWamtrqampYfLkyWzevDmS7+jRo9mxY4ed25YXqtAVRSkqxhi+9rWvcdtttyUdq6uri1O+sduZzouN0U6c0mDw4MFpZfnQhz7EM888E7dv4MCBSXnU1kZdlFVVVfj9fhYtWsTzzz/PG2+8waBBg5g2bVrkvJqamohMPp8vcr7P54vz5Xd3dzNw4MC08hWKulwURSkqF1xwAfPmzaOlJThWY+/evWzZknZKb1vnHXHEEaxZswbLsiIWc75MmjSJpqamrOkOHDjAyJEjGTRoEGvXrmXx4sU5l/Xee+8luXecRBW6oihF5eSTT+bnP/85H//4x3n/+9/Pxz72MXbuzB4Zlum822+/nU9+8pN88IMfZMyYMQXJd9JJJ3HgwAE6Ojoypps+fTp+v59JkyZx3XXXcc455+Rc1ksvvcTFF1+cr6hZcW2R6IaGBlMxKxbdNDz0/4C7cqQig2xLf30pZ3S8SGPDr2j45JUlFiwFXr6PZcyaNWuYNGmS22J4mrvuuouhQ4cyc+bMopXR09PD+eefz6uvvkp1tT1vd6pnJyJLjTENqdKrha4oSr/n6quvjvObF4OtW7dy++2321bm+aCdooqi9Hvq6ur4yle+UtQyJk6cyMSJE4tahlroiqIoFYIqdEVRKoK+znasQPJw//6EKnRFcQvLcluCisHf10vN/g30tG50WxRXUYWuKC7g3/w63DIS/6ZX3RalIrCs4PQVVVZP2jR2Z1ssJa2trZERpk6QVaGLyAMi0iIiGZeVE5EzRcQvIpc5Jp2iVCjLX34KgHf/9ZTLkniHSp9tMRX19fWMGTOG1157zZH87Fjoc4CMnxARqQLuAP7PAZkUpeLp8QfdLeEJ0iqdBx98kLPOOospU6bwjW98I6KshwwZwve//31OO+003njjjaTtTOeFmTdvHjNnBsdRzPzO9Vx11VWcffbZGWc0jJ1tsaOjI262xX/9619MmTKFKVOmcPrpp9PR0cGiRYv48Ic/zMUXX8yJJ57IVVddhRVymV199dU0NDRwyimncOONN0bKmDBhAj/+8Y+ZMmUKDQ0NvP3221x44YUcf/zx3HfffZF0n/nMZ2xNOmYHO2uKviwiE7Ik+xbwd+BMB2RSFKVYPHsd7FrhbJ5HToaLbk97OHa2xZqaGr75zW/y0EMP8dWvfjUyu+Kvf/1rgLjtNWvWcMcdd6Q8LxPh2RbTTdAF0dkWf/rTnybNtnjnnXdyzz33MHXqVA4ePEhdXR0Ab731FqtXr+aYY45h+vTpPP7441x22WX84he/4LDDDiMQCHDBBRewfPly3v/+9wNw9NFH88477/Dd736XGTNm8Nprr9Hd3c2pp57KVVddBQRnYLz++uvt3essFByHLiJjgUuBj5BFoYvIlcCVELxQRVEqn3KbbXHq1Kl873vf48tf/jKf/exnGTduHABnnXUWxx13HACXX345r776KpdddhmPPvoos2fPxu/3s3PnTlavXh1R6OF50CdPnszBgwcZOnQoQ4cOpba2lv379zNixAhHZ2B0YmDRLOBHxhgr2yrVxpjZwGwIDv13oGxFKU/cqv0ZLOliUW6zLV533XVcfPHFLFiwgKlTp7Jw4cKkMsPbmzZt4s4772TJkiWMHDmSGTNmxOUVO+ti7EjU2FkYnZyB0YkolwbgERHZDFwG3Csin3EgX0VRKoBym21xw4YNTJ48mR/96EeceeaZrF27Fgi6XDZt2oRlWcydO5fzzjuP9vZ2Bg8ezPDhw9m9ezfPPvtszuU7OQNjwRa6MebY8G8RmQM8Y4x5stB8FaWi6UcLecTOmmhZFjU1Ndxzzz0cc8wxeZ8Xnm2xvr6ehoYG2g/kP6Fb7GyLQ4cOZdasWbz00kv4fD5OOeUULrroIt544w3OPPNMrrnmGpqamvjIRz7CpZdeis/n4/TTT+ekk05i/PjxTJ06NefynZyBMatCF5GHgWnAKBFpBm4EagCMMfdlOLXfYYxJapYpigJf/OIX+eIXv5i0P7wuaLrtdOdddtllXHZZNEK6t6cL2tbyp1k/Z8BRk1PKMG3aNKZNm5by2Ne//nXmzp3LzJkz+d3vfpcyzbBhw5LcNQBz5sxJmT52paIZM2YwY8aMlMfmz5/PU085E75qJ8rlcruZGWNmFCRNuWMMqEJXlLLj6quv5rHHHit5ua2trXzve99j5MiRjuSnsy06iDH9qiWtKBVDttkWM1n3hVBfX89nPuNcl6MO/XcUDdxRvIlbC9ko+ZPPM1OF7iD6yihepK6ujra2NlXqZYQxhra2tsigJruoy8VJ9IVRPMi4ceNobm6mtbXVbVGKRsDfR9XBFgJUUXWgMtRaXV1dZFCTXSrjyhVFSUtNTQ3HHnts9oRlzI5Naznq719gJ/WMuakp+wkVirpcHMSY/jHRkqJ4FdPPo8xUoSuKolQIqtAdRD3oim20sihFQBW6k2inqKIoLqIK3UFUnyt2ETXRlSKgCt1R9CUNs655t9siKEq/QxW6gxhV6AAsfvFJTvzTCbzx/ONui+JZ+ns0hlIcVKE7ifpcADCbQwvebnFm4duKRKuKUgRUoTuI6nNFUdxEFbqjqEZXbKIeF6UIqEJXFEWpEFShO4n6XBRFcZGsCl1EHhCRFhFZmeb4l0VkuYisEJHXReQ058UsD1SfBxG9EYriCnYs9DnA9AzHNwHnG2MmAz8DZjsgV5miikxRFPews6boyyIyIcPx12M2FwO5TeBbQWgcehCjPX7Z0aqiFAGnfehXAM+mOygiV4pIo4g0VuRk++pqUBTFRRxT6CLyEYIK/Ufp0hhjZhtjGowxDfX19U4VrXiNMjXQO3v97D3UW5KydC4XpRg4otBF5P3An4BPG2PanMizHNE1G8ubh+/8Nqtvn+a2GIqSNwUvQSciRwOPA18xxrxXuEiK4g5X9D4EVaUpS+dyUYpBVoUuIg8D04BRItIM3AjUABhj7gNuAA4H7pVgJfUbYxqKJbCXUQtdsY1WFaUI2IlyuTzL8ZnATMckUhRFyZP+PgZCR4o6iFroil20U1QpBqrQFUWpGPp734QqdAdRm0uxS39XPEpxUIXuJOpyURTFRVShO4iqc0VxB+2/CqIK3Um0Uil20aqiFAFV6E6iLymgoWOK4haq0B1FFZliDw1bdBrLbQE8gSp0RynTl9Rhi7pM74KilD2q0J1EXQ2KTTRs0VmMpe8eqEJ3lLLV544rF1VWWSnXuqJ4GlXojqJvqaIo7qEKXXEeNdCzop2izqLLPwZRhe4gZTu4oVzlVhQlDlXoiuIC2inqMEbDFkEVuqOYcq1UqlxKjzaKlCKQVaGLyAMi0iIiK9McFxG5W0SaRGS5iHzAeTEVRVGy099HKdux0OcA0zMcvwiYGPq7EvhD4WKVJ2XrQ1dcQOuKk+i7FySrQjfGvAzszZDk08D/miCLgREiMsYpARVFUezS3/smnPChjwW2xWw3h/YlISJXikijiDS2trY6ULS3UBsB2LuRc7fOdlsKz9O/1Y7zqIEepKSdosaY2caYBmNMQ319fSmLLg1aq2h/4HNui6Ao/RYnFPp2YHzM9rjQvn5H2Q5ucPBD1H6oy7G8Kpn+7hooFtopWjjzga+Gol3OAQ4YY3Y6kG/Zoa+oYpv+rXecp1xDhh2mOlsCEXkYmAaMEpFm4EagBsAYcx+wAPgE0AR0Av9RLGE9T7m+pGotKhVCf2/5ZFXoxpjLsxw3wH85JlE508+be0ouaF1xFH33AB0p6ihapRRFcRNV6I5SpipdrZuS078dA85TtgEJDqMK3UFULyp20apSAMZA+w63pfAkqtAdpUxf037ekeQOes/zZdezv4TfTOLQjjVui+I5VKEriiuU6cffA7QsXwjAhvdWR/bpXC5BVKE7SNlOn6soSkWgCl1RXKAcHC4btu/mT7/6AR1dvW6Lkh01pgBV6I6izT7FLuVQU3bM/R4zD/2RtS/Pc1sUxSaq0BXFFbxvow+22gHwBXpclkSxiyp0JykzC92ElUqZyV0Z6D13Eq3CQVSh92NElYqiVBSq0B2kbKNcNA5dKXO0/yqIKnRFUbKgyrJcUIXuIGokKHbRNlFx0AUuFKWfvwRuUF53vAw+P+Xq7nQYVehKRbLmxvfzwqyvuy1GBspASUYon89Pf1/gQhW6k5SrpVuBL8Ek2cIF+//uthgZKNO64lG0UzSILYUuItNFZJ2INInIdSmOHy0iL4nIMhFZLiKfcF5U76N1SqlMvPnB19ctmawKXUSqgHuAi4CTgctF5OSEZNcDjxpjTge+BNzrtKDlgVYxxR7eVJHpKJ96rZ2i2TkLaDLGbDTG9AKPAJ9OSGOAYaHfw4F+Ovt8/65Min20phRO/EdR7yjYU+hjgW0x282hfbHcBPy7iDQDC4BvpcpIRK4UkUYRaWxtbc1DXK+jlUqxSznZ6OUjq3aKOsPlwBxjzDjgE8BfRSQpb2PMbGNMgzGmob6+3qGiFaUcKaePv/dl1U7RIHYU+nZgfMz2uNC+WK4AHgUwxrwB1AGjnBAwFzp7+vjzvKfo7guUumgAjFVelUon51KUysKOQl8CTBSRY0VkAMFOz/kJabYCFwCIyCSCCr3kPpV/PfZ7rlj5VV55ek6pi3YGY8Aq3cdIJ+dS7FAWToyQUaKdolkwxviBa4CFwBqC0SyrROQWEbkklOz7wH+KyLvAw8AM40IbaMShJgCGHNxc6qIBMAUqyF1/vAxuOcwhaXKgn/sdlQqin1flajuJjDELCHZ2xu67Ieb3amCqs6L1P47c8bzbIiglopz0jikjactJ1mKgI0WdROeTUGwSbct5XwGVg2tOO0WDqELvx2inqBfQe684hyp0Byk3K8FVy+vAdvDrWpXlgFfdGCbDVn+lohR6OTQNPUmpO0UtC+46mZ65/1HacpW80PeqfKgohe42ZWagu4ZlBfsaqtc/67Ik7uFNm7e8SHUPNWyxgvBq01CJJxLe2Y9fvnK68nJ4r4ylAQlQYQrdfcrpNXWPcutrKA7eV5LliM7lojiHKipbqEIH/fg7S6GD+ioFVegOolXKLnqnFKUYqEJ3kHLrkHErDt3rk5ipP7Z8Kbd30GlUoTtIYlVa+udvs/aXH3FFFju4FY5mUIUZpn97fB2knyvyMLbmclHsEl+pztj2F5fkyJESdyR5/d0zpnRxHR6/FWWHdopWEDoAokzwukYvKf1bATmG1imgwhS62/pcozfs4fX7VFr5vH0vvIzeuWQqSqH39+ZWrrg2OZfHFbpSvminqOIcZTZ9rnaKpsaU2XPsr8SZb/1ckYexpdBFZLqIrBORJhG5Lk2aL4jIahFZJSJ/c1ZMe6gPPU9K3Snq8bDFUqBtycJJVYv6eys9a5SLiFQB9wAfA5qBJSIyP7RKUTjNRODHwFRjzD4RGV0sgTPiug/d3fLzptRx6CUtLXdK4UMvpwUuygEdKRrEjoV+FtBkjNlojOkFHgE+nZDmP4F7jDH7AIwxLc6KaY/+/nUuF7zeKVpayuFeeFNGfduTsaPQxwLbYrabQ/tiOQE4QUReE5HFIjI9VUYicqWINIpIY2tra34Se5hyU1SujRT1+H3yunxKMuFHpp2izlANTASmAZcDfxSREYmJjDGzjTENxpiG+vp6h4qOoj703HDvfulzKi/KwRbWOgX2FPp2YHzM9rjQvliagfnGmD5jzCbgPYIKvrS4/UzLNDqi1LfN6xawRrkk4u3nFUt/d7vaUehLgIkicqyIDAC+BMxPSPMkQescERlF0AWz0UE5bVEpD7NUk0OFXS6lttRFo1xiqIw66zoeNxJKRVaFbozxA9cAC4E1wKPGmFUicouIXBJKthBoE5HVwEvAfxtj2ooltFdxyvIslQXrXhy6t18+r7cgSo1+csoHW5NzGWMWAAsS9t0Q89sA3wv9uUbF+NCLoFCMZSG+1N/v0g8UrZDnVOGEW3Be/QDHSqV1KkhljRStkGda+hdIo1zi0LlcgFgDSW30cqGyFHoI96qfl10uGfIsmk5J9yS8q8SUZLyqzlPJpWGLFUS4U9S1YDyHCi6GQk+VZXTW71KvWOTtKJJStiC8qiyhvFwu2ikapKIUuvt42UJPxr1OUaUcKEeXS6VEuuVLRSn0SmluFSMOOtNHonh3LXXOXvehlzIOvXRrI+WPVyWMlcvrM3iWiopS6GFcq4BlFrYYpvSWurcVemnx7r3wustFSaaiFLrbPnTHKPncKiUtDjw+sMjrLYhS4TWXy75DvTyxrDljmkpppedLRSl0t/HywKJUbgS3OkUr4JPbr/CGOoc/PnAfU5+citXbnXywnyvyMLYGFpULlTKwqFQ+XNc6RUMvn1f9x2qhx+MVl8sX993PaNlPwKpJm0Y7RSsJ1+udly10129OhGhD3jsyuUc5KCCPyhhbpz1Uv92kohR6pXydS6V8XYtD9/hshl76+HkBr75VXmk5JHLnnbcw9+l/uFJ2RSn0XGlcu5munj7H8nNuwEypJ1cpcXGqMMsKryjOcIsu1Qcm0urzQN36wcFf88Wl/8+VsitKoefShN+5s5mGR07jpdk/KKJE+VGMRZQ9pUSLLEuhH9bS3isPPZe0eNRGj3O5uCeGl6gohZ7LQ+3ZvwuAk/e94GDxDvnQHcklO1GLp7KiXDz18aoAvKLOo3Hx0T1JaSrE7ZovlaXQK4SiKCRXRoqmKa/IUS6FXk9pPwjeV0CldrnsWfkizQt/ayNlrFze7pcpFRUVtuj619m52bmcySc2y1TWjGuLRAf/F61loBa6w5T2vRo179LgjwuvzZhOH3MyFWWhV0wYnMejQOyTRhFkeRML94EXeP9KqCkmbp3Lm8tX53dyoI9tf7sWf8ceZ4VKwCttiIydomEjoZ9reVsKXUSmi8g6EWkSkesypPuciBgRaXBOxBxw+1l6eqSo2zcnSrFl8c6VZmeUtDP0ya/lde66lx5i/HtzWPe/1zgsVTxeiXJJIqYeVYwxVyBZFbqIVAH3ABcBJwOXi8jJKdINBa4F3nRayFzxikWRL6WfPrfkk7kUN/tC71+JW0jDTEde53WEQm67u7qcFCcF3nijkjpFPWSkeAU7FvpZQJMxZqMxphd4BPh0inQ/A+4AUky0UBpcn5zLMQu9CArFQ52iZOkULfSD5qXWiB3ytS5FfAWdn0NJRc6/cMrtmRcLOwp9LLAtZrs5tC+CiHwAGG+MyTg8SkSuFJFGEWlsbW3NWdhsVEqzq9QjRUvtdyx2p2ihH8RyUQ4RhV70FoU370fKCefcDoxwmYI7RSVYq34DfD9bWmPMbGNMgzGmob6+vtCiUxTgfJZuUDkrFqVZ4CJLuYVb6AWdXnLyDd8UX+j17ScKPVOnaNk99CJhR6FvB8bHbI8L7QszFDgVWCQim4FzgPmudYziXgPRuc6j0naKlt7l4m0FVC4WOlIV+lHsgVpFzb6icHu9XDsKfQkwUUSOFZEBwJeA+eGDxpgDxphRxpgJxpgJwGLgEmNMY1EktkHZ179ST85VcpdLkcvrJxpIfEGF7jOBIpfkjfuZ2Cmaqh65HbZouVx+VoVujPED1wALgTXAo8aYVSJyi4hcUmwBc8Ft/5ljiqrEI0VLTViU9J2ihfrACzrdhdkg8+wU9YU/yN5u8ThNqugsr4RWGqvYH9fM2BopaoxZACxI2HdDmrTTChcrP9z+OjtFMa7CKxUeyFnjvrbwMQYOH8UHzvmI3QJyl8lF8jZDQi6XonUuR1pwRcm+YFJdt9tGneWyy6Wihv6H0UWi7eFeHHqWScESrn/qGzODP845YC/3MotyybtTtMhRLlGpvKHREyeTi3tOHjHmLJct9IoZ+m8sixN2BV373ni0+VOMJn9GJVX62bkyHy5u9hWDzxe20ItlFYZ9Y966oV4OTy6HTtGyYNXrCziM/EbcOYWXF4lOWY5bKxYVOyqjv0S5+IproXt1zVfJ8KFx2+3qtsulYhS6vzs3ZV7Klzbnsipm+tzMI0GLNVLUaxZldrw5UjTyuffI/YwMhIu4XGKPemNCO3W5FAFbdkUJh9fnugJRUVwujudYAEWOyihcATl8t3o6Mn5kCrWDizdSNEtfhwdxvVPU62GLlUpp73uuCr1IYiTg1opFRQ9DL272ORHYuxluG0fHy/emTZOvvOEPf7GjXDxioKeor9EPmVdkRC1057HzbK2iWMGp8/SCy8WtTtFH7/8ZT//0wpTH0iki1+czd3BN17WrVwDQ/Ppcx/KMEAnoL3KUi2e0ZRBf6D3zmFiA+z70igxbtEUJb3yuCqqSOkW/sPNOqIrfV/T50L30pleFXjHLnyFRnm6C0HX6ih3l4qk2T5Q4gyD00+1OUbcHFlWOhR432b2tE4oqQ/zuXMsq7fS5JSfLB67wTtFCT3fuXvlCCj1zaGF+5YWVR7GjXLxSc5I6ReMk84aUblvolaPQc6SUCzHnWlaunai28nQ8x/wp9iLRXol4AHvzreR7F0yST9lZCnW5tM35Mnv/eGne5aeL6Y6GLaY4x+3pc1WhO4TkNq6tGAMA0rlWcvcJl37k5i0/uYb75j5RsvKKm7134tCrqmuC/zMo9Pw7RcMK3Zsul8M3P8Nh21/Mu/REazd5+lwPjhR1eT3g/utDL8YUtWk+Ejn3iTogS7IMGeLQDdxQ81dY81cgf4vKvizB/3aH/ueevzdebogdzem8bzXsaimW39jtgUXpDCExVlCre+g5h1GXi1Pk7NYonWdLRDgAAB8oSURBVIWes4p2+SvvHOmuu9gjRQs839H7H1SKmae4zU9xFttCdzvKJd2HOdXdiriftFO08rDzehRixbX/9oPsXfSHFJmmeZi5fmxKPDlXyQeOZJvLpYJGippQncgciZJvp2hpps11a2BR4qjLxE7RuOfskWfuduuwIhW6rVtagBU2bN8qDlt0XWQ7YELRAGk6M3PuFC2OzyXDoVIPLMreKbpi9Uoevf/necnmqdkWQ0o3kw89f8dGOGyxyAOLipK7jfLTPgfvhlOqhe4UufZuO/jSWqHbmO5h5qxgSuRyic537b0FHYbN/Rxf2PkrOtr3FSH30hHuJPNl8KEX2ilarCt22+USW+5v/+dBjrGaARenx7ZBJh+6P2Dx6F9+R0tb7nXaLrYUuohMF5F1ItIkItelOP49EVktIstF5AUROcZ5UbOQqxXs4EsQVYzpFLoDI0V3rYS2DTlKFptnBqWdo1Xx2C1f4pHbryxAlGxx6BaHcyC8kXv+HnLZhK/VV5S5g0q1UpH7Lpdrt/xX5Hd0pGiyXK6HLWZoiS1/YyFf2HQ9q+Z8q2jFZ1XoIlIF3ANcBJwMXC4iJyckWwY0GGPeD8wDfum0oLlgy4fuoP/RCjdN00a5OPCxuW8q/O4DOctmq7wcFcPnrWf5Unf+Q9nDV1c032weCrm9u68IgkTvbXURolwoUZSL11wu0ZZD9rSlxsowhqSqN2ikHObfXbTy7VjoZwFNxpiNxphe4BHg07EJjDEvGWM6Q5uLgXHOiuksSx7+OR3vPpXzeVZXO/vumJy0PzqJkT2FvnvJE7T++ty0lrGdyrl71jR2vvZQ1nSJNL84m52//wQQ27mUn7Jp+c1Udr81L+3xc7f9Kc2RbNcXPZ7fIKvoOdvmzMyaek/rbobdPiqy3bnimaQ021/6Izt/f1HuooR96EkKPX8F1N22lf23TaK6fautvPo697PzjgY2PPu7nMqJdbns/u1H2fnqXzOmT3eP9t82ie62LQBsffS/2frgNUlptv35K2x76mdx+9IrdHstB+PvZc+dZ9G67B8pj7fMOp9dr/8tWZY5V7D18ZQrbGanDHzoY4FtMdvNoX3puAJ4NtUBEblSRBpFpLG1tdW+lDmS7VU5c92vOHvXwznnu+7tRYzs2pq0P1eFPvgf36S+YzXt7ftTF2TDYj5i/zLGPPfNrOkSZRj38n8zZs9r8QfzbK2Mbl/J8AVX51R+aCP4L+186DG/M86Bkq6w6M/xmx/Lmnz/jvVx28ctuSkpzdh//YAxe17PWRQrMiNi+nucq5NgxYL7GdGzg8PXPmTr/O2b32NM13pGv3lrjiVFo0mO2LeUMc8nK+JY0t2jET07WPGP+wA4evVsjm5K/jCM3zaf8cvujNuX3h+dXqHHtlZadmxm1MF1WPOvTc7Bshi9/x2O/L/k+jt+8zyOXv7bNGVnxu2BRY52iorIvwMNwK9SHTfGzDbGNBhjGurr650suiQE0liL4U7RdIox8axsFng2A92pnvRsvn97mdizNOMs7Ryax4FAPgrdG81viLrhEpVurOLJVVp/+F7anD434A8+30yRNqlwcvI2fx4trWwul9jDqT6Y4bnJU2VTrIUo3F6Czs5I0e3A+JjtcaF9cYjIvwE/Ac43xvQ4I15+lLpbJFJf0n2dEypztpVgsin8gN+f+xDfTHkWUAnt3mvLCuCr8mWXheD1R1elyV22Yi9xlwsmokSdk+nwHYuAHFwPoVZOrn0WUZeLS0oqTbnRmH67naLJ6QJ+f+IkoI6Q0UIvQbW0Y6EvASaKyLEiMgD4EjA/NoGInA7cD1xijGlxXkxvYyQctpjjSNE8rYRAHudlrEsleGFjm8+5dIpagTyu1Tv6PO5j2dPZTsuGdwrO8oSeVYD9ztD8rdHQRzWfVpIDpJ+cK5Ii+ivHh160peK8PvTfGOMHrgEWAmuAR40xq0TkFhG5JJTsV8AQ4DEReUdE5qfJriSU+n2O2EnpFGPC/nD6tO6ELAo2HyWXkQJcLnatvtgXKJeXL58XL91CI25gYiJRmn7/OUb/9Xz8vT2OtCLsjvQN38Nc52ZxxCVXAOnqiU/CLqf8887LlWeDjC3KErgObLXcjTELgAUJ+26I+f1vDsuVB+6ZZWEferp5qdNVzHTKKqvLJY/KmFjR4qyfUvTMx5Vvx+USJK+PVxGnWjCWhfjsdz3F+tBPPNQIAn6HlIntqRvyNAAirsEc64exApFpgwshWwdjquuO65sw0ZSJBJw2ikJknJzLIy6XsiA+iqK0FlquUS5h0iurbAq98MoYX/EKuV95NPttDP2PvKz5WOg5KvRc4rhz/ZjGrvtZLcHfVsDviF8on9ZRLkRyzzHSKOB35oOVfQBa5o72TBFSxXIj5RWV5SAVo9Djm4WltdYjCj3twKI0+9NUqqxRMA5EfsQpphJY6HE+9Bwm58qnvyBXcqktObeOQvUyVvk6pfAiFnqW+2kVqmRizm9d8njW5AHHlFoekTExnaJRgyk5H6d96HtXvUDHtlWYTMZWCVwuFaPQY5WplFafp7TQY63vdAosraVdDJdLwrYVm0eJO0XtWKfhe+o1l0uu8qQaGGU55nIJ/89mAOT3fCP6J+bZ1f/jP7JazpY/+R4Jwra1jTmVn31QWSr3SowcGZ6V0z70wx77LEP//MHMz1ZdLjngYmhDKh96bIVJJ1m65ll2C71w6yJWvmKtSRmLiYtyseP7DR6zArkPyc811DEXC7YQl0skD38fTrzddudBL9QNIAnnZ7Nu01no4x+5IKdysz3HrOo+o8ulSD70POqrk1SMQo99+KWOcoi6XKKVJE6hp6mY6b7m2Tqh8mnSJn4k4loHBUW5JJSTbvRnCh96OmJltfy9OcuU87c9h5c71/6LsJUZq9CdilKy24IveCCaia9vfX2Zn0kgzxZBUrHZOkXjHnSy+ynTh8epVlIiboV4hqlIhV40az3dQKDwbYy10P3RL3U6F1DaKJcslcKJymiKZKGns7rjrzWYpiqDbyysrJzyN2ciF39qzi9sio9lwHKqU9TeSNF8FXokHDfh/EAWhe6UUsulryWlnzyDHMWKcsnYGir64ugVpNALDehf+NYKGtdtyVJEGos68iMqgz+Q3SJNF+KUrdlmBfJRBsmdotHJudzzoR9sTZ4bhzhrNo8mbM6DTIrncokOz4/Jw6GPlM+W66pwC10Szs8WdumU9Vuo3GE335Hs4c07PsmuPXuix4oUWx977fPuuzFu9kUrhfvNaSpGodv1m6br0LlwwXkc87fzMp+czqKWZAvdxFjo6QaRhJveixrfZfPO6GRllj+LQncgiiA+jLAELqq4KJfo7ra2FJO0mRjrMMu9SEU6y27dO6/x+rxZyQdysNZyjslO8RIHrTgnXmqbeeRZX6JD/3Oz0FO3eHK3SrN/lzOHLcYq17O7XmHrvZ9Neaxv6V/BqY9QTD6X7ZpF2+7ovIalmOelYhQ6Nl0umSysemnPWEQ632d4PvR4Cz3Wh57GVRN60aY982Ha/hCddjSQ1UJ3QKEHApGmXyk6ReMHiWQvL+JyibkX9i3b1Pf7xCc/wQdX3pgsWw73M+col7SdooVjd2BRvookGocef81WlueQ6z1Klz6r3FkWuEj8+J5lvZuyzJqnr2HT03fYETUriXUp7t0Kve/qcrFBNn9amELClVpfTzcfdDhsMcYKs9UpGq1UZ/iiU7gmWaWJFTefpmhCCFi8Dz2aX8vCX+eUbaIySVdZ44f+x50AJHSkxbZ0YqzLvj67c77lGraYg0LP1dq1UljoTnWKhrKMzfvh+2/jkT/Gry+TqVWxYskilv58Gt1dnWnTiEl0uTjbgkz/TtqPcgn/tt0pmnBs967mjGXZJuHa/XHhy+pysY3YtNATrYEJ1jaWPX2vrTI+ZlLPh51qzouADQvdsvwprRAr0JuQzkrYLtxCj49yieY/+o1bsLI0qWNJrJzpKqtJ0SkKUcv9lUeiSsi3Z200ZczHrbfXnkJPil/OGgZq34LNOUIllYUe8OftcYmtL74UCu/ynbfzpe2/SDgnfX0Z8uy3OMO/jF0bVyQdi8ahJ7pcsrUgU92j3I2sTKv/QPCeHuzxh6a1TmGtZ3hWebcKspyT2CEciDFCSrGAdMUodLs+9FSV5/SlPy6obCvkQz930z3RfbHN0liF0rGbodIVFoa+FC9HYkdgosz5hb0lWNIxH59El0tvb1ce+WcpPc186GF/7KCWZZF9Qx++JPI7tgnrt6vQE7YTP4j+vsQPpv37mau7K9V86EnN8hy0eypZM53/zrK36Fj7UtrjtVbwWftqapOORa3eBJdLIIsPPcU9svq6c0ofFCDzczGWYdsvTufROSn6Rcj8IUt3LJ8WfJzxltiBHFvXVKHngM3Jn4oTrpTsZrDSWOjmNydFf1sBenuTK/rxy+KbzIkWeX4zEKaXL7Fp29ud6eXL0x8b+3LGKfSgkvYFUitrE/Nx8/dGX46+n41h/+/OT1NWvIyJL2lf4ochhxZPrvc+LIsvJkQzeO/zu4+x/Qi+LGGLHd19THnqY3ykc2HK4w8+8jeOItgp3deT/mMpCS6prD70FPfomB2pl4GD9O9ktrBFq6+bSb6tfGHLzan96Rk+CEnWsgkPZMv93fLHBkBYmSx07RS1T8xLnGlui2IE/qfyG6dzucRaw5YVwN8TVZ59JjhD3Uh/cEr5wObXobs9SYk60XSLrbiJYWm93en9qYkvq/0FLpJHigIEQgOHqqx4hRJWUrEfM3+MlVcT6GREW+q5xRMVXKJC37tvH0/c9S12t7UF5clBoefq/07V4Zz4gc6lkyxufEPkf+r6/vozc+K2B0kPgVtGQU8HAP++Nrr8WqAvuVUWyT/hGvxZFHqqd6w6Qz9FvrOO0pdcT+M6RTO6XNK5efKw0GOt8ESXS8zAuPAHRjtFbRBnBWew0Is1QiwRO0rCWAH6Yiz0QMzjONC8lqo5F7Hhoe844nJJfDliX6Ikl0tP8OXe+MsP03PT6Lhj2Uap2hspGiNHGoUeLTBWodt0uSRea8L92/jP33Hpgf/lvUdvCiewlS+kfuG37Gjh6Z9eyLJVa5OOpXIFFmJUxN7/8MCidLV9eGdyjH+V1ceW9cn+cn9PskKPuFwSW4jZXC4p7mdivYj3O6e5/9ksWn+Kj1Dc9LmZLPSEvEMfgnxa8LEfuEwWeqoOcqepGIVuN2yxaCuVJBBI50OPIVGhxy4st3H5KwAcaN2eVMlSWeg9/gD+HNwhNU/MpMoErb3EOUH6Qj704zrfpZZ4JZpq4qVY0neKpg5bDFs31VZqJRHncrGt0OO3E+9fTV/QQq2xOkOy5eJDT06767W/8qmqxfS98PNkWVIoJV/3ft63/7Wk/XaIvRZJ+G+XvhTPMJDBx534wc86TiLFBytTqymd3zrbIiC+kIVukNQulwzvQ5IeCJ2fj0KPtcIT3Xex1rt2iuaAXf9UxgnoM7Dk+eyrx0P0AcZ+qTMtcBHrRghI9HH0doTcAQMGJ1WSVB+le2/8T37/+5Rrc4eFiNsc17eZow6tBpJf2L4U1lpExjwjbOLm2ombqyWopKvTWOix1mygN71luHXNWzS9/WLKY4lKWKywQkqegycbKa1PE44HT0GKZ3/Momup79oUlSeXTtE4l0vwvFTRLplIpbwDKT6WUZdLYqdoNpdLIOl9TJQxEPCzfvEzrJj12bQtlmwLXPgCmTvvMxlv6VoF+bSerDgLPTEiKOa+esXlIiLTRWSdiDSJyHUpjteKyNzQ8TdFZILTgmaVMa7CGDa2HuT1pj1J6ey4XFZu3s2NN/2I3QdCFoAxnPnqzOSE/l5Y9UTcC9nddTBFOWnmQ7cCzP9LNO47ELNsrencB8CWfT0c6o5XZKkq3Xdr/s539t2a9ppSWTthRZ4UZ5zQURv7ciZ+EGM7+/Yd6qUvjVVkrAD4eyL+20h+IQWVaKEPlNCHMdZCDyn/xIE5lmU4eu7HeN/8S8OFxR9PuF9JHbAZrNOU15G8N2HTwJv3Q/vOJFkA6kz2KKLutq0ceC/Zio+1ZsMLZqQl5YLJ0NvZnvShsRIjmw62Er6uXBW6ZQWSjJgqEvMIcNyz/87k/S/QsW93moyyWOj+4HPzYVIPjsshyiV8q/KKcslgoYcNFoAj9i7JOe9cyarQRaQKuAe4CDgZuFxETk5IdgWwzxjzPuAuwJlhVykIWIaX1gY7DVs6uun1Wzy3ejdrdhyIpOnY18otd83iJ39+kvbuPgKWYdbz77F5zyFWbd+XMf8De1vY8fQt3Mx9vPz4/ZhdKzi4bWXKtM3/uA0em8ExVnR475btu9hw14V0LHsism9f01tsevqXmATFceiN/+Ga6qei1xaj0NdvaAKgjl5+82zU59nasoPdO7dHttvfmEPf/O9Gtv0bX2HTX67ilXU7mfmX6PzT/oBh0br49buHmuDHJ7ETuavzEE0tUcUrt4xk9eyv87dXVrPz6WS3QlPLQfZ39nLpvendCNvaOvE/eQ3cNg5f9/7I/jPevJb/e/i3VFupler2vQcjv03rOpauXMXDz70R2dfR3ceP/r48sr2/s5clm/fG5VH1wg3s3Rfdd+bepwEYt/d1Ou/9KL59G5PK7erxs/9QN3Tt40Bn9ANiBfys3dWOMYZNew5hWSai4Da1dXKwx8/aFUvg2R/Ck1fbcvH5LTDdB6BzL/h7sboO0Hn3uQz/2yf4/iNvs6U5OOjFHGxl8IvXJ50vxmL51j1s2xMd6bz3YA+L1qZWlM279/D2oifi9u3bsytiRPx90Ztw5/v4wMGXAehJaBnt2voee199AHavpq/zAI+8uYW9h6JpXv7HQ2xpOxh3zkAT/3yfeTc6kKd1++bI78UrmyK/V+84wJqd7fz2ufdSXke4U9QnhjPeDtqZQzgEi27H9HbSl6LztuPQITa3HmRPe3yH6tiOFdC5N6k19+DiLTz97g427TnEu1ta6d25iu62LXS/PZeVy5fSsn1LnA+9/VD8dR5o2cYrixfz2rqdTNj1f4CNzt4CkGyZi8i5wE3GmAtD2z8OCXVbTJqFoTRviEg1sAuoNxkyb2hoMI2NuU14D/DSM39j/Fs/Y0CVgYAfnxiqCTCELoZIslJYb42Ns5/q5QAj5WBSOqdoN4MYJqmjRAJGMs4wGJ/PQIaF4tX7TBU1kpv/bYs1mh5qOMEXVP4tZgT7zeDIdjY2WUdwrC+N5ZTAe9bYyO90+edy7bmwzaoHYLwvGH63zwyhwwzkaF+KOWLS0G1qqJN4q7/DDMRPFSPlIE3WUbzPtyNybIM1JtKB7fMJI0w7o6SdLjOAbaaeI2Qfw0N1oNUMyzqlRCxd1FJreiMtnx3mMI6SveyWURxhklucYdrNQFrMyIicG6wxHO/bmTLtLjMSgCMl2bjZaI3huITzOk0tgyR9/0WzGUWXqWVizLNfb42N204kVr5dZmRKWcJ12IeJu/922WkOY4zEf9z7TBWHqKOWvkgrMJbY57XZN56BgQ46zCAshKOkLaWO2cFojiJoLO0zQ2zplzcnfp+zv3xDztcEICJLjTENqY7ZWSR6LLAtZrsZODtdGmOMX0QOAIcDcTVQRK4ErgQ4+uijbQmfyIcmH8f6jZPY12vYfcjPkLpadnb4qR82kBMPNTJeWugx1XT5BrOx+nh6fIOoqfLRerCH4QNrWN/Zy3Gyi6NkD4Jh/cApDLMOUN2zn3Hs5p3qydQMGsak9tdZX3syR1otbK89jvG9GzgwcDzWUWcw5L0n2SJH0S0D+bD/dToZyJ6hJ7KrbxB7enwcb5rZM+AoBtfWMLTKz7j9S6ill+VDP8ww/x6G9rYwwOqie+AYjuxaz66aceyqOZreqkH0dXUwsncXm8wRHD/wELu7aziy5hC+vk5GSgdmwBDaA7WMNPvZMegkfP5ORvl3AUJ79Sj2VR1GzcHttFWNptsfYKdvLCOkk87qEdRU+VjOeGp69nJMYCubqo/nWP9GVg1q4IjO9dRVwUDrIOtrTqLD1FFj1XBEYBe9Use2wEjE52OYr5cDvhFU1QwAoKdmBM37u6nyCYMGVLG9bxwNZgU+LFqqjmRgqONxmXUs9YMHMKJnOwOqfQy1OhjZF/xgPBf4ACNr/Ph8VRzj30h3zQgOVQ2nKTAaq7uDCSNqGGi62dPRxSC6OZJW2gkq7t6Bo/EJ7O8ayqiaPtYFjmTo4EFUd64HE+AoEyxjcd15DKOTMT2bGGI6OGAGs9wcz9mymneHfoghffvwEeDUnmX0mipW1Z5GVaCb90kze2uO582eI6j372THoBM52NXDqMEDaO/uY/jAGtoFhhx8k2V1Z1JTJWw+1MepVc3srhlLl6nBGniIrrrRDN/1Os21Ezmp+138VbVYAYtdUs+uAeM5hl1UGT89VYOo83ewuXcYE6tbaBl8CocdamTX4FM4YDo54eASXg2cwiTfVt6q+gDdtYczLrA9aOEPrmebv44eS9hefSTb+sYwTd5m54Bj2M9QumoOY1LnEvaNPJ3egMXojlfYPfB9bKs7gfH7G9lRczSmqpZtHfWcX7WcTuoQXzUv9J3KOb41bGIsJ/i201Izlr6eLsZX72dvVT0tVaOpG1DDPzuOp4NBnDS0mx37u7F8tdT5DPX+nfzLOo0LfW9hUcVW31i2V4+lTcZxQu9qNtadgr9vE/sYwu6+QYyv6WAE7eysO4G+gKHXb9FVN5YBPoujO1ezwhzH+8wWVtedweFdmxgwaCgdvYaJZitNg6dw2sFXaRz0Ybr9AQb3vkO3bzCHWW28LacwrKqHfdWj6Orp4QxZz7aBJzGkcyt9g45gbPd6ttZOZv+hzZgBgzlYdyR7uww9vT0Mqa3GVzWCsT0baPIdy+iqdtoGjKO102Lo4IFYh6rYbUbQXjuaUdJOYMAwartbOaZ3A71Us9GMYVDtACYENrN2cANDR43JS/9lw46Ffhkw3RgzM7T9FeBsY8w1MWlWhtI0h7Y3hNKkNSnytdAVRVH6M5ksdDudotuB8THb40L7UqYJuVyGA225i6ooiqLkix2FvgSYKCLHisgA4EvA/IQ084GvhX5fBryYyX+uKIqiOE9WH3rIJ34NsBCoAh4wxqwSkVuARmPMfODPwF9FpAnYS1DpK4qiKCXETqcoxpgFwIKEfTfE/O4GPu+saIqiKEouVMxIUUVRlP6OKnRFUZQKQRW6oihKhaAKXVEUpULIOrCoaAWLtAJb8jx9FAmjUCsYvdbKRK+1MinFtR5jjKlPdcA1hV4IItKYbqRUpaHXWpnotVYmbl+rulwURVEqBFXoiqIoFUK5KvTZbgtQQvRaKxO91srE1WstSx+6oiiKkky5WuiKoihKAqrQFUVRKoSyU+jZFqwuN0RkvIi8JCKrRWSViFwb2n+YiDwnIutD/0eG9ouI3B26/uUi8gF3ryA3RKRKRJaJyDOh7WNDC4s3hRYaHxDa7/rC44UgIiNEZJ6IrBWRNSJybgU/0++G6u5KEXlYROoq5bmKyAMi0hJaxCe8L+fnKCJfC6VfLyJfS1WWE5SVQre5YHW54Qe+b4w5GTgH+K/QNV0HvGCMmQi8ENqG4LVPDP1dCfyh9CIXxLXAmpjtO4C7QguM7yO44DiUcOHxIvFb4J/GmJOA0whec8U9UxEZC3wbaDDGnEpwiu0vUTnPdQ4wPWFfTs9RRA4DbiS4dOdZwI3hj4DjGGPK5g84F1gYs/1j4Mduy+XwNT4FfAxYB4wJ7RsDrAv9vh+4PCZ9JJ3X/wiudvUC8FHgGUAIjqqrTny+BOffPzf0uzqUTty+BpvXORzYlChvhT7T8HrCh4We0zPAhZX0XIEJwMp8nyNwOXB/zP64dE7+lZWFTuoFq8emSVt2hJqfpwNvAkcYY8LLr+8Cjgj9Lud7MAv4IWCFtg8H9htj/KHt2GuJW3gcCC88Xg4cC7QC/xNyL/1JRAZTgc/UGLMduBPYCuwk+JyWUpnPNUyuz7Fkz7fcFHrFIiJDgL8D3zHGtMceM8HPelnHl4rIJ4EWY8xSt2UpAdXAB4A/GGNOBw4RbZYDlfFMAUKug08T/IgdBQwm2UVRsXjtOZabQrezYHXZISI1BJX5Q8aYx0O7d4vImNDxMUBLaH+53oOpwCUishl4hKDb5bfAiNDC4hB/LeW88Hgz0GyMeTO0PY+ggq+0Zwrwb8AmY0yrMaYPeJzgs67E5xom1+dYsudbbgrdzoLVZYWICME1WdcYY34Tcyh24e2vEfSth/d/NdSjfg5wIKb551mMMT82xowzxkwg+NxeNMZ8GXiJ4MLikHydZbnwuDFmF7BNRE4M7boAWE2FPdMQW4FzRGRQqC6Hr7XinmsMuT7HhcDHRWRkqEXz8dA+53G7wyGPDopPAO8BG4CfuC2PA9dzHsEm23LgndDfJwj6FV8A1gPPA4eF0gvBSJ8NwAqC0QWuX0eO1zwNeCb0+zjgLaAJeAyoDe2vC203hY4f57bcOV7jFKAx9FyfBEZW6jMFbgbWAiuBvwK1lfJcgYcJ9g30EWx5XZHPcwS+HrrmJuA/iiWvDv1XFEWpEMrN5aIoiqKkQRW6oihKhaAKXVEUpUJQha4oilIhqEJXFEWpEFShK4qiVAiq0BVFUSqE/x9Lkj06kAURwAAAAABJRU5ErkJggg==\n"
          },
          "metadata": {
            "needs_background": "light"
          }
        }
      ],
      "source": [
        "def afficherProba(proba_B,proba_NB):\n",
        "    '''Affiche en valeur absolue la différence entre predict_proba de deux modèles'''\n",
        "    plt.figure()\n",
        "    I=list(range(proba_B.shape[0]))\n",
        "    plt.plot(I, abs(proba_B[:,0]-proba_NB[:,0]),label=\"erreur P(ham)\")\n",
        "    plt.plot(I, abs(proba_B[:,1]-proba_NB[:,1]),label=\"erreur P(spam)\")\n",
        "    plt.legend()\n",
        "afficherProba(proba_B,proba_NB)"
      ]
    },
    {
      "cell_type": "markdown",
      "metadata": {
        "id": "MC14SUjexna9"
      },
      "source": [
        "Les erreurs de probabilités sont inférieures à $10^{-12}$, notre modèle est donc très proche de celui de Sklearn, et devrait retourner le même score. Vérifions sur plusieurs exemples et en modifiant la longueur de notre vecteur."
      ]
    },
    {
      "cell_type": "markdown",
      "metadata": {
        "id": "CtjZ5bx7xna9"
      },
      "source": [
        "### E) Plus de tests et influence de notre hyper-paramètre "
      ]
    },
    {
      "cell_type": "code",
      "execution_count": 27,
      "metadata": {
        "id": "SKKUPzI2xna9"
      },
      "outputs": [],
      "source": [
        "def vocabulaireDiff_trie(Xa,taux):\n",
        "    '''Retourne le vocabulaire selon le taux de différence et le dataframe trié\n",
        "    utilisé seulement pour des tests'''\n",
        "    V=df_proba(Xa)\n",
        "    V=V[(V['diff']>taux)].sort_index(by=['diff'],ascending=False) \n",
        "    return V.index,V\n",
        "\n",
        "def split_et_vectorise_trie(data,taux):\n",
        "    '''Retourne Xa,Xt,Ya,Yt split aléatoirement et vectorisé selon le vocabulaire trié\n",
        "    determiner par le taux de différence dans Xa'''\n",
        "    Xa,Xt,Ya,Yt=train_test_split(data,data.label_num, test_size=0.2,shuffle=True)\n",
        "    V,df=vocabulaireDiff_trie(Xa,taux)\n",
        "    #Vectorisons\n",
        "    Xa=vectoriser(Xa,V)\n",
        "    Xt=vectoriser(Xt,V)\n",
        "    Ya=np.array(Ya)\n",
        "    Yt=np.array(Yt)\n",
        "    return Xa,Xt,Ya,Yt,df\n",
        "\n",
        "def reduitVecteur(Xa,Xt,df,new_taux):\n",
        "    '''Reduit le vecteur selon le taux de diff et le dataframe de taux déja trié'''\n",
        "    new_df=df[(df['diff']>=new_taux)]\n",
        "    n=len(new_df.index)\n",
        "    return Xa[:,:n],Xt[:,:n],new_df\n",
        "\n",
        "\n",
        "def comparaison_taux(I,nb):\n",
        "    '''Retourne une liste de score sur l intervalle I de taux de diff\n",
        "    et avec nb<=lg(I) scores sur le même split'''\n",
        "    G,B,N,taux,lg= [],[],[],[],[]\n",
        "    taux_depart,taux_fin=I\n",
        "    pas=int((taux_fin-taux_depart)//nb)\n",
        "    Xa,Xt,Ya,Yt,df=split_et_vectorise_trie(data,taux_depart/100)\n",
        "    for t in range(taux_depart,taux_fin+1,pas):\n",
        "        Xa,Xt,df=reduitVecteur(Xa,Xt,df,t/100)\n",
        "        #predictions\n",
        "        _,score_G,_=predict_Gaussian_model(Xa,Xt,Ya,Yt)\n",
        "        _,score_B,_=predict_Bernoulli_model(Xa,Xt,Ya,Yt)\n",
        "        _,score_N,_=predict_Notre_model(Xa,Xt,Ya,Yt)\n",
        "        #maj resultats\n",
        "        lg.append(Xa.shape[1])\n",
        "        G.append(score_G)\n",
        "        B.append(score_B)\n",
        "        N.append(score_N)\n",
        "        taux.append(t/100) #taux et longueur du vecteur\n",
        "    return G,B,N,taux,lg\n",
        "\n",
        "\n",
        "def afficherCV(test):\n",
        "    '''Affiche sur la même grille n lignes et 2 colonnes\n",
        "    une liste de comparaison_taux de longueur n>1'''\n",
        "    fig, axs = plt.subplots(len(test),2)\n",
        "    fig.set_figheight(len(test)*3)\n",
        "    fig.set_figwidth(10)\n",
        "    for i in range(len(test)):\n",
        "        G,B,N,taux,lg=test[i]\n",
        "        axs[i,0].plot(taux,G ,'r:', label=\"Gaussien\")\n",
        "        axs[i,0].plot(taux,B,label=\"Bernoulli\")\n",
        "        axs[i,0].plot(taux, N,label=\"Notre modele\")\n",
        "        axs[i,0].set_title(f'epoch {i+1}')\n",
        "        axs[i,0].set_ylabel('score')\n",
        "        axs[i,0].set_xlabel('taux')\n",
        "        axs[i,0].legend(bbox_to_anchor=(-0.1, 1.05))\n",
        "        axs[i,1].plot(taux, lg,label=\"Longueur du vecteur\")\n",
        "        axs[i,1].set_xlabel('taux')\n",
        "        axs[i,1].set_title(f'epoch {i+1}')\n",
        "        axs[i,1].legend()\n",
        "    fig.tight_layout()\n"
      ]
    },
    {
      "cell_type": "code",
      "execution_count": 28,
      "metadata": {
        "scrolled": true,
        "id": "AdO-GWuAxna-",
        "outputId": "a2b299d3-9133-4710-b090-429b4f849ca6",
        "colab": {
          "base_uri": "https://localhost:8080/",
          "height": 1000
        }
      },
      "outputs": [
        {
          "output_type": "display_data",
          "data": {
            "text/plain": [
              "<Figure size 720x1080 with 10 Axes>"
            ],
            "image/png": "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\n"
          },
          "metadata": {
            "needs_background": "light"
          }
        }
      ],
      "source": [
        "#tendances sur [0.20,0.95] 25 mn\n",
        "test0=[([0.9632850241545894, 0.9632850241545894, 0.9632850241545894, 0.9632850241545894, 0.9632850241545894, 0.9632850241545894, 0.9632850241545894, 0.9632850241545894, 0.9632850241545894, 0.9632850241545894, 0.9632850241545894, 0.9632850241545894, 0.9632850241545894, 0.9632850241545894, 0.9565217391304348, 0.9565217391304348, 0.9565217391304348, 0.9565217391304348, 0.9565217391304348, 0.9565217391304348, 0.9565217391304348, 0.9565217391304348, 0.9565217391304348, 0.9565217391304348, 0.9565217391304348, 0.9565217391304348, 0.9565217391304348, 0.9565217391304348, 0.9565217391304348, 0.9565217391304348, 0.9652173913043478, 0.9487922705314009, 0.9487922705314009, 0.9487922705314009, 0.9487922705314009, 0.9487922705314009, 0.9487922705314009, 0.9487922705314009, 0.9487922705314009, 0.9487922705314009, 0.9603864734299516, 0.9623188405797102, 0.9623188405797102, 0.9623188405797102, 0.9623188405797102, 0.9623188405797102, 0.9623188405797102, 0.9565217391304348, 0.9565217391304348, 0.9565217391304348, 0.9565217391304348, 0.9565217391304348, 0.9536231884057971, 0.9536231884057971, 0.9536231884057971, 0.9545893719806763, 0.9565217391304348, 0.9565217391304348, 0.9545893719806763, 0.9545893719806763, 0.9526570048309179, 0.9516908212560387, 0.9478260869565217, 0.9478260869565217, 0.9449275362318841, 0.9439613526570049, 0.9429951690821256, 0.9420289855072463, 0.9420289855072463, 0.9400966183574879, 0.9391304347826087, 0.9342995169082126, 0.9342995169082126, 0.9256038647342996, 0.9198067632850242, 0.9072463768115943], [0.8599033816425121, 0.8579710144927536, 0.8589371980676328, 0.8579710144927536, 0.8589371980676328, 0.8608695652173913, 0.8608695652173913, 0.8628019323671497, 0.8628019323671497, 0.8628019323671497, 0.8628019323671497, 0.8628019323671497, 0.863768115942029, 0.8628019323671497, 0.9111111111111111, 0.9120772946859903, 0.9130434782608695, 0.9120772946859903, 0.9130434782608695, 0.914975845410628, 0.9159420289855073, 0.9178743961352657, 0.9198067632850242, 0.923671497584541, 0.923671497584541, 0.923671497584541, 0.923671497584541, 0.9246376811594202, 0.927536231884058, 0.9285024154589372, 0.9729468599033816, 0.9719806763285024, 0.9739130434782609, 0.9719806763285024, 0.9729468599033816, 0.9719806763285024, 0.9835748792270531, 0.9864734299516909, 0.9855072463768116, 0.9864734299516909, 0.9719806763285024, 0.9739130434782609, 0.9729468599033816, 0.9719806763285024, 0.9719806763285024, 0.9729468599033816, 0.9710144927536232, 0.961352657004831, 0.9652173913043478, 0.961352657004831, 0.961352657004831, 0.961352657004831, 0.9555555555555556, 0.9555555555555556, 0.9545893719806763, 0.9526570048309179, 0.9526570048309179, 0.9516908212560387, 0.9458937198067633, 0.9449275362318841, 0.9400966183574879, 0.9381642512077295, 0.9371980676328503, 0.9371980676328503, 0.936231884057971, 0.9342995169082126, 0.9342995169082126, 0.9333333333333333, 0.9371980676328503, 0.9304347826086956, 0.9246376811594202, 0.9265700483091788, 0.9256038647342996, 0.9294685990338164, 0.9217391304347826, 0.8995169082125604], [0.8599033816425121, 0.8579710144927536, 0.8589371980676328, 0.8579710144927536, 0.8589371980676328, 0.8608695652173913, 0.8608695652173913, 0.8628019323671497, 0.8628019323671497, 0.8628019323671497, 0.8628019323671497, 0.8628019323671497, 0.863768115942029, 0.8628019323671497, 0.9111111111111111, 0.9120772946859903, 0.9130434782608695, 0.9120772946859903, 0.9130434782608695, 0.914975845410628, 0.9159420289855073, 0.9178743961352657, 0.9198067632850242, 0.923671497584541, 0.923671497584541, 0.923671497584541, 0.923671497584541, 0.9246376811594202, 0.927536231884058, 0.9285024154589372, 0.9729468599033816, 0.9719806763285024, 0.9739130434782609, 0.9719806763285024, 0.9729468599033816, 0.9719806763285024, 0.9835748792270531, 0.9864734299516909, 0.9855072463768116, 0.9864734299516909, 0.9719806763285024, 0.9739130434782609, 0.9729468599033816, 0.9719806763285024, 0.9719806763285024, 0.9729468599033816, 0.9710144927536232, 0.961352657004831, 0.9652173913043478, 0.961352657004831, 0.961352657004831, 0.961352657004831, 0.9555555555555556, 0.9555555555555556, 0.9545893719806763, 0.9526570048309179, 0.9526570048309179, 0.9516908212560387, 0.9458937198067633, 0.9449275362318841, 0.9400966183574879, 0.9381642512077295, 0.9371980676328503, 0.9371980676328503, 0.936231884057971, 0.9342995169082126, 0.9342995169082126, 0.9333333333333333, 0.9371980676328503, 0.9304347826086956, 0.9246376811594202, 0.9265700483091788, 0.9256038647342996, 0.9294685990338164, 0.9217391304347826, 0.8995169082125604], [0.2, 0.21, 0.22, 0.23, 0.24, 0.25, 0.26, 0.27, 0.28, 0.29, 0.3, 0.31, 0.32, 0.33, 0.34, 0.35, 0.36, 0.37, 0.38, 0.39, 0.4, 0.41, 0.42, 0.43, 0.44, 0.45, 0.46, 0.47, 0.48, 0.49, 0.5, 0.51, 0.52, 0.53, 0.54, 0.55, 0.56, 0.57, 0.58, 0.59, 0.6, 0.61, 0.62, 0.63, 0.64, 0.65, 0.66, 0.67, 0.68, 0.69, 0.7, 0.71, 0.72, 0.73, 0.74, 0.75, 0.76, 0.77, 0.78, 0.79, 0.8, 0.81, 0.82, 0.83, 0.84, 0.85, 0.86, 0.87, 0.88, 0.89, 0.9, 0.91, 0.92, 0.93, 0.94, 0.95], [37789, 37451, 37424, 37396, 37347, 37243, 37151, 37127, 37062, 37022, 36991, 36963, 36951, 36939, 12736, 12719, 12703, 12676, 12640, 12590, 12530, 12474, 12443, 12181, 12165, 12131, 12057, 12031, 12005, 11985, 7810, 6214, 6196, 6159, 6111, 6097, 5995, 5967, 5917, 5897, 4385, 3705, 3687, 3654, 3590, 3559, 3540, 2581, 2565, 2541, 2492, 2477, 1930, 1911, 1857, 1708, 1522, 1481, 1259, 1240, 1161, 1063, 926, 912, 819, 752, 697, 632, 571, 494, 445, 362, 325, 256, 209, 148]), ([0.9526570048309179, 0.9526570048309179, 0.9526570048309179, 0.9526570048309179, 0.9526570048309179, 0.9526570048309179, 0.9526570048309179, 0.9526570048309179, 0.9526570048309179, 0.9526570048309179, 0.9526570048309179, 0.9526570048309179, 0.9526570048309179, 0.9526570048309179, 0.9497584541062802, 0.9497584541062802, 0.9497584541062802, 0.9497584541062802, 0.9497584541062802, 0.9497584541062802, 0.9497584541062802, 0.9497584541062802, 0.9497584541062802, 0.9497584541062802, 0.9497584541062802, 0.9497584541062802, 0.9497584541062802, 0.9497584541062802, 0.9497584541062802, 0.9497584541062802, 0.9603864734299516, 0.9342995169082126, 0.9342995169082126, 0.9342995169082126, 0.9342995169082126, 0.9342995169082126, 0.9342995169082126, 0.9342995169082126, 0.9342995169082126, 0.9342995169082126, 0.9516908212560387, 0.966183574879227, 0.966183574879227, 0.9690821256038648, 0.9681159420289855, 0.9681159420289855, 0.9690821256038648, 0.9516908212560387, 0.9516908212560387, 0.9516908212560387, 0.9516908212560387, 0.9516908212560387, 0.9478260869565217, 0.9478260869565217, 0.9478260869565217, 0.9449275362318841, 0.9468599033816425, 0.9468599033816425, 0.9429951690821256, 0.9429951690821256, 0.9429951690821256, 0.9400966183574879, 0.9391304347826087, 0.9400966183574879, 0.9400966183574879, 0.9400966183574879, 0.9410628019323671, 0.9400966183574879, 0.936231884057971, 0.9371980676328503, 0.9381642512077295, 0.9352657004830918, 0.9314009661835749, 0.9256038647342996, 0.9111111111111111, 0.9014492753623189], [0.8367149758454107, 0.8367149758454107, 0.8357487922705314, 0.8367149758454107, 0.8376811594202899, 0.8367149758454107, 0.8367149758454107, 0.8386473429951691, 0.8386473429951691, 0.8376811594202899, 0.8376811594202899, 0.8396135265700483, 0.8396135265700483, 0.8396135265700483, 0.9111111111111111, 0.9111111111111111, 0.9120772946859903, 0.9120772946859903, 0.9130434782608695, 0.9120772946859903, 0.9130434782608695, 0.914975845410628, 0.9169082125603865, 0.9188405797101449, 0.9178743961352657, 0.914975845410628, 0.9169082125603865, 0.9169082125603865, 0.9178743961352657, 0.9207729468599034, 0.9768115942028985, 0.9671497584541063, 0.9768115942028985, 0.9632850241545894, 0.9768115942028985, 0.9768115942028985, 0.9797101449275363, 0.9797101449275363, 0.9806763285024155, 0.9806763285024155, 0.9710144927536232, 0.9719806763285024, 0.9729468599033816, 0.9729468599033816, 0.9719806763285024, 0.9719806763285024, 0.9729468599033816, 0.9623188405797102, 0.9584541062801932, 0.957487922705314, 0.957487922705314, 0.957487922705314, 0.9545893719806763, 0.9555555555555556, 0.9545893719806763, 0.9420289855072463, 0.9429951690821256, 0.9391304347826087, 0.9381642512077295, 0.9371980676328503, 0.9314009661835749, 0.9352657004830918, 0.9342995169082126, 0.9342995169082126, 0.9342995169082126, 0.9323671497584541, 0.9314009661835749, 0.9294685990338164, 0.9304347826086956, 0.9285024154589372, 0.9265700483091788, 0.9285024154589372, 0.9246376811594202, 0.9314009661835749, 0.9198067632850242, 0.9043478260869565], [0.8367149758454107, 0.8367149758454107, 0.8357487922705314, 0.8367149758454107, 0.8376811594202899, 0.8367149758454107, 0.8367149758454107, 0.8386473429951691, 0.8386473429951691, 0.8376811594202899, 0.8376811594202899, 0.8396135265700483, 0.8396135265700483, 0.8396135265700483, 0.9111111111111111, 0.9111111111111111, 0.9120772946859903, 0.9120772946859903, 0.9130434782608695, 0.9120772946859903, 0.9130434782608695, 0.914975845410628, 0.9169082125603865, 0.9188405797101449, 0.9178743961352657, 0.914975845410628, 0.9169082125603865, 0.9169082125603865, 0.9178743961352657, 0.9207729468599034, 0.9768115942028985, 0.9671497584541063, 0.9768115942028985, 0.9632850241545894, 0.9768115942028985, 0.9768115942028985, 0.9797101449275363, 0.9797101449275363, 0.9806763285024155, 0.9806763285024155, 0.9710144927536232, 0.9719806763285024, 0.9729468599033816, 0.9729468599033816, 0.9719806763285024, 0.9719806763285024, 0.9729468599033816, 0.9623188405797102, 0.9584541062801932, 0.957487922705314, 0.957487922705314, 0.957487922705314, 0.9545893719806763, 0.9555555555555556, 0.9545893719806763, 0.9420289855072463, 0.9429951690821256, 0.9391304347826087, 0.9381642512077295, 0.9371980676328503, 0.9314009661835749, 0.9352657004830918, 0.9342995169082126, 0.9342995169082126, 0.9342995169082126, 0.9323671497584541, 0.9314009661835749, 0.9294685990338164, 0.9304347826086956, 0.9285024154589372, 0.9265700483091788, 0.9285024154589372, 0.9246376811594202, 0.9314009661835749, 0.9198067632850242, 0.9043478260869565], [0.2, 0.21, 0.22, 0.23, 0.24, 0.25, 0.26, 0.27, 0.28, 0.29, 0.3, 0.31, 0.32, 0.33, 0.34, 0.35, 0.36, 0.37, 0.38, 0.39, 0.4, 0.41, 0.42, 0.43, 0.44, 0.45, 0.46, 0.47, 0.48, 0.49, 0.5, 0.51, 0.52, 0.53, 0.54, 0.55, 0.56, 0.57, 0.58, 0.59, 0.6, 0.61, 0.62, 0.63, 0.64, 0.65, 0.66, 0.67, 0.68, 0.69, 0.7, 0.71, 0.72, 0.73, 0.74, 0.75, 0.76, 0.77, 0.78, 0.79, 0.8, 0.81, 0.82, 0.83, 0.84, 0.85, 0.86, 0.87, 0.88, 0.89, 0.9, 0.91, 0.92, 0.93, 0.94, 0.95], [38188, 37843, 37819, 37794, 37737, 37649, 37565, 37536, 37479, 37429, 37404, 37381, 37372, 37363, 13102, 13087, 13070, 13043, 13009, 12964, 12919, 12859, 12829, 12581, 12570, 12547, 12476, 12434, 12403, 12382, 8088, 6395, 6377, 6348, 6280, 6264, 6167, 6142, 6086, 6068, 4496, 3798, 3766, 3738, 3667, 3644, 3616, 2587, 2573, 2552, 2506, 2482, 1938, 1917, 1879, 1703, 1536, 1496, 1276, 1258, 1198, 1092, 962, 938, 859, 777, 702, 641, 576, 499, 448, 375, 333, 261, 198, 149]), ([0.9710144927536232, 0.9710144927536232, 0.9710144927536232, 0.9710144927536232, 0.9710144927536232, 0.9710144927536232, 0.9710144927536232, 0.9710144927536232, 0.9710144927536232, 0.9710144927536232, 0.9710144927536232, 0.9710144927536232, 0.9710144927536232, 0.9710144927536232, 0.9584541062801932, 0.9584541062801932, 0.9584541062801932, 0.9584541062801932, 0.9584541062801932, 0.9584541062801932, 0.9584541062801932, 0.9584541062801932, 0.9584541062801932, 0.9584541062801932, 0.9584541062801932, 0.9584541062801932, 0.9584541062801932, 0.9584541062801932, 0.9584541062801932, 0.9584541062801932, 0.961352657004831, 0.9458937198067633, 0.9458937198067633, 0.9458937198067633, 0.9458937198067633, 0.9458937198067633, 0.9458937198067633, 0.9458937198067633, 0.9458937198067633, 0.9458937198067633, 0.9652173913043478, 0.9652173913043478, 0.9652173913043478, 0.9652173913043478, 0.9652173913043478, 0.9652173913043478, 0.9652173913043478, 0.966183574879227, 0.966183574879227, 0.966183574879227, 0.966183574879227, 0.966183574879227, 0.9603864734299516, 0.9603864734299516, 0.9603864734299516, 0.9565217391304348, 0.9584541062801932, 0.9584541062801932, 0.9594202898550724, 0.9594202898550724, 0.9565217391304348, 0.9565217391304348, 0.9565217391304348, 0.9565217391304348, 0.9545893719806763, 0.9526570048309179, 0.9497584541062802, 0.9487922705314009, 0.9478260869565217, 0.9439613526570049, 0.9429951690821256, 0.9381642512077295, 0.9333333333333333, 0.9314009661835749, 0.9198067632850242, 0.9101449275362319], [0.8483091787439614, 0.8473429951690822, 0.8454106280193237, 0.8473429951690822, 0.8483091787439614, 0.8483091787439614, 0.8492753623188406, 0.8492753623188406, 0.8463768115942029, 0.8502415458937198, 0.851207729468599, 0.8483091787439614, 0.8463768115942029, 0.8463768115942029, 0.9256038647342996, 0.927536231884058, 0.9265700483091788, 0.9265700483091788, 0.927536231884058, 0.9314009661835749, 0.9323671497584541, 0.9333333333333333, 0.9323671497584541, 0.9304347826086956, 0.9333333333333333, 0.9342995169082126, 0.936231884057971, 0.9381642512077295, 0.9371980676328503, 0.936231884057971, 0.9826086956521739, 0.9826086956521739, 0.9845410628019323, 0.9845410628019323, 0.9855072463768116, 0.9855072463768116, 0.9826086956521739, 0.9835748792270531, 0.9816425120772947, 0.9797101449275363, 0.9623188405797102, 0.9632850241545894, 0.9632850241545894, 0.9632850241545894, 0.9632850241545894, 0.9642512077294686, 0.9642512077294686, 0.9584541062801932, 0.9594202898550724, 0.961352657004831, 0.9623188405797102, 0.961352657004831, 0.9545893719806763, 0.9545893719806763, 0.9536231884057971, 0.9468599033816425, 0.9487922705314009, 0.9487922705314009, 0.9458937198067633, 0.9439613526570049, 0.9410628019323671, 0.9410628019323671, 0.9352657004830918, 0.9342995169082126, 0.9323671497584541, 0.9323671497584541, 0.9314009661835749, 0.9333333333333333, 0.9304347826086956, 0.9256038647342996, 0.9198067632850242, 0.9227053140096618, 0.9207729468599034, 0.914975845410628, 0.9159420289855073, 0.9082125603864735], [0.8483091787439614, 0.8473429951690822, 0.8454106280193237, 0.8473429951690822, 0.8483091787439614, 0.8483091787439614, 0.8492753623188406, 0.8492753623188406, 0.8463768115942029, 0.8502415458937198, 0.851207729468599, 0.8483091787439614, 0.8463768115942029, 0.8463768115942029, 0.9256038647342996, 0.927536231884058, 0.9265700483091788, 0.9265700483091788, 0.927536231884058, 0.9314009661835749, 0.9323671497584541, 0.9333333333333333, 0.9323671497584541, 0.9304347826086956, 0.9333333333333333, 0.9342995169082126, 0.936231884057971, 0.9381642512077295, 0.9371980676328503, 0.936231884057971, 0.9826086956521739, 0.9826086956521739, 0.9845410628019323, 0.9845410628019323, 0.9855072463768116, 0.9855072463768116, 0.9826086956521739, 0.9835748792270531, 0.9816425120772947, 0.9797101449275363, 0.9623188405797102, 0.9632850241545894, 0.9632850241545894, 0.9632850241545894, 0.9632850241545894, 0.9642512077294686, 0.9642512077294686, 0.9584541062801932, 0.9594202898550724, 0.961352657004831, 0.9623188405797102, 0.961352657004831, 0.9545893719806763, 0.9545893719806763, 0.9536231884057971, 0.9468599033816425, 0.9487922705314009, 0.9487922705314009, 0.9458937198067633, 0.9439613526570049, 0.9410628019323671, 0.9410628019323671, 0.9352657004830918, 0.9342995169082126, 0.9323671497584541, 0.9323671497584541, 0.9314009661835749, 0.9333333333333333, 0.9304347826086956, 0.9256038647342996, 0.9198067632850242, 0.9227053140096618, 0.9207729468599034, 0.914975845410628, 0.9159420289855073, 0.9082125603864735], [0.2, 0.21, 0.22, 0.23, 0.24, 0.25, 0.26, 0.27, 0.28, 0.29, 0.3, 0.31, 0.32, 0.33, 0.34, 0.35, 0.36, 0.37, 0.38, 0.39, 0.4, 0.41, 0.42, 0.43, 0.44, 0.45, 0.46, 0.47, 0.48, 0.49, 0.5, 0.51, 0.52, 0.53, 0.54, 0.55, 0.56, 0.57, 0.58, 0.59, 0.6, 0.61, 0.62, 0.63, 0.64, 0.65, 0.66, 0.67, 0.68, 0.69, 0.7, 0.71, 0.72, 0.73, 0.74, 0.75, 0.76, 0.77, 0.78, 0.79, 0.8, 0.81, 0.82, 0.83, 0.84, 0.85, 0.86, 0.87, 0.88, 0.89, 0.9, 0.91, 0.92, 0.93, 0.94, 0.95], [37623, 37279, 37267, 37231, 37170, 37087, 36979, 36964, 36893, 36853, 36823, 36792, 36781, 36771, 12493, 12478, 12467, 12442, 12402, 12356, 12315, 12243, 12219, 11945, 11931, 11896, 11826, 11788, 11756, 11737, 7676, 6043, 6026, 5989, 5928, 5912, 5809, 5790, 5743, 5724, 4307, 3623, 3596, 3572, 3501, 3475, 3450, 2511, 2501, 2480, 2431, 2404, 1904, 1871, 1831, 1673, 1527, 1490, 1267, 1243, 1178, 1053, 932, 905, 832, 771, 694, 622, 574, 498, 447, 375, 331, 264, 193, 149]), ([0.9545893719806763, 0.9545893719806763, 0.9545893719806763, 0.9545893719806763, 0.9545893719806763, 0.9545893719806763, 0.9545893719806763, 0.9545893719806763, 0.9545893719806763, 0.9545893719806763, 0.9545893719806763, 0.9545893719806763, 0.9545893719806763, 0.9545893719806763, 0.957487922705314, 0.957487922705314, 0.957487922705314, 0.957487922705314, 0.957487922705314, 0.957487922705314, 0.957487922705314, 0.957487922705314, 0.957487922705314, 0.957487922705314, 0.957487922705314, 0.957487922705314, 0.957487922705314, 0.957487922705314, 0.957487922705314, 0.957487922705314, 0.9603864734299516, 0.9439613526570049, 0.9439613526570049, 0.9439613526570049, 0.9439613526570049, 0.9439613526570049, 0.9439613526570049, 0.9439613526570049, 0.9439613526570049, 0.9439613526570049, 0.9545893719806763, 0.9545893719806763, 0.9545893719806763, 0.9545893719806763, 0.9545893719806763, 0.9545893719806763, 0.9739130434782609, 0.9487922705314009, 0.9487922705314009, 0.9487922705314009, 0.9487922705314009, 0.9487922705314009, 0.9507246376811594, 0.9507246376811594, 0.9507246376811594, 0.9507246376811594, 0.9497584541062802, 0.9497584541062802, 0.9449275362318841, 0.9449275362318841, 0.9449275362318841, 0.9420289855072463, 0.9400966183574879, 0.9400966183574879, 0.9333333333333333, 0.9333333333333333, 0.9323671497584541, 0.9323671497584541, 0.9323671497584541, 0.9314009661835749, 0.9323671497584541, 0.9294685990338164, 0.9227053140096618, 0.9256038647342996, 0.9178743961352657, 0.9004830917874396], [0.8241545893719807, 0.8222222222222222, 0.8222222222222222, 0.8222222222222222, 0.8231884057971014, 0.8222222222222222, 0.8231884057971014, 0.8231884057971014, 0.8222222222222222, 0.8222222222222222, 0.8222222222222222, 0.821256038647343, 0.8222222222222222, 0.8222222222222222, 0.9082125603864735, 0.9082125603864735, 0.9091787439613527, 0.9091787439613527, 0.9101449275362319, 0.9091787439613527, 0.9082125603864735, 0.9101449275362319, 0.9111111111111111, 0.9043478260869565, 0.9062801932367149, 0.9062801932367149, 0.9091787439613527, 0.9120772946859903, 0.9101449275362319, 0.9111111111111111, 0.9681159420289855, 0.970048309178744, 0.9690821256038648, 0.9681159420289855, 0.9681159420289855, 0.9681159420289855, 0.9671497584541063, 0.9671497584541063, 0.9652173913043478, 0.966183574879227, 0.9710144927536232, 0.970048309178744, 0.9719806763285024, 0.9719806763285024, 0.970048309178744, 0.9690821256038648, 0.9710144927536232, 0.9632850241545894, 0.9623188405797102, 0.9623188405797102, 0.9584541062801932, 0.9603864734299516, 0.9458937198067633, 0.9458937198067633, 0.9468599033816425, 0.9420289855072463, 0.9429951690821256, 0.9400966183574879, 0.9352657004830918, 0.9381642512077295, 0.9294685990338164, 0.9323671497584541, 0.9314009661835749, 0.9294685990338164, 0.923671497584541, 0.9227053140096618, 0.923671497584541, 0.9217391304347826, 0.9227053140096618, 0.9198067632850242, 0.9159420289855073, 0.9207729468599034, 0.9207729468599034, 0.927536231884058, 0.9256038647342996, 0.9024154589371981], [0.8241545893719807, 0.8222222222222222, 0.8222222222222222, 0.8222222222222222, 0.8231884057971014, 0.8222222222222222, 0.8231884057971014, 0.8231884057971014, 0.8222222222222222, 0.8222222222222222, 0.8222222222222222, 0.821256038647343, 0.8222222222222222, 0.8222222222222222, 0.9082125603864735, 0.9082125603864735, 0.9091787439613527, 0.9091787439613527, 0.9101449275362319, 0.9091787439613527, 0.9082125603864735, 0.9101449275362319, 0.9111111111111111, 0.9043478260869565, 0.9062801932367149, 0.9062801932367149, 0.9091787439613527, 0.9120772946859903, 0.9101449275362319, 0.9111111111111111, 0.9681159420289855, 0.970048309178744, 0.9690821256038648, 0.9681159420289855, 0.9681159420289855, 0.9681159420289855, 0.9671497584541063, 0.9671497584541063, 0.9652173913043478, 0.966183574879227, 0.9710144927536232, 0.970048309178744, 0.9719806763285024, 0.9719806763285024, 0.970048309178744, 0.9690821256038648, 0.9710144927536232, 0.9632850241545894, 0.9623188405797102, 0.9623188405797102, 0.9584541062801932, 0.9603864734299516, 0.9458937198067633, 0.9458937198067633, 0.9468599033816425, 0.9420289855072463, 0.9429951690821256, 0.9400966183574879, 0.9352657004830918, 0.9381642512077295, 0.9294685990338164, 0.9323671497584541, 0.9314009661835749, 0.9294685990338164, 0.923671497584541, 0.9227053140096618, 0.923671497584541, 0.9217391304347826, 0.9227053140096618, 0.9198067632850242, 0.9159420289855073, 0.9207729468599034, 0.9207729468599034, 0.927536231884058, 0.9256038647342996, 0.9024154589371981], [0.2, 0.21, 0.22, 0.23, 0.24, 0.25, 0.26, 0.27, 0.28, 0.29, 0.3, 0.31, 0.32, 0.33, 0.34, 0.35, 0.36, 0.37, 0.38, 0.39, 0.4, 0.41, 0.42, 0.43, 0.44, 0.45, 0.46, 0.47, 0.48, 0.49, 0.5, 0.51, 0.52, 0.53, 0.54, 0.55, 0.56, 0.57, 0.58, 0.59, 0.6, 0.61, 0.62, 0.63, 0.64, 0.65, 0.66, 0.67, 0.68, 0.69, 0.7, 0.71, 0.72, 0.73, 0.74, 0.75, 0.76, 0.77, 0.78, 0.79, 0.8, 0.81, 0.82, 0.83, 0.84, 0.85, 0.86, 0.87, 0.88, 0.89, 0.9, 0.91, 0.92, 0.93, 0.94, 0.95], [38145, 37762, 37738, 37717, 37669, 37592, 37511, 37496, 37426, 37381, 37350, 37323, 37305, 37292, 13007, 13000, 12977, 12944, 12911, 12874, 12837, 12776, 12742, 12495, 12481, 12450, 12383, 12344, 12319, 12298, 8015, 6388, 6368, 6325, 6290, 6269, 6151, 6130, 6081, 6052, 4521, 3860, 3830, 3799, 3738, 3713, 3690, 2599, 2584, 2555, 2507, 2489, 1942, 1919, 1884, 1710, 1541, 1509, 1295, 1264, 1185, 1089, 972, 954, 863, 784, 707, 648, 593, 510, 461, 380, 333, 281, 221, 153]), ([0.9536231884057971, 0.9536231884057971, 0.9536231884057971, 0.9536231884057971, 0.9536231884057971, 0.9536231884057971, 0.9536231884057971, 0.9536231884057971, 0.9536231884057971, 0.9536231884057971, 0.9536231884057971, 0.9536231884057971, 0.9536231884057971, 0.9536231884057971, 0.9478260869565217, 0.9478260869565217, 0.9478260869565217, 0.9478260869565217, 0.9478260869565217, 0.9478260869565217, 0.9478260869565217, 0.9478260869565217, 0.9478260869565217, 0.9478260869565217, 0.9478260869565217, 0.9478260869565217, 0.9478260869565217, 0.9478260869565217, 0.9478260869565217, 0.9478260869565217, 0.970048309178744, 0.9439613526570049, 0.9439613526570049, 0.9439613526570049, 0.9439613526570049, 0.9439613526570049, 0.9439613526570049, 0.9439613526570049, 0.9439613526570049, 0.9439613526570049, 0.9671497584541063, 0.970048309178744, 0.970048309178744, 0.970048309178744, 0.970048309178744, 0.970048309178744, 0.970048309178744, 0.957487922705314, 0.957487922705314, 0.957487922705314, 0.957487922705314, 0.957487922705314, 0.9545893719806763, 0.9545893719806763, 0.9545893719806763, 0.9526570048309179, 0.9536231884057971, 0.9536231884057971, 0.9507246376811594, 0.9507246376811594, 0.9487922705314009, 0.9449275362318841, 0.9439613526570049, 0.9439613526570049, 0.9439613526570049, 0.9439613526570049, 0.9391304347826087, 0.9371980676328503, 0.936231884057971, 0.936231884057971, 0.9304347826086956, 0.9265700483091788, 0.927536231884058, 0.9217391304347826, 0.9227053140096618, 0.9111111111111111], [0.821256038647343, 0.8202898550724638, 0.8202898550724638, 0.8202898550724638, 0.8202898550724638, 0.8222222222222222, 0.8260869565217391, 0.8260869565217391, 0.8231884057971014, 0.8241545893719807, 0.8251207729468599, 0.8251207729468599, 0.8260869565217391, 0.8260869565217391, 0.9091787439613527, 0.9091787439613527, 0.9091787439613527, 0.9082125603864735, 0.9091787439613527, 0.9140096618357488, 0.914975845410628, 0.914975845410628, 0.914975845410628, 0.9159420289855073, 0.9159420289855073, 0.9169082125603865, 0.9188405797101449, 0.9198067632850242, 0.9207729468599034, 0.9207729468599034, 0.9806763285024155, 0.9816425120772947, 0.9826086956521739, 0.9816425120772947, 0.9806763285024155, 0.978743961352657, 0.9816425120772947, 0.9797101449275363, 0.978743961352657, 0.9797101449275363, 0.970048309178744, 0.9729468599033816, 0.9729468599033816, 0.9729468599033816, 0.9729468599033816, 0.9719806763285024, 0.9729468599033816, 0.9642512077294686, 0.966183574879227, 0.9632850241545894, 0.9594202898550724, 0.9623188405797102, 0.9565217391304348, 0.9565217391304348, 0.9565217391304348, 0.9555555555555556, 0.9526570048309179, 0.9497584541062802, 0.9458937198067633, 0.9468599033816425, 0.9400966183574879, 0.9400966183574879, 0.9381642512077295, 0.9381642512077295, 0.9371980676328503, 0.9381642512077295, 0.9342995169082126, 0.9391304347826087, 0.9391304347826087, 0.9342995169082126, 0.936231884057971, 0.9352657004830918, 0.9352657004830918, 0.9342995169082126, 0.9342995169082126, 0.9217391304347826], [0.821256038647343, 0.8202898550724638, 0.8202898550724638, 0.8202898550724638, 0.8202898550724638, 0.8222222222222222, 0.8260869565217391, 0.8260869565217391, 0.8231884057971014, 0.8241545893719807, 0.8251207729468599, 0.8251207729468599, 0.8260869565217391, 0.8260869565217391, 0.9091787439613527, 0.9091787439613527, 0.9091787439613527, 0.9082125603864735, 0.9091787439613527, 0.9140096618357488, 0.914975845410628, 0.914975845410628, 0.914975845410628, 0.9159420289855073, 0.9159420289855073, 0.9169082125603865, 0.9188405797101449, 0.9198067632850242, 0.9207729468599034, 0.9207729468599034, 0.9806763285024155, 0.9816425120772947, 0.9826086956521739, 0.9816425120772947, 0.9806763285024155, 0.978743961352657, 0.9816425120772947, 0.9797101449275363, 0.978743961352657, 0.9797101449275363, 0.970048309178744, 0.9729468599033816, 0.9729468599033816, 0.9729468599033816, 0.9729468599033816, 0.9719806763285024, 0.9729468599033816, 0.9642512077294686, 0.966183574879227, 0.9632850241545894, 0.9594202898550724, 0.9623188405797102, 0.9565217391304348, 0.9565217391304348, 0.9565217391304348, 0.9555555555555556, 0.9526570048309179, 0.9497584541062802, 0.9458937198067633, 0.9468599033816425, 0.9400966183574879, 0.9400966183574879, 0.9381642512077295, 0.9381642512077295, 0.9371980676328503, 0.9381642512077295, 0.9342995169082126, 0.9391304347826087, 0.9391304347826087, 0.9342995169082126, 0.936231884057971, 0.9352657004830918, 0.9352657004830918, 0.9342995169082126, 0.9342995169082126, 0.9217391304347826], [0.2, 0.21, 0.22, 0.23, 0.24, 0.25, 0.26, 0.27, 0.28, 0.29, 0.3, 0.31, 0.32, 0.33, 0.34, 0.35, 0.36, 0.37, 0.38, 0.39, 0.4, 0.41, 0.42, 0.43, 0.44, 0.45, 0.46, 0.47, 0.48, 0.49, 0.5, 0.51, 0.52, 0.53, 0.54, 0.55, 0.56, 0.57, 0.58, 0.59, 0.6, 0.61, 0.62, 0.63, 0.64, 0.65, 0.66, 0.67, 0.68, 0.69, 0.7, 0.71, 0.72, 0.73, 0.74, 0.75, 0.76, 0.77, 0.78, 0.79, 0.8, 0.81, 0.82, 0.83, 0.84, 0.85, 0.86, 0.87, 0.88, 0.89, 0.9, 0.91, 0.92, 0.93, 0.94, 0.95], [37725, 37340, 37317, 37298, 37238, 37163, 37062, 37039, 36972, 36919, 36893, 36879, 36858, 36850, 11891, 11880, 11865, 11833, 11804, 11760, 11713, 11656, 11628, 11375, 11352, 11326, 11255, 11217, 11185, 11160, 7561, 5895, 5883, 5852, 5807, 5786, 5669, 5646, 5602, 5577, 4337, 3614, 3588, 3556, 3492, 3459, 3442, 2538, 2524, 2501, 2452, 2425, 1945, 1918, 1884, 1730, 1560, 1518, 1317, 1285, 1220, 1101, 958, 940, 849, 779, 707, 646, 596, 512, 460, 390, 353, 283, 232, 162])]\n",
        "#tendances sur [0.45,0.65] 5mn\n",
        "test1=[([0.9497584541062802, 0.9497584541062802, 0.9497584541062802, 0.9497584541062802, 0.9497584541062802, 0.9623188405797102, 0.9400966183574879, 0.9400966183574879, 0.9400966183574879, 0.9400966183574879, 0.9400966183574879, 0.9400966183574879, 0.9400966183574879, 0.9400966183574879, 0.9400966183574879, 0.9516908212560387, 0.9632850241545894, 0.9632850241545894, 0.9623188405797102, 0.9729468599033816, 0.9739130434782609], [0.9246376811594202, 0.9246376811594202, 0.9227053140096618, 0.923671497584541, 0.9256038647342996, 0.9690821256038648, 0.970048309178744, 0.9690821256038648, 0.970048309178744, 0.9690821256038648, 0.9690821256038648, 0.9681159420289855, 0.966183574879227, 0.9652173913043478, 0.9642512077294686, 0.9681159420289855, 0.9719806763285024, 0.9690821256038648, 0.9681159420289855, 0.9681159420289855, 0.9671497584541063], [0.9246376811594202, 0.9246376811594202, 0.9227053140096618, 0.923671497584541, 0.9256038647342996, 0.9690821256038648, 0.970048309178744, 0.9690821256038648, 0.970048309178744, 0.9690821256038648, 0.9690821256038648, 0.9681159420289855, 0.966183574879227, 0.9652173913043478, 0.9642512077294686, 0.9681159420289855, 0.9719806763285024, 0.9690821256038648, 0.9681159420289855, 0.9681159420289855, 0.9671497584541063], [0.45, 0.46, 0.47, 0.48, 0.49, 0.5, 0.51, 0.52, 0.53, 0.54, 0.55, 0.56, 0.57, 0.58, 0.59, 0.6, 0.61, 0.62, 0.63, 0.64, 0.65], [12220, 12148, 12114, 12093, 12076, 7990, 6339, 6322, 6279, 6241, 6215, 6092, 6076, 6018, 5995, 4370, 3710, 3686, 3657, 3593, 3568]), ([0.9516908212560387, 0.9516908212560387, 0.9516908212560387, 0.9516908212560387, 0.9516908212560387, 0.957487922705314, 0.9314009661835749, 0.9314009661835749, 0.9314009661835749, 0.9314009661835749, 0.9314009661835749, 0.9314009661835749, 0.9314009661835749, 0.9314009661835749, 0.9314009661835749, 0.957487922705314, 0.957487922705314, 0.957487922705314, 0.957487922705314, 0.957487922705314, 0.957487922705314], [0.9188405797101449, 0.9207729468599034, 0.9207729468599034, 0.9188405797101449, 0.9207729468599034, 0.9797101449275363, 0.9777777777777777, 0.9777777777777777, 0.978743961352657, 0.9797101449275363, 0.9816425120772947, 0.9816425120772947, 0.9835748792270531, 0.9845410628019323, 0.9835748792270531, 0.9768115942028985, 0.9768115942028985, 0.9748792270531401, 0.9758454106280193, 0.9739130434782609, 0.9739130434782609], [0.9188405797101449, 0.9207729468599034, 0.9207729468599034, 0.9188405797101449, 0.9207729468599034, 0.9797101449275363, 0.9777777777777777, 0.9777777777777777, 0.978743961352657, 0.9797101449275363, 0.9816425120772947, 0.9816425120772947, 0.9835748792270531, 0.9845410628019323, 0.9835748792270531, 0.9768115942028985, 0.9768115942028985, 0.9748792270531401, 0.9758454106280193, 0.9739130434782609, 0.9739130434782609], [0.45, 0.46, 0.47, 0.48, 0.49, 0.5, 0.51, 0.52, 0.53, 0.54, 0.55, 0.56, 0.57, 0.58, 0.59, 0.6, 0.61, 0.62, 0.63, 0.64, 0.65], [11741, 11679, 11644, 11620, 11594, 7702, 6140, 6133, 6098, 6060, 6027, 5923, 5897, 5843, 5825, 4443, 3754, 3720, 3690, 3618, 3587]), ([0.9555555555555556, 0.9555555555555556, 0.9555555555555556, 0.9555555555555556, 0.9555555555555556, 0.9642512077294686, 0.9439613526570049, 0.9439613526570049, 0.9439613526570049, 0.9439613526570049, 0.9439613526570049, 0.9439613526570049, 0.9439613526570049, 0.9439613526570049, 0.9439613526570049, 0.961352657004831, 0.9623188405797102, 0.9623188405797102, 0.9623188405797102, 0.9623188405797102, 0.9623188405797102], [0.923671497584541, 0.923671497584541, 0.9256038647342996, 0.9246376811594202, 0.9256038647342996, 0.9739130434782609, 0.9719806763285024, 0.9719806763285024, 0.9690821256038648, 0.9671497584541063, 0.9671497584541063, 0.9710144927536232, 0.9710144927536232, 0.9719806763285024, 0.9719806763285024, 0.9777777777777777, 0.9797101449275363, 0.9797101449275363, 0.9806763285024155, 0.9806763285024155, 0.9806763285024155], [0.923671497584541, 0.923671497584541, 0.9256038647342996, 0.9246376811594202, 0.9256038647342996, 0.9739130434782609, 0.9719806763285024, 0.9719806763285024, 0.9690821256038648, 0.9671497584541063, 0.9671497584541063, 0.9710144927536232, 0.9710144927536232, 0.9719806763285024, 0.9719806763285024, 0.9777777777777777, 0.9797101449275363, 0.9797101449275363, 0.9806763285024155, 0.9806763285024155, 0.9806763285024155], [0.45, 0.46, 0.47, 0.48, 0.49, 0.5, 0.51, 0.52, 0.53, 0.54, 0.55, 0.56, 0.57, 0.58, 0.59, 0.6, 0.61, 0.62, 0.63, 0.64, 0.65], [11764, 11691, 11654, 11629, 11617, 7713, 6060, 6027, 5991, 5945, 5926, 5808, 5793, 5742, 5721, 4339, 3665, 3641, 3617, 3544, 3512]), ([0.9487922705314009, 0.9487922705314009, 0.9487922705314009, 0.9487922705314009, 0.9487922705314009, 0.9584541062801932, 0.9429951690821256, 0.9429951690821256, 0.9429951690821256, 0.9429951690821256, 0.9429951690821256, 0.9429951690821256, 0.9429951690821256, 0.9429951690821256, 0.9429951690821256, 0.9536231884057971, 0.9526570048309179, 0.9526570048309179, 0.9526570048309179, 0.9507246376811594, 0.9516908212560387], [0.9246376811594202, 0.9256038647342996, 0.9256038647342996, 0.9256038647342996, 0.923671497584541, 0.9671497584541063, 0.9652173913043478, 0.9642512077294686, 0.9652173913043478, 0.9681159420289855, 0.9652173913043478, 0.9642512077294686, 0.9642512077294686, 0.9623188405797102, 0.9642512077294686, 0.9652173913043478, 0.9681159420289855, 0.9642512077294686, 0.9632850241545894, 0.9632850241545894, 0.9632850241545894], [0.9246376811594202, 0.9256038647342996, 0.9256038647342996, 0.9256038647342996, 0.923671497584541, 0.9671497584541063, 0.9652173913043478, 0.9642512077294686, 0.9652173913043478, 0.9681159420289855, 0.9652173913043478, 0.9642512077294686, 0.9642512077294686, 0.9623188405797102, 0.9642512077294686, 0.9652173913043478, 0.9681159420289855, 0.9642512077294686, 0.9632850241545894, 0.9632850241545894, 0.9632850241545894], [0.45, 0.46, 0.47, 0.48, 0.49, 0.5, 0.51, 0.52, 0.53, 0.54, 0.55, 0.56, 0.57, 0.58, 0.59, 0.6, 0.61, 0.62, 0.63, 0.64, 0.65], [12115, 12035, 12005, 11972, 11953, 7849, 6243, 6232, 6193, 6146, 6125, 6008, 5985, 5941, 5918, 4467, 3753, 3727, 3698, 3639, 3619]), ([0.9555555555555556, 0.9555555555555556, 0.9555555555555556, 0.9555555555555556, 0.9555555555555556, 0.9632850241545894, 0.9439613526570049, 0.9439613526570049, 0.9439613526570049, 0.9439613526570049, 0.9439613526570049, 0.9439613526570049, 0.9439613526570049, 0.9439613526570049, 0.9439613526570049, 0.961352657004831, 0.9758454106280193, 0.9758454106280193, 0.9758454106280193, 0.9758454106280193, 0.9758454106280193], [0.9178743961352657, 0.9169082125603865, 0.9188405797101449, 0.9198067632850242, 0.923671497584541, 0.9729468599033816, 0.9719806763285024, 0.9710144927536232, 0.970048309178744, 0.9690821256038648, 0.9690821256038648, 0.9690821256038648, 0.9864734299516909, 0.9855072463768116, 0.9855072463768116, 0.9710144927536232, 0.9739130434782609, 0.9729468599033816, 0.9719806763285024, 0.970048309178744, 0.970048309178744], [0.9178743961352657, 0.9169082125603865, 0.9188405797101449, 0.9198067632850242, 0.923671497584541, 0.9729468599033816, 0.9719806763285024, 0.9710144927536232, 0.970048309178744, 0.9690821256038648, 0.9690821256038648, 0.9690821256038648, 0.9864734299516909, 0.9855072463768116, 0.9855072463768116, 0.9710144927536232, 0.9739130434782609, 0.9729468599033816, 0.9719806763285024, 0.970048309178744, 0.970048309178744], [0.45, 0.46, 0.47, 0.48, 0.49, 0.5, 0.51, 0.52, 0.53, 0.54, 0.55, 0.56, 0.57, 0.58, 0.59, 0.6, 0.61, 0.62, 0.63, 0.64, 0.65], [12309, 12218, 12185, 12155, 12130, 7904, 6268, 6252, 6212, 6161, 6145, 6031, 5998, 5955, 5934, 4433, 3774, 3753, 3726, 3650, 3624])]\n",
        "#tendances sur [0.49,0.70] 5mn\n",
        "test2=[([0.9516908212560387, 0.9594202898550724, 0.9381642512077295, 0.9381642512077295, 0.9381642512077295, 0.9381642512077295, 0.9381642512077295, 0.9381642512077295, 0.9381642512077295, 0.9381642512077295, 0.9381642512077295, 0.9536231884057971, 0.9584541062801932, 0.9584541062801932, 0.9584541062801932, 0.957487922705314, 0.957487922705314, 0.957487922705314, 0.9536231884057971, 0.9536231884057971, 0.9536231884057971, 0.9536231884057971], [0.9198067632850242, 0.970048309178744, 0.970048309178744, 0.970048309178744, 0.966183574879227, 0.9652173913043478, 0.9671497584541063, 0.9652173913043478, 0.966183574879227, 0.9652173913043478, 0.9652173913043478, 0.9719806763285024, 0.9710144927536232, 0.9710144927536232, 0.970048309178744, 0.9690821256038648, 0.9690821256038648, 0.9681159420289855, 0.966183574879227, 0.9681159420289855, 0.9671497584541063, 0.9671497584541063], [0.9198067632850242, 0.970048309178744, 0.970048309178744, 0.970048309178744, 0.966183574879227, 0.9652173913043478, 0.9671497584541063, 0.9652173913043478, 0.966183574879227, 0.9652173913043478, 0.9652173913043478, 0.9719806763285024, 0.9710144927536232, 0.9710144927536232, 0.970048309178744, 0.9690821256038648, 0.9690821256038648, 0.9681159420289855, 0.966183574879227, 0.9681159420289855, 0.9671497584541063, 0.9671497584541063], [0.49, 0.5, 0.51, 0.52, 0.53, 0.54, 0.55, 0.56, 0.57, 0.58, 0.59, 0.6, 0.61, 0.62, 0.63, 0.64, 0.65, 0.66, 0.67, 0.68, 0.69, 0.7], [11817, 7775, 6158, 6141, 6098, 6044, 6016, 5899, 5883, 5827, 5807, 4389, 3731, 3704, 3659, 3595, 3566, 3542, 2575, 2565, 2539, 2503]), ([0.9507246376811594, 0.9584541062801932, 0.9400966183574879, 0.9400966183574879, 0.9400966183574879, 0.9400966183574879, 0.9400966183574879, 0.9400966183574879, 0.9400966183574879, 0.9400966183574879, 0.9400966183574879, 0.957487922705314, 0.9671497584541063, 0.9671497584541063, 0.9671497584541063, 0.9671497584541063, 0.9671497584541063, 0.9671497584541063, 0.9487922705314009, 0.9487922705314009, 0.9487922705314009, 0.9487922705314009], [0.9188405797101449, 0.9681159420289855, 0.961352657004831, 0.9632850241545894, 0.9652173913043478, 0.9652173913043478, 0.9642512077294686, 0.9652173913043478, 0.9623188405797102, 0.9623188405797102, 0.961352657004831, 0.9777777777777777, 0.9777777777777777, 0.9777777777777777, 0.9768115942028985, 0.9768115942028985, 0.9777777777777777, 0.978743961352657, 0.9729468599033816, 0.9739130434782609, 0.9729468599033816, 0.9729468599033816], [0.9188405797101449, 0.9681159420289855, 0.961352657004831, 0.9632850241545894, 0.9652173913043478, 0.9652173913043478, 0.9642512077294686, 0.9652173913043478, 0.9623188405797102, 0.9623188405797102, 0.961352657004831, 0.9777777777777777, 0.9777777777777777, 0.9777777777777777, 0.9768115942028985, 0.9768115942028985, 0.9777777777777777, 0.978743961352657, 0.9729468599033816, 0.9739130434782609, 0.9729468599033816, 0.9729468599033816], [0.49, 0.5, 0.51, 0.52, 0.53, 0.54, 0.55, 0.56, 0.57, 0.58, 0.59, 0.6, 0.61, 0.62, 0.63, 0.64, 0.65, 0.66, 0.67, 0.68, 0.69, 0.7], [11755, 7682, 6100, 6082, 6033, 5982, 5966, 5850, 5827, 5781, 5764, 4329, 3694, 3673, 3647, 3580, 3555, 3532, 2569, 2553, 2517, 2465]), ([0.9536231884057971, 0.9652173913043478, 0.9458937198067633, 0.9458937198067633, 0.9458937198067633, 0.9458937198067633, 0.9458937198067633, 0.9458937198067633, 0.9458937198067633, 0.9458937198067633, 0.9458937198067633, 0.9594202898550724, 0.966183574879227, 0.9671497584541063, 0.9671497584541063, 0.966183574879227, 0.9642512077294686, 0.9642512077294686, 0.9478260869565217, 0.9478260869565217, 0.9478260869565217, 0.9478260869565217], [0.9159420289855073, 0.970048309178744, 0.9690821256038648, 0.970048309178744, 0.9710144927536232, 0.9710144927536232, 0.9710144927536232, 0.9710144927536232, 0.9719806763285024, 0.9729468599033816, 0.9729468599033816, 0.970048309178744, 0.970048309178744, 0.9710144927536232, 0.970048309178744, 0.970048309178744, 0.9719806763285024, 0.9729468599033816, 0.9681159420289855, 0.9681159420289855, 0.9671497584541063, 0.9681159420289855], [0.9159420289855073, 0.970048309178744, 0.9690821256038648, 0.970048309178744, 0.9710144927536232, 0.9710144927536232, 0.9710144927536232, 0.9710144927536232, 0.9719806763285024, 0.9729468599033816, 0.9729468599033816, 0.970048309178744, 0.970048309178744, 0.9710144927536232, 0.970048309178744, 0.970048309178744, 0.9719806763285024, 0.9729468599033816, 0.9681159420289855, 0.9681159420289855, 0.9671497584541063, 0.9681159420289855], [0.49, 0.5, 0.51, 0.52, 0.53, 0.54, 0.55, 0.56, 0.57, 0.58, 0.59, 0.6, 0.61, 0.62, 0.63, 0.64, 0.65, 0.66, 0.67, 0.68, 0.69, 0.7], [12028, 7852, 6206, 6184, 6135, 6090, 6066, 5942, 5923, 5868, 5854, 4416, 3725, 3698, 3662, 3590, 3564, 3542, 2531, 2515, 2500, 2439]), ([0.961352657004831, 0.9690821256038648, 0.9545893719806763, 0.9545893719806763, 0.9545893719806763, 0.9545893719806763, 0.9545893719806763, 0.9536231884057971, 0.9536231884057971, 0.9545893719806763, 0.9545893719806763, 0.9690821256038648, 0.9671497584541063, 0.9671497584541063, 0.9671497584541063, 0.9671497584541063, 0.966183574879227, 0.966183574879227, 0.961352657004831, 0.961352657004831, 0.961352657004831, 0.961352657004831], [0.9391304347826087, 0.9806763285024155, 0.9777777777777777, 0.9768115942028985, 0.9777777777777777, 0.9777777777777777, 0.978743961352657, 0.9835748792270531, 0.9835748792270531, 0.9816425120772947, 0.9845410628019323, 0.9681159420289855, 0.9690821256038648, 0.9690821256038648, 0.9671497584541063, 0.9690821256038648, 0.9681159420289855, 0.9681159420289855, 0.961352657004831, 0.9603864734299516, 0.9603864734299516, 0.9584541062801932], [0.9391304347826087, 0.9806763285024155, 0.9777777777777777, 0.9768115942028985, 0.9777777777777777, 0.9777777777777777, 0.978743961352657, 0.9835748792270531, 0.9835748792270531, 0.9816425120772947, 0.9845410628019323, 0.9681159420289855, 0.9690821256038648, 0.9690821256038648, 0.9671497584541063, 0.9690821256038648, 0.9681159420289855, 0.9681159420289855, 0.961352657004831, 0.9603864734299516, 0.9603864734299516, 0.9584541062801932], [0.49, 0.5, 0.51, 0.52, 0.53, 0.54, 0.55, 0.56, 0.57, 0.58, 0.59, 0.6, 0.61, 0.62, 0.63, 0.64, 0.65, 0.66, 0.67, 0.68, 0.69, 0.7], [11486, 7739, 5976, 5970, 5927, 5886, 5859, 5742, 5729, 5677, 5661, 4287, 3625, 3595, 3561, 3495, 3462, 3446, 2480, 2465, 2435, 2391]), ([0.9526570048309179, 0.9584541062801932, 0.9449275362318841, 0.9449275362318841, 0.9449275362318841, 0.9449275362318841, 0.9449275362318841, 0.9449275362318841, 0.9449275362318841, 0.9449275362318841, 0.9449275362318841, 0.9594202898550724, 0.9719806763285024, 0.9719806763285024, 0.9719806763285024, 0.9710144927536232, 0.9710144927536232, 0.9710144927536232, 0.9545893719806763, 0.9545893719806763, 0.9545893719806763, 0.9545893719806763], [0.9342995169082126, 0.9845410628019323, 0.9806763285024155, 0.9797101449275363, 0.9797101449275363, 0.978743961352657, 0.9797101449275363, 0.9855072463768116, 0.9874396135265701, 0.9874396135265701, 0.9893719806763285, 0.9719806763285024, 0.9729468599033816, 0.9729468599033816, 0.9729468599033816, 0.9739130434782609, 0.9719806763285024, 0.9719806763285024, 0.9603864734299516, 0.9623188405797102, 0.9632850241545894, 0.961352657004831], [0.9342995169082126, 0.9845410628019323, 0.9806763285024155, 0.9797101449275363, 0.9797101449275363, 0.978743961352657, 0.9797101449275363, 0.9855072463768116, 0.9874396135265701, 0.9874396135265701, 0.9893719806763285, 0.9719806763285024, 0.9729468599033816, 0.9729468599033816, 0.9729468599033816, 0.9739130434782609, 0.9719806763285024, 0.9719806763285024, 0.9603864734299516, 0.9623188405797102, 0.9632850241545894, 0.961352657004831], [0.49, 0.5, 0.51, 0.52, 0.53, 0.54, 0.55, 0.56, 0.57, 0.58, 0.59, 0.6, 0.61, 0.62, 0.63, 0.64, 0.65, 0.66, 0.67, 0.68, 0.69, 0.7], [12206, 7976, 6240, 6223, 6190, 6143, 6121, 6016, 5997, 5938, 5915, 4480, 3810, 3786, 3758, 3680, 3646, 3630, 2645, 2623, 2599, 2548])]\n",
        "\n",
        "#test= [(comparaison_taux([55,65],10)) for _ in tqdm(range(2))]\n",
        "\n",
        "#afficherCV(test0+test1+test2)\n",
        "afficherCV(test2)"
      ]
    },
    {
      "cell_type": "markdown",
      "metadata": {
        "id": "W8B35uCCxna-"
      },
      "source": [
        "Notre score est identique à celui de scikit-learn.\n",
        "  \n",
        "On remarque que le choix de notre hyper-paramètre qui determine notre vocabulaire influence le score, mais il influence aussi le calcul. Le modèle Gaussien de scikit-learn semble être moins influencé."
      ]
    },
    {
      "cell_type": "markdown",
      "metadata": {
        "id": "S_oR1wqgxna-"
      },
      "source": [
        "# Pour aller plus loin"
      ]
    },
    {
      "cell_type": "markdown",
      "metadata": {
        "id": "PE8Aljk9xna_"
      },
      "source": [
        "Regardons si la longueur du mail a une influence sur le fait qu'il soit un spam ou un ham."
      ]
    },
    {
      "cell_type": "code",
      "execution_count": 29,
      "metadata": {
        "id": "8fOz-chLxna_",
        "outputId": "251fb23d-159f-4753-80a1-0f410fc9d756",
        "colab": {
          "base_uri": "https://localhost:8080/",
          "height": 308
        }
      },
      "outputs": [
        {
          "output_type": "display_data",
          "data": {
            "text/plain": [
              "<Figure size 864x288 with 2 Axes>"
            ],
            "image/png": "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\n"
          },
          "metadata": {
            "needs_background": "light"
          }
        }
      ],
      "source": [
        "longueurs = [len(mail) for mail in data.text]\n",
        "data['longueur']=longueurs\n",
        "x=np.array(data[data.label_num==0].longueur)\n",
        "y=np.array(data[data.label_num==1].longueur)\n",
        "fig=plt.figure(figsize=(12,4))\n",
        "# première colonne\n",
        "plt.subplot(1,2,1)\n",
        "ax1=plt.hist(x,bins=200, range = (0, 1000),color = 'blue',alpha=0.6,\n",
        "            label = 'Ham')\n",
        "ax1+=plt.hist(y,bins=200, range = (0, 1000),color = 'red',alpha=1,\n",
        "            label = 'Spam')\n",
        "plt.ylabel('nombre de mails')\n",
        "plt.xlabel('longueur du mail')\n",
        "plt.legend()\n",
        "# deuxieme colonne\n",
        "plt.subplot(1,2,2)\n",
        "ax2=plt.hist(x,bins=200, range = (80, 120),color = 'blue',alpha=0.6,\n",
        "            label = 'Ham')\n",
        "ax2+=plt.hist(y,bins=200, range = (80, 120),color = 'red',alpha=1,\n",
        "            label = 'Spam')\n",
        "plt.ylabel('nombre de mails')\n",
        "plt.xlabel('longueur du mail')\n",
        "plt.legend()\n",
        "fig.suptitle('Répartition des longueurs des mails')\n",
        "plt.show()"
      ]
    },
    {
      "cell_type": "markdown",
      "metadata": {
        "id": "dSFvtSRexna_"
      },
      "source": [
        "Il semblerait que pour des mails de longueur comprise entre 90 et 110 caractères, il y ait une forte probabilité qu'il soit un ham."
      ]
    }
  ],
  "metadata": {
    "kernelspec": {
      "display_name": "Python 3",
      "language": "python",
      "name": "python3"
    },
    "language_info": {
      "codemirror_mode": {
        "name": "ipython",
        "version": 3
      },
      "file_extension": ".py",
      "mimetype": "text/x-python",
      "name": "python",
      "nbconvert_exporter": "python",
      "pygments_lexer": "ipython3",
      "version": "3.7.3"
    },
    "colab": {
      "name": "projet_anti-spam_Bayes.ipynb",
      "provenance": [],
      "include_colab_link": true
    }
  },
  "nbformat": 4,
  "nbformat_minor": 0
}
