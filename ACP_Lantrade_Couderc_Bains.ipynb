{
 "cells": [
  {
   "cell_type": "code",
   "execution_count": 1,
   "metadata": {},
   "outputs": [],
   "source": [
    "import numpy as np\n",
    "import matplotlib\n",
    "import matplotlib.pyplot as plt\n",
    "import seaborn as sns"
   ]
  },
  {
   "cell_type": "markdown",
   "metadata": {},
   "source": [
    "# Analyse en Composante Principale"
   ]
  },
  {
   "cell_type": "markdown",
   "metadata": {},
   "source": [
    "- 1 Standardisation de nos données\n",
    "\n",
    "- 2 Determiner la matrice de corrélation\n",
    "\n",
    "- 3 Trouver les valeurs propres et les vecteurs propres de la matrice symétrique ( corrélation )\n",
    "\n",
    "- 4 Conserver les k premiers vecteurs selon l'inertie souhaitée\n",
    "\n",
    "- 5 Projection des nos données par la matrice de passage "
   ]
  },
  {
   "cell_type": "markdown",
   "metadata": {},
   "source": [
    "### Exercice 1 :  Voitures"
   ]
  },
  {
   "cell_type": "code",
   "execution_count": 2,
   "metadata": {},
   "outputs": [],
   "source": [
    "voitures={\"Alfasud\" : [1350 ,79 ,393, 161, 870 ,165],\n",
    "\"Audi\" : [1588, 85, 468, 177, 1110 ,160 ],\n",
    "\"Simca\"  : [1294 ,68, 424, 168, 1050 ,152 ],\n",
    "\"Citroen\"  : [1222, 59, 412, 161, 930 ,151 ],\n",
    "\"Fiat\" : [1585, 98, 439, 164,1105 ,165 ],\n",
    "\"Lancia\"  :[1297 ,82 ,429, 169, 1080 ,160 ],\n",
    "\"Peugeot\" :[ 1796, 79, 449 ,169, 1160 ,154 ],\n",
    "\"Renault16\" : [1565,55, 424, 163, 1010 ,140], \n",
    "\"Renault30\": [2664, 128, 452, 173, 1320,180], \n",
    "\"Toyota\" : [1166, 55 ,399, 157, 815, 140], \n",
    "\"Alfetta\" :[ 1570, 109, 428, 162, 1060, 175], \n",
    "\"Princess\" : [1798 ,82, 445, 172, 1160 ,158 ],\n",
    "\"Datsun\" :[1998 ,115, 469, 169, 1370 ,160 ],\n",
    "\"Taunus\" : [1993, 98 ,438 ,170, 1080 ,167 ],\n",
    "\"Rancho\" :[1442 ,80 ,431, 166, 1129, 144 ],\n",
    "\"Mazda\" :[1769 ,83,440,165 ,1095, 165 ],\n",
    "\"Opel\": [1979, 100 ,459 ,173, 1120 ,173], \n",
    "\"Lada\" : [1294, 68, 404 ,161, 955, 140] }"
   ]
  },
  {
   "cell_type": "code",
   "execution_count": 3,
   "metadata": {},
   "outputs": [
    {
     "name": "stdout",
     "output_type": "stream",
     "text": [
      "[[1350   79  393  161  870  165]\n",
      " [1588   85  468  177 1110  160]\n",
      " [1294   68  424  168 1050  152]\n",
      " [1222   59  412  161  930  151]\n",
      " [1585   98  439  164 1105  165]\n",
      " [1297   82  429  169 1080  160]\n",
      " [1796   79  449  169 1160  154]\n",
      " [1565   55  424  163 1010  140]\n",
      " [2664  128  452  173 1320  180]\n",
      " [1166   55  399  157  815  140]\n",
      " [1570  109  428  162 1060  175]\n",
      " [1798   82  445  172 1160  158]\n",
      " [1998  115  469  169 1370  160]\n",
      " [1993   98  438  170 1080  167]\n",
      " [1442   80  431  166 1129  144]\n",
      " [1769   83  440  165 1095  165]\n",
      " [1979  100  459  173 1120  173]\n",
      " [1294   68  404  161  955  140]]\n"
     ]
    }
   ],
   "source": [
    "# Définir sous forme d'un dictionnaire, les 6 variables (cylindrée, puissance, longueur, largeur, poids, vitesse max)\n",
    "X= np.array([value for value in voitures.values()])\n",
    "print(X)"
   ]
  },
  {
   "cell_type": "code",
   "execution_count": 4,
   "metadata": {},
   "outputs": [
    {
     "data": {
      "text/plain": [
       "<matplotlib.collections.PathCollection at 0x187a635ac18>"
      ]
     },
     "execution_count": 4,
     "metadata": {},
     "output_type": "execute_result"
    },
    {
     "data": {
      "image/png": "[encoded data removed]",
      "text/plain": [
       "<Figure size 432x288 with 1 Axes>"
      ]
     },
     "metadata": {
      "needs_background": "light"
     },
     "output_type": "display_data"
    }
   ],
   "source": [
    "#Représenter quelques corrélations entre couples de variables\n",
    "plt.scatter(X[:,1],X[:,2])"
   ]
  },
  {
   "cell_type": "code",
   "execution_count": 5,
   "metadata": {},
   "outputs": [
    {
     "data": {
      "text/plain": [
       "<matplotlib.collections.PathCollection at 0x187a73f2630>"
      ]
     },
     "execution_count": 5,
     "metadata": {},
     "output_type": "execute_result"
    },
    {
     "data": {
      "image/png": "[encoded data removed]",
      "text/plain": [
       "<Figure size 432x288 with 1 Axes>"
      ]
     },
     "metadata": {
      "needs_background": "light"
     },
     "output_type": "display_data"
    }
   ],
   "source": [
    "#Représenter quelques corrélations entre couples de variables\n",
    "plt.scatter(X[:,1],X[:,3])"
   ]
  },
  {
   "cell_type": "code",
   "execution_count": 6,
   "metadata": {},
   "outputs": [
    {
     "data": {
      "text/plain": [
       "<matplotlib.collections.PathCollection at 0x187a73ca550>"
      ]
     },
     "execution_count": 6,
     "metadata": {},
     "output_type": "execute_result"
    },
    {
     "data": {
      "image/png": "[encoded data removed]",
      "text/plain": [
       "<Figure size 432x288 with 1 Axes>"
      ]
     },
     "metadata": {
      "needs_background": "light"
     },
     "output_type": "display_data"
    }
   ],
   "source": [
    "#Représenter quelques corrélations entre couples de variables\n",
    "plt.scatter(X[:,1],X[:,4])"
   ]
  },
  {
   "cell_type": "markdown",
   "metadata": {},
   "source": [
    "## 1 . Standardiser X"
   ]
  },
  {
   "cell_type": "code",
   "execution_count": 7,
   "metadata": {},
   "outputs": [
    {
     "name": "stdout",
     "output_type": "stream",
     "text": [
      "Moyenne avant :\n",
      "[1631.66666667   84.61111111  433.5         166.66666667 1078.83333333\n",
      "  158.27777778]\n",
      "Variance avant :\n",
      "[363.39449027  19.80218531  21.48449053   5.16397779 133.09906503\n",
      "  11.79833112]\n",
      "Moyenne après :\n",
      "[-2.15876699e-16 -1.60365548e-16  1.23358114e-17  1.83803590e-15\n",
      "  5.85951041e-16  5.42775701e-16]\n",
      "Variance après :\n",
      "[1. 1. 1. 1. 1. 1.]\n"
     ]
    }
   ],
   "source": [
    "print(\"Moyenne avant :\")\n",
    "print(np.mean(X,axis=0))\n",
    "print(\"Variance avant :\")\n",
    "print(np.std(X,axis=0))\n",
    "\n",
    "n_X=(X-np.mean(X,axis=0))/np.std(X,axis=0) # les variables sont en colonne\n",
    "n1_X=X-np.mean(X,axis=0)//np.std(X,axis=0)\n",
    "print(\"Moyenne après :\")\n",
    "print(np.mean(n_X,axis=0))\n",
    "print(\"Variance après :\")\n",
    "print(np.std(n_X,axis=0))\n"
   ]
  },
  {
   "cell_type": "markdown",
   "metadata": {},
   "source": [
    "## 2. Calculer la matrice de corrélation "
   ]
  },
  {
   "cell_type": "code",
   "execution_count": 8,
   "metadata": {},
   "outputs": [
    {
     "name": "stdout",
     "output_type": "stream",
     "text": [
      "True\n",
      "[[1.         0.79662771 0.70146192 0.62975716 0.78895203 0.66493402]\n",
      " [0.79662771 1.         0.64136235 0.52083197 0.765293   0.84437948]\n",
      " [0.70146192 0.64136235 1.         0.84926635 0.86809028 0.47592847]\n",
      " [0.62975716 0.52083197 0.84926635 1.         0.71687392 0.47294527]\n",
      " [0.78895203 0.765293   0.86809028 0.71687392 1.         0.4775956 ]\n",
      " [0.66493402 0.84437948 0.47592847 0.47294527 0.4775956  1.        ]]\n"
     ]
    },
    {
     "data": {
      "text/plain": [
       "<matplotlib.axes._subplots.AxesSubplot at 0x187a78f7e80>"
      ]
     },
     "execution_count": 8,
     "metadata": {},
     "output_type": "execute_result"
    },
    {
     "data": {
      "image/png": "[encoded data removed]",
      "text/plain": [
       "<Figure size 432x288 with 2 Axes>"
      ]
     },
     "metadata": {
      "needs_background": "light"
     },
     "output_type": "display_data"
    }
   ],
   "source": [
    "Cor=np.round(np.corrcoef(n_X.T),10)   #pour être sur que la matrice soit symétrique\n",
    "#Verifions si la matrice est symétrique\n",
    "print(np.array_equal(Cor,Cor.T))\n",
    "print(Cor)\n",
    "sns.heatmap(Cor)\n"
   ]
  },
  {
   "cell_type": "markdown",
   "metadata": {},
   "source": [
    "## 3. Calculer les valeurs propres et les vecteurs propres"
   ]
  },
  {
   "cell_type": "code",
   "execution_count": 9,
   "metadata": {},
   "outputs": [
    {
     "name": "stdout",
     "output_type": "stream",
     "text": [
      "(6,) (6, 6)\n",
      "[4.42085806 0.85606229 0.37306608 0.21392209 0.09280121 0.04329027]\n",
      "P=\n",
      "[[ 0.42493602  0.12419108  0.35361252  0.80778648  0.15158003 -0.05889517]\n",
      " [ 0.42179441  0.41577389  0.18492049 -0.35779199 -0.29373465 -0.63303302]\n",
      " [ 0.42145993 -0.41181773 -0.06763394 -0.27975231  0.73056903 -0.19029153]\n",
      " [ 0.38692224 -0.446087   -0.60486812  0.21156941 -0.47819008 -0.10956624]\n",
      " [ 0.43051198 -0.24267581  0.48439601 -0.30171136 -0.30455842  0.5808122 ]\n",
      " [ 0.35894427  0.6198626  -0.48547226 -0.0735743   0.18865511  0.45852167]]\n"
     ]
    }
   ],
   "source": [
    "eigen_values,eigen_matrix= np.linalg.eig(Cor)\n",
    "print(eigen_values.shape,eigen_matrix.shape)\n",
    "print(eigen_values)\n",
    "print(\"P=\")\n",
    "print(eigen_matrix)"
   ]
  },
  {
   "cell_type": "code",
   "execution_count": 26,
   "metadata": {},
   "outputs": [
    {
     "name": "stdout",
     "output_type": "stream",
     "text": [
      "0.7368096766107112\n",
      "0.8794867248151252\n"
     ]
    }
   ],
   "source": [
    "def inertie(k,eigen_values):\n",
    "    return sum([eigen_values[i] for i in range(k)])/np.sum(eigen_values)\n",
    "print(inertie(1,eigen_values))\n",
    "print(inertie(2,eigen_values))"
   ]
  },
  {
   "cell_type": "code",
   "execution_count": 27,
   "metadata": {
    "scrolled": true
   },
   "outputs": [
    {
     "data": {
      "text/plain": [
       "Text(0.5, 1.0, 'Ebouli des valeurs propres')"
      ]
     },
     "execution_count": 27,
     "metadata": {},
     "output_type": "execute_result"
    },
    {
     "data": {
      "image/png": "[encoded data removed]",
      "text/plain": [
       "<Figure size 432x288 with 1 Axes>"
      ]
     },
     "metadata": {
      "needs_background": "light"
     },
     "output_type": "display_data"
    }
   ],
   "source": [
    "#Représenter l'ébouli des valeurs propres\n",
    "plt.bar(list(range(1,X.shape[1]+1)), eigen_values,1  )\n",
    "plt.title(\"Ebouli des valeurs propres\")"
   ]
  },
  {
   "cell_type": "markdown",
   "metadata": {},
   "source": [
    "## 4- Conserver les k premiers vecteurs selon l'inertie"
   ]
  },
  {
   "cell_type": "code",
   "execution_count": 28,
   "metadata": {
    "scrolled": true
   },
   "outputs": [
    {
     "name": "stdout",
     "output_type": "stream",
     "text": [
      "[[ 0.42493602  0.42179441  0.42145993  0.38692224  0.43051198  0.35894427]\n",
      " [ 0.12419108  0.41577389 -0.41181773 -0.446087   -0.24267581  0.6198626 ]]\n",
      "(2, 6)\n"
     ]
    }
   ],
   "source": [
    "k=2\n",
    "P=eigen_matrix[:,:k].T\n",
    "print(P)\n",
    "print(P.shape)"
   ]
  },
  {
   "cell_type": "markdown",
   "metadata": {},
   "source": [
    "## 5- Projection de nos données"
   ]
  },
  {
   "cell_type": "code",
   "execution_count": 29,
   "metadata": {},
   "outputs": [
    {
     "name": "stdout",
     "output_type": "stream",
     "text": [
      "[[-2.13892361  1.56145859 -1.11938528 -2.5737417   0.4278552  -0.30423764\n",
      "   0.6839285  -1.94849257  4.40973457 -3.98578242  0.43765819  1.01817538\n",
      "   2.94108031  1.31488038 -0.69111137  0.38570887  2.28976824 -2.70857363]\n",
      " [ 1.78568102 -1.52704027 -0.67450517  0.11288416  0.69556731 -0.19614878\n",
      "  -0.93305677 -0.98044805  1.06363317  0.23624042  1.91244816 -0.8417121\n",
      "  -0.55917459  0.48652246 -0.89772139  0.35618457  0.10434464 -0.1436988 ]]\n",
      "(2, 18)\n"
     ]
    }
   ],
   "source": [
    "new_X=np.dot(P,n_X.T)\n",
    "print(new_X)\n",
    "print(new_X.shape)"
   ]
  },
  {
   "cell_type": "markdown",
   "metadata": {},
   "source": [
    "# Tracé les différents véhicules suivant les deux composantes principales\n",
    "plt.figure()\n",
    "plt.scatter(new_X[0,:],new_X[1,:],marker='o')\n",
    "plt.xlabel('CP 1')\n",
    "plt.ylabel('CP 2')\n",
    "plt.title(\"Tracé suivant les composantes principales\")"
   ]
  },
  {
   "cell_type": "markdown",
   "metadata": {},
   "source": [
    "# Implémentation de l'APC"
   ]
  },
  {
   "cell_type": "code",
   "execution_count": 30,
   "metadata": {},
   "outputs": [
    {
     "name": "stdout",
     "output_type": "stream",
     "text": [
      "[[-2.13892361  1.56145859 -1.11938528 -2.5737417   0.4278552  -0.30423764\n",
      "   0.6839285  -1.94849257  4.40973457 -3.98578242  0.43765818  1.01817538\n",
      "   2.94108031  1.31488038 -0.69111137  0.38570887  2.28976824 -2.70857363]\n",
      " [ 1.78568102 -1.52704027 -0.67450517  0.11288416  0.69556731 -0.19614878\n",
      "  -0.93305677 -0.98044805  1.06363317  0.23624042  1.91244816 -0.8417121\n",
      "  -0.55917459  0.48652246 -0.89772139  0.35618457  0.10434464 -0.1436988 ]]\n"
     ]
    }
   ],
   "source": [
    "def reductionAPC(X,i=0.8):\n",
    "    #1.stadartisation\n",
    "    n_X=(X-np.mean(X,axis=0))/np.std(X,axis=0) # les variables sont en colonne\n",
    "    #2.matrice corrélation\n",
    "    Cor=np.round(np.corrcoef(n_X.T),8)   \n",
    "    assert np.array_equal(Cor,Cor.T)#pour être sur que la matrice soit symétrique\n",
    "    #3.vecteur propres, valeur propres\n",
    "    eigen_values,eigen_matrix= np.linalg.eig(Cor)\n",
    "    #4.choix selon inertie\n",
    "    k=1\n",
    "    while inertie(k,eigen_values)<i:\n",
    "        k+=1\n",
    "    P=eigen_matrix[:,:k].T\n",
    "    #Projection\n",
    "    return np.dot(P,n_X.T)   \n",
    "new_X=reductionAPC(X,i=0.8)\n",
    "print(new_X)\n"
   ]
  },
  {
   "cell_type": "markdown",
   "metadata": {},
   "source": [
    "# Comparons avec l'implémentation du APC de sklearn"
   ]
  },
  {
   "cell_type": "code",
   "execution_count": 31,
   "metadata": {},
   "outputs": [
    {
     "name": "stdout",
     "output_type": "stream",
     "text": [
      "[[-2.13892361  1.56145859 -1.11938528 -2.5737417   0.4278552  -0.30423764\n",
      "   0.6839285  -1.94849257  4.40973457 -3.98578242  0.43765819  1.01817538\n",
      "   2.94108031  1.31488038 -0.69111137  0.38570887  2.28976824 -2.70857363]\n",
      " [ 1.78568102 -1.52704027 -0.67450517  0.11288416  0.69556731 -0.19614878\n",
      "  -0.93305677 -0.98044805  1.06363317  0.23624042  1.91244816 -0.8417121\n",
      "  -0.55917459  0.48652246 -0.89772139  0.35618457  0.10434464 -0.1436988 ]]\n"
     ]
    }
   ],
   "source": [
    "from sklearn.preprocessing import StandardScaler\n",
    "from sklearn.decomposition import PCA\n",
    "\n",
    "n1_X=StandardScaler().fit_transform(X)\n",
    "pca=PCA(n_components=2)\n",
    "principalComponents=pca.fit_transform(n1_X)\n",
    "print(principalComponents.T)"
   ]
  },
  {
   "cell_type": "code",
   "execution_count": 32,
   "metadata": {},
   "outputs": [
    {
     "name": "stdout",
     "output_type": "stream",
     "text": [
      "[[-9.94693217e-11 -1.94885663e-10  4.13566958e-10  3.45794504e-11\n",
      "  -5.86320159e-10  1.03879738e-10  3.02007419e-10  4.61858773e-10\n",
      "   4.54892124e-10 -2.81834556e-10 -8.66658134e-10  5.25825383e-10\n",
      "  -2.48259635e-10  1.44664281e-11  1.51770263e-10 -4.12341827e-11\n",
      "  -2.45014231e-10  1.00850439e-10]\n",
      " [-1.88261629e-10 -1.73357328e-09 -2.10097162e-10 -6.70197134e-10\n",
      "  -1.15646948e-09 -9.00186203e-10  6.25419827e-10  1.01709841e-09\n",
      "   3.32988970e-09 -7.15273146e-10 -1.48111789e-09  9.24574972e-10\n",
      "   2.59079536e-10  8.23909940e-10  1.31508471e-10  4.93007302e-11\n",
      "  -4.08006615e-10  3.02385533e-10]]\n"
     ]
    }
   ],
   "source": [
    "print(new_X-principalComponents.T)"
   ]
  },
  {
   "cell_type": "markdown",
   "metadata": {},
   "source": [
    "<div class=\"alert alert-block alert-info\">\n",
    "La différence est acceptable.</div>"
   ]
  }
 ],
 "metadata": {
  "kernelspec": {
   "display_name": "Python 3",
   "language": "python",
   "name": "python3"
  },
  "language_info": {
   "codemirror_mode": {
    "name": "ipython",
    "version": 3
   },
   "file_extension": ".py",
   "mimetype": "text/x-python",
   "name": "python",
   "nbconvert_exporter": "python",
   "pygments_lexer": "ipython3",
   "version": "3.7.3"
  }
 },
 "nbformat": 4,
 "nbformat_minor": 4
}
