{
 "cells": [
  {
   "cell_type": "markdown",
   "metadata": {},
   "source": [
    "# Analyse en Composante Principale"
   ]
  },
  {
   "cell_type": "markdown",
   "metadata": {},
   "source": [
    "### Exercice 1 :  Voitures"
   ]
  },
  {
   "cell_type": "code",
   "execution_count": 1,
   "metadata": {},
   "outputs": [],
   "source": [
    "import numpy as np"
   ]
  },
  {
   "cell_type": "code",
   "execution_count": 2,
   "metadata": {},
   "outputs": [],
   "source": [
    "voitures={\"Alfasud\" : [1350 ,79 ,393, 161, 870 ,165],\n",
    "\"Audi\" : [1588, 85, 468, 177, 1110 ,160 ],\n",
    "\"Simca\"  : [1294 ,68, 424, 168, 1050 ,152 ],\n",
    "\"Citroen\"  : [1222, 59, 412, 161, 930 ,151 ],\n",
    "\"Fiat\" : [1585, 98, 439, 164,1105 ,165 ],\n",
    "\"Lancia\"  :[1297 ,82 ,429, 169, 1080 ,160 ],\n",
    "\"Peugeot\" :[ 1796, 79, 449 ,169, 1160 ,154 ],\n",
    "\"Renault16\" : [1565,55, 424, 163, 1010 ,140], \n",
    "\"Renault30\": [2664, 128, 452, 173, 1320,180], \n",
    "\"Toyota\" : [1166, 55 ,399, 157, 815, 140], \n",
    "\"Alfetta\" :[ 1570, 109, 428, 162, 1060, 175], \n",
    "\"Princess\" : [1798 ,82, 445, 172, 1160 ,158 ],\n",
    "\"Datsun\" :[1998 ,115, 469, 169, 1370 ,160 ],\n",
    "\"Taunus\" : [1993, 98 ,438 ,170, 1080 ,167 ],\n",
    "\"Rancho\" :[1442 ,80 ,431, 166, 1129, 144 ],\n",
    "\"Mazda\" :[1769 ,83,440,165 ,1095, 165 ],\n",
    "\"Opel\": [1979, 100 ,459 ,173, 1120 ,173], \n",
    "\"Lada\" : [1294, 68, 404 ,161, 955, 140] }"
   ]
  },
  {
   "cell_type": "code",
   "execution_count": 69,
   "metadata": {},
   "outputs": [
    {
     "name": "stdout",
     "output_type": "stream",
     "text": [
      "[[1350   79  393  161  870  165]\n",
      " [1588   85  468  177 1110  160]\n",
      " [1294   68  424  168 1050  152]\n",
      " [1222   59  412  161  930  151]\n",
      " [1585   98  439  164 1105  165]\n",
      " [1297   82  429  169 1080  160]\n",
      " [1796   79  449  169 1160  154]\n",
      " [1565   55  424  163 1010  140]\n",
      " [2664  128  452  173 1320  180]\n",
      " [1166   55  399  157  815  140]\n",
      " [1570  109  428  162 1060  175]\n",
      " [1798   82  445  172 1160  158]\n",
      " [1998  115  469  169 1370  160]\n",
      " [1993   98  438  170 1080  167]\n",
      " [1442   80  431  166 1129  144]\n",
      " [1769   83  440  165 1095  165]\n",
      " [1979  100  459  173 1120  173]\n",
      " [1294   68  404  161  955  140]]\n"
     ]
    }
   ],
   "source": [
    "X=np.array([ value for value in voitures.values()])\n",
    "print(X)\n",
    "X=X.T"
   ]
  },
  {
   "cell_type": "raw",
   "metadata": {},
   "source": [
    "#Représenter quelques corrélations entre couples de variables\n"
   ]
  },
  {
   "cell_type": "code",
   "execution_count": 70,
   "metadata": {},
   "outputs": [
    {
     "name": "stdout",
     "output_type": "stream",
     "text": [
      "[[1.         0.79662771 0.70146192 0.62975716 0.78895203 0.66493402]\n",
      " [0.79662771 1.         0.64136235 0.52083197 0.765293   0.84437948]\n",
      " [0.70146192 0.64136235 1.         0.84926635 0.86809028 0.47592847]\n",
      " [0.62975716 0.52083197 0.84926635 1.         0.71687392 0.47294527]\n",
      " [0.78895203 0.765293   0.86809028 0.71687392 1.         0.4775956 ]\n",
      " [0.66493402 0.84437948 0.47592847 0.47294527 0.4775956  1.        ]]\n"
     ]
    }
   ],
   "source": [
    "cor=np.corrcoef(X)\n",
    "print(cor)"
   ]
  },
  {
   "cell_type": "code",
   "execution_count": 71,
   "metadata": {},
   "outputs": [
    {
     "name": "stdout",
     "output_type": "stream",
     "text": [
      "True\n"
     ]
    }
   ],
   "source": [
    "cor=cor.round(decimals=10)\n",
    "print(np.array_equal(cor.T,cor))"
   ]
  },
  {
   "cell_type": "code",
   "execution_count": 72,
   "metadata": {},
   "outputs": [],
   "source": [
    "# C'est parti pour l'Analyse en Composante Principale\n",
    "\n",
    "eigen_values,eigen_matrix= np.linalg.eig(cor)"
   ]
  },
  {
   "cell_type": "code",
   "execution_count": 75,
   "metadata": {},
   "outputs": [],
   "source": [
    "def inertie(k):\n",
    "    return sum([eigen_values[i] for i in range(k)])/np.sum(eigen_values)\n",
    "\n",
    "I=[ inertie(k) for k in range(6)]"
   ]
  },
  {
   "cell_type": "code",
   "execution_count": 76,
   "metadata": {},
   "outputs": [
    {
     "data": {
      "text/plain": [
       "[<matplotlib.lines.Line2D object at 0x7fc3d08a47c0>]"
      ]
     },
     "execution_count": 76,
     "metadata": {},
     "output_type": "execute_result"
    },
    {
     "data": {
      "image/png": "[encoded data removed]",
      "text/plain": [
       "<Figure size 432x288 with 1 Axes>"
      ]
     },
     "metadata": {
      "needs_background": "light"
     },
     "output_type": "display_data"
    }
   ],
   "source": [
    "\n",
    "import matplotlib\n",
    "import matplotlib.pyplot as plt\n",
    "plt.plot(I)"
   ]
  },
  {
   "cell_type": "code",
   "execution_count": 95,
   "metadata": {},
   "outputs": [],
   "source": [
    "X=(X-X.mean())/X.std()\n",
    "P=eigen_matrix.dot(X)\n",
    "ACP=np.dot(P.T,X)\n",
    "M=ACP[:2]"
   ]
  },
  {
   "cell_type": "code",
   "execution_count": 91,
   "metadata": {},
   "outputs": [],
   "source": [
    "n_M=(M- M.mean())/(M.std())"
   ]
  },
  {
   "cell_type": "code",
   "execution_count": 92,
   "metadata": {},
   "outputs": [
    {
     "name": "stdout",
     "output_type": "stream",
     "text": [
      "1.0\n",
      "[[ 1.02665918  0.02432274  0.70701992  1.10475759  0.10575111  0.64269034\n",
      "  -0.41533515  0.32203659 -2.26148896  1.46631572  0.24368294 -0.42537525\n",
      "  -1.18888554 -0.58096964  0.3000817  -0.21702008 -0.66196281  0.94551591]\n",
      " [ 1.15019129 -0.11084517  0.71291988  1.23750219 -0.03496313  0.61364803\n",
      "  -0.64968765  0.2931056  -2.92209606  1.7118497   0.13398508 -0.66556641\n",
      "  -1.67554947 -0.82602448  0.1922446  -0.39365948 -0.93288124  1.02803038]]\n",
      "(2, 18)\n"
     ]
    }
   ],
   "source": [
    "print(n_M.std())\n",
    "print(n_M)\n",
    "print(n_M.shape)"
   ]
  },
  {
   "cell_type": "code",
   "execution_count": 96,
   "metadata": {},
   "outputs": [
    {
     "data": {
      "text/plain": [
       "Text(0.5, 1.0, 'Tracé suivant les composantes principales')"
      ]
     },
     "execution_count": 96,
     "metadata": {},
     "output_type": "execute_result"
    },
    {
     "data": {
      "image/png": "[encoded data removed]",
      "text/plain": [
       "<Figure size 432x288 with 1 Axes>"
      ]
     },
     "metadata": {
      "needs_background": "light"
     },
     "output_type": "display_data"
    }
   ],
   "source": [
    "plt.scatter(n_M[0],n_M[1],marker='o')\n",
    "plt.xlabel('CP 1')\n",
    "plt.ylabel('CP 2')\n",
    "plt.title(\"Tracé suivant les composantes principales\")"
   ]
  },
  {
   "cell_type": "code",
   "execution_count": 81,
   "metadata": {},
   "outputs": [
    {
     "ename": "NameError",
     "evalue": "name 'Z' is not defined",
     "output_type": "error",
     "traceback": [
      "\u001b[0;31m---------------------------------------------------------------------------\u001b[0m",
      "\u001b[0;31mNameError\u001b[0m                                 Traceback (most recent call last)",
      "\u001b[0;32m<ipython-input-81-cec8c61a5880>\u001b[0m in \u001b[0;36m<module>\u001b[0;34m\u001b[0m\n\u001b[1;32m      1\u001b[0m \u001b[0;31m# Avec numpy\u001b[0m\u001b[0;34m\u001b[0m\u001b[0;34m\u001b[0m\u001b[0;34m\u001b[0m\u001b[0m\n\u001b[1;32m      2\u001b[0m \u001b[0;32mimport\u001b[0m \u001b[0mnumpy\u001b[0m \u001b[0;32mas\u001b[0m \u001b[0mnp\u001b[0m\u001b[0;34m\u001b[0m\u001b[0;34m\u001b[0m\u001b[0m\n\u001b[0;32m----> 3\u001b[0;31m \u001b[0mtest\u001b[0m \u001b[0;34m=\u001b[0m \u001b[0mnp\u001b[0m\u001b[0;34m.\u001b[0m\u001b[0mstack\u001b[0m\u001b[0;34m(\u001b[0m\u001b[0;34m(\u001b[0m\u001b[0mZ\u001b[0m\u001b[0;34m[\u001b[0m\u001b[0mInteger\u001b[0m\u001b[0;34m(\u001b[0m\u001b[0;36m1\u001b[0m\u001b[0;34m)\u001b[0m\u001b[0;34m]\u001b[0m\u001b[0;34m,\u001b[0m\u001b[0mZ\u001b[0m\u001b[0;34m[\u001b[0m\u001b[0mInteger\u001b[0m\u001b[0;34m(\u001b[0m\u001b[0;36m2\u001b[0m\u001b[0;34m)\u001b[0m\u001b[0;34m]\u001b[0m\u001b[0;34m,\u001b[0m\u001b[0mZ\u001b[0m\u001b[0;34m[\u001b[0m\u001b[0mInteger\u001b[0m\u001b[0;34m(\u001b[0m\u001b[0;36m3\u001b[0m\u001b[0;34m)\u001b[0m\u001b[0;34m]\u001b[0m\u001b[0;34m,\u001b[0m \u001b[0mZ\u001b[0m\u001b[0;34m[\u001b[0m\u001b[0mInteger\u001b[0m\u001b[0;34m(\u001b[0m\u001b[0;36m4\u001b[0m\u001b[0;34m)\u001b[0m\u001b[0;34m]\u001b[0m\u001b[0;34m,\u001b[0m\u001b[0mZ\u001b[0m\u001b[0;34m[\u001b[0m\u001b[0mInteger\u001b[0m\u001b[0;34m(\u001b[0m\u001b[0;36m5\u001b[0m\u001b[0;34m)\u001b[0m\u001b[0;34m]\u001b[0m\u001b[0;34m,\u001b[0m\u001b[0mZ\u001b[0m\u001b[0;34m[\u001b[0m\u001b[0mInteger\u001b[0m\u001b[0;34m(\u001b[0m\u001b[0;36m6\u001b[0m\u001b[0;34m)\u001b[0m\u001b[0;34m]\u001b[0m\u001b[0;34m)\u001b[0m\u001b[0;34m)\u001b[0m\u001b[0;34m\u001b[0m\u001b[0;34m\u001b[0m\u001b[0m\n\u001b[0m\u001b[1;32m      4\u001b[0m \u001b[0mCor\u001b[0m\u001b[0;34m=\u001b[0m\u001b[0mnp\u001b[0m\u001b[0;34m.\u001b[0m\u001b[0mcorrcoef\u001b[0m\u001b[0;34m(\u001b[0m\u001b[0mtest\u001b[0m\u001b[0;34m)\u001b[0m\u001b[0;34m\u001b[0m\u001b[0;34m\u001b[0m\u001b[0m\n",
      "\u001b[0;31mNameError\u001b[0m: name 'Z' is not defined"
     ]
    }
   ],
   "source": [
    "# Avec numpy\n",
    "import numpy as np\n",
    "test = np.stack((Z[1],Z[2],Z[3], Z[4],Z[5],Z[6]))\n",
    "Cor=np.corrcoef(test)"
   ]
  },
  {
   "cell_type": "code",
   "execution_count": 82,
   "metadata": {},
   "outputs": [],
   "source": [
    "#Déterminer ses valeurs propres"
   ]
  },
  {
   "cell_type": "code",
   "execution_count": 60,
   "metadata": {},
   "outputs": [],
   "source": [
    "# Calculer l'inertie de la composante principale et du plan principal\n"
   ]
  },
  {
   "cell_type": "code",
   "execution_count": null,
   "metadata": {},
   "outputs": [],
   "source": [
    "#Représenter l'ébouli des valeurs propres\n",
    "\n",
    "plt.title(\"Ebouli des valeurs propres\")"
   ]
  },
  {
   "cell_type": "code",
   "execution_count": null,
   "metadata": {},
   "outputs": [],
   "source": [
    "# Diagonaliser la matrice de corrélation. Soit P sa matrice de passage"
   ]
  },
  {
   "cell_type": "code",
   "execution_count": null,
   "metadata": {},
   "outputs": [],
   "source": []
  },
  {
   "cell_type": "code",
   "execution_count": null,
   "metadata": {
    "scrolled": true
   },
   "outputs": [],
   "source": [
    "# Construire les deux composantes principales\n"
   ]
  },
  {
   "cell_type": "code",
   "execution_count": null,
   "metadata": {},
   "outputs": [],
   "source": [
    "# Tracé les différents véhicules suivant les deux composantes principales\n",
    "plt.scatter(C1,C2,marker='o')\n",
    "plt.xlabel('CP 1')\n",
    "plt.ylabel('CP 2')\n",
    "plt.title(\"Tracé suivant les composantes principales\")"
   ]
  },
  {
   "cell_type": "code",
   "execution_count": null,
   "metadata": {},
   "outputs": [],
   "source": [
    "# Représenter graphiquement les contributions des variables aux composantes principales :\n"
   ]
  },
  {
   "cell_type": "code",
   "execution_count": null,
   "metadata": {},
   "outputs": [],
   "source": []
  },
  {
   "cell_type": "markdown",
   "metadata": {},
   "source": [
    "### Exercice 2 : Jus de fruit "
   ]
  },
  {
   "cell_type": "code",
   "execution_count": null,
   "metadata": {},
   "outputs": [],
   "source": [
    "# Un jus de fruit est caractériqsé par les caractéristiques suivantes : \n",
    "# odeur, pulpeux, couleur, acidité, amertume, sucré, originalité\n",
    "data={1:[2.82,2.53,1.66,3.46,3.15,2.97,2.60],\n",
    "      2:[2.76,2.82,1.91,3.23,2.55,2.08,3.32 ],\n",
    "      3:[2.83,2.88,4.0,3.45,2.42,1.76,3.38 ],\n",
    "      4:[2.76,2.59,1.66,3.37,3.05,2.56,2.8 ],\n",
    "      5:[3.2,3.02,3.69,3.12,2.33,1.97,3.34 ],\n",
    "      6:[3.07,2.73,3.34,3.54,3.31,2.63,2.9 ],\n",
    "     }"
   ]
  }
 ],
 "metadata": {
  "kernelspec": {
   "display_name": "SageMath 9.2",
   "language": "sage",
   "name": "sagemath"
  },
  "language_info": {
   "codemirror_mode": {
    "name": "ipython",
    "version": 3
   },
   "file_extension": ".py",
   "mimetype": "text/x-python",
   "name": "python",
   "nbconvert_exporter": "python",
   "pygments_lexer": "ipython3",
   "version": "3.8.5"
  }
 },
 "nbformat": 4,
 "nbformat_minor": 4
}
