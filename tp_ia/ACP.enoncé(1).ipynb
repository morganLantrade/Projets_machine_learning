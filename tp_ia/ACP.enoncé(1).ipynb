{
 "cells": [
  {
   "cell_type": "markdown",
   "metadata": {},
   "source": [
    "# Statistiques et Analyse en Composante Principale"
   ]
  },
  {
   "cell_type": "markdown",
   "metadata": {},
   "source": [
    "### On donne les fonctions du TP précédent"
   ]
  },
  {
   "cell_type": "code",
   "execution_count": 1,
   "metadata": {},
   "outputs": [],
   "source": [
    "# Ecrire une fonction donnant la moyenne d'une série statistique\n",
    "def moy(X):\n",
    "    e=0\n",
    "    n=len(X)\n",
    "    for i in range(n):\n",
    "        e+=X[i]\n",
    "    return e/n"
   ]
  },
  {
   "cell_type": "code",
   "execution_count": 2,
   "metadata": {},
   "outputs": [],
   "source": [
    "# La variance d'une série statistique:\n",
    "def varS(X):\n",
    "    v=0\n",
    "    n=len(X)\n",
    "    m=moy(X)\n",
    "    for i in range(n):\n",
    "        v+=(X[i]-m)^2\n",
    "    return v/n"
   ]
  },
  {
   "cell_type": "code",
   "execution_count": 3,
   "metadata": {},
   "outputs": [],
   "source": [
    "# l'écart-type\n",
    "def ecTypeS(X):\n",
    "    return sqrt(varS(X))"
   ]
  },
  {
   "cell_type": "code",
   "execution_count": 4,
   "metadata": {},
   "outputs": [],
   "source": [
    "# Ecrire une fonction donnant la loi marginals  P(X=a) à partir des lois conjointes \n",
    "def margX(a,Y,C):\n",
    "    s=0\n",
    "    for j in Y:\n",
    "        s+=C[(a,j)]\n",
    "    return s"
   ]
  },
  {
   "cell_type": "code",
   "execution_count": 5,
   "metadata": {},
   "outputs": [],
   "source": [
    "# Toutes les lois marginales de X sous forme d'un dictionnaire\n",
    "def MargX(X,Y,C):\n",
    "    return {i:margX(i,Y,C) for i in X}"
   ]
  },
  {
   "cell_type": "code",
   "execution_count": 6,
   "metadata": {},
   "outputs": [],
   "source": [
    "# idem pour Y\n",
    "def margY(b,X,C):\n",
    "    s=0\n",
    "    for i in X:\n",
    "        s+=C[(i,b)]\n",
    "    return s"
   ]
  },
  {
   "cell_type": "code",
   "execution_count": 7,
   "metadata": {},
   "outputs": [],
   "source": [
    "# Calcul des lois marginales de Y à partir de la matrice conjointe\n",
    "def MargY(X,Y,C):\n",
    "    return {j:margY(j,X,C) for j in Y}"
   ]
  },
  {
   "cell_type": "code",
   "execution_count": 8,
   "metadata": {},
   "outputs": [],
   "source": [
    "# Ecrire une fonction calculant la covariance d'un couple de séries statistiques\n",
    "def covS(X,Y):\n",
    "    n=len(X)\n",
    "    MX=moy(X)\n",
    "    MY=moy(Y)\n",
    "    sol=0\n",
    "    for i in range(n):\n",
    "        sol+=(X[i]-MX)*(Y[i]-MY)\n",
    "    return sol/n"
   ]
  },
  {
   "cell_type": "code",
   "execution_count": 9,
   "metadata": {},
   "outputs": [],
   "source": [
    "# et le Coefficient de corrélation d'une série statistique\n",
    "def corS(X,Y):\n",
    "    return covS(X,Y)/(sqrt(varS(X))*sqrt(varS(Y)))"
   ]
  },
  {
   "cell_type": "code",
   "execution_count": 10,
   "metadata": {},
   "outputs": [],
   "source": [
    "# Construction de la matrice de covariance \n",
    "def matCov(D):\n",
    "    mat=[]\n",
    "    for a in D.values():\n",
    "        L=[]\n",
    "        for b in D.values():\n",
    "            L.append(round(covS(a,b),ndigits=3))\n",
    "        mat.append(L)\n",
    "    A = matrix(mat)\n",
    "    return A"
   ]
  },
  {
   "cell_type": "code",
   "execution_count": 11,
   "metadata": {},
   "outputs": [],
   "source": [
    "# et de la matrice de corrélation\n",
    "def matCor(D):\n",
    "    mat=[]\n",
    "    for a in D.values():\n",
    "        L=[]\n",
    "        for b in D.values():\n",
    "            L.append(round(corS(a,b),ndigits=5))\n",
    "        mat.append(L)\n",
    "    A = matrix(mat)\n",
    "    return A"
   ]
  },
  {
   "cell_type": "markdown",
   "metadata": {},
   "source": [
    "## Exercice 1 "
   ]
  },
  {
   "cell_type": "code",
   "execution_count": 12,
   "metadata": {},
   "outputs": [],
   "source": [
    "# Etude qualitative de 4 variables aléatoires couplées\n",
    "data={1:[0,1,2,3,4,5,6,7,8,9,10] ,\n",
    "  2:[2.04,3.02,4.15,4.97,6.02,7.08,8.12,9.14,10.13,10.86,11.89],\n",
    "  3:[5.01,7.93,3.27,20.50,11.33,12.41,16.74,11.39,16.61,11.48,23.59],\n",
    "  4:[7.45,8.20,2.09,9.03,7.99,8.58,9.63,5.06,2.49,8.22,8.01],\n",
    "  5:[10.04,9.02,8.97,8.15,6.02,5.08,4.12,3.14,2.86,2.13,1.89]}"
   ]
  },
  {
   "cell_type": "code",
   "execution_count": 13,
   "metadata": {},
   "outputs": [
    {
     "data": {
      "text/html": [
       "<html><script type=\"math/tex; mode=display\">\\newcommand{\\Bold}[1]{\\mathbf{#1}}\\left(\\begin{array}{rrrrr}\n",
       "10.0 & 9.908 & 12.21 & -0.202 & -8.96 \\\\\n",
       "9.908 & 9.825 & 11.997 & -0.331 & -8.9 \\\\\n",
       "12.21 & 11.997 & 35.181 & 5.108 & -10.218 \\\\\n",
       "-0.202 & -0.331 & 5.108 & 6.079 & -0.038 \\\\\n",
       "-8.96 & -8.9 & -10.218 & -0.038 & 8.297\n",
       "\\end{array}\\right)</script></html>"
      ],
      "text/latex": [
       "\\begin{math}\n",
       "\\newcommand{\\Bold}[1]{\\mathbf{#1}}\\left(\\begin{array}{rrrrr}\n",
       "10.0 & 9.908 & 12.21 & -0.202 & -8.96 \\\\\n",
       "9.908 & 9.825 & 11.997 & -0.331 & -8.9 \\\\\n",
       "12.21 & 11.997 & 35.181 & 5.108 & -10.218 \\\\\n",
       "-0.202 & -0.331 & 5.108 & 6.079 & -0.038 \\\\\n",
       "-8.96 & -8.9 & -10.218 & -0.038 & 8.297\n",
       "\\end{array}\\right)\n",
       "\\end{math}"
      ],
      "text/plain": [
       "[   10.0   9.908   12.21  -0.202   -8.96]\n",
       "[  9.908   9.825  11.997  -0.331    -8.9]\n",
       "[  12.21  11.997  35.181   5.108 -10.218]\n",
       "[ -0.202  -0.331   5.108   6.079  -0.038]\n",
       "[  -8.96    -8.9 -10.218  -0.038   8.297]"
      ]
     },
     "metadata": {},
     "output_type": "display_data"
    },
    {
     "data": {
      "text/html": [
       "<html><script type=\"math/tex; mode=display\">\\newcommand{\\Bold}[1]{\\mathbf{#1}}\\left(\\begin{array}{rrrrr}\n",
       "1.0 & 0.99959 & 0.65097 & -0.02588 & -0.98366 \\\\\n",
       "0.99959 & 1.0 & 0.64528 & -0.04286 & -0.98568 \\\\\n",
       "0.65097 & 0.64528 & 1.0 & 0.3493 & -0.59808 \\\\\n",
       "-0.02588 & -0.04286 & 0.3493 & 1.0 & -0.00539 \\\\\n",
       "-0.98366 & -0.98568 & -0.59808 & -0.00539 & 1.0\n",
       "\\end{array}\\right)</script></html>"
      ],
      "text/latex": [
       "\\begin{math}\n",
       "\\newcommand{\\Bold}[1]{\\mathbf{#1}}\\left(\\begin{array}{rrrrr}\n",
       "1.0 & 0.99959 & 0.65097 & -0.02588 & -0.98366 \\\\\n",
       "0.99959 & 1.0 & 0.64528 & -0.04286 & -0.98568 \\\\\n",
       "0.65097 & 0.64528 & 1.0 & 0.3493 & -0.59808 \\\\\n",
       "-0.02588 & -0.04286 & 0.3493 & 1.0 & -0.00539 \\\\\n",
       "-0.98366 & -0.98568 & -0.59808 & -0.00539 & 1.0\n",
       "\\end{array}\\right)\n",
       "\\end{math}"
      ],
      "text/plain": [
       "[     1.0  0.99959  0.65097 -0.02588 -0.98366]\n",
       "[ 0.99959      1.0  0.64528 -0.04286 -0.98568]\n",
       "[ 0.65097  0.64528      1.0   0.3493 -0.59808]\n",
       "[-0.02588 -0.04286   0.3493      1.0 -0.00539]\n",
       "[-0.98366 -0.98568 -0.59808 -0.00539      1.0]"
      ]
     },
     "metadata": {},
     "output_type": "display_data"
    }
   ],
   "source": [
    "show(matCov(data))\n",
    "MCor=matCor(data)\n",
    "show(MCor)"
   ]
  },
  {
   "cell_type": "code",
   "execution_count": 14,
   "metadata": {},
   "outputs": [
    {
     "data": {
      "image/png": "[encoded data removed]",
      "text/plain": [
       "<Figure size 432x288 with 1 Axes>"
      ]
     },
     "metadata": {
      "needs_background": "light"
     },
     "output_type": "display_data"
    },
    {
     "data": {
      "image/png": "[encoded data removed]",
      "text/plain": [
       "<Figure size 432x288 with 1 Axes>"
      ]
     },
     "metadata": {
      "needs_background": "light"
     },
     "output_type": "display_data"
    },
    {
     "data": {
      "image/png": "[encoded data removed]",
      "text/plain": [
       "<Figure size 432x288 with 1 Axes>"
      ]
     },
     "metadata": {
      "needs_background": "light"
     },
     "output_type": "display_data"
    },
    {
     "data": {
      "image/png": "[encoded data removed]",
      "text/plain": [
       "<Figure size 432x288 with 1 Axes>"
      ]
     },
     "metadata": {
      "needs_background": "light"
     },
     "output_type": "display_data"
    }
   ],
   "source": [
    "import matplotlib.pyplot as plt\n",
    "# Représenter sur un même graphique les corrélations de la variable 1 avec les 4 autres variables\n",
    "for point in list(data)[1:]:\n",
    "    plt.scatter(data[1],data[point])\n",
    "    plt.show()"
   ]
  },
  {
   "cell_type": "code",
   "execution_count": 15,
   "metadata": {},
   "outputs": [
    {
     "ename": "NameError",
     "evalue": "name 'np' is not defined",
     "output_type": "error",
     "traceback": [
      "\u001b[0;31m---------------------------------------------------------------------------\u001b[0m",
      "\u001b[0;31mNameError\u001b[0m                                 Traceback (most recent call last)",
      "\u001b[0;32m<ipython-input-15-868564c6f584>\u001b[0m in \u001b[0;36m<module>\u001b[0;34m\u001b[0m\n\u001b[1;32m      1\u001b[0m \u001b[0;31m# Représentation géométriquement les corrélations avec la première variable\u001b[0m\u001b[0;34m\u001b[0m\u001b[0;34m\u001b[0m\u001b[0;34m\u001b[0m\u001b[0m\n\u001b[1;32m      2\u001b[0m \u001b[0;32mimport\u001b[0m \u001b[0mmatplotlib\u001b[0m\u001b[0;34m.\u001b[0m\u001b[0mpyplot\u001b[0m \u001b[0;32mas\u001b[0m \u001b[0mplt\u001b[0m\u001b[0;34m\u001b[0m\u001b[0;34m\u001b[0m\u001b[0m\n\u001b[0;32m----> 3\u001b[0;31m \u001b[0mX\u001b[0m \u001b[0;34m=\u001b[0m \u001b[0mnp\u001b[0m\u001b[0;34m.\u001b[0m\u001b[0marray\u001b[0m\u001b[0;34m(\u001b[0m\u001b[0;34m[\u001b[0m\u001b[0mInteger\u001b[0m\u001b[0;34m(\u001b[0m\u001b[0;36m0\u001b[0m\u001b[0;34m)\u001b[0m\u001b[0;34m,\u001b[0m\u001b[0mInteger\u001b[0m\u001b[0;34m(\u001b[0m\u001b[0;36m0\u001b[0m\u001b[0;34m)\u001b[0m\u001b[0;34m,\u001b[0m\u001b[0mInteger\u001b[0m\u001b[0;34m(\u001b[0m\u001b[0;36m0\u001b[0m\u001b[0;34m)\u001b[0m\u001b[0;34m,\u001b[0m\u001b[0mInteger\u001b[0m\u001b[0;34m(\u001b[0m\u001b[0;36m0\u001b[0m\u001b[0;34m)\u001b[0m\u001b[0;34m,\u001b[0m\u001b[0mInteger\u001b[0m\u001b[0;34m(\u001b[0m\u001b[0;36m0\u001b[0m\u001b[0;34m)\u001b[0m\u001b[0;34m]\u001b[0m\u001b[0;34m)\u001b[0m\u001b[0;34m\u001b[0m\u001b[0;34m\u001b[0m\u001b[0m\n\u001b[0m\u001b[1;32m      4\u001b[0m \u001b[0mY\u001b[0m\u001b[0;34m=\u001b[0m \u001b[0mnp\u001b[0m\u001b[0;34m.\u001b[0m\u001b[0marray\u001b[0m\u001b[0;34m(\u001b[0m\u001b[0;34m[\u001b[0m\u001b[0mInteger\u001b[0m\u001b[0;34m(\u001b[0m\u001b[0;36m0\u001b[0m\u001b[0;34m)\u001b[0m\u001b[0;34m,\u001b[0m\u001b[0mInteger\u001b[0m\u001b[0;34m(\u001b[0m\u001b[0;36m0\u001b[0m\u001b[0;34m)\u001b[0m\u001b[0;34m,\u001b[0m\u001b[0mInteger\u001b[0m\u001b[0;34m(\u001b[0m\u001b[0;36m0\u001b[0m\u001b[0;34m)\u001b[0m\u001b[0;34m,\u001b[0m\u001b[0mInteger\u001b[0m\u001b[0;34m(\u001b[0m\u001b[0;36m0\u001b[0m\u001b[0;34m)\u001b[0m\u001b[0;34m,\u001b[0m\u001b[0mInteger\u001b[0m\u001b[0;34m(\u001b[0m\u001b[0;36m0\u001b[0m\u001b[0;34m)\u001b[0m\u001b[0;34m]\u001b[0m\u001b[0;34m)\u001b[0m\u001b[0;34m\u001b[0m\u001b[0;34m\u001b[0m\u001b[0m\n\u001b[1;32m      5\u001b[0m \u001b[0;31m# à compléter\u001b[0m\u001b[0;34m\u001b[0m\u001b[0;34m\u001b[0m\u001b[0;34m\u001b[0m\u001b[0m\n",
      "\u001b[0;31mNameError\u001b[0m: name 'np' is not defined"
     ]
    }
   ],
   "source": [
    "# Représentation géométriquement les corrélations avec la première variable\n",
    "import matplotlib.pyplot as plt\n",
    "X = np.array([0,0,0,0,0])\n",
    "Y= np.array([0,0,0,0,0])\n",
    "# à compléter\n",
    "plt.quiver(X, Y, U, V,scale=3)\n",
    "a=1.2\n",
    "plt.xlim(-a,a)\n",
    "plt.ylim(-a,a)\n",
    "plt.title(\"Représentation géométrique de la corrélation\")"
   ]
  },
  {
   "cell_type": "code",
   "execution_count": null,
   "metadata": {},
   "outputs": [],
   "source": [
    "# Représentation géométriquement les corrélations avec la première variable\n",
    "import matplotlib.pyplot as plt\n",
    "import numpy as np\n",
    "X = np.array([0,0,0,0,0])\n",
    "Y= np.array([0,0,0,0,0])\n",
    "U=[]\n",
    "V=[]\n",
    "for c in MCor[0]:\n",
    "    U.append(c)\n",
    "    V.append(1-abs(c))\n",
    "plt.quiver(X, Y, U, V,scale=3)\n",
    "a=1.2\n",
    "plt.xlim(-a,a)\n",
    "plt.ylim(-a,a)\n",
    "plt.title(\"Représentation géométrique de la corrélation\")"
   ]
  },
  {
   "cell_type": "markdown",
   "metadata": {},
   "source": [
    "### Exercice 2 :  Voitures"
   ]
  },
  {
   "cell_type": "code",
   "execution_count": 18,
   "metadata": {},
   "outputs": [],
   "source": [
    "voitures={\"Alfasud\" : [1350 ,79 ,393, 161, 870 ,165],\n",
    "\"Audi\" : [1588, 85, 468, 177, 1110 ,160 ],\n",
    "\"Simca\"  : [1294 ,68, 424, 168, 1050 ,152 ],\n",
    "\"Citroen\"  : [1222, 59, 412, 161, 930 ,151 ],\n",
    "\"Fiat\" : [1585, 98, 439, 164,1105 ,165 ],\n",
    "\"Lancia\"  :[1297 ,82 ,429, 169, 1080 ,160 ],\n",
    "\"Peugeot\" :[ 1796, 79, 449 ,169, 1160 ,154 ],\n",
    "\"Renault16\" : [1565,55, 424, 163, 1010 ,140], \n",
    "\"Renault30\": [2664, 128, 452, 173, 1320,180], \n",
    "\"Toyota\" : [1166, 55 ,399, 157, 815, 140], \n",
    "\"Alfetta\" :[ 1570, 109, 428, 162, 1060, 175], \n",
    "\"Princess\" : [1798 ,82, 445, 172, 1160 ,158 ],\n",
    "\"Datsun\" :[1998 ,115, 469, 169, 1370 ,160 ],\n",
    "\"Taunus\" : [1993, 98 ,438 ,170, 1080 ,167 ],\n",
    "\"Rancho\" :[1442 ,80 ,431, 166, 1129, 144 ],\n",
    "\"Mazda\" :[1769 ,83,440,165 ,1095, 165 ],\n",
    "\"Opel\": [1979, 100 ,459 ,173, 1120 ,173], \n",
    "\"Lada\" : [1294, 68, 404 ,161, 955, 140] }"
   ]
  },
  {
   "cell_type": "code",
   "execution_count": 19,
   "metadata": {},
   "outputs": [
    {
     "data": {
      "text/html": [
       "<html><script type=\"math/tex; mode=display\">\\newcommand{\\Bold}[1]{\\mathbf{#1}}\\left\\{\\verb|Cyl| : \\left[1350, 1588, 1294, 1222, 1585, 1297, 1796, 1565, 2664, 1166, 1570, 1798, 1998, 1993, 1442, 1769, 1979, 1294\\right], \\verb|Puiss| : \\left[79, 85, 68, 59, 98, 82, 79, 55, 128, 55, 109, 82, 115, 98, 80, 83, 100, 68\\right], \\verb|Long| : \\left[393, 468, 424, 412, 439, 429, 449, 424, 452, 399, 428, 445, 469, 438, 431, 440, 459, 404\\right], \\verb|Larg| : \\left[161, 177, 168, 161, 164, 169, 169, 163, 173, 157, 162, 172, 169, 170, 166, 165, 173, 161\\right], \\verb|Poids| : \\left[870, 1110, 1050, 930, 1105, 1080, 1160, 1010, 1320, 815, 1060, 1160, 1370, 1080, 1129, 1095, 1120, 955\\right], \\verb|Vmax| : \\left[165, 160, 152, 151, 165, 160, 154, 140, 180, 140, 175, 158, 160, 167, 144, 165, 173, 140\\right]\\right\\}</script></html>"
      ],
      "text/latex": [
       "\\begin{math}\n",
       "\\newcommand{\\Bold}[1]{\\mathbf{#1}}\\left\\{\\verb|Cyl| : \\left[1350, 1588, 1294, 1222, 1585, 1297, 1796, 1565, 2664, 1166, 1570, 1798, 1998, 1993, 1442, 1769, 1979, 1294\\right], \\verb|Puiss| : \\left[79, 85, 68, 59, 98, 82, 79, 55, 128, 55, 109, 82, 115, 98, 80, 83, 100, 68\\right], \\verb|Long| : \\left[393, 468, 424, 412, 439, 429, 449, 424, 452, 399, 428, 445, 469, 438, 431, 440, 459, 404\\right], \\verb|Larg| : \\left[161, 177, 168, 161, 164, 169, 169, 163, 173, 157, 162, 172, 169, 170, 166, 165, 173, 161\\right], \\verb|Poids| : \\left[870, 1110, 1050, 930, 1105, 1080, 1160, 1010, 1320, 815, 1060, 1160, 1370, 1080, 1129, 1095, 1120, 955\\right], \\verb|Vmax| : \\left[165, 160, 152, 151, 165, 160, 154, 140, 180, 140, 175, 158, 160, 167, 144, 165, 173, 140\\right]\\right\\}\n",
       "\\end{math}"
      ],
      "text/plain": [
       "{'Cyl': [1350,\n",
       "  1588,\n",
       "  1294,\n",
       "  1222,\n",
       "  1585,\n",
       "  1297,\n",
       "  1796,\n",
       "  1565,\n",
       "  2664,\n",
       "  1166,\n",
       "  1570,\n",
       "  1798,\n",
       "  1998,\n",
       "  1993,\n",
       "  1442,\n",
       "  1769,\n",
       "  1979,\n",
       "  1294],\n",
       " 'Puiss': [79,\n",
       "  85,\n",
       "  68,\n",
       "  59,\n",
       "  98,\n",
       "  82,\n",
       "  79,\n",
       "  55,\n",
       "  128,\n",
       "  55,\n",
       "  109,\n",
       "  82,\n",
       "  115,\n",
       "  98,\n",
       "  80,\n",
       "  83,\n",
       "  100,\n",
       "  68],\n",
       " 'Long': [393,\n",
       "  468,\n",
       "  424,\n",
       "  412,\n",
       "  439,\n",
       "  429,\n",
       "  449,\n",
       "  424,\n",
       "  452,\n",
       "  399,\n",
       "  428,\n",
       "  445,\n",
       "  469,\n",
       "  438,\n",
       "  431,\n",
       "  440,\n",
       "  459,\n",
       "  404],\n",
       " 'Larg': [161,\n",
       "  177,\n",
       "  168,\n",
       "  161,\n",
       "  164,\n",
       "  169,\n",
       "  169,\n",
       "  163,\n",
       "  173,\n",
       "  157,\n",
       "  162,\n",
       "  172,\n",
       "  169,\n",
       "  170,\n",
       "  166,\n",
       "  165,\n",
       "  173,\n",
       "  161],\n",
       " 'Poids': [870,\n",
       "  1110,\n",
       "  1050,\n",
       "  930,\n",
       "  1105,\n",
       "  1080,\n",
       "  1160,\n",
       "  1010,\n",
       "  1320,\n",
       "  815,\n",
       "  1060,\n",
       "  1160,\n",
       "  1370,\n",
       "  1080,\n",
       "  1129,\n",
       "  1095,\n",
       "  1120,\n",
       "  955],\n",
       " 'Vmax': [165,\n",
       "  160,\n",
       "  152,\n",
       "  151,\n",
       "  165,\n",
       "  160,\n",
       "  154,\n",
       "  140,\n",
       "  180,\n",
       "  140,\n",
       "  175,\n",
       "  158,\n",
       "  160,\n",
       "  167,\n",
       "  144,\n",
       "  165,\n",
       "  173,\n",
       "  140]}"
      ]
     },
     "metadata": {},
     "output_type": "display_data"
    }
   ],
   "source": [
    "# Définir sous forme d'un dictionnaire, les 6 variables (cylindrée, puissance, longueur, largeur, poids, vitesse max)\n",
    "voituresStats={\"Cyl\":[],\"Puiss\":[],\"Long\":[],\"Larg\":[],\"Poids\":[],\"Vmax\":[]}\n",
    "for v in voitures.values():\n",
    "    i=0\n",
    "    for k in voituresStats:\n",
    "        voituresStats[k].append(v[i])\n",
    "        i+=1\n",
    "show(voituresStats)"
   ]
  },
  {
   "cell_type": "code",
   "execution_count": 20,
   "metadata": {},
   "outputs": [
    {
     "data": {
      "image/png": "[encoded data removed]",
      "text/plain": [
       "<Figure size 432x288 with 1 Axes>"
      ]
     },
     "metadata": {
      "needs_background": "light"
     },
     "output_type": "display_data"
    }
   ],
   "source": [
    "#Représenter quelques corrélations entre couples de variables\n",
    "plt.scatter(voituresStats[\"Puiss\"],voituresStats[\"Vmax\"])\n",
    "plt.show()"
   ]
  },
  {
   "cell_type": "code",
   "execution_count": 21,
   "metadata": {},
   "outputs": [
    {
     "data": {
      "image/png": "[encoded data removed]",
      "text/plain": [
       "<Figure size 432x288 with 1 Axes>"
      ]
     },
     "metadata": {
      "needs_background": "light"
     },
     "output_type": "display_data"
    }
   ],
   "source": [
    "plt.scatter(voituresStats[\"Cyl\"],voituresStats[\"Puiss\"])\n",
    "plt.show()"
   ]
  },
  {
   "cell_type": "code",
   "execution_count": 22,
   "metadata": {},
   "outputs": [
    {
     "data": {
      "image/png": "[encoded data removed]",
      "text/plain": [
       "<Figure size 432x288 with 1 Axes>"
      ]
     },
     "metadata": {
      "needs_background": "light"
     },
     "output_type": "display_data"
    }
   ],
   "source": [
    "plt.scatter(voituresStats[\"Poids\"],voituresStats[\"Vmax\"])\n",
    "plt.show()"
   ]
  },
  {
   "cell_type": "code",
   "execution_count": 23,
   "metadata": {},
   "outputs": [],
   "source": [
    "# C'est parti pour l'Analyse en Composante Principale"
   ]
  },
  {
   "cell_type": "code",
   "execution_count": 24,
   "metadata": {},
   "outputs": [
    {
     "data": {
      "text/html": [
       "<html><script type=\"math/tex; mode=display\">\\newcommand{\\Bold}[1]{\\mathbf{#1}}\\left(\\begin{array}{rrrrrr}\n",
       "1.0 & 0.79663 & 0.70146 & 0.62976 & 0.78895 & 0.66493 \\\\\n",
       "0.79663 & 1.0 & 0.64136 & 0.52083 & 0.76529 & 0.84438 \\\\\n",
       "0.70146 & 0.64136 & 1.0 & 0.84927 & 0.86809 & 0.47593 \\\\\n",
       "0.62976 & 0.52083 & 0.84927 & 1.0 & 0.71687 & 0.47295 \\\\\n",
       "0.78895 & 0.76529 & 0.86809 & 0.71687 & 1.0 & 0.4776 \\\\\n",
       "0.66493 & 0.84438 & 0.47593 & 0.47295 & 0.4776 & 1.0\n",
       "\\end{array}\\right)</script></html>"
      ],
      "text/latex": [
       "\\begin{math}\n",
       "\\newcommand{\\Bold}[1]{\\mathbf{#1}}\\left(\\begin{array}{rrrrrr}\n",
       "1.0 & 0.79663 & 0.70146 & 0.62976 & 0.78895 & 0.66493 \\\\\n",
       "0.79663 & 1.0 & 0.64136 & 0.52083 & 0.76529 & 0.84438 \\\\\n",
       "0.70146 & 0.64136 & 1.0 & 0.84927 & 0.86809 & 0.47593 \\\\\n",
       "0.62976 & 0.52083 & 0.84927 & 1.0 & 0.71687 & 0.47295 \\\\\n",
       "0.78895 & 0.76529 & 0.86809 & 0.71687 & 1.0 & 0.4776 \\\\\n",
       "0.66493 & 0.84438 & 0.47593 & 0.47295 & 0.4776 & 1.0\n",
       "\\end{array}\\right)\n",
       "\\end{math}"
      ],
      "text/plain": [
       "[    1.0 0.79663 0.70146 0.62976 0.78895 0.66493]\n",
       "[0.79663     1.0 0.64136 0.52083 0.76529 0.84438]\n",
       "[0.70146 0.64136     1.0 0.84927 0.86809 0.47593]\n",
       "[0.62976 0.52083 0.84927     1.0 0.71687 0.47295]\n",
       "[0.78895 0.76529 0.86809 0.71687     1.0  0.4776]\n",
       "[0.66493 0.84438 0.47593 0.47295  0.4776     1.0]"
      ]
     },
     "metadata": {},
     "output_type": "display_data"
    }
   ],
   "source": [
    "# calculer la matrice de corrélation\n",
    "MCV=matCor(voituresStats)\n",
    "show(MCV)"
   ]
  },
  {
   "cell_type": "code",
   "execution_count": 25,
   "metadata": {},
   "outputs": [
    {
     "data": {
      "text/html": [
       "<html><script type=\"math/tex; mode=display\">\\newcommand{\\Bold}[1]{\\mathbf{#1}}\\begin{array}{l}\n",
       "\\verb|[[1.|\\phantom{\\verb!xxxxxxxxx!}\\verb|0.79662771|\\phantom{\\verb!x!}\\verb|0.70146192|\\phantom{\\verb!x!}\\verb|0.62975716|\\phantom{\\verb!x!}\\verb|0.78895203|\\phantom{\\verb!x!}\\verb|0.66493402]|\\\\\n",
       "\\phantom{\\verb!x!}\\verb|[0.79662771|\\phantom{\\verb!x!}\\verb|1.|\\phantom{\\verb!xxxxxxxxx!}\\verb|0.64136235|\\phantom{\\verb!x!}\\verb|0.52083197|\\phantom{\\verb!x!}\\verb|0.765293|\\phantom{\\verb!xxx!}\\verb|0.84437948]|\\\\\n",
       "\\phantom{\\verb!x!}\\verb|[0.70146192|\\phantom{\\verb!x!}\\verb|0.64136235|\\phantom{\\verb!x!}\\verb|1.|\\phantom{\\verb!xxxxxxxxx!}\\verb|0.84926635|\\phantom{\\verb!x!}\\verb|0.86809028|\\phantom{\\verb!x!}\\verb|0.47592847]|\\\\\n",
       "\\phantom{\\verb!x!}\\verb|[0.62975716|\\phantom{\\verb!x!}\\verb|0.52083197|\\phantom{\\verb!x!}\\verb|0.84926635|\\phantom{\\verb!x!}\\verb|1.|\\phantom{\\verb!xxxxxxxxx!}\\verb|0.71687392|\\phantom{\\verb!x!}\\verb|0.47294527]|\\\\\n",
       "\\phantom{\\verb!x!}\\verb|[0.78895203|\\phantom{\\verb!x!}\\verb|0.765293|\\phantom{\\verb!xxx!}\\verb|0.86809028|\\phantom{\\verb!x!}\\verb|0.71687392|\\phantom{\\verb!x!}\\verb|1.|\\phantom{\\verb!xxxxxxxxx!}\\verb|0.4775956|\\phantom{\\verb!x!}\\verb|]|\\\\\n",
       "\\phantom{\\verb!x!}\\verb|[0.66493402|\\phantom{\\verb!x!}\\verb|0.84437948|\\phantom{\\verb!x!}\\verb|0.47592847|\\phantom{\\verb!x!}\\verb|0.47294527|\\phantom{\\verb!x!}\\verb|0.4775956|\\phantom{\\verb!xx!}\\verb|1.|\\phantom{\\verb!xxxxxxxx!}\\verb|]]|\n",
       "\\end{array}</script></html>"
      ],
      "text/latex": [
       "\\begin{math}\n",
       "\\newcommand{\\Bold}[1]{\\mathbf{#1}}\\begin{array}{l}\n",
       "\\verb|[[1.|\\phantom{\\verb!xxxxxxxxx!}\\verb|0.79662771|\\phantom{\\verb!x!}\\verb|0.70146192|\\phantom{\\verb!x!}\\verb|0.62975716|\\phantom{\\verb!x!}\\verb|0.78895203|\\phantom{\\verb!x!}\\verb|0.66493402]|\\\\\n",
       "\\phantom{\\verb!x!}\\verb|[0.79662771|\\phantom{\\verb!x!}\\verb|1.|\\phantom{\\verb!xxxxxxxxx!}\\verb|0.64136235|\\phantom{\\verb!x!}\\verb|0.52083197|\\phantom{\\verb!x!}\\verb|0.765293|\\phantom{\\verb!xxx!}\\verb|0.84437948]|\\\\\n",
       "\\phantom{\\verb!x!}\\verb|[0.70146192|\\phantom{\\verb!x!}\\verb|0.64136235|\\phantom{\\verb!x!}\\verb|1.|\\phantom{\\verb!xxxxxxxxx!}\\verb|0.84926635|\\phantom{\\verb!x!}\\verb|0.86809028|\\phantom{\\verb!x!}\\verb|0.47592847]|\\\\\n",
       "\\phantom{\\verb!x!}\\verb|[0.62975716|\\phantom{\\verb!x!}\\verb|0.52083197|\\phantom{\\verb!x!}\\verb|0.84926635|\\phantom{\\verb!x!}\\verb|1.|\\phantom{\\verb!xxxxxxxxx!}\\verb|0.71687392|\\phantom{\\verb!x!}\\verb|0.47294527]|\\\\\n",
       "\\phantom{\\verb!x!}\\verb|[0.78895203|\\phantom{\\verb!x!}\\verb|0.765293|\\phantom{\\verb!xxx!}\\verb|0.86809028|\\phantom{\\verb!x!}\\verb|0.71687392|\\phantom{\\verb!x!}\\verb|1.|\\phantom{\\verb!xxxxxxxxx!}\\verb|0.4775956|\\phantom{\\verb!x!}\\verb|]|\\\\\n",
       "\\phantom{\\verb!x!}\\verb|[0.66493402|\\phantom{\\verb!x!}\\verb|0.84437948|\\phantom{\\verb!x!}\\verb|0.47592847|\\phantom{\\verb!x!}\\verb|0.47294527|\\phantom{\\verb!x!}\\verb|0.4775956|\\phantom{\\verb!xx!}\\verb|1.|\\phantom{\\verb!xxxxxxxx!}\\verb|]]|\n",
       "\\end{array}\n",
       "\\end{math}"
      ],
      "text/plain": [
       "array([[1.        , 0.79662771, 0.70146192, 0.62975716, 0.78895203,\n",
       "        0.66493402],\n",
       "       [0.79662771, 1.        , 0.64136235, 0.52083197, 0.765293  ,\n",
       "        0.84437948],\n",
       "       [0.70146192, 0.64136235, 1.        , 0.84926635, 0.86809028,\n",
       "        0.47592847],\n",
       "       [0.62975716, 0.52083197, 0.84926635, 1.        , 0.71687392,\n",
       "        0.47294527],\n",
       "       [0.78895203, 0.765293  , 0.86809028, 0.71687392, 1.        ,\n",
       "        0.4775956 ],\n",
       "       [0.66493402, 0.84437948, 0.47592847, 0.47294527, 0.4775956 ,\n",
       "        1.        ]])"
      ]
     },
     "metadata": {},
     "output_type": "display_data"
    }
   ],
   "source": [
    "# Avec numpy\n",
    "\n",
    "import numpy as np\n",
    "test = np.stack((voituresStats[\"Cyl\"],voituresStats[\"Puiss\"],voituresStats[\"Long\"],voituresStats[\"Larg\"],voituresStats[\"Poids\"],voituresStats[\"Vmax\"]))\n",
    "Cor=np.corrcoef(test)\n",
    "show(Cor)\n"
   ]
  },
  {
   "cell_type": "code",
   "execution_count": 32,
   "metadata": {},
   "outputs": [
    {
     "name": "stdout",
     "output_type": "stream",
     "text": [
      "[    1.0 0.79663 0.70146 0.62976 0.78895 0.66493]\n",
      "[0.79663     1.0 0.64136 0.52083 0.76529 0.84438]\n",
      "[0.70146 0.64136     1.0 0.84927 0.86809 0.47593]\n",
      "[0.62976 0.52083 0.84927     1.0 0.71687 0.47295]\n",
      "[0.78895 0.76529 0.86809 0.71687     1.0  0.4776]\n",
      "[0.66493 0.84438 0.47593 0.47295  0.4776     1.0]\n"
     ]
    },
    {
     "data": {
      "text/html": [
       "<html><script type=\"math/tex; mode=display\">\\newcommand{\\Bold}[1]{\\mathbf{#1}}\\left[4.420857663577429, 0.8560600374244822, 0.37306922824231104, 0.21392340995899686, 0.0927954873171861, 0.04329417347959396\\right]</script></html>"
      ],
      "text/latex": [
       "\\begin{math}\n",
       "\\newcommand{\\Bold}[1]{\\mathbf{#1}}\\left[4.420857663577429, 0.8560600374244822, 0.37306922824231104, 0.21392340995899686, 0.0927954873171861, 0.04329417347959396\\right]\n",
       "\\end{math}"
      ],
      "text/plain": [
       "[4.420857663577429,\n",
       " 0.8560600374244822,\n",
       " 0.37306922824231104,\n",
       " 0.21392340995899686,\n",
       " 0.0927954873171861,\n",
       " 0.04329417347959396]"
      ]
     },
     "metadata": {},
     "output_type": "display_data"
    }
   ],
   "source": [
    "#Déterminer ses valeurs propres\n",
    "VP=MCV.eigenvalues()\n",
    "print(MCV)\n",
    "show(VP)"
   ]
  },
  {
   "cell_type": "code",
   "execution_count": 27,
   "metadata": {},
   "outputs": [
    {
     "name": "stdout",
     "output_type": "stream",
     "text": [
      "0.7368096105962382\n",
      "0.8794862835003185\n"
     ]
    }
   ],
   "source": [
    "# Calculer l'inertie de la composante principale et du plan principal\n",
    "SVP=0\n",
    "for v in VP:\n",
    "    SVP+=v\n",
    "print(VP[0]/SVP)\n",
    "print((VP[0]+VP[1])/SVP)\n",
    "\n"
   ]
  },
  {
   "cell_type": "code",
   "execution_count": null,
   "metadata": {},
   "outputs": [],
   "source": [
    "#Représenter l'ébouli des valeurs propres\n",
    "\n",
    "plt.title(\"Ebouli des valeurs propres\")"
   ]
  },
  {
   "cell_type": "code",
   "execution_count": null,
   "metadata": {},
   "outputs": [],
   "source": [
    "# Diagonaliser la matrice de corrélation. Soit P sa matrice de passage"
   ]
  },
  {
   "cell_type": "code",
   "execution_count": 28,
   "metadata": {},
   "outputs": [
    {
     "data": {
      "text/html": [
       "<html><script type=\"math/tex; mode=display\">\\newcommand{\\Bold}[1]{\\mathbf{#1}}\\left(\\begin{array}{rrrrrr}\n",
       "0.42493579922729513 & 0.12418934321840484 & 0.3536142435638581 & 0.8077845714061599 & 0.15159834575607367 & -0.05886907572733127 \\\\\n",
       "0.42179401008158185 & 0.41577937330229553 & 0.1849204521780031 & -0.3577667250908393 & -0.29373372243641527 & -0.6330444083027313 \\\\\n",
       "0.42145996965788546 & -0.41182170598614326 & -0.06763582853720423 & -0.27976159629251507 & 0.7305617358600323 & -0.19029653304714414 \\\\\n",
       "0.38692275161710643 & -0.4460874086172447 & -0.6048619196624883 & 0.21158219815186965 & -0.4781917100917704 & -0.10956517750243328 \\\\\n",
       "0.43051147451642935 & -0.24267167805710552 & 0.4843972575024405 & -0.3017254835396731 & -0.3045668670254646 & 0.5808014979283325 \\\\\n",
       "0.3589450210841061 & 0.6198579537185064 & -0.4854772320917359 & -0.07358812311629866 & 0.18865233599043135 & 0.45852102507186887\n",
       "\\end{array}\\right)</script></html>"
      ],
      "text/latex": [
       "\\begin{math}\n",
       "\\newcommand{\\Bold}[1]{\\mathbf{#1}}\\left(\\begin{array}{rrrrrr}\n",
       "0.42493579922729513 & 0.12418934321840484 & 0.3536142435638581 & 0.8077845714061599 & 0.15159834575607367 & -0.05886907572733127 \\\\\n",
       "0.42179401008158185 & 0.41577937330229553 & 0.1849204521780031 & -0.3577667250908393 & -0.29373372243641527 & -0.6330444083027313 \\\\\n",
       "0.42145996965788546 & -0.41182170598614326 & -0.06763582853720423 & -0.27976159629251507 & 0.7305617358600323 & -0.19029653304714414 \\\\\n",
       "0.38692275161710643 & -0.4460874086172447 & -0.6048619196624883 & 0.21158219815186965 & -0.4781917100917704 & -0.10956517750243328 \\\\\n",
       "0.43051147451642935 & -0.24267167805710552 & 0.4843972575024405 & -0.3017254835396731 & -0.3045668670254646 & 0.5808014979283325 \\\\\n",
       "0.3589450210841061 & 0.6198579537185064 & -0.4854772320917359 & -0.07358812311629866 & 0.18865233599043135 & 0.45852102507186887\n",
       "\\end{array}\\right)\n",
       "\\end{math}"
      ],
      "text/plain": [
       "[ 0.42493579922729513  0.12418934321840484   0.3536142435638581   0.8077845714061599  0.15159834575607367 -0.05886907572733127]\n",
       "[ 0.42179401008158185  0.41577937330229553   0.1849204521780031  -0.3577667250908393 -0.29373372243641527  -0.6330444083027313]\n",
       "[ 0.42145996965788546 -0.41182170598614326 -0.06763582853720423 -0.27976159629251507   0.7305617358600323 -0.19029653304714414]\n",
       "[ 0.38692275161710643  -0.4460874086172447  -0.6048619196624883  0.21158219815186965  -0.4781917100917704 -0.10956517750243328]\n",
       "[ 0.43051147451642935 -0.24267167805710552   0.4843972575024405  -0.3017254835396731  -0.3045668670254646   0.5808014979283325]\n",
       "[  0.3589450210841061   0.6198579537185064  -0.4854772320917359 -0.07358812311629866  0.18865233599043135  0.45852102507186887]"
      ]
     },
     "metadata": {},
     "output_type": "display_data"
    }
   ],
   "source": [
    "MDiag,MPassage=MCV.eigenmatrix_right()\n",
    "show(MPassage)\n",
    "VP=MCV.eigenvalues()\n",
    "MCV.eigenmatrix_right()"
   ]
  },
  {
   "cell_type": "code",
   "execution_count": 29,
   "metadata": {
    "scrolled": true
   },
   "outputs": [
    {
     "name": "stderr",
     "output_type": "stream",
     "text": [
      "/opt/SageMath/local/lib/python3.8/site-packages/mpmath/ctx_mp_python.py:892: SyntaxWarning: \"is\" with a literal. Did you mean \"==\"?\n",
      "  if other is 0:\n",
      "/opt/SageMath/local/lib/python3.8/site-packages/mpmath/ctx_mp_python.py:986: SyntaxWarning: \"is\" with a literal. Did you mean \"==\"?\n",
      "  if other is 0:\n"
     ]
    },
    {
     "data": {
      "text/html": [
       "<html><script type=\"math/tex; mode=display\">\\newcommand{\\Bold}[1]{\\mathbf{#1}}\\left[4.420857663577429, 0.8560600374244822, 0.37306922824231104, 0.21392340995899686, 0.0927954873171861, 0.04329417347959396\\right]</script></html>"
      ],
      "text/latex": [
       "\\begin{math}\n",
       "\\newcommand{\\Bold}[1]{\\mathbf{#1}}\\left[4.420857663577429, 0.8560600374244822, 0.37306922824231104, 0.21392340995899686, 0.0927954873171861, 0.04329417347959396\\right]\n",
       "\\end{math}"
      ],
      "text/plain": [
       "[4.420857663577429,\n",
       " 0.8560600374244822,\n",
       " 0.37306922824231104,\n",
       " 0.21392340995899686,\n",
       " 0.0927954873171861,\n",
       " 0.04329417347959396]"
      ]
     },
     "metadata": {},
     "output_type": "display_data"
    },
    {
     "data": {
      "text/html": [
       "<html><script type=\"math/tex; mode=display\">\\newcommand{\\Bold}[1]{\\mathbf{#1}}\\left(\\begin{array}{rrrrrr}\n",
       "-0.775098891732314 & -0.283358175986009 & -1.88508077226509 & -1.09734528142543 & -1.56900676417733 & 0.569760430711621 \\\\\n",
       "-0.120163260138382 & 0.0196386854643769 & 1.60580954674433 & 2.00104139554050 & 0.234161424502124 & 0.145971680595539 \\\\\n",
       "-0.929201393283827 & -0.838852421978383 & -0.442179440407860 & 0.258198889747161 & -0.216630622667740 & -0.532090319590191 \\\\\n",
       "-1.12733318099292 & -1.29334771415396 & -1.00072189144937 & -1.09734528142543 & -1.11821471700747 & -0.616848069613408 \\\\\n",
       "-0.128418751292928 & 0.676131885273546 & 0.255998623394024 & -0.516397779494322 & 0.196595420571302 & 0.569760430711621 \\\\\n",
       "-0.920945902129282 & -0.131859745260816 & -0.209453419140565 & 0.451848057057532 & 0.00876540091719179 & 0.145971680595539 \\\\\n",
       "0.452217459910096 & -0.283358175986009 & 0.721450665928613 & 0.451848057057532 & 0.609821463810343 & -0.362574819543759 \\\\\n",
       "-0.183455358989897 & -1.49534562178755 & -0.442179440407860 & -0.710046946804693 & -0.517158654114316 & -1.54918331986879 \\\\\n",
       "2.84080623395855 & 2.19111619252548 & 0.861086278688990 & 1.22644472629902 & 1.81193358959665 & 1.84112668105987 \\\\\n",
       "-1.28143568254443 & -1.49534562178755 & -1.60580954674433 & -1.87194195066692 & -1.98223280741637 & -1.54918331986879 \\\\\n",
       "-0.169696207065655 & 1.23162613126592 & -0.255998623394024 & -0.903696114115064 & -0.141498614806096 & 1.41733793094378 \\\\\n",
       "0.457721120679793 & -0.131859745260816 & 0.535269848914777 & 1.03279555898864 & 0.609821463810343 & -0.0235438194508934 \\\\\n",
       "1.00808719764948 & 1.53462299271631 & 1.65235475099779 & 0.451848057057532 & 2.18759362890487 & 0.145971680595539 \\\\\n",
       "0.994328045725240 & 0.676131885273546 & 0.209453419140565 & 0.645497224367903 & 0.00876540091719179 & 0.739275930758053 \\\\\n",
       "-0.521930496326256 & -0.232858699077611 & -0.116363010633647 & -0.129099444873581 & 0.376912239439247 & -1.21015231977592 \\\\\n",
       "0.377918039519187 & -0.0813602683524184 & 0.302543827647483 & -0.322748612183951 & 0.121463412709658 & 0.569760430711621 \\\\\n",
       "0.955802420337362 & 0.777130839090342 & 1.18690270846320 & 1.22644472629902 & 0.309293432363767 & 1.24782243089735 \\\\\n",
       "-0.929201393283827 & -0.838852421978383 & -1.37308352547704 & -1.09734528142543 & -0.930384697353357 & -1.54918331986879\n",
       "\\end{array}\\right)</script></html>"
      ],
      "text/latex": [
       "\\begin{math}\n",
       "\\newcommand{\\Bold}[1]{\\mathbf{#1}}\\left(\\begin{array}{rrrrrr}\n",
       "-0.775098891732314 & -0.283358175986009 & -1.88508077226509 & -1.09734528142543 & -1.56900676417733 & 0.569760430711621 \\\\\n",
       "-0.120163260138382 & 0.0196386854643769 & 1.60580954674433 & 2.00104139554050 & 0.234161424502124 & 0.145971680595539 \\\\\n",
       "-0.929201393283827 & -0.838852421978383 & -0.442179440407860 & 0.258198889747161 & -0.216630622667740 & -0.532090319590191 \\\\\n",
       "-1.12733318099292 & -1.29334771415396 & -1.00072189144937 & -1.09734528142543 & -1.11821471700747 & -0.616848069613408 \\\\\n",
       "-0.128418751292928 & 0.676131885273546 & 0.255998623394024 & -0.516397779494322 & 0.196595420571302 & 0.569760430711621 \\\\\n",
       "-0.920945902129282 & -0.131859745260816 & -0.209453419140565 & 0.451848057057532 & 0.00876540091719179 & 0.145971680595539 \\\\\n",
       "0.452217459910096 & -0.283358175986009 & 0.721450665928613 & 0.451848057057532 & 0.609821463810343 & -0.362574819543759 \\\\\n",
       "-0.183455358989897 & -1.49534562178755 & -0.442179440407860 & -0.710046946804693 & -0.517158654114316 & -1.54918331986879 \\\\\n",
       "2.84080623395855 & 2.19111619252548 & 0.861086278688990 & 1.22644472629902 & 1.81193358959665 & 1.84112668105987 \\\\\n",
       "-1.28143568254443 & -1.49534562178755 & -1.60580954674433 & -1.87194195066692 & -1.98223280741637 & -1.54918331986879 \\\\\n",
       "-0.169696207065655 & 1.23162613126592 & -0.255998623394024 & -0.903696114115064 & -0.141498614806096 & 1.41733793094378 \\\\\n",
       "0.457721120679793 & -0.131859745260816 & 0.535269848914777 & 1.03279555898864 & 0.609821463810343 & -0.0235438194508934 \\\\\n",
       "1.00808719764948 & 1.53462299271631 & 1.65235475099779 & 0.451848057057532 & 2.18759362890487 & 0.145971680595539 \\\\\n",
       "0.994328045725240 & 0.676131885273546 & 0.209453419140565 & 0.645497224367903 & 0.00876540091719179 & 0.739275930758053 \\\\\n",
       "-0.521930496326256 & -0.232858699077611 & -0.116363010633647 & -0.129099444873581 & 0.376912239439247 & -1.21015231977592 \\\\\n",
       "0.377918039519187 & -0.0813602683524184 & 0.302543827647483 & -0.322748612183951 & 0.121463412709658 & 0.569760430711621 \\\\\n",
       "0.955802420337362 & 0.777130839090342 & 1.18690270846320 & 1.22644472629902 & 0.309293432363767 & 1.24782243089735 \\\\\n",
       "-0.929201393283827 & -0.838852421978383 & -1.37308352547704 & -1.09734528142543 & -0.930384697353357 & -1.54918331986879\n",
       "\\end{array}\\right)\n",
       "\\end{math}"
      ],
      "text/plain": [
       "[ -0.775098891732314  -0.283358175986009   -1.88508077226509   -1.09734528142543   -1.56900676417733   0.569760430711621]\n",
       "[ -0.120163260138382  0.0196386854643769    1.60580954674433    2.00104139554050   0.234161424502124   0.145971680595539]\n",
       "[ -0.929201393283827  -0.838852421978383  -0.442179440407860   0.258198889747161  -0.216630622667740  -0.532090319590191]\n",
       "[  -1.12733318099292   -1.29334771415396   -1.00072189144937   -1.09734528142543   -1.11821471700747  -0.616848069613408]\n",
       "[ -0.128418751292928   0.676131885273546   0.255998623394024  -0.516397779494322   0.196595420571302   0.569760430711621]\n",
       "[ -0.920945902129282  -0.131859745260816  -0.209453419140565   0.451848057057532 0.00876540091719179   0.145971680595539]\n",
       "[  0.452217459910096  -0.283358175986009   0.721450665928613   0.451848057057532   0.609821463810343  -0.362574819543759]\n",
       "[ -0.183455358989897   -1.49534562178755  -0.442179440407860  -0.710046946804693  -0.517158654114316   -1.54918331986879]\n",
       "[   2.84080623395855    2.19111619252548   0.861086278688990    1.22644472629902    1.81193358959665    1.84112668105987]\n",
       "[  -1.28143568254443   -1.49534562178755   -1.60580954674433   -1.87194195066692   -1.98223280741637   -1.54918331986879]\n",
       "[ -0.169696207065655    1.23162613126592  -0.255998623394024  -0.903696114115064  -0.141498614806096    1.41733793094378]\n",
       "[  0.457721120679793  -0.131859745260816   0.535269848914777    1.03279555898864   0.609821463810343 -0.0235438194508934]\n",
       "[   1.00808719764948    1.53462299271631    1.65235475099779   0.451848057057532    2.18759362890487   0.145971680595539]\n",
       "[  0.994328045725240   0.676131885273546   0.209453419140565   0.645497224367903 0.00876540091719179   0.739275930758053]\n",
       "[ -0.521930496326256  -0.232858699077611  -0.116363010633647  -0.129099444873581   0.376912239439247   -1.21015231977592]\n",
       "[  0.377918039519187 -0.0813602683524184   0.302543827647483  -0.322748612183951   0.121463412709658   0.569760430711621]\n",
       "[  0.955802420337362   0.777130839090342    1.18690270846320    1.22644472629902   0.309293432363767    1.24782243089735]\n",
       "[ -0.929201393283827  -0.838852421978383   -1.37308352547704   -1.09734528142543  -0.930384697353357   -1.54918331986879]"
      ]
     },
     "metadata": {},
     "output_type": "display_data"
    },
    {
     "data": {
      "text/html": [
       "<html><script type=\"math/tex; mode=display\">\\newcommand{\\Bold}[1]{\\mathbf{#1}}\\left(\\begin{array}{rrrrrr}\n",
       "-2.13892273497925 & 1.78567962441677 & -0.571871647399060 & 0.201939403684904 & -0.301344211789296 & 0.0539284880664810 \\\\\n",
       "1.56145968272589 & -1.52704687230766 & -1.31526262035709 & -0.211345451888339 & 0.148496594483338 & -0.327250314404479 \\\\\n",
       "-1.11938491205732 & -0.674504927160494 & -0.456584864214333 & -0.167627443307830 & -0.375375669492425 & 0.271793680708165 \\\\\n",
       "-2.57374142881086 & 0.112881699733651 & -0.148574935207164 & -0.0173541794415360 & 0.226851611421167 & 0.263477746029934 \\\\\n",
       "0.427855031002317 & 0.695568602685129 & 0.193279153280634 & -0.627756786188599 & 0.263499315062788 & -0.0371680006885516 \\\\\n",
       "-0.304237058171847 & -0.196147900754508 & -0.675802271200553 & -0.555937360409229 & -0.445102622216566 & 0.200061797993266 \\\\\n",
       "0.683928187065428 & -0.933057952032854 & 0.256827880708546 & 0.203121753300893 & 0.208649527035908 & 0.153897353623172 \\\\\n",
       "-1.94849320199438 & -0.980448816215590 & 0.619578111954536 & 0.630305467603903 & 0.293173429933737 & 0.108662021202929 \\\\\n",
       "4.40973417470670 & 1.06363526005170 & 0.593532325744776 & 0.847254385541949 & -0.374864291762631 & 0.0440221775148693 \\\\\n",
       "-3.98578270362796 & 0.236240598681891 & 0.303127857330836 & 0.265126826959424 & 0.278439402501138 & -0.328880147474072 \\\\\n",
       "0.437658388509155 & 1.91244942393782 & -0.0249549260221148 & -0.758905752356587 & 0.168101300428845 & -0.0542582674696064 \\\\\n",
       "1.01817555414916 & -0.841713535463244 & -0.216603147080678 & 0.303422165201136 & -0.184878195238746 & 0.184898913285983 \\\\\n",
       "2.94107876864596 & -0.559166317760474 & 1.24399153068241 & -0.772176682570457 & 0.0544003480463734 & -0.0572851178799839 \\\\\n",
       "1.31488077615378 & 0.486519941111605 & -0.282619768562554 & 0.582237389634779 & -0.0667205361759266 & -0.253074444166938 \\\\\n",
       "-0.691112326410175 & -0.897714065393468 & 0.628411906828236 & -0.357730740622748 & -0.377094468022890 & -0.121545344523004 \\\\\n",
       "0.385709024349595 & 0.356180253043472 & 0.0755783938890672 & 0.102880145698964 & 0.527045563935402 & 0.338839213518337 \\\\\n",
       "2.28976916646193 & 0.104337502449552 & -0.796382613052462 & 0.236348346823522 & 0.338462618400005 & -0.156673732948648 \\\\\n",
       "-2.70857438771812 & -0.143692519023292 & 0.574329632676968 & 0.0961985123358514 & -0.381739716550219 & -0.283446022387854\n",
       "\\end{array}\\right)</script></html>"
      ],
      "text/latex": [
       "\\begin{math}\n",
       "\\newcommand{\\Bold}[1]{\\mathbf{#1}}\\left(\\begin{array}{rrrrrr}\n",
       "-2.13892273497925 & 1.78567962441677 & -0.571871647399060 & 0.201939403684904 & -0.301344211789296 & 0.0539284880664810 \\\\\n",
       "1.56145968272589 & -1.52704687230766 & -1.31526262035709 & -0.211345451888339 & 0.148496594483338 & -0.327250314404479 \\\\\n",
       "-1.11938491205732 & -0.674504927160494 & -0.456584864214333 & -0.167627443307830 & -0.375375669492425 & 0.271793680708165 \\\\\n",
       "-2.57374142881086 & 0.112881699733651 & -0.148574935207164 & -0.0173541794415360 & 0.226851611421167 & 0.263477746029934 \\\\\n",
       "0.427855031002317 & 0.695568602685129 & 0.193279153280634 & -0.627756786188599 & 0.263499315062788 & -0.0371680006885516 \\\\\n",
       "-0.304237058171847 & -0.196147900754508 & -0.675802271200553 & -0.555937360409229 & -0.445102622216566 & 0.200061797993266 \\\\\n",
       "0.683928187065428 & -0.933057952032854 & 0.256827880708546 & 0.203121753300893 & 0.208649527035908 & 0.153897353623172 \\\\\n",
       "-1.94849320199438 & -0.980448816215590 & 0.619578111954536 & 0.630305467603903 & 0.293173429933737 & 0.108662021202929 \\\\\n",
       "4.40973417470670 & 1.06363526005170 & 0.593532325744776 & 0.847254385541949 & -0.374864291762631 & 0.0440221775148693 \\\\\n",
       "-3.98578270362796 & 0.236240598681891 & 0.303127857330836 & 0.265126826959424 & 0.278439402501138 & -0.328880147474072 \\\\\n",
       "0.437658388509155 & 1.91244942393782 & -0.0249549260221148 & -0.758905752356587 & 0.168101300428845 & -0.0542582674696064 \\\\\n",
       "1.01817555414916 & -0.841713535463244 & -0.216603147080678 & 0.303422165201136 & -0.184878195238746 & 0.184898913285983 \\\\\n",
       "2.94107876864596 & -0.559166317760474 & 1.24399153068241 & -0.772176682570457 & 0.0544003480463734 & -0.0572851178799839 \\\\\n",
       "1.31488077615378 & 0.486519941111605 & -0.282619768562554 & 0.582237389634779 & -0.0667205361759266 & -0.253074444166938 \\\\\n",
       "-0.691112326410175 & -0.897714065393468 & 0.628411906828236 & -0.357730740622748 & -0.377094468022890 & -0.121545344523004 \\\\\n",
       "0.385709024349595 & 0.356180253043472 & 0.0755783938890672 & 0.102880145698964 & 0.527045563935402 & 0.338839213518337 \\\\\n",
       "2.28976916646193 & 0.104337502449552 & -0.796382613052462 & 0.236348346823522 & 0.338462618400005 & -0.156673732948648 \\\\\n",
       "-2.70857438771812 & -0.143692519023292 & 0.574329632676968 & 0.0961985123358514 & -0.381739716550219 & -0.283446022387854\n",
       "\\end{array}\\right)\n",
       "\\end{math}"
      ],
      "text/plain": [
       "[  -2.13892273497925    1.78567962441677  -0.571871647399060   0.201939403684904  -0.301344211789296  0.0539284880664810]\n",
       "[   1.56145968272589   -1.52704687230766   -1.31526262035709  -0.211345451888339   0.148496594483338  -0.327250314404479]\n",
       "[  -1.11938491205732  -0.674504927160494  -0.456584864214333  -0.167627443307830  -0.375375669492425   0.271793680708165]\n",
       "[  -2.57374142881086   0.112881699733651  -0.148574935207164 -0.0173541794415360   0.226851611421167   0.263477746029934]\n",
       "[  0.427855031002317   0.695568602685129   0.193279153280634  -0.627756786188599   0.263499315062788 -0.0371680006885516]\n",
       "[ -0.304237058171847  -0.196147900754508  -0.675802271200553  -0.555937360409229  -0.445102622216566   0.200061797993266]\n",
       "[  0.683928187065428  -0.933057952032854   0.256827880708546   0.203121753300893   0.208649527035908   0.153897353623172]\n",
       "[  -1.94849320199438  -0.980448816215590   0.619578111954536   0.630305467603903   0.293173429933737   0.108662021202929]\n",
       "[   4.40973417470670    1.06363526005170   0.593532325744776   0.847254385541949  -0.374864291762631  0.0440221775148693]\n",
       "[  -3.98578270362796   0.236240598681891   0.303127857330836   0.265126826959424   0.278439402501138  -0.328880147474072]\n",
       "[  0.437658388509155    1.91244942393782 -0.0249549260221148  -0.758905752356587   0.168101300428845 -0.0542582674696064]\n",
       "[   1.01817555414916  -0.841713535463244  -0.216603147080678   0.303422165201136  -0.184878195238746   0.184898913285983]\n",
       "[   2.94107876864596  -0.559166317760474    1.24399153068241  -0.772176682570457  0.0544003480463734 -0.0572851178799839]\n",
       "[   1.31488077615378   0.486519941111605  -0.282619768562554   0.582237389634779 -0.0667205361759266  -0.253074444166938]\n",
       "[ -0.691112326410175  -0.897714065393468   0.628411906828236  -0.357730740622748  -0.377094468022890  -0.121545344523004]\n",
       "[  0.385709024349595   0.356180253043472  0.0755783938890672   0.102880145698964   0.527045563935402   0.338839213518337]\n",
       "[   2.28976916646193   0.104337502449552  -0.796382613052462   0.236348346823522   0.338462618400005  -0.156673732948648]\n",
       "[  -2.70857438771812  -0.143692519023292   0.574329632676968  0.0961985123358514  -0.381739716550219  -0.283446022387854]"
      ]
     },
     "metadata": {},
     "output_type": "display_data"
    }
   ],
   "source": [
    "# Construire les deux composantes principales\n",
    "MX=[]\n",
    "for v in voituresStats.values():\n",
    "    L=[]\n",
    "    for i in range(len(v)):\n",
    "        L.append(n((v[i]-moy(v))/ecTypeS(v)))\n",
    "    MX.append(L)\n",
    "mX=matrix(MX)\n",
    "MX=matrix(MX).transpose()\n",
    "MC=MX*MPassage\n",
    "MC2=MC.transpose()\n",
    "C1=-MC2[0]\n",
    "C2=-MC2[1]\n",
    "show(VP)\n",
    "show(MX)\n",
    "show(MC)"
   ]
  },
  {
   "cell_type": "code",
   "execution_count": 30,
   "metadata": {},
   "outputs": [
    {
     "data": {
      "text/plain": [
       "Text(0.5, 1.0, 'Tracé suivant les composantes principales')"
      ]
     },
     "execution_count": 30,
     "metadata": {},
     "output_type": "execute_result"
    },
    {
     "data": {
      "image/png": "[encoded data removed]",
      "text/plain": [
       "<Figure size 432x288 with 1 Axes>"
      ]
     },
     "metadata": {
      "needs_background": "light"
     },
     "output_type": "display_data"
    }
   ],
   "source": [
    "# Tracé les différents véhicules suivant les deux composantes principales\n",
    "plt.scatter(C1,C2,marker='o')\n",
    "plt.xlabel('CP 1')\n",
    "plt.ylabel('CP 2')\n",
    "plt.title(\"Tracé suivant les composantes principales\")"
   ]
  },
  {
   "cell_type": "code",
   "execution_count": null,
   "metadata": {},
   "outputs": [],
   "source": [
    "# Représenter graphiquement les contributions des variables aux composantes principales :\n"
   ]
  },
  {
   "cell_type": "code",
   "execution_count": null,
   "metadata": {},
   "outputs": [],
   "source": []
  },
  {
   "cell_type": "markdown",
   "metadata": {},
   "source": [
    "### Exercice 3 : Jus de fruit "
   ]
  },
  {
   "cell_type": "code",
   "execution_count": null,
   "metadata": {},
   "outputs": [],
   "source": [
    "# Un jus de fruit est caractériqsé par les caractéristiques suivantes : \n",
    "# odeur, pulpeux, couleur, acidité, amertume, sucré, originalité\n",
    "data={1:[2.82,2.53,1.66,3.46,3.15,2.97,2.60],\n",
    "      2:[2.76,2.82,1.91,3.23,2.55,2.08,3.32 ],\n",
    "      3:[2.83,2.88,4.0,3.45,2.42,1.76,3.38 ],\n",
    "      4:[2.76,2.59,1.66,3.37,3.05,2.56,2.8 ],\n",
    "      5:[3.2,3.02,3.69,3.12,2.33,1.97,3.34 ],\n",
    "      6:[3.07,2.73,3.34,3.54,3.31,2.63,2.9 ],\n",
    "     }"
   ]
  },
  {
   "cell_type": "code",
   "execution_count": 34,
   "metadata": {},
   "outputs": [
    {
     "name": "stdout",
     "output_type": "stream",
     "text": [
      "0.9234983786534692\n"
     ]
    },
    {
     "data": {
      "image/png": "[encoded data removed]",
      "text/plain": [
       "<Figure size 432x288 with 1 Axes>"
      ]
     },
     "metadata": {
      "needs_background": "light"
     },
     "output_type": "display_data"
    }
   ],
   "source": [
    "def ACP(data):\n",
    "    dico={} #Dico des variables\n",
    "    for v in data.values():\n",
    "        for i in range(len(v)):\n",
    "            if i+1 in dico:\n",
    "                dico[i+1].append(v[i])\n",
    "            else:\n",
    "                dico[i+1]=[v[i]]\n",
    "                \n",
    "                \n",
    "    mCor=matCor(dico)  #Matrice de corrélation\n",
    "    \n",
    "    valProp=mCor.eigenvalues() #Valeurs propres de la matrice de corrélation\n",
    "    \n",
    "    sommeVP=0\n",
    "    for v in valProp:\n",
    "        sommeVP+=v\n",
    "    print((valProp[0]+valProp[1])/sommeVP) # % d'inertie conservé\n",
    "    \n",
    "    mPassage=mCor.eigenmatrix_right()[1] #Matrice P\n",
    "    \n",
    "    mX=[]                       #Matrice X centrée réduite\n",
    "    for v in dico.values(): \n",
    "        L=[]\n",
    "        moyenne = moy(v)\n",
    "        ecartType = ecTypeS(v)\n",
    "        for i in range(len(v)):\n",
    "            L.append(n((v[i]-moyenne)/ecartType))\n",
    "        mX.append(L)\n",
    "        \n",
    "    mX=matrix(mX).transpose() #On transpose X pour pourvoir faire C=X*P\n",
    "    \n",
    "    mC=mX*mPassage #Matrice C\n",
    "    \n",
    "    C1=[] #On prend les 2 composante du plan principal\n",
    "    C2=[]\n",
    "    for v in mC:\n",
    "        C1.append(v[0])\n",
    "        C2.append(v[1])\n",
    "    \n",
    "    plt.scatter(C1,C2,marker='o') #On trace les points sur le plan principal\n",
    "    plt.xlabel('CP 1')\n",
    "    plt.ylabel('CP 2')\n",
    "    plt.title(\"Tracé suivant les composantes principales\")\n",
    "    \n",
    "ACP(data)\n"
   ]
  },
  {
   "cell_type": "code",
   "execution_count": null,
   "metadata": {},
   "outputs": [],
   "source": [
    "ACP(voitures)"
   ]
  },
  {
   "cell_type": "code",
   "execution_count": null,
   "metadata": {},
   "outputs": [],
   "source": []
  }
 ],
 "metadata": {
  "kernelspec": {
   "display_name": "SageMath 9.2",
   "language": "sage",
   "name": "sagemath"
  },
  "language_info": {
   "codemirror_mode": {
    "name": "ipython",
    "version": 3
   },
   "file_extension": ".py",
   "mimetype": "text/x-python",
   "name": "python",
   "nbconvert_exporter": "python",
   "pygments_lexer": "ipython3",
   "version": "3.8.5"
  }
 },
 "nbformat": 4,
 "nbformat_minor": 4
}
